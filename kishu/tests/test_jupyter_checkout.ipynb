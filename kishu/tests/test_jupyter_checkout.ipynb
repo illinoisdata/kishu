{
 "cells": [
  {
   "cell_type": "code",
   "execution_count": 1,
   "id": "79d0fe1b",
   "metadata": {},
   "outputs": [],
   "source": [
    "from kishu import load_kishu\n",
    "load_kishu()\n",
    "_kishu.set_test_mode()"
   ]
  },
  {
   "cell_type": "code",
   "execution_count": 2,
   "id": "4c24ada0",
   "metadata": {
    "scrolled": true
   },
   "outputs": [],
   "source": [
    "a = 1"
   ]
  },
  {
   "cell_type": "code",
   "execution_count": 3,
   "id": "d992c21f",
   "metadata": {},
   "outputs": [
    {
     "data": {
      "text/plain": [
       "<kishu.jupyterint2.KishuForJupyter at 0x7fa829d987f0>"
      ]
     },
     "execution_count": 3,
     "metadata": {},
     "output_type": "execute_result"
    }
   ],
   "source": [
    "_kishu"
   ]
  },
  {
   "cell_type": "code",
   "execution_count": 4,
   "id": "cf9d967a",
   "metadata": {},
   "outputs": [
    {
     "data": {
      "text/plain": [
       "{\n",
       "  \"0:1\": {\n",
       "    \"ahg_string\": \"\\u0080\\u0004\\u0095R\\u0001\\u0000\\u0000\\u0000\\u0000\\u0000\\u0000\\u008c\\u0012kishu.planning.ahg\\u0094\\u008c\\u0003AHG\\u0094\\u0093\\u0094)\\u0081\\u0094}\\u0094(\\u008c\\u000fcell_executions\\u0094]\\u0094h\\u0000\\u008c\\rCellExecution\\u0094\\u0093\\u0094)\\u0081\\u0094}\\u0094(\\u008c\\bcell_num\\u0094K\\u0000\\u008c\\u0004cell\\u0094\\u008c@from kishu import load_kishu\\nload_kishu()\\n_kishu.set_test_mode()\\u0094\\u008c\\fcell_runtime\\u0094G\\u0000\\u0000\\u0000\\u0000\\u0000\\u0000\\u0000\\u0000\\u008c\\nstart_time\\u0094G\\u0000\\u0000\\u0000\\u0000\\u0000\\u0000\\u0000\\u0000\\u008c\\u0007src_vss\\u0094]\\u0094\\u008c\\u0007dst_vss\\u0094]\\u0094uba\\u008c\\u0012variable_snapshots\\u0094\\u008c\\u000bcollections\\u0094\\u008c\\u000bdefaultdict\\u0094\\u0093\\u0094\\u008c\\ndill._dill\\u0094\\u008c\\n_load_type\\u0094\\u0093\\u0094\\u008c\\u0004list\\u0094\\u0085\\u0094R\\u0094\\u0085\\u0094R\\u0094ub.\",\n",
       "    \"checkpoint_runtime_ms\": 2,\n",
       "    \"code_block\": \"from kishu import load_kishu\\nload_kishu()\\n_kishu.set_test_mode()\",\n",
       "    \"end_time_ms\": 1696313588181,\n",
       "    \"exec_id\": \"0:1\",\n",
       "    \"execution_count\": 1,\n",
       "    \"formatted_cells\": [\n",
       "      {\n",
       "        \"cell_type\": \"code\",\n",
       "        \"execution_count\": null,\n",
       "        \"output\": null,\n",
       "        \"source\": \"from kishu import load_kishu\\nload_kishu()\\n_kishu.set_test_mode()\"\n",
       "      },\n",
       "      {\n",
       "        \"cell_type\": \"code\",\n",
       "        \"execution_count\": 2,\n",
       "        \"output\": null,\n",
       "        \"source\": \"a = 1\"\n",
       "      },\n",
       "      {\n",
       "        \"cell_type\": \"code\",\n",
       "        \"execution_count\": 3,\n",
       "        \"output\": \"<kishu.jupyterint2.KishuForJupyter at 0x7f8f5802c0d0>\",\n",
       "        \"source\": \"_kishu\"\n",
       "      },\n",
       "      {\n",
       "        \"cell_type\": \"code\",\n",
       "        \"execution_count\": 4,\n",
       "        \"output\": \"{\\n  \\\"1\\\": {\\n    \\\"checkpoint_runtime_ms\\\": 1,\\n    \\\"code_block\\\": \\\"from kishu import load_kishu\\\\nload_kishu()\\\",\\n    \\\"end_time_ms\\\": 1686328871557,\\n    \\\"exec_id\\\": \\\"1\\\",\\n    \\\"execution_count\\\": 1\\n  },\\n  \\\"2\\\": {\\n    \\\"checkpoint_runtime_ms\\\": 2,\\n    \\\"checkpoint_vars\\\": [\\n      \\\"a\\\"\\n    ],\\n    \\\"code_block\\\": \\\"a = 1\\\",\\n    \\\"end_time_ms\\\": 1686328871599,\\n    \\\"exec_id\\\": \\\"2\\\",\\n    \\\"execution_count\\\": 2,\\n    \\\"runtime_ms\\\": 0,\\n    \\\"start_time_ms\\\": 1686328871599\\n  },\\n  \\\"3\\\": {\\n    \\\"checkpoint_runtime_ms\\\": 1,\\n    \\\"checkpoint_vars\\\": [\\n      \\\"a\\\"\\n    ],\\n    \\\"code_block\\\": \\\"_kishu\\\",\\n    \\\"end_time_ms\\\": 1686328871623,\\n    \\\"exec_id\\\": \\\"3\\\",\\n    \\\"execution_count\\\": 3,\\n    \\\"result\\\": \\\"<kishu.jupyterint2.KishuForJupyter object at 0x7f8f5802c0d0>\\\",\\n    \\\"runtime_ms\\\": 3,\\n    \\\"start_time_ms\\\": 1686328871620\\n  }\\n}\",\n",
       "        \"source\": \"_kishu.log()\"\n",
       "      },\n",
       "      {\n",
       "        \"cell_type\": \"code\",\n",
       "        \"execution_count\": 5,\n",
       "        \"output\": null,\n",
       "        \"source\": \"a = 2\"\n",
       "      },\n",
       "      {\n",
       "        \"cell_type\": \"code\",\n",
       "        \"execution_count\": 6,\n",
       "        \"output\": \"'/Users/yongjoo/workspace/elastic-notebook/kishu/tests/.kishu/db_20230609T114111'\",\n",
       "        \"source\": \"_kishu.checkpoint_file()\"\n",
       "      },\n",
       "      {\n",
       "        \"cell_type\": \"code\",\n",
       "        \"execution_count\": 7,\n",
       "        \"output\": \"'/Users/yongjoo/workspace/elastic-notebook/kishu/tests/.kishu/db_20230609T114111'\",\n",
       "        \"source\": \"_\"\n",
       "      },\n",
       "      {\n",
       "        \"cell_type\": \"code\",\n",
       "        \"execution_count\": 1,\n",
       "        \"output\": \"\\u001b[0;31m---------------------------------------------------------------------------\\u001b[0m\\n\\u001b[0;31mNameError\\u001b[0m                                 Traceback (most recent call last)\\nCell \\u001b[0;32mIn [1], line 1\\u001b[0m\\n\\u001b[0;32m----> 1\\u001b[0m \\u001b[43m_kishu\\u001b[49m\\u001b[38;5;241m.\\u001b[39mcheckout(\\u001b[38;5;124m\\\"\\u001b[39m\\u001b[38;5;124m0:2\\u001b[39m\\u001b[38;5;124m\\\"\\u001b[39m)\\n\\n\\u001b[0;31mNameError\\u001b[0m: name '_kishu' is not defined\\nNameError: name '_kishu' is not defined\",\n",
       "        \"source\": \"_kishu.checkout(\\\"0:2\\\")\"\n",
       "      },\n",
       "      {\n",
       "        \"cell_type\": \"code\",\n",
       "        \"execution_count\": 9,\n",
       "        \"output\": \"1\",\n",
       "        \"source\": \"a\"\n",
       "      },\n",
       "      {\n",
       "        \"cell_type\": \"code\",\n",
       "        \"execution_count\": null,\n",
       "        \"output\": null,\n",
       "        \"source\": \"\"\n",
       "      }\n",
       "    ],\n",
       "    \"kind\": \"jupyter\",\n",
       "    \"message\": \"Auto-commit after executing < from kishu import lo... >\",\n",
       "    \"raw_nb\": \"{\\n \\\"cells\\\": [\\n  {\\n   \\\"cell_type\\\": \\\"code\\\",\\n   \\\"execution_count\\\": null,\\n   \\\"id\\\": \\\"79d0fe1b\\\",\\n   \\\"metadata\\\": {},\\n   \\\"outputs\\\": [],\\n   \\\"source\\\": [\\n    \\\"from kishu import load_kishu\\\\n\\\",\\n    \\\"load_kishu()\\\\n\\\",\\n    \\\"_kishu.set_test_mode()\\\"\\n   ]\\n  },\\n  {\\n   \\\"cell_type\\\": \\\"code\\\",\\n   \\\"execution_count\\\": 2,\\n   \\\"id\\\": \\\"4c24ada0\\\",\\n   \\\"metadata\\\": {\\n    \\\"scrolled\\\": true\\n   },\\n   \\\"outputs\\\": [],\\n   \\\"source\\\": [\\n    \\\"a = 1\\\"\\n   ]\\n  },\\n  {\\n   \\\"cell_type\\\": \\\"code\\\",\\n   \\\"execution_count\\\": 3,\\n   \\\"id\\\": \\\"d992c21f\\\",\\n   \\\"metadata\\\": {},\\n   \\\"outputs\\\": [\\n    {\\n     \\\"data\\\": {\\n      \\\"text/plain\\\": [\\n       \\\"<kishu.jupyterint2.KishuForJupyter at 0x7f8f5802c0d0>\\\"\\n      ]\\n     },\\n     \\\"execution_count\\\": 3,\\n     \\\"metadata\\\": {},\\n     \\\"output_type\\\": \\\"execute_result\\\"\\n    }\\n   ],\\n   \\\"source\\\": [\\n    \\\"_kishu\\\"\\n   ]\\n  },\\n  {\\n   \\\"cell_type\\\": \\\"code\\\",\\n   \\\"execution_count\\\": 4,\\n   \\\"id\\\": \\\"cf9d967a\\\",\\n   \\\"metadata\\\": {},\\n   \\\"outputs\\\": [\\n    {\\n     \\\"data\\\": {\\n      \\\"text/plain\\\": [\\n       \\\"{\\\\n\\\",\\n       \\\"  \\\\\\\"1\\\\\\\": {\\\\n\\\",\\n       \\\"    \\\\\\\"checkpoint_runtime_ms\\\\\\\": 1,\\\\n\\\",\\n       \\\"    \\\\\\\"code_block\\\\\\\": \\\\\\\"from kishu import load_kishu\\\\\\\\nload_kishu()\\\\\\\",\\\\n\\\",\\n       \\\"    \\\\\\\"end_time_ms\\\\\\\": 1686328871557,\\\\n\\\",\\n       \\\"    \\\\\\\"exec_id\\\\\\\": \\\\\\\"1\\\\\\\",\\\\n\\\",\\n       \\\"    \\\\\\\"execution_count\\\\\\\": 1\\\\n\\\",\\n       \\\"  },\\\\n\\\",\\n       \\\"  \\\\\\\"2\\\\\\\": {\\\\n\\\",\\n       \\\"    \\\\\\\"checkpoint_runtime_ms\\\\\\\": 2,\\\\n\\\",\\n       \\\"    \\\\\\\"checkpoint_vars\\\\\\\": [\\\\n\\\",\\n       \\\"      \\\\\\\"a\\\\\\\"\\\\n\\\",\\n       \\\"    ],\\\\n\\\",\\n       \\\"    \\\\\\\"code_block\\\\\\\": \\\\\\\"a = 1\\\\\\\",\\\\n\\\",\\n       \\\"    \\\\\\\"end_time_ms\\\\\\\": 1686328871599,\\\\n\\\",\\n       \\\"    \\\\\\\"exec_id\\\\\\\": \\\\\\\"2\\\\\\\",\\\\n\\\",\\n       \\\"    \\\\\\\"execution_count\\\\\\\": 2,\\\\n\\\",\\n       \\\"    \\\\\\\"runtime_ms\\\\\\\": 0,\\\\n\\\",\\n       \\\"    \\\\\\\"start_time_ms\\\\\\\": 1686328871599\\\\n\\\",\\n       \\\"  },\\\\n\\\",\\n       \\\"  \\\\\\\"3\\\\\\\": {\\\\n\\\",\\n       \\\"    \\\\\\\"checkpoint_runtime_ms\\\\\\\": 1,\\\\n\\\",\\n       \\\"    \\\\\\\"checkpoint_vars\\\\\\\": [\\\\n\\\",\\n       \\\"      \\\\\\\"a\\\\\\\"\\\\n\\\",\\n       \\\"    ],\\\\n\\\",\\n       \\\"    \\\\\\\"code_block\\\\\\\": \\\\\\\"_kishu\\\\\\\",\\\\n\\\",\\n       \\\"    \\\\\\\"end_time_ms\\\\\\\": 1686328871623,\\\\n\\\",\\n       \\\"    \\\\\\\"exec_id\\\\\\\": \\\\\\\"3\\\\\\\",\\\\n\\\",\\n       \\\"    \\\\\\\"execution_count\\\\\\\": 3,\\\\n\\\",\\n       \\\"    \\\\\\\"result\\\\\\\": \\\\\\\"<kishu.jupyterint2.KishuForJupyter object at 0x7f8f5802c0d0>\\\\\\\",\\\\n\\\",\\n       \\\"    \\\\\\\"runtime_ms\\\\\\\": 3,\\\\n\\\",\\n       \\\"    \\\\\\\"start_time_ms\\\\\\\": 1686328871620\\\\n\\\",\\n       \\\"  }\\\\n\\\",\\n       \\\"}\\\"\\n      ]\\n     },\\n     \\\"execution_count\\\": 4,\\n     \\\"metadata\\\": {},\\n     \\\"output_type\\\": \\\"execute_result\\\"\\n    }\\n   ],\\n   \\\"source\\\": [\\n    \\\"_kishu.log()\\\"\\n   ]\\n  },\\n  {\\n   \\\"cell_type\\\": \\\"code\\\",\\n   \\\"execution_count\\\": 5,\\n   \\\"id\\\": \\\"c904850f\\\",\\n   \\\"metadata\\\": {},\\n   \\\"outputs\\\": [],\\n   \\\"source\\\": [\\n    \\\"a = 2\\\"\\n   ]\\n  },\\n  {\\n   \\\"cell_type\\\": \\\"code\\\",\\n   \\\"execution_count\\\": 6,\\n   \\\"id\\\": \\\"8d2fec42\\\",\\n   \\\"metadata\\\": {},\\n   \\\"outputs\\\": [\\n    {\\n     \\\"data\\\": {\\n      \\\"text/plain\\\": [\\n       \\\"'/Users/yongjoo/workspace/elastic-notebook/kishu/tests/.kishu/db_20230609T114111'\\\"\\n      ]\\n     },\\n     \\\"execution_count\\\": 6,\\n     \\\"metadata\\\": {},\\n     \\\"output_type\\\": \\\"execute_result\\\"\\n    }\\n   ],\\n   \\\"source\\\": [\\n    \\\"_kishu.checkpoint_file()\\\"\\n   ]\\n  },\\n  {\\n   \\\"cell_type\\\": \\\"code\\\",\\n   \\\"execution_count\\\": 7,\\n   \\\"id\\\": \\\"0a370fd6\\\",\\n   \\\"metadata\\\": {},\\n   \\\"outputs\\\": [\\n    {\\n     \\\"data\\\": {\\n      \\\"text/plain\\\": [\\n       \\\"'/Users/yongjoo/workspace/elastic-notebook/kishu/tests/.kishu/db_20230609T114111'\\\"\\n      ]\\n     },\\n     \\\"execution_count\\\": 7,\\n     \\\"metadata\\\": {},\\n     \\\"output_type\\\": \\\"execute_result\\\"\\n    }\\n   ],\\n   \\\"source\\\": [\\n    \\\"_\\\"\\n   ]\\n  },\\n  {\\n   \\\"cell_type\\\": \\\"code\\\",\\n   \\\"execution_count\\\": 1,\\n   \\\"id\\\": \\\"3bfae951\\\",\\n   \\\"metadata\\\": {},\\n   \\\"outputs\\\": [\\n    {\\n     \\\"ename\\\": \\\"NameError\\\",\\n     \\\"evalue\\\": \\\"name '_kishu' is not defined\\\",\\n     \\\"output_type\\\": \\\"error\\\",\\n     \\\"traceback\\\": [\\n      \\\"\\\\u001b[0;31m---------------------------------------------------------------------------\\\\u001b[0m\\\",\\n      \\\"\\\\u001b[0;31mNameError\\\\u001b[0m                                 Traceback (most recent call last)\\\",\\n      \\\"Cell \\\\u001b[0;32mIn [1], line 1\\\\u001b[0m\\\\n\\\\u001b[0;32m----> 1\\\\u001b[0m \\\\u001b[43m_kishu\\\\u001b[49m\\\\u001b[38;5;241m.\\\\u001b[39mcheckout(\\\\u001b[38;5;124m\\\\\\\"\\\\u001b[39m\\\\u001b[38;5;124m0:2\\\\u001b[39m\\\\u001b[38;5;124m\\\\\\\"\\\\u001b[39m)\\\\n\\\",\\n      \\\"\\\\u001b[0;31mNameError\\\\u001b[0m: name '_kishu' is not defined\\\"\\n     ]\\n    }\\n   ],\\n   \\\"source\\\": [\\n    \\\"_kishu.checkout(\\\\\\\"0:2\\\\\\\")\\\"\\n   ]\\n  },\\n  {\\n   \\\"cell_type\\\": \\\"code\\\",\\n   \\\"execution_count\\\": 9,\\n   \\\"id\\\": \\\"7f923053\\\",\\n   \\\"metadata\\\": {},\\n   \\\"outputs\\\": [\\n    {\\n     \\\"data\\\": {\\n      \\\"text/plain\\\": [\\n       \\\"1\\\"\\n      ]\\n     },\\n     \\\"execution_count\\\": 9,\\n     \\\"metadata\\\": {},\\n     \\\"output_type\\\": \\\"execute_result\\\"\\n    }\\n   ],\\n   \\\"source\\\": [\\n    \\\"a\\\"\\n   ]\\n  },\\n  {\\n   \\\"cell_type\\\": \\\"code\\\",\\n   \\\"execution_count\\\": null,\\n   \\\"id\\\": \\\"0b236923\\\",\\n   \\\"metadata\\\": {},\\n   \\\"outputs\\\": [],\\n   \\\"source\\\": []\\n  }\\n ],\\n \\\"metadata\\\": {\\n  \\\"kernelspec\\\": {\\n   \\\"display_name\\\": \\\"Python 3 (ipykernel)\\\",\\n   \\\"language\\\": \\\"python\\\",\\n   \\\"name\\\": \\\"python3\\\"\\n  },\\n  \\\"language_info\\\": {\\n   \\\"codemirror_mode\\\": {\\n    \\\"name\\\": \\\"ipython\\\",\\n    \\\"version\\\": 3\\n   },\\n   \\\"file_extension\\\": \\\".py\\\",\\n   \\\"mimetype\\\": \\\"text/x-python\\\",\\n   \\\"name\\\": \\\"python\\\",\\n   \\\"nbconvert_exporter\\\": \\\"python\\\",\\n   \\\"pygments_lexer\\\": \\\"ipython3\\\",\\n   \\\"version\\\": \\\"3.8.10\\\"\\n  }\\n },\\n \\\"nbformat\\\": 4,\\n \\\"nbformat_minor\\\": 5\\n}\",\n",
       "    \"timestamp_ms\": 1696313588181\n",
       "  },\n",
       "  \"0:2\": {\n",
       "    \"ahg_string\": \"\\u0080\\u0004\\u0095\\u00f8\\u0001\\u0000\\u0000\\u0000\\u0000\\u0000\\u0000\\u008c\\u0012kishu.planning.ahg\\u0094\\u008c\\u0003AHG\\u0094\\u0093\\u0094)\\u0081\\u0094}\\u0094(\\u008c\\u000fcell_executions\\u0094]\\u0094(h\\u0000\\u008c\\rCellExecution\\u0094\\u0093\\u0094)\\u0081\\u0094}\\u0094(\\u008c\\bcell_num\\u0094K\\u0000\\u008c\\u0004cell\\u0094\\u008c@from kishu import load_kishu\\nload_kishu()\\n_kishu.set_test_mode()\\u0094\\u008c\\fcell_runtime\\u0094G\\u0000\\u0000\\u0000\\u0000\\u0000\\u0000\\u0000\\u0000\\u008c\\nstart_time\\u0094G\\u0000\\u0000\\u0000\\u0000\\u0000\\u0000\\u0000\\u0000\\u008c\\u0007src_vss\\u0094]\\u0094\\u008c\\u0007dst_vss\\u0094]\\u0094ubh\\b)\\u0081\\u0094}\\u0094(h\\u000bK\\u0001h\\f\\u008c\\u0005a = 1\\u0094h\\u000eG\\u0000\\u0000\\u0000\\u0000\\u0000\\u0000\\u0000\\u0000h\\u000fGC\\u0018\\u001b'#\\u00b0\\\"\\u00a0h\\u0010]\\u0094h\\u0012]\\u0094h\\u0000\\u008c\\u0010VariableSnapshot\\u0094\\u0093\\u0094)\\u0081\\u0094}\\u0094(\\u008c\\u0004name\\u0094\\u008c\\u0001a\\u0094\\u008c\\u0007version\\u0094K\\u0000\\u008c\\u0007deleted\\u0094\\u0089\\u008c\\u0004size\\u0094K\\u001c\\u008c\\tinput_ces\\u0094]\\u0094\\u008c\\toutput_ce\\u0094h\\u0014ubaube\\u008c\\u0012variable_snapshots\\u0094\\u008c\\u000bcollections\\u0094\\u008c\\u000bdefaultdict\\u0094\\u0093\\u0094\\u008c\\ndill._dill\\u0094\\u008c\\n_load_type\\u0094\\u0093\\u0094\\u008c\\u0004list\\u0094\\u0085\\u0094R\\u0094\\u0085\\u0094R\\u0094h\\u001e]\\u0094h\\u001basub.\",\n",
       "    \"checkpoint_runtime_ms\": 2,\n",
       "    \"checkpoint_vars\": [\n",
       "      \"a\"\n",
       "    ],\n",
       "    \"code_block\": \"a = 1\",\n",
       "    \"end_time_ms\": 1696313589369,\n",
       "    \"exec_id\": \"0:2\",\n",
       "    \"execution_count\": 2,\n",
       "    \"formatted_cells\": [\n",
       "      {\n",
       "        \"cell_type\": \"code\",\n",
       "        \"execution_count\": 1,\n",
       "        \"output\": null,\n",
       "        \"source\": \"from kishu import load_kishu\\nload_kishu()\\n_kishu.set_test_mode()\"\n",
       "      },\n",
       "      {\n",
       "        \"cell_type\": \"code\",\n",
       "        \"execution_count\": null,\n",
       "        \"output\": null,\n",
       "        \"source\": \"a = 1\"\n",
       "      },\n",
       "      {\n",
       "        \"cell_type\": \"code\",\n",
       "        \"execution_count\": 3,\n",
       "        \"output\": \"<kishu.jupyterint2.KishuForJupyter at 0x7f8f5802c0d0>\",\n",
       "        \"source\": \"_kishu\"\n",
       "      },\n",
       "      {\n",
       "        \"cell_type\": \"code\",\n",
       "        \"execution_count\": 4,\n",
       "        \"output\": \"{\\n  \\\"1\\\": {\\n    \\\"checkpoint_runtime_ms\\\": 1,\\n    \\\"code_block\\\": \\\"from kishu import load_kishu\\\\nload_kishu()\\\",\\n    \\\"end_time_ms\\\": 1686328871557,\\n    \\\"exec_id\\\": \\\"1\\\",\\n    \\\"execution_count\\\": 1\\n  },\\n  \\\"2\\\": {\\n    \\\"checkpoint_runtime_ms\\\": 2,\\n    \\\"checkpoint_vars\\\": [\\n      \\\"a\\\"\\n    ],\\n    \\\"code_block\\\": \\\"a = 1\\\",\\n    \\\"end_time_ms\\\": 1686328871599,\\n    \\\"exec_id\\\": \\\"2\\\",\\n    \\\"execution_count\\\": 2,\\n    \\\"runtime_ms\\\": 0,\\n    \\\"start_time_ms\\\": 1686328871599\\n  },\\n  \\\"3\\\": {\\n    \\\"checkpoint_runtime_ms\\\": 1,\\n    \\\"checkpoint_vars\\\": [\\n      \\\"a\\\"\\n    ],\\n    \\\"code_block\\\": \\\"_kishu\\\",\\n    \\\"end_time_ms\\\": 1686328871623,\\n    \\\"exec_id\\\": \\\"3\\\",\\n    \\\"execution_count\\\": 3,\\n    \\\"result\\\": \\\"<kishu.jupyterint2.KishuForJupyter object at 0x7f8f5802c0d0>\\\",\\n    \\\"runtime_ms\\\": 3,\\n    \\\"start_time_ms\\\": 1686328871620\\n  }\\n}\",\n",
       "        \"source\": \"_kishu.log()\"\n",
       "      },\n",
       "      {\n",
       "        \"cell_type\": \"code\",\n",
       "        \"execution_count\": 5,\n",
       "        \"output\": null,\n",
       "        \"source\": \"a = 2\"\n",
       "      },\n",
       "      {\n",
       "        \"cell_type\": \"code\",\n",
       "        \"execution_count\": 6,\n",
       "        \"output\": \"'/Users/yongjoo/workspace/elastic-notebook/kishu/tests/.kishu/db_20230609T114111'\",\n",
       "        \"source\": \"_kishu.checkpoint_file()\"\n",
       "      },\n",
       "      {\n",
       "        \"cell_type\": \"code\",\n",
       "        \"execution_count\": 7,\n",
       "        \"output\": \"'/Users/yongjoo/workspace/elastic-notebook/kishu/tests/.kishu/db_20230609T114111'\",\n",
       "        \"source\": \"_\"\n",
       "      },\n",
       "      {\n",
       "        \"cell_type\": \"code\",\n",
       "        \"execution_count\": 1,\n",
       "        \"output\": \"\\u001b[0;31m---------------------------------------------------------------------------\\u001b[0m\\n\\u001b[0;31mNameError\\u001b[0m                                 Traceback (most recent call last)\\nCell \\u001b[0;32mIn [1], line 1\\u001b[0m\\n\\u001b[0;32m----> 1\\u001b[0m \\u001b[43m_kishu\\u001b[49m\\u001b[38;5;241m.\\u001b[39mcheckout(\\u001b[38;5;124m\\\"\\u001b[39m\\u001b[38;5;124m0:2\\u001b[39m\\u001b[38;5;124m\\\"\\u001b[39m)\\n\\n\\u001b[0;31mNameError\\u001b[0m: name '_kishu' is not defined\\nNameError: name '_kishu' is not defined\",\n",
       "        \"source\": \"_kishu.checkout(\\\"0:2\\\")\"\n",
       "      },\n",
       "      {\n",
       "        \"cell_type\": \"code\",\n",
       "        \"execution_count\": 9,\n",
       "        \"output\": \"1\",\n",
       "        \"source\": \"a\"\n",
       "      },\n",
       "      {\n",
       "        \"cell_type\": \"code\",\n",
       "        \"execution_count\": null,\n",
       "        \"output\": null,\n",
       "        \"source\": \"\"\n",
       "      }\n",
       "    ],\n",
       "    \"kind\": \"jupyter\",\n",
       "    \"message\": \"Auto-commit after executing < a = 1 >\",\n",
       "    \"raw_nb\": \"{\\n \\\"cells\\\": [\\n  {\\n   \\\"cell_type\\\": \\\"code\\\",\\n   \\\"execution_count\\\": 1,\\n   \\\"id\\\": \\\"79d0fe1b\\\",\\n   \\\"metadata\\\": {},\\n   \\\"outputs\\\": [],\\n   \\\"source\\\": [\\n    \\\"from kishu import load_kishu\\\\n\\\",\\n    \\\"load_kishu()\\\\n\\\",\\n    \\\"_kishu.set_test_mode()\\\"\\n   ]\\n  },\\n  {\\n   \\\"cell_type\\\": \\\"code\\\",\\n   \\\"execution_count\\\": null,\\n   \\\"id\\\": \\\"4c24ada0\\\",\\n   \\\"metadata\\\": {\\n    \\\"scrolled\\\": true\\n   },\\n   \\\"outputs\\\": [],\\n   \\\"source\\\": [\\n    \\\"a = 1\\\"\\n   ]\\n  },\\n  {\\n   \\\"cell_type\\\": \\\"code\\\",\\n   \\\"execution_count\\\": 3,\\n   \\\"id\\\": \\\"d992c21f\\\",\\n   \\\"metadata\\\": {},\\n   \\\"outputs\\\": [\\n    {\\n     \\\"data\\\": {\\n      \\\"text/plain\\\": [\\n       \\\"<kishu.jupyterint2.KishuForJupyter at 0x7f8f5802c0d0>\\\"\\n      ]\\n     },\\n     \\\"execution_count\\\": 3,\\n     \\\"metadata\\\": {},\\n     \\\"output_type\\\": \\\"execute_result\\\"\\n    }\\n   ],\\n   \\\"source\\\": [\\n    \\\"_kishu\\\"\\n   ]\\n  },\\n  {\\n   \\\"cell_type\\\": \\\"code\\\",\\n   \\\"execution_count\\\": 4,\\n   \\\"id\\\": \\\"cf9d967a\\\",\\n   \\\"metadata\\\": {},\\n   \\\"outputs\\\": [\\n    {\\n     \\\"data\\\": {\\n      \\\"text/plain\\\": [\\n       \\\"{\\\\n\\\",\\n       \\\"  \\\\\\\"1\\\\\\\": {\\\\n\\\",\\n       \\\"    \\\\\\\"checkpoint_runtime_ms\\\\\\\": 1,\\\\n\\\",\\n       \\\"    \\\\\\\"code_block\\\\\\\": \\\\\\\"from kishu import load_kishu\\\\\\\\nload_kishu()\\\\\\\",\\\\n\\\",\\n       \\\"    \\\\\\\"end_time_ms\\\\\\\": 1686328871557,\\\\n\\\",\\n       \\\"    \\\\\\\"exec_id\\\\\\\": \\\\\\\"1\\\\\\\",\\\\n\\\",\\n       \\\"    \\\\\\\"execution_count\\\\\\\": 1\\\\n\\\",\\n       \\\"  },\\\\n\\\",\\n       \\\"  \\\\\\\"2\\\\\\\": {\\\\n\\\",\\n       \\\"    \\\\\\\"checkpoint_runtime_ms\\\\\\\": 2,\\\\n\\\",\\n       \\\"    \\\\\\\"checkpoint_vars\\\\\\\": [\\\\n\\\",\\n       \\\"      \\\\\\\"a\\\\\\\"\\\\n\\\",\\n       \\\"    ],\\\\n\\\",\\n       \\\"    \\\\\\\"code_block\\\\\\\": \\\\\\\"a = 1\\\\\\\",\\\\n\\\",\\n       \\\"    \\\\\\\"end_time_ms\\\\\\\": 1686328871599,\\\\n\\\",\\n       \\\"    \\\\\\\"exec_id\\\\\\\": \\\\\\\"2\\\\\\\",\\\\n\\\",\\n       \\\"    \\\\\\\"execution_count\\\\\\\": 2,\\\\n\\\",\\n       \\\"    \\\\\\\"runtime_ms\\\\\\\": 0,\\\\n\\\",\\n       \\\"    \\\\\\\"start_time_ms\\\\\\\": 1686328871599\\\\n\\\",\\n       \\\"  },\\\\n\\\",\\n       \\\"  \\\\\\\"3\\\\\\\": {\\\\n\\\",\\n       \\\"    \\\\\\\"checkpoint_runtime_ms\\\\\\\": 1,\\\\n\\\",\\n       \\\"    \\\\\\\"checkpoint_vars\\\\\\\": [\\\\n\\\",\\n       \\\"      \\\\\\\"a\\\\\\\"\\\\n\\\",\\n       \\\"    ],\\\\n\\\",\\n       \\\"    \\\\\\\"code_block\\\\\\\": \\\\\\\"_kishu\\\\\\\",\\\\n\\\",\\n       \\\"    \\\\\\\"end_time_ms\\\\\\\": 1686328871623,\\\\n\\\",\\n       \\\"    \\\\\\\"exec_id\\\\\\\": \\\\\\\"3\\\\\\\",\\\\n\\\",\\n       \\\"    \\\\\\\"execution_count\\\\\\\": 3,\\\\n\\\",\\n       \\\"    \\\\\\\"result\\\\\\\": \\\\\\\"<kishu.jupyterint2.KishuForJupyter object at 0x7f8f5802c0d0>\\\\\\\",\\\\n\\\",\\n       \\\"    \\\\\\\"runtime_ms\\\\\\\": 3,\\\\n\\\",\\n       \\\"    \\\\\\\"start_time_ms\\\\\\\": 1686328871620\\\\n\\\",\\n       \\\"  }\\\\n\\\",\\n       \\\"}\\\"\\n      ]\\n     },\\n     \\\"execution_count\\\": 4,\\n     \\\"metadata\\\": {},\\n     \\\"output_type\\\": \\\"execute_result\\\"\\n    }\\n   ],\\n   \\\"source\\\": [\\n    \\\"_kishu.log()\\\"\\n   ]\\n  },\\n  {\\n   \\\"cell_type\\\": \\\"code\\\",\\n   \\\"execution_count\\\": 5,\\n   \\\"id\\\": \\\"c904850f\\\",\\n   \\\"metadata\\\": {},\\n   \\\"outputs\\\": [],\\n   \\\"source\\\": [\\n    \\\"a = 2\\\"\\n   ]\\n  },\\n  {\\n   \\\"cell_type\\\": \\\"code\\\",\\n   \\\"execution_count\\\": 6,\\n   \\\"id\\\": \\\"8d2fec42\\\",\\n   \\\"metadata\\\": {},\\n   \\\"outputs\\\": [\\n    {\\n     \\\"data\\\": {\\n      \\\"text/plain\\\": [\\n       \\\"'/Users/yongjoo/workspace/elastic-notebook/kishu/tests/.kishu/db_20230609T114111'\\\"\\n      ]\\n     },\\n     \\\"execution_count\\\": 6,\\n     \\\"metadata\\\": {},\\n     \\\"output_type\\\": \\\"execute_result\\\"\\n    }\\n   ],\\n   \\\"source\\\": [\\n    \\\"_kishu.checkpoint_file()\\\"\\n   ]\\n  },\\n  {\\n   \\\"cell_type\\\": \\\"code\\\",\\n   \\\"execution_count\\\": 7,\\n   \\\"id\\\": \\\"0a370fd6\\\",\\n   \\\"metadata\\\": {},\\n   \\\"outputs\\\": [\\n    {\\n     \\\"data\\\": {\\n      \\\"text/plain\\\": [\\n       \\\"'/Users/yongjoo/workspace/elastic-notebook/kishu/tests/.kishu/db_20230609T114111'\\\"\\n      ]\\n     },\\n     \\\"execution_count\\\": 7,\\n     \\\"metadata\\\": {},\\n     \\\"output_type\\\": \\\"execute_result\\\"\\n    }\\n   ],\\n   \\\"source\\\": [\\n    \\\"_\\\"\\n   ]\\n  },\\n  {\\n   \\\"cell_type\\\": \\\"code\\\",\\n   \\\"execution_count\\\": 1,\\n   \\\"id\\\": \\\"3bfae951\\\",\\n   \\\"metadata\\\": {},\\n   \\\"outputs\\\": [\\n    {\\n     \\\"ename\\\": \\\"NameError\\\",\\n     \\\"evalue\\\": \\\"name '_kishu' is not defined\\\",\\n     \\\"output_type\\\": \\\"error\\\",\\n     \\\"traceback\\\": [\\n      \\\"\\\\u001b[0;31m---------------------------------------------------------------------------\\\\u001b[0m\\\",\\n      \\\"\\\\u001b[0;31mNameError\\\\u001b[0m                                 Traceback (most recent call last)\\\",\\n      \\\"Cell \\\\u001b[0;32mIn [1], line 1\\\\u001b[0m\\\\n\\\\u001b[0;32m----> 1\\\\u001b[0m \\\\u001b[43m_kishu\\\\u001b[49m\\\\u001b[38;5;241m.\\\\u001b[39mcheckout(\\\\u001b[38;5;124m\\\\\\\"\\\\u001b[39m\\\\u001b[38;5;124m0:2\\\\u001b[39m\\\\u001b[38;5;124m\\\\\\\"\\\\u001b[39m)\\\\n\\\",\\n      \\\"\\\\u001b[0;31mNameError\\\\u001b[0m: name '_kishu' is not defined\\\"\\n     ]\\n    }\\n   ],\\n   \\\"source\\\": [\\n    \\\"_kishu.checkout(\\\\\\\"0:2\\\\\\\")\\\"\\n   ]\\n  },\\n  {\\n   \\\"cell_type\\\": \\\"code\\\",\\n   \\\"execution_count\\\": 9,\\n   \\\"id\\\": \\\"7f923053\\\",\\n   \\\"metadata\\\": {},\\n   \\\"outputs\\\": [\\n    {\\n     \\\"data\\\": {\\n      \\\"text/plain\\\": [\\n       \\\"1\\\"\\n      ]\\n     },\\n     \\\"execution_count\\\": 9,\\n     \\\"metadata\\\": {},\\n     \\\"output_type\\\": \\\"execute_result\\\"\\n    }\\n   ],\\n   \\\"source\\\": [\\n    \\\"a\\\"\\n   ]\\n  },\\n  {\\n   \\\"cell_type\\\": \\\"code\\\",\\n   \\\"execution_count\\\": null,\\n   \\\"id\\\": \\\"0b236923\\\",\\n   \\\"metadata\\\": {},\\n   \\\"outputs\\\": [],\\n   \\\"source\\\": []\\n  }\\n ],\\n \\\"metadata\\\": {\\n  \\\"kernelspec\\\": {\\n   \\\"display_name\\\": \\\"Python 3 (ipykernel)\\\",\\n   \\\"language\\\": \\\"python\\\",\\n   \\\"name\\\": \\\"python3\\\"\\n  },\\n  \\\"language_info\\\": {\\n   \\\"codemirror_mode\\\": {\\n    \\\"name\\\": \\\"ipython\\\",\\n    \\\"version\\\": 3\\n   },\\n   \\\"file_extension\\\": \\\".py\\\",\\n   \\\"mimetype\\\": \\\"text/x-python\\\",\\n   \\\"name\\\": \\\"python\\\",\\n   \\\"nbconvert_exporter\\\": \\\"python\\\",\\n   \\\"pygments_lexer\\\": \\\"ipython3\\\",\\n   \\\"version\\\": \\\"3.8.10\\\"\\n  }\\n },\\n \\\"nbformat\\\": 4,\\n \\\"nbformat_minor\\\": 5\\n}\",\n",
       "    \"runtime_ms\": 0,\n",
       "    \"start_time_ms\": 1696313589369,\n",
       "    \"timestamp_ms\": 1696313589369\n",
       "  },\n",
       "  \"0:3\": {\n",
       "    \"ahg_string\": \"\\u0080\\u0004\\u0095/\\u0002\\u0000\\u0000\\u0000\\u0000\\u0000\\u0000\\u008c\\u0012kishu.planning.ahg\\u0094\\u008c\\u0003AHG\\u0094\\u0093\\u0094)\\u0081\\u0094}\\u0094(\\u008c\\u000fcell_executions\\u0094]\\u0094(h\\u0000\\u008c\\rCellExecution\\u0094\\u0093\\u0094)\\u0081\\u0094}\\u0094(\\u008c\\bcell_num\\u0094K\\u0000\\u008c\\u0004cell\\u0094\\u008c@from kishu import load_kishu\\nload_kishu()\\n_kishu.set_test_mode()\\u0094\\u008c\\fcell_runtime\\u0094G\\u0000\\u0000\\u0000\\u0000\\u0000\\u0000\\u0000\\u0000\\u008c\\nstart_time\\u0094G\\u0000\\u0000\\u0000\\u0000\\u0000\\u0000\\u0000\\u0000\\u008c\\u0007src_vss\\u0094]\\u0094\\u008c\\u0007dst_vss\\u0094]\\u0094ubh\\b)\\u0081\\u0094}\\u0094(h\\u000bK\\u0001h\\f\\u008c\\u0005a = 1\\u0094h\\u000eG\\u0000\\u0000\\u0000\\u0000\\u0000\\u0000\\u0000\\u0000h\\u000fGC\\u0018\\u001b'#\\u00b0\\\"\\u00a0h\\u0010]\\u0094h\\u0012]\\u0094h\\u0000\\u008c\\u0010VariableSnapshot\\u0094\\u0093\\u0094)\\u0081\\u0094}\\u0094(\\u008c\\u0004name\\u0094\\u008c\\u0001a\\u0094\\u008c\\u0007version\\u0094K\\u0000\\u008c\\u0007deleted\\u0094\\u0089\\u008c\\u0004size\\u0094K\\u001c\\u008c\\tinput_ces\\u0094]\\u0094\\u008c\\toutput_ce\\u0094h\\u0014ubaubh\\b)\\u0081\\u0094}\\u0094(h\\u000bK\\u0002h\\f\\u008c\\u0006_kishu\\u0094h\\u000eG@\\u00b3\\u0088\\u0000\\u0000\\u0000\\u0000\\u0000h\\u000fGC\\u0018\\u001b'#\\u00e8Y@h\\u0010]\\u0094h\\u0012]\\u0094ube\\u008c\\u0012variable_snapshots\\u0094\\u008c\\u000bcollections\\u0094\\u008c\\u000bdefaultdict\\u0094\\u0093\\u0094\\u008c\\ndill._dill\\u0094\\u008c\\n_load_type\\u0094\\u0093\\u0094\\u008c\\u0004list\\u0094\\u0085\\u0094R\\u0094\\u0085\\u0094R\\u0094h\\u001e]\\u0094h\\u001basub.\",\n",
       "    \"checkpoint_runtime_ms\": 2,\n",
       "    \"checkpoint_vars\": [\n",
       "      \"a\"\n",
       "    ],\n",
       "    \"code_block\": \"_kishu\",\n",
       "    \"end_time_ms\": 1696313590295,\n",
       "    \"exec_id\": \"0:3\",\n",
       "    \"execution_count\": 3,\n",
       "    \"formatted_cells\": [\n",
       "      {\n",
       "        \"cell_type\": \"code\",\n",
       "        \"execution_count\": 1,\n",
       "        \"output\": null,\n",
       "        \"source\": \"from kishu import load_kishu\\nload_kishu()\\n_kishu.set_test_mode()\"\n",
       "      },\n",
       "      {\n",
       "        \"cell_type\": \"code\",\n",
       "        \"execution_count\": 2,\n",
       "        \"output\": null,\n",
       "        \"source\": \"a = 1\"\n",
       "      },\n",
       "      {\n",
       "        \"cell_type\": \"code\",\n",
       "        \"execution_count\": null,\n",
       "        \"output\": \"<kishu.jupyterint2.KishuForJupyter at 0x7fa829d987f0>\",\n",
       "        \"source\": \"_kishu\"\n",
       "      },\n",
       "      {\n",
       "        \"cell_type\": \"code\",\n",
       "        \"execution_count\": 4,\n",
       "        \"output\": \"{\\n  \\\"1\\\": {\\n    \\\"checkpoint_runtime_ms\\\": 1,\\n    \\\"code_block\\\": \\\"from kishu import load_kishu\\\\nload_kishu()\\\",\\n    \\\"end_time_ms\\\": 1686328871557,\\n    \\\"exec_id\\\": \\\"1\\\",\\n    \\\"execution_count\\\": 1\\n  },\\n  \\\"2\\\": {\\n    \\\"checkpoint_runtime_ms\\\": 2,\\n    \\\"checkpoint_vars\\\": [\\n      \\\"a\\\"\\n    ],\\n    \\\"code_block\\\": \\\"a = 1\\\",\\n    \\\"end_time_ms\\\": 1686328871599,\\n    \\\"exec_id\\\": \\\"2\\\",\\n    \\\"execution_count\\\": 2,\\n    \\\"runtime_ms\\\": 0,\\n    \\\"start_time_ms\\\": 1686328871599\\n  },\\n  \\\"3\\\": {\\n    \\\"checkpoint_runtime_ms\\\": 1,\\n    \\\"checkpoint_vars\\\": [\\n      \\\"a\\\"\\n    ],\\n    \\\"code_block\\\": \\\"_kishu\\\",\\n    \\\"end_time_ms\\\": 1686328871623,\\n    \\\"exec_id\\\": \\\"3\\\",\\n    \\\"execution_count\\\": 3,\\n    \\\"result\\\": \\\"<kishu.jupyterint2.KishuForJupyter object at 0x7f8f5802c0d0>\\\",\\n    \\\"runtime_ms\\\": 3,\\n    \\\"start_time_ms\\\": 1686328871620\\n  }\\n}\",\n",
       "        \"source\": \"_kishu.log()\"\n",
       "      },\n",
       "      {\n",
       "        \"cell_type\": \"code\",\n",
       "        \"execution_count\": 5,\n",
       "        \"output\": null,\n",
       "        \"source\": \"a = 2\"\n",
       "      },\n",
       "      {\n",
       "        \"cell_type\": \"code\",\n",
       "        \"execution_count\": 6,\n",
       "        \"output\": \"'/Users/yongjoo/workspace/elastic-notebook/kishu/tests/.kishu/db_20230609T114111'\",\n",
       "        \"source\": \"_kishu.checkpoint_file()\"\n",
       "      },\n",
       "      {\n",
       "        \"cell_type\": \"code\",\n",
       "        \"execution_count\": 7,\n",
       "        \"output\": \"'/Users/yongjoo/workspace/elastic-notebook/kishu/tests/.kishu/db_20230609T114111'\",\n",
       "        \"source\": \"_\"\n",
       "      },\n",
       "      {\n",
       "        \"cell_type\": \"code\",\n",
       "        \"execution_count\": 1,\n",
       "        \"output\": \"\\u001b[0;31m---------------------------------------------------------------------------\\u001b[0m\\n\\u001b[0;31mNameError\\u001b[0m                                 Traceback (most recent call last)\\nCell \\u001b[0;32mIn [1], line 1\\u001b[0m\\n\\u001b[0;32m----> 1\\u001b[0m \\u001b[43m_kishu\\u001b[49m\\u001b[38;5;241m.\\u001b[39mcheckout(\\u001b[38;5;124m\\\"\\u001b[39m\\u001b[38;5;124m0:2\\u001b[39m\\u001b[38;5;124m\\\"\\u001b[39m)\\n\\n\\u001b[0;31mNameError\\u001b[0m: name '_kishu' is not defined\\nNameError: name '_kishu' is not defined\",\n",
       "        \"source\": \"_kishu.checkout(\\\"0:2\\\")\"\n",
       "      },\n",
       "      {\n",
       "        \"cell_type\": \"code\",\n",
       "        \"execution_count\": 9,\n",
       "        \"output\": \"1\",\n",
       "        \"source\": \"a\"\n",
       "      },\n",
       "      {\n",
       "        \"cell_type\": \"code\",\n",
       "        \"execution_count\": null,\n",
       "        \"output\": null,\n",
       "        \"source\": \"\"\n",
       "      }\n",
       "    ],\n",
       "    \"kind\": \"jupyter\",\n",
       "    \"message\": \"Auto-commit after executing < _kishu >\",\n",
       "    \"raw_nb\": \"{\\n \\\"cells\\\": [\\n  {\\n   \\\"cell_type\\\": \\\"code\\\",\\n   \\\"execution_count\\\": 1,\\n   \\\"id\\\": \\\"79d0fe1b\\\",\\n   \\\"metadata\\\": {},\\n   \\\"outputs\\\": [],\\n   \\\"source\\\": [\\n    \\\"from kishu import load_kishu\\\\n\\\",\\n    \\\"load_kishu()\\\\n\\\",\\n    \\\"_kishu.set_test_mode()\\\"\\n   ]\\n  },\\n  {\\n   \\\"cell_type\\\": \\\"code\\\",\\n   \\\"execution_count\\\": 2,\\n   \\\"id\\\": \\\"4c24ada0\\\",\\n   \\\"metadata\\\": {\\n    \\\"scrolled\\\": true\\n   },\\n   \\\"outputs\\\": [],\\n   \\\"source\\\": [\\n    \\\"a = 1\\\"\\n   ]\\n  },\\n  {\\n   \\\"cell_type\\\": \\\"code\\\",\\n   \\\"execution_count\\\": null,\\n   \\\"id\\\": \\\"d992c21f\\\",\\n   \\\"metadata\\\": {},\\n   \\\"outputs\\\": [\\n    {\\n     \\\"data\\\": {\\n      \\\"text/plain\\\": [\\n       \\\"<kishu.jupyterint2.KishuForJupyter at 0x7fa829d987f0>\\\"\\n      ]\\n     },\\n     \\\"execution_count\\\": 3,\\n     \\\"metadata\\\": {},\\n     \\\"output_type\\\": \\\"execute_result\\\"\\n    }\\n   ],\\n   \\\"source\\\": [\\n    \\\"_kishu\\\"\\n   ]\\n  },\\n  {\\n   \\\"cell_type\\\": \\\"code\\\",\\n   \\\"execution_count\\\": 4,\\n   \\\"id\\\": \\\"cf9d967a\\\",\\n   \\\"metadata\\\": {},\\n   \\\"outputs\\\": [\\n    {\\n     \\\"data\\\": {\\n      \\\"text/plain\\\": [\\n       \\\"{\\\\n\\\",\\n       \\\"  \\\\\\\"1\\\\\\\": {\\\\n\\\",\\n       \\\"    \\\\\\\"checkpoint_runtime_ms\\\\\\\": 1,\\\\n\\\",\\n       \\\"    \\\\\\\"code_block\\\\\\\": \\\\\\\"from kishu import load_kishu\\\\\\\\nload_kishu()\\\\\\\",\\\\n\\\",\\n       \\\"    \\\\\\\"end_time_ms\\\\\\\": 1686328871557,\\\\n\\\",\\n       \\\"    \\\\\\\"exec_id\\\\\\\": \\\\\\\"1\\\\\\\",\\\\n\\\",\\n       \\\"    \\\\\\\"execution_count\\\\\\\": 1\\\\n\\\",\\n       \\\"  },\\\\n\\\",\\n       \\\"  \\\\\\\"2\\\\\\\": {\\\\n\\\",\\n       \\\"    \\\\\\\"checkpoint_runtime_ms\\\\\\\": 2,\\\\n\\\",\\n       \\\"    \\\\\\\"checkpoint_vars\\\\\\\": [\\\\n\\\",\\n       \\\"      \\\\\\\"a\\\\\\\"\\\\n\\\",\\n       \\\"    ],\\\\n\\\",\\n       \\\"    \\\\\\\"code_block\\\\\\\": \\\\\\\"a = 1\\\\\\\",\\\\n\\\",\\n       \\\"    \\\\\\\"end_time_ms\\\\\\\": 1686328871599,\\\\n\\\",\\n       \\\"    \\\\\\\"exec_id\\\\\\\": \\\\\\\"2\\\\\\\",\\\\n\\\",\\n       \\\"    \\\\\\\"execution_count\\\\\\\": 2,\\\\n\\\",\\n       \\\"    \\\\\\\"runtime_ms\\\\\\\": 0,\\\\n\\\",\\n       \\\"    \\\\\\\"start_time_ms\\\\\\\": 1686328871599\\\\n\\\",\\n       \\\"  },\\\\n\\\",\\n       \\\"  \\\\\\\"3\\\\\\\": {\\\\n\\\",\\n       \\\"    \\\\\\\"checkpoint_runtime_ms\\\\\\\": 1,\\\\n\\\",\\n       \\\"    \\\\\\\"checkpoint_vars\\\\\\\": [\\\\n\\\",\\n       \\\"      \\\\\\\"a\\\\\\\"\\\\n\\\",\\n       \\\"    ],\\\\n\\\",\\n       \\\"    \\\\\\\"code_block\\\\\\\": \\\\\\\"_kishu\\\\\\\",\\\\n\\\",\\n       \\\"    \\\\\\\"end_time_ms\\\\\\\": 1686328871623,\\\\n\\\",\\n       \\\"    \\\\\\\"exec_id\\\\\\\": \\\\\\\"3\\\\\\\",\\\\n\\\",\\n       \\\"    \\\\\\\"execution_count\\\\\\\": 3,\\\\n\\\",\\n       \\\"    \\\\\\\"result\\\\\\\": \\\\\\\"<kishu.jupyterint2.KishuForJupyter object at 0x7f8f5802c0d0>\\\\\\\",\\\\n\\\",\\n       \\\"    \\\\\\\"runtime_ms\\\\\\\": 3,\\\\n\\\",\\n       \\\"    \\\\\\\"start_time_ms\\\\\\\": 1686328871620\\\\n\\\",\\n       \\\"  }\\\\n\\\",\\n       \\\"}\\\"\\n      ]\\n     },\\n     \\\"execution_count\\\": 4,\\n     \\\"metadata\\\": {},\\n     \\\"output_type\\\": \\\"execute_result\\\"\\n    }\\n   ],\\n   \\\"source\\\": [\\n    \\\"_kishu.log()\\\"\\n   ]\\n  },\\n  {\\n   \\\"cell_type\\\": \\\"code\\\",\\n   \\\"execution_count\\\": 5,\\n   \\\"id\\\": \\\"c904850f\\\",\\n   \\\"metadata\\\": {},\\n   \\\"outputs\\\": [],\\n   \\\"source\\\": [\\n    \\\"a = 2\\\"\\n   ]\\n  },\\n  {\\n   \\\"cell_type\\\": \\\"code\\\",\\n   \\\"execution_count\\\": 6,\\n   \\\"id\\\": \\\"8d2fec42\\\",\\n   \\\"metadata\\\": {},\\n   \\\"outputs\\\": [\\n    {\\n     \\\"data\\\": {\\n      \\\"text/plain\\\": [\\n       \\\"'/Users/yongjoo/workspace/elastic-notebook/kishu/tests/.kishu/db_20230609T114111'\\\"\\n      ]\\n     },\\n     \\\"execution_count\\\": 6,\\n     \\\"metadata\\\": {},\\n     \\\"output_type\\\": \\\"execute_result\\\"\\n    }\\n   ],\\n   \\\"source\\\": [\\n    \\\"_kishu.checkpoint_file()\\\"\\n   ]\\n  },\\n  {\\n   \\\"cell_type\\\": \\\"code\\\",\\n   \\\"execution_count\\\": 7,\\n   \\\"id\\\": \\\"0a370fd6\\\",\\n   \\\"metadata\\\": {},\\n   \\\"outputs\\\": [\\n    {\\n     \\\"data\\\": {\\n      \\\"text/plain\\\": [\\n       \\\"'/Users/yongjoo/workspace/elastic-notebook/kishu/tests/.kishu/db_20230609T114111'\\\"\\n      ]\\n     },\\n     \\\"execution_count\\\": 7,\\n     \\\"metadata\\\": {},\\n     \\\"output_type\\\": \\\"execute_result\\\"\\n    }\\n   ],\\n   \\\"source\\\": [\\n    \\\"_\\\"\\n   ]\\n  },\\n  {\\n   \\\"cell_type\\\": \\\"code\\\",\\n   \\\"execution_count\\\": 1,\\n   \\\"id\\\": \\\"3bfae951\\\",\\n   \\\"metadata\\\": {},\\n   \\\"outputs\\\": [\\n    {\\n     \\\"ename\\\": \\\"NameError\\\",\\n     \\\"evalue\\\": \\\"name '_kishu' is not defined\\\",\\n     \\\"output_type\\\": \\\"error\\\",\\n     \\\"traceback\\\": [\\n      \\\"\\\\u001b[0;31m---------------------------------------------------------------------------\\\\u001b[0m\\\",\\n      \\\"\\\\u001b[0;31mNameError\\\\u001b[0m                                 Traceback (most recent call last)\\\",\\n      \\\"Cell \\\\u001b[0;32mIn [1], line 1\\\\u001b[0m\\\\n\\\\u001b[0;32m----> 1\\\\u001b[0m \\\\u001b[43m_kishu\\\\u001b[49m\\\\u001b[38;5;241m.\\\\u001b[39mcheckout(\\\\u001b[38;5;124m\\\\\\\"\\\\u001b[39m\\\\u001b[38;5;124m0:2\\\\u001b[39m\\\\u001b[38;5;124m\\\\\\\"\\\\u001b[39m)\\\\n\\\",\\n      \\\"\\\\u001b[0;31mNameError\\\\u001b[0m: name '_kishu' is not defined\\\"\\n     ]\\n    }\\n   ],\\n   \\\"source\\\": [\\n    \\\"_kishu.checkout(\\\\\\\"0:2\\\\\\\")\\\"\\n   ]\\n  },\\n  {\\n   \\\"cell_type\\\": \\\"code\\\",\\n   \\\"execution_count\\\": 9,\\n   \\\"id\\\": \\\"7f923053\\\",\\n   \\\"metadata\\\": {},\\n   \\\"outputs\\\": [\\n    {\\n     \\\"data\\\": {\\n      \\\"text/plain\\\": [\\n       \\\"1\\\"\\n      ]\\n     },\\n     \\\"execution_count\\\": 9,\\n     \\\"metadata\\\": {},\\n     \\\"output_type\\\": \\\"execute_result\\\"\\n    }\\n   ],\\n   \\\"source\\\": [\\n    \\\"a\\\"\\n   ]\\n  },\\n  {\\n   \\\"cell_type\\\": \\\"code\\\",\\n   \\\"execution_count\\\": null,\\n   \\\"id\\\": \\\"0b236923\\\",\\n   \\\"metadata\\\": {},\\n   \\\"outputs\\\": [],\\n   \\\"source\\\": []\\n  }\\n ],\\n \\\"metadata\\\": {\\n  \\\"kernelspec\\\": {\\n   \\\"display_name\\\": \\\"Python 3 (ipykernel)\\\",\\n   \\\"language\\\": \\\"python\\\",\\n   \\\"name\\\": \\\"python3\\\"\\n  },\\n  \\\"language_info\\\": {\\n   \\\"codemirror_mode\\\": {\\n    \\\"name\\\": \\\"ipython\\\",\\n    \\\"version\\\": 3\\n   },\\n   \\\"file_extension\\\": \\\".py\\\",\\n   \\\"mimetype\\\": \\\"text/x-python\\\",\\n   \\\"name\\\": \\\"python\\\",\\n   \\\"nbconvert_exporter\\\": \\\"python\\\",\\n   \\\"pygments_lexer\\\": \\\"ipython3\\\",\\n   \\\"version\\\": \\\"3.8.10\\\"\\n  }\\n },\\n \\\"nbformat\\\": 4,\\n \\\"nbformat_minor\\\": 5\\n}\",\n",
       "    \"result\": \"<kishu.jupyterint2.KishuForJupyter object at 0x7fa829d987f0>\",\n",
       "    \"runtime_ms\": 5,\n",
       "    \"start_time_ms\": 1696313590290,\n",
       "    \"timestamp_ms\": 1696313590295\n",
       "  }\n",
       "}"
      ]
     },
     "execution_count": 4,
     "metadata": {},
     "output_type": "execute_result"
    }
   ],
   "source": [
    "_kishu.log()"
   ]
  },
  {
   "cell_type": "code",
   "execution_count": 5,
   "id": "c904850f",
   "metadata": {},
   "outputs": [],
   "source": [
    "a = 2"
   ]
  },
  {
   "cell_type": "code",
   "execution_count": 6,
   "id": "8d2fec42",
   "metadata": {},
   "outputs": [
    {
     "data": {
      "text/plain": [
       "'/home/zl20/.kishu/20231003T011308/ckpt.sqlite'"
      ]
     },
     "execution_count": 6,
     "metadata": {},
     "output_type": "execute_result"
    }
   ],
   "source": [
    "_kishu.checkpoint_file()"
   ]
  },
  {
   "cell_type": "code",
   "execution_count": 7,
   "id": "0a370fd6",
   "metadata": {},
   "outputs": [
    {
     "data": {
      "text/plain": [
       "'/home/zl20/.kishu/20231003T011308/ckpt.sqlite'"
      ]
     },
     "execution_count": 7,
     "metadata": {},
     "output_type": "execute_result"
    }
   ],
   "source": [
    "_"
   ]
  },
  {
   "cell_type": "code",
   "execution_count": 8,
   "id": "3bfae951",
   "metadata": {},
   "outputs": [],
   "source": [
    "_kishu.checkout(\"0:2\")"
   ]
  },
  {
   "cell_type": "code",
   "execution_count": 9,
   "id": "7f923053",
   "metadata": {},
   "outputs": [
    {
     "data": {
      "text/plain": [
       "1"
      ]
     },
     "execution_count": 9,
     "metadata": {},
     "output_type": "execute_result"
    }
   ],
   "source": [
    "a"
   ]
  },
  {
   "cell_type": "code",
   "execution_count": null,
   "id": "0b236923",
   "metadata": {},
   "outputs": [],
   "source": []
  }
 ],
 "metadata": {
  "kernelspec": {
   "display_name": "Python 3 (ipykernel)",
   "language": "python",
   "name": "python3"
  },
  "language_info": {
   "codemirror_mode": {
    "name": "ipython",
    "version": 3
   },
   "file_extension": ".py",
   "mimetype": "text/x-python",
   "name": "python",
   "nbconvert_exporter": "python",
   "pygments_lexer": "ipython3",
   "version": "3.8.10"
  }
 },
 "nbformat": 4,
 "nbformat_minor": 5
}
