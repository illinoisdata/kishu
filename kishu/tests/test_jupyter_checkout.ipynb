{
 "cells": [
  {
   "cell_type": "code",
   "execution_count": 1,
   "id": "79d0fe1b",
   "metadata": {},
   "outputs": [
    {
     "name": "stdout",
     "output_type": "stream",
     "text": [
      "accessed vars: set()\n",
      "created vars: set()\n",
      "deleted vars: set()\n",
      "modified vars: set()\n",
      "cell executions: 1\n",
      "Restore actions: []\n",
      "commit id: 0:1\n"
     ]
    }
   ],
   "source": [
    "from kishu import load_kishu\n",
    "load_kishu()\n",
    "_kishu.set_test_mode()"
   ]
  },
  {
   "cell_type": "code",
   "execution_count": 2,
   "id": "4c24ada0",
   "metadata": {
    "scrolled": true
   },
   "outputs": [
    {
     "name": "stdout",
     "output_type": "stream",
     "text": [
      "accessed vars: set()\n",
      "created vars: {'a'}\n",
      "deleted vars: set()\n",
      "modified vars: set()\n",
      "cell executions: 2\n",
      "Restore actions: [LoadVariableRestoreAction(var_names=['a'])]\n",
      "commit id: 0:2\n"
     ]
    }
   ],
   "source": [
    "a = 1"
   ]
  },
  {
   "cell_type": "code",
   "execution_count": 3,
   "id": "d992c21f",
   "metadata": {},
   "outputs": [
    {
     "name": "stdout",
     "output_type": "stream",
     "text": [
      "pre run cell vars: {'a'}\n"
     ]
    },
    {
     "data": {
      "text/plain": [
       "<kishu.jupyterint2.KishuForJupyter at 0x7f8556f21f10>"
      ]
     },
     "execution_count": 3,
     "metadata": {},
     "output_type": "execute_result"
    },
    {
     "name": "stdout",
     "output_type": "stream",
     "text": [
      "accessed vars: set()\n",
      "created vars: set()\n",
      "deleted vars: set()\n",
      "modified vars: set()\n",
      "cell executions: 3\n",
      "Restore actions: [LoadVariableRestoreAction(var_names=['a'])]\n",
      "commit id: 0:3\n"
     ]
    }
   ],
   "source": [
    "_kishu"
   ]
  },
  {
   "cell_type": "code",
   "execution_count": 4,
   "id": "cf9d967a",
   "metadata": {},
   "outputs": [
    {
     "name": "stdout",
     "output_type": "stream",
     "text": [
      "pre run cell vars: {'a'}\n"
     ]
    },
    {
     "data": {
      "text/plain": [
       "{\n",
       "  \"0:1\": {\n",
       "    \"checkpoint_runtime_ms\": 2,\n",
       "    \"code_block\": \"from kishu import load_kishu\\nload_kishu()\",\n",
       "    \"end_time_ms\": 1695243111390,\n",
       "    \"exec_id\": \"0:1\",\n",
       "    \"executed_cells\": [\n",
       "      {\n",
       "        \"cell_type\": \"code\",\n",
       "        \"execution_count\": null,\n",
       "        \"output\": null,\n",
       "        \"source\": \"from kishu import load_kishu\\nload_kishu()\"\n",
       "      },\n",
       "      {\n",
       "        \"cell_type\": \"code\",\n",
       "        \"execution_count\": 10,\n",
       "        \"output\": \"accessed vars: set()\\ncreated vars: set()\\ndeleted vars: set()\\nmodified vars: set()\\ncell executions: 10\\nRestore actions: [LoadVariableRestoreAction(var_names=['a'])]\\n\",\n",
       "        \"source\": \"a = 1\"\n",
       "      },\n",
       "      {\n",
       "        \"cell_type\": \"code\",\n",
       "        \"execution_count\": 11,\n",
       "        \"output\": \"pre run cell vars: {'a'}\\n\",\n",
       "        \"source\": \"_kishu\"\n",
       "      },\n",
       "      {\n",
       "        \"cell_type\": \"code\",\n",
       "        \"execution_count\": 4,\n",
       "        \"output\": \"pre run cell vars: {'a'}\\n\",\n",
       "        \"source\": \"_kishu.log()\"\n",
       "      },\n",
       "      {\n",
       "        \"cell_type\": \"code\",\n",
       "        \"execution_count\": 5,\n",
       "        \"output\": \"accessed vars: set()\\ncreated vars: set()\\ndeleted vars: set()\\nmodified vars: {'a'}\\ncell executions: 5\\nRestore actions: [LoadVariableRestoreAction(var_names=['a'])]\\n\",\n",
       "        \"source\": \"a = 2\"\n",
       "      },\n",
       "      {\n",
       "        \"cell_type\": \"code\",\n",
       "        \"execution_count\": 6,\n",
       "        \"output\": \"pre run cell vars: {'a'}\\n\",\n",
       "        \"source\": \"_kishu.checkpoint_file()\"\n",
       "      },\n",
       "      {\n",
       "        \"cell_type\": \"code\",\n",
       "        \"execution_count\": 7,\n",
       "        \"output\": \"pre run cell vars: {'a'}\\n\",\n",
       "        \"source\": \"_\"\n",
       "      },\n",
       "      {\n",
       "        \"cell_type\": \"code\",\n",
       "        \"execution_count\": 8,\n",
       "        \"output\": \"accessed vars: set()\\ncreated vars: set()\\ndeleted vars: set()\\nmodified vars: {'a'}\\ncell executions: 8\\nRestore actions: [LoadVariableRestoreAction(var_names=['a'])]\\n\",\n",
       "        \"source\": \"_kishu.checkout(\\\"0:2\\\")\"\n",
       "      },\n",
       "      {\n",
       "        \"cell_type\": \"code\",\n",
       "        \"execution_count\": 9,\n",
       "        \"output\": \"1\",\n",
       "        \"source\": \"a\"\n",
       "      },\n",
       "      {\n",
       "        \"cell_type\": \"code\",\n",
       "        \"execution_count\": null,\n",
       "        \"output\": null,\n",
       "        \"source\": \"\"\n",
       "      }\n",
       "    ],\n",
       "    \"execution_count\": 1\n",
       "  },\n",
       "  \"0:2\": {\n",
       "    \"checkpoint_runtime_ms\": 1,\n",
       "    \"checkpoint_vars\": [\n",
       "      \"a\"\n",
       "    ],\n",
       "    \"code_block\": \"a = 1\",\n",
       "    \"end_time_ms\": 1695243112716,\n",
       "    \"exec_id\": \"0:2\",\n",
       "    \"executed_cells\": [\n",
       "      {\n",
       "        \"cell_type\": \"code\",\n",
       "        \"execution_count\": 1,\n",
       "        \"output\": \"accessed vars: set()\\ncreated vars: set()\\ndeleted vars: set()\\nmodified vars: set()\\ncell executions: 1\\nRestore actions: []\\ncommit id: 0:1\\n\",\n",
       "        \"source\": \"from kishu import load_kishu\\nload_kishu()\"\n",
       "      },\n",
       "      {\n",
       "        \"cell_type\": \"code\",\n",
       "        \"execution_count\": null,\n",
       "        \"output\": null,\n",
       "        \"source\": \"a = 1\"\n",
       "      },\n",
       "      {\n",
       "        \"cell_type\": \"code\",\n",
       "        \"execution_count\": 11,\n",
       "        \"output\": \"pre run cell vars: {'a'}\\n\",\n",
       "        \"source\": \"_kishu\"\n",
       "      },\n",
       "      {\n",
       "        \"cell_type\": \"code\",\n",
       "        \"execution_count\": 4,\n",
       "        \"output\": \"pre run cell vars: {'a'}\\n\",\n",
       "        \"source\": \"_kishu.log()\"\n",
       "      },\n",
       "      {\n",
       "        \"cell_type\": \"code\",\n",
       "        \"execution_count\": 5,\n",
       "        \"output\": \"accessed vars: set()\\ncreated vars: set()\\ndeleted vars: set()\\nmodified vars: {'a'}\\ncell executions: 5\\nRestore actions: [LoadVariableRestoreAction(var_names=['a'])]\\n\",\n",
       "        \"source\": \"a = 2\"\n",
       "      },\n",
       "      {\n",
       "        \"cell_type\": \"code\",\n",
       "        \"execution_count\": 6,\n",
       "        \"output\": \"pre run cell vars: {'a'}\\n\",\n",
       "        \"source\": \"_kishu.checkpoint_file()\"\n",
       "      },\n",
       "      {\n",
       "        \"cell_type\": \"code\",\n",
       "        \"execution_count\": 7,\n",
       "        \"output\": \"pre run cell vars: {'a'}\\n\",\n",
       "        \"source\": \"_\"\n",
       "      },\n",
       "      {\n",
       "        \"cell_type\": \"code\",\n",
       "        \"execution_count\": 8,\n",
       "        \"output\": \"accessed vars: set()\\ncreated vars: set()\\ndeleted vars: set()\\nmodified vars: {'a'}\\ncell executions: 8\\nRestore actions: [LoadVariableRestoreAction(var_names=['a'])]\\n\",\n",
       "        \"source\": \"_kishu.checkout(\\\"0:2\\\")\"\n",
       "      },\n",
       "      {\n",
       "        \"cell_type\": \"code\",\n",
       "        \"execution_count\": 9,\n",
       "        \"output\": \"1\",\n",
       "        \"source\": \"a\"\n",
       "      },\n",
       "      {\n",
       "        \"cell_type\": \"code\",\n",
       "        \"execution_count\": null,\n",
       "        \"output\": null,\n",
       "        \"source\": \"\"\n",
       "      }\n",
       "    ],\n",
       "    \"execution_count\": 2,\n",
       "    \"runtime_ms\": 531,\n",
       "    \"start_time_ms\": 1695243112185\n",
       "  },\n",
       "  \"0:3\": {\n",
       "    \"checkpoint_runtime_ms\": 1,\n",
       "    \"checkpoint_vars\": [\n",
       "      \"a\"\n",
       "    ],\n",
       "    \"code_block\": \"_kishu\",\n",
       "    \"end_time_ms\": 1695243113649,\n",
       "    \"exec_id\": \"0:3\",\n",
       "    \"executed_cells\": [\n",
       "      {\n",
       "        \"cell_type\": \"code\",\n",
       "        \"execution_count\": 1,\n",
       "        \"output\": \"accessed vars: set()\\ncreated vars: set()\\ndeleted vars: set()\\nmodified vars: set()\\ncell executions: 1\\nRestore actions: []\\ncommit id: 0:1\\n\",\n",
       "        \"source\": \"from kishu import load_kishu\\nload_kishu()\"\n",
       "      },\n",
       "      {\n",
       "        \"cell_type\": \"code\",\n",
       "        \"execution_count\": 2,\n",
       "        \"output\": \"accessed vars: set()\\ncreated vars: {'a'}\\ndeleted vars: set()\\nmodified vars: set()\\ncell executions: 2\\nRestore actions: [LoadVariableRestoreAction(var_names=['a'])]\\ncommit id: 0:2\\n\",\n",
       "        \"source\": \"a = 1\"\n",
       "      },\n",
       "      {\n",
       "        \"cell_type\": \"code\",\n",
       "        \"execution_count\": null,\n",
       "        \"output\": \"pre run cell vars: {'a'}\\n\",\n",
       "        \"source\": \"_kishu\"\n",
       "      },\n",
       "      {\n",
       "        \"cell_type\": \"code\",\n",
       "        \"execution_count\": 4,\n",
       "        \"output\": \"pre run cell vars: {'a'}\\n\",\n",
       "        \"source\": \"_kishu.log()\"\n",
       "      },\n",
       "      {\n",
       "        \"cell_type\": \"code\",\n",
       "        \"execution_count\": 5,\n",
       "        \"output\": \"accessed vars: set()\\ncreated vars: set()\\ndeleted vars: set()\\nmodified vars: {'a'}\\ncell executions: 5\\nRestore actions: [LoadVariableRestoreAction(var_names=['a'])]\\n\",\n",
       "        \"source\": \"a = 2\"\n",
       "      },\n",
       "      {\n",
       "        \"cell_type\": \"code\",\n",
       "        \"execution_count\": 6,\n",
       "        \"output\": \"pre run cell vars: {'a'}\\n\",\n",
       "        \"source\": \"_kishu.checkpoint_file()\"\n",
       "      },\n",
       "      {\n",
       "        \"cell_type\": \"code\",\n",
       "        \"execution_count\": 7,\n",
       "        \"output\": \"pre run cell vars: {'a'}\\n\",\n",
       "        \"source\": \"_\"\n",
       "      },\n",
       "      {\n",
       "        \"cell_type\": \"code\",\n",
       "        \"execution_count\": 8,\n",
       "        \"output\": \"accessed vars: set()\\ncreated vars: set()\\ndeleted vars: set()\\nmodified vars: {'a'}\\ncell executions: 8\\nRestore actions: [LoadVariableRestoreAction(var_names=['a'])]\\n\",\n",
       "        \"source\": \"_kishu.checkout(\\\"0:2\\\")\"\n",
       "      },\n",
       "      {\n",
       "        \"cell_type\": \"code\",\n",
       "        \"execution_count\": 9,\n",
       "        \"output\": \"1\",\n",
       "        \"source\": \"a\"\n",
       "      },\n",
       "      {\n",
       "        \"cell_type\": \"code\",\n",
       "        \"execution_count\": null,\n",
       "        \"output\": null,\n",
       "        \"source\": \"\"\n",
       "      }\n",
       "    ],\n",
       "    \"execution_count\": 3,\n",
       "    \"result\": \"<kishu.jupyterint2.KishuForJupyter object at 0x7f8556f21f10>\",\n",
       "    \"runtime_ms\": 575,\n",
       "    \"start_time_ms\": 1695243113074\n",
       "  }\n",
       "}"
      ]
     },
     "execution_count": 4,
     "metadata": {},
     "output_type": "execute_result"
    },
    {
     "name": "stdout",
     "output_type": "stream",
     "text": [
      "accessed vars: set()\n",
      "created vars: set()\n",
      "deleted vars: set()\n",
      "modified vars: set()\n",
      "cell executions: 4\n",
      "Restore actions: [LoadVariableRestoreAction(var_names=['a'])]\n",
      "commit id: 0:4\n"
     ]
    }
   ],
   "source": [
    "_kishu.log()"
   ]
  },
  {
   "cell_type": "code",
   "execution_count": 5,
   "id": "c904850f",
   "metadata": {},
   "outputs": [
    {
     "name": "stdout",
     "output_type": "stream",
     "text": [
      "pre run cell vars: {'a'}\n",
      "accessed vars: set()\n",
      "created vars: set()\n",
      "deleted vars: set()\n",
      "modified vars: {'a'}\n",
      "cell executions: 5\n",
      "Restore actions: [LoadVariableRestoreAction(var_names=['a'])]\n",
      "commit id: 0:5\n"
     ]
    }
   ],
   "source": [
    "a = 2"
   ]
  },
  {
   "cell_type": "code",
   "execution_count": 6,
   "id": "8d2fec42",
   "metadata": {},
   "outputs": [
    {
     "name": "stdout",
     "output_type": "stream",
     "text": [
      "pre run cell vars: {'a'}\n"
     ]
    },
    {
     "data": {
      "text/plain": [
       "'/home/zl20/.kishu/20230920T155150/ckpt.sqlite'"
      ]
     },
     "execution_count": 6,
     "metadata": {},
     "output_type": "execute_result"
    },
    {
     "name": "stdout",
     "output_type": "stream",
     "text": [
      "accessed vars: set()\n",
      "created vars: set()\n",
      "deleted vars: set()\n",
      "modified vars: set()\n",
      "cell executions: 6\n",
      "Restore actions: [LoadVariableRestoreAction(var_names=['a'])]\n",
      "commit id: 0:6\n"
     ]
    }
   ],
   "source": [
    "_kishu.checkpoint_file()"
   ]
  },
  {
   "cell_type": "code",
   "execution_count": 7,
   "id": "0a370fd6",
   "metadata": {},
   "outputs": [
    {
     "name": "stdout",
     "output_type": "stream",
     "text": [
      "pre run cell vars: {'a'}\n"
     ]
    },
    {
     "data": {
      "text/plain": [
       "'/home/zl20/.kishu/20230920T155150/ckpt.sqlite'"
      ]
     },
     "execution_count": 7,
     "metadata": {},
     "output_type": "execute_result"
    },
    {
     "name": "stdout",
     "output_type": "stream",
     "text": [
      "accessed vars: set()\n",
      "created vars: set()\n",
      "deleted vars: set()\n",
      "modified vars: set()\n",
      "cell executions: 7\n",
      "Restore actions: [LoadVariableRestoreAction(var_names=['a'])]\n",
      "commit id: 0:7\n"
     ]
    }
   ],
   "source": [
    "_"
   ]
  },
  {
   "cell_type": "code",
   "execution_count": 8,
   "id": "3bfae951",
   "metadata": {},
   "outputs": [
    {
     "name": "stdout",
     "output_type": "stream",
     "text": [
      "accessed vars: set()\n",
      "created vars: set()\n",
      "deleted vars: set()\n",
      "modified vars: {'a'}\n",
      "cell executions: 8\n",
      "Restore actions: [LoadVariableRestoreAction(var_names=['a'])]\n",
      "commit id: 0:8\n"
     ]
    }
   ],
   "source": [
    "_kishu.checkout(\"0:2\")"
   ]
  },
  {
   "cell_type": "code",
   "execution_count": 9,
   "id": "7f923053",
   "metadata": {},
   "outputs": [
    {
     "name": "stdout",
     "output_type": "stream",
     "text": [
      "pre run cell vars: {'a'}\n"
     ]
    },
    {
     "data": {
      "text/plain": [
       "1"
      ]
     },
     "execution_count": 9,
     "metadata": {},
     "output_type": "execute_result"
    },
    {
     "name": "stdout",
     "output_type": "stream",
     "text": [
      "accessed vars: {'a'}\n",
      "created vars: set()\n",
      "deleted vars: set()\n",
      "modified vars: set()\n",
      "cell executions: 9\n",
      "Restore actions: [LoadVariableRestoreAction(var_names=['a'])]\n",
      "commit id: 0:9\n"
     ]
    }
   ],
   "source": [
    "a"
   ]
  },
  {
   "cell_type": "code",
   "execution_count": null,
   "id": "0b236923",
   "metadata": {},
   "outputs": [],
   "source": []
  }
 ],
 "metadata": {
  "kernelspec": {
   "display_name": "Python 3 (ipykernel)",
   "language": "python",
   "name": "python3"
  },
  "language_info": {
   "codemirror_mode": {
    "name": "ipython",
    "version": 3
   },
   "file_extension": ".py",
   "mimetype": "text/x-python",
   "name": "python",
   "nbconvert_exporter": "python",
   "pygments_lexer": "ipython3",
   "version": "3.8.10"
  }
 },
 "nbformat": 4,
 "nbformat_minor": 5
}
