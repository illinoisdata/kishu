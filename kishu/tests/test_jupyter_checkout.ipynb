{
 "cells": [
  {
   "cell_type": "code",
   "execution_count": 1,
   "id": "79d0fe1b",
   "metadata": {},
   "outputs": [
    {
     "name": "stdout",
     "output_type": "stream",
     "text": [
      "Kishu will now trace cell executions automatically.\n",
      "- You can inspect traced information using '_kishu'.\n",
      "- Checkpoint file: /Users/yongjoo/workspace/elastic-notebook/kishu/tests/.kishu/db_20230609T114111/\n",
      "\n"
     ]
    }
   ],
   "source": [
    "from kishu import load_kishu\n",
    "load_kishu()"
   ]
  },
  {
   "cell_type": "code",
   "execution_count": 2,
   "id": "4c24ada0",
   "metadata": {
    "scrolled": true
   },
   "outputs": [],
   "source": [
    "a = 1"
   ]
  },
  {
   "cell_type": "code",
   "execution_count": 3,
   "id": "d992c21f",
   "metadata": {},
   "outputs": [
    {
     "data": {
      "text/plain": [
       "<kishu.jupyterint2.KishuForJupyter at 0x7f8f5802c0d0>"
      ]
     },
     "execution_count": 3,
     "metadata": {},
     "output_type": "execute_result"
    }
   ],
   "source": [
    "_kishu"
   ]
  },
  {
   "cell_type": "code",
   "execution_count": 4,
   "id": "cf9d967a",
   "metadata": {},
   "outputs": [
    {
     "data": {
      "text/plain": [
       "{\n",
       "  \"1\": {\n",
       "    \"checkpoint_runtime_ms\": 1,\n",
       "    \"code_block\": \"from kishu import load_kishu\\nload_kishu()\",\n",
       "    \"end_time_ms\": 1686328871557,\n",
       "    \"exec_id\": \"1\",\n",
       "    \"execution_count\": 1\n",
       "  },\n",
       "  \"2\": {\n",
       "    \"checkpoint_runtime_ms\": 2,\n",
       "    \"checkpoint_vars\": [\n",
       "      \"a\"\n",
       "    ],\n",
       "    \"code_block\": \"a = 1\",\n",
       "    \"end_time_ms\": 1686328871599,\n",
       "    \"exec_id\": \"2\",\n",
       "    \"execution_count\": 2,\n",
       "    \"runtime_ms\": 0,\n",
       "    \"start_time_ms\": 1686328871599\n",
       "  },\n",
       "  \"3\": {\n",
       "    \"checkpoint_runtime_ms\": 1,\n",
       "    \"checkpoint_vars\": [\n",
       "      \"a\"\n",
       "    ],\n",
       "    \"code_block\": \"_kishu\",\n",
       "    \"end_time_ms\": 1686328871623,\n",
       "    \"exec_id\": \"3\",\n",
       "    \"execution_count\": 3,\n",
       "    \"result\": \"<kishu.jupyterint2.KishuForJupyter object at 0x7f8f5802c0d0>\",\n",
       "    \"runtime_ms\": 3,\n",
       "    \"start_time_ms\": 1686328871620\n",
       "  }\n",
       "}"
      ]
     },
     "execution_count": 4,
     "metadata": {},
     "output_type": "execute_result"
    }
   ],
   "source": [
    "_kishu.log()"
   ]
  },
  {
   "cell_type": "code",
   "execution_count": 5,
   "id": "c904850f",
   "metadata": {},
   "outputs": [],
   "source": [
    "a = 2"
   ]
  },
  {
   "cell_type": "code",
   "execution_count": 6,
   "id": "8d2fec42",
   "metadata": {},
   "outputs": [
    {
     "data": {
      "text/plain": [
       "'/Users/yongjoo/workspace/elastic-notebook/kishu/tests/.kishu/db_20230609T114111'"
      ]
     },
     "execution_count": 6,
     "metadata": {},
     "output_type": "execute_result"
    }
   ],
   "source": [
    "_kishu.checkpoint_file()"
   ]
  },
  {
   "cell_type": "code",
   "execution_count": 7,
   "id": "0a370fd6",
   "metadata": {},
   "outputs": [
    {
     "data": {
      "text/plain": [
       "'/Users/yongjoo/workspace/elastic-notebook/kishu/tests/.kishu/db_20230609T114111'"
      ]
     },
     "execution_count": 7,
     "metadata": {},
     "output_type": "execute_result"
    }
   ],
   "source": [
    "_"
   ]
  },
  {
   "cell_type": "code",
   "execution_count": 8,
   "id": "3bfae951",
   "metadata": {},
   "outputs": [
    {
     "name": "stdout",
     "output_type": "stream",
     "text": [
      "Checked-out variables: ['a']\n"
     ]
    }
   ],
   "source": [
    "_kishu.checkout(\"0:2\")"
   ]
  },
  {
   "cell_type": "code",
   "execution_count": 9,
   "id": "7f923053",
   "metadata": {},
   "outputs": [
    {
     "data": {
      "text/plain": [
       "1"
      ]
     },
     "execution_count": 9,
     "metadata": {},
     "output_type": "execute_result"
    }
   ],
   "source": [
    "a"
   ]
  },
  {
   "cell_type": "code",
   "execution_count": null,
   "id": "0b236923",
   "metadata": {},
   "outputs": [],
   "source": []
  }
 ],
 "metadata": {
  "kernelspec": {
   "display_name": "Python 3 (ipykernel)",
   "language": "python",
   "name": "python3"
  },
  "language_info": {
   "codemirror_mode": {
    "name": "ipython",
    "version": 3
   },
   "file_extension": ".py",
   "mimetype": "text/x-python",
   "name": "python",
   "nbconvert_exporter": "python",
   "pygments_lexer": "ipython3",
   "version": "3.9.7"
  }
 },
 "nbformat": 4,
 "nbformat_minor": 5
}
