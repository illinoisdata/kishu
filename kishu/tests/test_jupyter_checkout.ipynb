{
 "cells": [
  {
   "cell_type": "code",
   "execution_count": 1,
   "id": "79d0fe1b",
   "metadata": {},
   "outputs": [
    {
     "name": "stdout",
     "output_type": "stream",
     "text": [
      "load kishu new None /Users/shriyangosavi/Desktop/elastic-notebook/kishu/tests\n",
      "in init\n",
      "in if statement None /Users/shriyangosavi/Desktop/elastic-notebook/kishu/tests\n",
      "notebook id fccd5d390de2f9357f12f5742ac66667\n",
      "Kishu will now trace cell executions automatically.\n",
      "- You can inspect traced information using '_kishu'.\n",
      "- Checkpoint file: /Users/shriyangosavi/.kishu/fccd5d390de2f9357f12f5742ac66667/ckpt.sqlite/\n",
      "\n",
      "Error in callback <bound method KishuForJupyter.post_run_cell of <kishu.jupyterint2.KishuForJupyter object at 0x7fa04c7fc8e0>> (for post_run_cell):\n"
     ]
    },
    {
     "ename": "IntegrityError",
     "evalue": "UNIQUE constraint failed: checkpoint.commit_id",
     "output_type": "error",
     "traceback": [
      "\u001b[0;31m---------------------------------------------------------------------------\u001b[0m",
      "\u001b[0;31mIntegrityError\u001b[0m                            Traceback (most recent call last)",
      "File \u001b[0;32m~/Desktop/elastic-notebook/kishu/kishu/jupyterint2.py:216\u001b[0m, in \u001b[0;36mKishuForJupyter.post_run_cell\u001b[0;34m(self, result)\u001b[0m\n\u001b[1;32m    214\u001b[0m \u001b[38;5;66;03m# checkpointing\u001b[39;00m\n\u001b[1;32m    215\u001b[0m checkpoint_start_sec \u001b[38;5;241m=\u001b[39m time\u001b[38;5;241m.\u001b[39mtime()\n\u001b[0;32m--> 216\u001b[0m restore \u001b[38;5;241m=\u001b[39m \u001b[38;5;28;43mself\u001b[39;49m\u001b[38;5;241;43m.\u001b[39;49m\u001b[43m_checkpoint\u001b[49m\u001b[43m(\u001b[49m\u001b[43mcell_info\u001b[49m\u001b[43m)\u001b[49m\n\u001b[1;32m    217\u001b[0m cell_info\u001b[38;5;241m.\u001b[39m_restore_plan \u001b[38;5;241m=\u001b[39m restore\n\u001b[1;32m    218\u001b[0m checkpoint_runtime_ms \u001b[38;5;241m=\u001b[39m \u001b[38;5;28mround\u001b[39m((time\u001b[38;5;241m.\u001b[39mtime() \u001b[38;5;241m-\u001b[39m checkpoint_start_sec) \u001b[38;5;241m*\u001b[39m \u001b[38;5;241m1000\u001b[39m)\n",
      "File \u001b[0;32m~/Desktop/elastic-notebook/kishu/kishu/jupyterint2.py:268\u001b[0m, in \u001b[0;36mKishuForJupyter._checkpoint\u001b[0;34m(self, cell_info)\u001b[0m\n\u001b[1;32m    264\u001b[0m cell_info\u001b[38;5;241m.\u001b[39mcheckpoint_vars \u001b[38;5;241m=\u001b[39m var_names\n\u001b[1;32m    265\u001b[0m checkpoint \u001b[38;5;241m=\u001b[39m StoreEverythingCheckpointPlan\u001b[38;5;241m.\u001b[39mcreate(\n\u001b[1;32m    266\u001b[0m     user_ns, checkpoint_file, exec_id, var_names\n\u001b[1;32m    267\u001b[0m )\n\u001b[0;32m--> 268\u001b[0m \u001b[43mcheckpoint\u001b[49m\u001b[38;5;241;43m.\u001b[39;49m\u001b[43mrun\u001b[49m\u001b[43m(\u001b[49m\u001b[43muser_ns\u001b[49m\u001b[43m)\u001b[49m\n\u001b[1;32m    270\u001b[0m \u001b[38;5;66;03m# Step 2: prepare a restoration plan\u001b[39;00m\n\u001b[1;32m    271\u001b[0m restore: RestorePlan \u001b[38;5;241m=\u001b[39m checkpoint\u001b[38;5;241m.\u001b[39mrestore_plan()\n",
      "File \u001b[0;32m~/Desktop/elastic-notebook/kishu/kishu/plan.py:169\u001b[0m, in \u001b[0;36mCheckpointPlan.run\u001b[0;34m(self, user_ns)\u001b[0m\n\u001b[1;32m    167\u001b[0m \u001b[38;5;28;01mdef\u001b[39;00m \u001b[38;5;21mrun\u001b[39m(\u001b[38;5;28mself\u001b[39m, user_ns: \u001b[38;5;28mdict\u001b[39m) \u001b[38;5;241m-\u001b[39m\u001b[38;5;241m>\u001b[39m \u001b[38;5;28;01mNone\u001b[39;00m:\n\u001b[1;32m    168\u001b[0m     \u001b[38;5;28;01mfor\u001b[39;00m action \u001b[38;5;129;01min\u001b[39;00m \u001b[38;5;28mself\u001b[39m\u001b[38;5;241m.\u001b[39mactions:\n\u001b[0;32m--> 169\u001b[0m         \u001b[43maction\u001b[49m\u001b[38;5;241;43m.\u001b[39;49m\u001b[43mrun\u001b[49m\u001b[43m(\u001b[49m\u001b[43muser_ns\u001b[49m\u001b[43m)\u001b[49m\n",
      "File \u001b[0;32m~/Desktop/elastic-notebook/kishu/kishu/plan.py:159\u001b[0m, in \u001b[0;36mSaveVariablesCheckpointAction.run\u001b[0;34m(self, user_ns)\u001b[0m\n\u001b[1;32m    157\u001b[0m \u001b[38;5;28;01mfor\u001b[39;00m name \u001b[38;5;129;01min\u001b[39;00m \u001b[38;5;28mself\u001b[39m\u001b[38;5;241m.\u001b[39mvariable_names:\n\u001b[1;32m    158\u001b[0m     \u001b[38;5;28mvars\u001b[39m[name] \u001b[38;5;241m=\u001b[39m user_ns[name]\n\u001b[0;32m--> 159\u001b[0m \u001b[43mstore_checkpoint\u001b[49m\u001b[43m(\u001b[49m\u001b[38;5;28;43mself\u001b[39;49m\u001b[38;5;241;43m.\u001b[39;49m\u001b[43mfilename\u001b[49m\u001b[43m,\u001b[49m\u001b[43m \u001b[49m\u001b[38;5;28;43mself\u001b[39;49m\u001b[38;5;241;43m.\u001b[39;49m\u001b[43mexec_id\u001b[49m\u001b[43m,\u001b[49m\u001b[43m \u001b[49m\u001b[38;5;28;43mvars\u001b[39;49m\u001b[38;5;241;43m.\u001b[39;49m\u001b[43mdumps\u001b[49m\u001b[43m(\u001b[49m\u001b[43m)\u001b[49m\u001b[43m)\u001b[49m\n",
      "File \u001b[0;32m~/Desktop/elastic-notebook/kishu/kishu/checkpoint_io.py:101\u001b[0m, in \u001b[0;36mstore_checkpoint\u001b[0;34m(dbfile, commit_id, data)\u001b[0m\n\u001b[1;32m    100\u001b[0m \u001b[38;5;28;01mdef\u001b[39;00m \u001b[38;5;21mstore_checkpoint\u001b[39m(dbfile: \u001b[38;5;28mstr\u001b[39m, commit_id: \u001b[38;5;28mstr\u001b[39m, data: \u001b[38;5;28mbytes\u001b[39m) \u001b[38;5;241m-\u001b[39m\u001b[38;5;241m>\u001b[39m \u001b[38;5;28;01mNone\u001b[39;00m:\n\u001b[0;32m--> 101\u001b[0m     \u001b[43msave_into_table\u001b[49m\u001b[43m(\u001b[49m\u001b[43mdbfile\u001b[49m\u001b[43m,\u001b[49m\u001b[43m \u001b[49m\u001b[43mCHECKPOINT_TABLE\u001b[49m\u001b[43m,\u001b[49m\u001b[43m \u001b[49m\u001b[43mcommit_id\u001b[49m\u001b[43m,\u001b[49m\u001b[43m \u001b[49m\u001b[43mdata\u001b[49m\u001b[43m)\u001b[49m\n",
      "File \u001b[0;32m~/Desktop/elastic-notebook/kishu/kishu/checkpoint_io.py:34\u001b[0m, in \u001b[0;36msave_into_table\u001b[0;34m(dbfile, table_name, commit_id, data)\u001b[0m\n\u001b[1;32m     32\u001b[0m con \u001b[38;5;241m=\u001b[39m sqlite3\u001b[38;5;241m.\u001b[39mconnect(dbfile)\n\u001b[1;32m     33\u001b[0m cur \u001b[38;5;241m=\u001b[39m con\u001b[38;5;241m.\u001b[39mcursor()\n\u001b[0;32m---> 34\u001b[0m \u001b[43mcur\u001b[49m\u001b[38;5;241;43m.\u001b[39;49m\u001b[43mexecute\u001b[49m\u001b[43m(\u001b[49m\n\u001b[1;32m     35\u001b[0m \u001b[43m    \u001b[49m\u001b[38;5;124;43m\"\u001b[39;49m\u001b[38;5;124;43minsert into \u001b[39;49m\u001b[38;5;132;43;01m{}\u001b[39;49;00m\u001b[38;5;124;43m values (?, ?)\u001b[39;49m\u001b[38;5;124;43m\"\u001b[39;49m\u001b[38;5;241;43m.\u001b[39;49m\u001b[43mformat\u001b[49m\u001b[43m(\u001b[49m\u001b[43mtable_name\u001b[49m\u001b[43m)\u001b[49m\u001b[43m,\u001b[49m\n\u001b[1;32m     36\u001b[0m \u001b[43m    \u001b[49m\u001b[43m(\u001b[49m\u001b[43mcommit_id\u001b[49m\u001b[43m,\u001b[49m\u001b[43m \u001b[49m\u001b[38;5;28;43mmemoryview\u001b[39;49m\u001b[43m(\u001b[49m\u001b[43mdata\u001b[49m\u001b[43m)\u001b[49m\u001b[43m)\u001b[49m\n\u001b[1;32m     37\u001b[0m \u001b[43m\u001b[49m\u001b[43m)\u001b[49m\n\u001b[1;32m     38\u001b[0m con\u001b[38;5;241m.\u001b[39mcommit()\n",
      "\u001b[0;31mIntegrityError\u001b[0m: UNIQUE constraint failed: checkpoint.commit_id"
     ]
    }
   ],
   "source": [
    "from kishu import load_kishu\n",
    "load_kishu(notebook_id = None, notebook_path = \"/Users/shriyangosavi/Desktop/elastic-notebook/kishu/tests\")"
   ]
  },
  {
   "cell_type": "code",
   "execution_count": null,
   "id": "4c24ada0",
   "metadata": {
    "scrolled": true
   },
   "outputs": [],
   "source": [
    "a = 1"
   ]
  },
  {
   "cell_type": "code",
   "execution_count": null,
   "id": "d992c21f",
   "metadata": {},
   "outputs": [],
   "source": [
    "_kishu"
   ]
  },
  {
   "cell_type": "code",
   "execution_count": null,
   "id": "cf9d967a",
   "metadata": {},
   "outputs": [],
   "source": [
    "_kishu.log()"
   ]
  },
  {
   "cell_type": "code",
   "execution_count": null,
   "id": "c904850f",
   "metadata": {},
   "outputs": [],
   "source": [
    "a = 2"
   ]
  },
  {
   "cell_type": "code",
   "execution_count": null,
   "id": "8d2fec42",
   "metadata": {},
   "outputs": [],
   "source": [
    "_kishu.checkpoint_file()"
   ]
  },
  {
   "cell_type": "code",
   "execution_count": null,
   "id": "0a370fd6",
   "metadata": {},
   "outputs": [],
   "source": [
    "_"
   ]
  },
  {
   "cell_type": "code",
   "execution_count": null,
   "id": "3bfae951",
   "metadata": {},
   "outputs": [],
   "source": [
    "_kishu.checkout(2)"
   ]
  },
  {
   "cell_type": "code",
   "execution_count": null,
   "id": "7f923053",
   "metadata": {},
   "outputs": [],
   "source": [
    "a"
   ]
  },
  {
   "cell_type": "code",
   "execution_count": null,
   "id": "0b236923",
   "metadata": {},
   "outputs": [],
   "source": []
  }
 ],
 "metadata": {
  "kernelspec": {
   "display_name": "Python 3 (ipykernel)",
   "language": "python",
   "name": "python3"
  },
  "language_info": {
   "codemirror_mode": {
    "name": "ipython",
    "version": 3
   },
   "file_extension": ".py",
   "mimetype": "text/x-python",
   "name": "python",
   "nbconvert_exporter": "python",
   "pygments_lexer": "ipython3",
   "version": "3.8.17"
  }
 },
 "nbformat": 4,
 "nbformat_minor": 5
}
