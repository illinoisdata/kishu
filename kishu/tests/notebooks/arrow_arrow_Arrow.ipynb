{
 "cells": [
  {
   "cell_type": "code",
   "execution_count": null,
   "id": "402c1415",
   "metadata": {},
   "outputs": [],
   "source": [
    "import arrow"
   ]
  },
  {
   "cell_type": "code",
   "execution_count": null,
   "id": "cb95a8ea",
   "metadata": {},
   "outputs": [],
   "source": [
    "now = arrow.now()\n",
    "print('Current time:', now)\n",
    "print('Shifted by 1 week:', now.shift(weeks=1))\n",
    "print('Format ISO:', now.isoformat())\n",
    "print('Humanize:', now.humanize())\n",
    "print('Date:', now.date())\n",
    "print('Time:', now.time())\n",
    "print('To datetime:', now.datetime)\n",
    "print('To timestamp:', now.timestamp())\n",
    "print('Shifted back 3 days:', now.shift(days=-3))\n",
    "print('Replace time:', now.replace(hour=9, minute=0))"
   ]
  }
 ],
 "metadata": {},
 "nbformat": 4,
 "nbformat_minor": 5
}
