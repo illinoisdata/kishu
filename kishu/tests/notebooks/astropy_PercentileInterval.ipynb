{
 "cells": [
  {
   "cell_type": "code",
   "execution_count": null,
   "id": "a28c1e21",
   "metadata": {},
   "outputs": [],
   "source": [
    "from astropy.visualization import PercentileInterval\n",
    "import numpy as np\n",
    "interval = PercentileInterval(90)\n",
    "data = np.random.randn(1000)\n",
    "print(interval.get_limits(data))"
   ]
  }
 ],
 "metadata": {},
 "nbformat": 4,
 "nbformat_minor": 5
}
