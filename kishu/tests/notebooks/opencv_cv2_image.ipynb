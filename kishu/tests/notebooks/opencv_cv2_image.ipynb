{
 "cells": [
  {
   "cell_type": "code",
   "execution_count": null,
   "id": "3c3d3a6a",
   "metadata": {},
   "outputs": [],
   "source": [
    "import cv2\n",
    "import numpy as np\n",
    "img = np.zeros((100, 100, 3), dtype=np.uint8)\n",
    "img[:] = (255, 0, 0)\n",
    "cv2.imwrite('blue.png', img)\n",
    "print('Image written.')"
   ]
  }
 ],
 "metadata": {},
 "nbformat": 4,
 "nbformat_minor": 5
}
