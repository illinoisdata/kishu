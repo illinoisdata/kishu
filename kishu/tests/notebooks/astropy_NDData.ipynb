{
 "cells": [
  {
   "cell_type": "code",
   "execution_count": null,
   "id": "71c29cbe",
   "metadata": {},
   "outputs": [],
   "source": [
    "from astropy.nddata import NDData\n",
    "import numpy as np\n",
    "data = np.ones((5, 5)) * 42\n",
    "nd = NDData(data)\n",
    "print(nd.data)"
   ]
  }
 ],
 "metadata": {},
 "nbformat": 4,
 "nbformat_minor": 5
}
