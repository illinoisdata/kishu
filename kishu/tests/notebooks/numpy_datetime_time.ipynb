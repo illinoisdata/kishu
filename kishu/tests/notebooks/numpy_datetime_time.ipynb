{
 "cells": [
  {
   "cell_type": "code",
   "execution_count": null,
   "id": "0c88a31f",
   "metadata": {},
   "outputs": [],
   "source": [
    "from datetime import time\n",
    "t = time(12, 34, 56)\n",
    "print('Hour:', t.hour, 'Minute:', t.minute, 'Second:', t.second)"
   ]
  }
 ],
 "metadata": {},
 "nbformat": 4,
 "nbformat_minor": 5
}
