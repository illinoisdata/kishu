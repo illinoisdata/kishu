{
 "cells": [
  {
   "cell_type": "code",
   "execution_count": null,
   "id": "4f4f41d7",
   "metadata": {},
   "outputs": [],
   "source": [
    "import numpy as np\n",
    "import matplotlib.pyplot as plt\n",
    "from astropy.modeling.functional_models import Ellipse2D"
   ]
  },
  {
   "cell_type": "code",
   "execution_count": null,
   "id": "059937d0",
   "metadata": {},
   "outputs": [],
   "source": [
    "model = Ellipse2D(amplitude=1, x_0=50, y_0=50, a=20, b=10, theta=0.5)\n",
    "y, x = np.mgrid[0:100, 0:100]\n",
    "image = model(x, y)\n",
    "plt.imshow(image, origin='lower', cmap='inferno')\n",
    "plt.title('Ellipse2D')\n",
    "plt.colorbar()\n",
    "plt.show()"
   ]
  }
 ],
 "metadata": {},
 "nbformat": 4,
 "nbformat_minor": 5
}
