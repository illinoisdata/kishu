{
 "cells": [
  {
   "cell_type": "code",
   "execution_count": null,
   "id": "b331b4a2",
   "metadata": {},
   "outputs": [],
   "source": [
    "import hashlib\n",
    "h = hashlib.sha256()\n",
    "h.update(b'hello world')\n",
    "print('SHA-256:', h.hexdigest())"
   ]
  }
 ],
 "metadata": {},
 "nbformat": 4,
 "nbformat_minor": 5
}
