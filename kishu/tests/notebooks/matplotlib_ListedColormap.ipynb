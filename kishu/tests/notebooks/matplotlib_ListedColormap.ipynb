{
 "cells": [
  {
   "cell_type": "code",
   "execution_count": null,
   "id": "4766eb3d",
   "metadata": {},
   "outputs": [],
   "source": [
    "import numpy as np\n",
    "import matplotlib.pyplot as plt\n",
    "from matplotlib.colors import ListedColormap"
   ]
  },
  {
   "cell_type": "code",
   "execution_count": null,
   "id": "93eccc33",
   "metadata": {},
   "outputs": [],
   "source": [
    "colors = ['red', 'green', 'blue']\n",
    "cmap = ListedColormap(colors)\n",
    "data = np.random.randint(0, 3, size=(10, 10))\n",
    "plt.imshow(data, cmap=cmap)\n",
    "plt.colorbar()\n",
    "plt.title('ListedColormap Example')\n",
    "plt.show()"
   ]
  }
 ],
 "metadata": {},
 "nbformat": 4,
 "nbformat_minor": 5
}
