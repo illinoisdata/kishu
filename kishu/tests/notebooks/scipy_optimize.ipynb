{
 "cells": [
  {
   "cell_type": "code",
   "execution_count": null,
   "id": "f333e8b6",
   "metadata": {},
   "outputs": [],
   "source": [
    "from scipy.optimize import minimize\n",
    "f = lambda x: (x - 3) ** 2\n",
    "result = minimize(f, x0=0)\n",
    "print('Minimized at:', result.x)"
   ]
  }
 ],
 "metadata": {},
 "nbformat": 4,
 "nbformat_minor": 5
}
