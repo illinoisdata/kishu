{
 "cells": [
  {
   "cell_type": "code",
   "execution_count": null,
   "id": "c595746a",
   "metadata": {},
   "outputs": [],
   "source": [
    "from sklearn.metrics import accuracy_score, confusion_matrix\n",
    "print('Accuracy:', accuracy_score([1, 0, 1], [1, 1, 1]))\n",
    "print('Confusion Matrix:\\n', confusion_matrix([1, 0, 1], [1, 1, 1]))"
   ]
  }
 ],
 "metadata": {},
 "nbformat": 4,
 "nbformat_minor": 5
}
