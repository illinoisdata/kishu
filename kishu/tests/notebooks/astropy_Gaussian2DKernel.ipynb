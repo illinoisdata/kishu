{
 "cells": [
  {
   "cell_type": "code",
   "execution_count": null,
   "id": "71dc408e",
   "metadata": {},
   "outputs": [],
   "source": [
    "from astropy.convolution import Gaussian2DKernel\n",
    "import matplotlib.pyplot as plt"
   ]
  },
  {
   "cell_type": "code",
   "execution_count": null,
   "id": "cdb419da",
   "metadata": {},
   "outputs": [],
   "source": [
    "kernel = Gaussian2DKernel(x_stddev=1)\n",
    "plt.imshow(kernel.array, cmap='viridis')\n",
    "plt.title('Gaussian2DKernel')\n",
    "plt.colorbar()\n",
    "plt.show()\n",
    "print('Center:', kernel.center)\n",
    "print('Shape:', kernel.shape)\n",
    "print('Size:', kernel.size)\n",
    "print('Sum:', kernel.array.sum())\n",
    "print('NDIM:', kernel.ndim)\n",
    "print(kernel.array)"
   ]
  }
 ],
 "metadata": {},
 "nbformat": 4,
 "nbformat_minor": 5
}
