{
 "cells": [
  {
   "cell_type": "code",
   "execution_count": null,
   "id": "311045d4",
   "metadata": {},
   "outputs": [],
   "source": [
    "from urllib.request import Request\n",
    "req = Request('https://example.com')\n",
    "print('Request headers:', req.headers)"
   ]
  }
 ],
 "metadata": {},
 "nbformat": 4,
 "nbformat_minor": 5
}
