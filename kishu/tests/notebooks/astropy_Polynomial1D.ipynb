{
 "cells": [
  {
   "cell_type": "code",
   "execution_count": null,
   "id": "a1d7e635",
   "metadata": {},
   "outputs": [],
   "source": [
    "from astropy.modeling.polynomial import Polynomial1D\n",
    "import numpy as np\n",
    "import matplotlib.pyplot as plt"
   ]
  },
  {
   "cell_type": "code",
   "execution_count": null,
   "id": "fc189a93",
   "metadata": {},
   "outputs": [],
   "source": [
    "model = Polynomial1D(degree=3, c0=1, c1=2, c2=-1, c3=0.5)\n",
    "x = np.linspace(-2, 2, 100)\n",
    "y = model(x)\n",
    "plt.plot(x, y)\n",
    "plt.title('Polynomial1D')\n",
    "plt.grid(True)\n",
    "plt.show()"
   ]
  }
 ],
 "metadata": {},
 "nbformat": 4,
 "nbformat_minor": 5
}
