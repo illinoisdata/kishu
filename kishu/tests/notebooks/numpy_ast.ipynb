{
 "cells": [
  {
   "cell_type": "code",
   "execution_count": null,
   "id": "d989dfa5",
   "metadata": {},
   "outputs": [],
   "source": [
    "import ast\n",
    "expression = 'x + y'\n",
    "tree = ast.parse(expression, mode='eval')\n",
    "print(ast.dump(tree))"
   ]
  }
 ],
 "metadata": {},
 "nbformat": 4,
 "nbformat_minor": 5
}
