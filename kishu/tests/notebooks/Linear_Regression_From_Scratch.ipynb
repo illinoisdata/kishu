{
 "cells": [
  {
   "cell_type": "code",
   "execution_count": null,
   "id": "8e3be636",
   "metadata": {},
   "outputs": [],
   "source": [
    "import numpy as np\n",
    "import matplotlib.pyplot as plt"
   ]
  },
  {
   "cell_type": "code",
   "execution_count": null,
   "id": "b4b09c4f",
   "metadata": {},
   "outputs": [],
   "source": [
    "np.random.seed(42)\n",
    "X = 2 * np.random.rand(100, 1)\n",
    "y = 4 + 3 * X + np.random.randn(100, 1)\n",
    "X_b = np.c_[np.ones((100, 1)), X]"
   ]
  },
  {
   "cell_type": "code",
   "execution_count": null,
   "id": "5e0a4435",
   "metadata": {},
   "outputs": [],
   "source": [
    "theta_best = np.linalg.inv(X_b.T.dot(X_b)).dot(X_b.T).dot(y)\n",
    "print(\"Theta (weights):\", theta_best.ravel())"
   ]
  },
  {
   "cell_type": "code",
   "execution_count": null,
   "id": "af4ef54d",
   "metadata": {},
   "outputs": [],
   "source": [
    "predictions = X_b.dot(theta_best)"
   ]
  },
  {
   "cell_type": "code",
   "execution_count": null,
   "id": "85a29322",
   "metadata": {},
   "outputs": [],
   "source": [
    "mse = np.mean((predictions - y)**2)\n",
    "print(\"Mean Squared Error:\", mse)"
   ]
  },
  {
   "cell_type": "code",
   "execution_count": null,
   "id": "1ab95396",
   "metadata": {},
   "outputs": [],
   "source": [
    "plt.scatter(X, y, label='Data')\n",
    "plt.plot(X, predictions, color='red', label='Regression Line')\n",
    "plt.legend()\n",
    "plt.title(\"Linear Regression Fit\")\n",
    "plt.xlabel(\"X\")\n",
    "plt.ylabel(\"y\")\n",
    "plt.show()"
   ]
  },
  {
   "cell_type": "code",
   "execution_count": null,
   "id": "8613b6b9",
   "metadata": {},
   "outputs": [],
   "source": [
    "residuals = y - predictions\n",
    "plt.scatter(X, residuals)\n",
    "plt.axhline(0, color='red', linestyle='--')\n",
    "plt.title(\"Residual Plot\")\n",
    "plt.xlabel(\"X\")\n",
    "plt.ylabel(\"Residuals\")\n",
    "plt.show()"
   ]
  },
  {
   "cell_type": "code",
   "execution_count": null,
   "id": "9c417bb6",
   "metadata": {},
   "outputs": [],
   "source": [
    "total_var = np.var(y)\n",
    "r2_score = 1 - (mse / total_var)\n",
    "print(\"R-squared Score:\", r2_score)"
   ]
  },
  {
   "cell_type": "code",
   "execution_count": null,
   "id": "19c2fc0c",
   "metadata": {},
   "outputs": [],
   "source": [
    "x_new = np.array([[1], [2]])\n",
    "x_new_b = np.c_[np.ones((2, 1)), x_new]\n",
    "y_new_pred = x_new_b.dot(theta_best)\n",
    "print(\"Prediction for X=1 and X=2:\", y_new_pred.ravel())"
   ]
  }
 ],
 "metadata": {},
 "nbformat": 4,
 "nbformat_minor": 5
}
