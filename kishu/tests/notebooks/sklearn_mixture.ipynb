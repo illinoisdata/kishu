{
 "cells": [
  {
   "cell_type": "code",
   "execution_count": null,
   "id": "59b156de",
   "metadata": {},
   "outputs": [],
   "source": [
    "from sklearn.mixture import GaussianMixture\n",
    "import numpy as np\n",
    "X = np.random.rand(100, 2)\n",
    "gmm = GaussianMixture(n_components=2)\n",
    "gmm.fit(X)\n",
    "print('Means:', gmm.means_)"
   ]
  }
 ],
 "metadata": {},
 "nbformat": 4,
 "nbformat_minor": 5
}
