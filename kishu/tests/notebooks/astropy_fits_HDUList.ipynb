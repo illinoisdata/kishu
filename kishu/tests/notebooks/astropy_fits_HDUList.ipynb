{
 "cells": [
  {
   "cell_type": "code",
   "execution_count": null,
   "id": "f35f7533",
   "metadata": {},
   "outputs": [],
   "source": [
    "from astropy.io import fits\n",
    "import numpy as np"
   ]
  },
  {
   "cell_type": "code",
   "execution_count": null,
   "id": "e4309f5a",
   "metadata": {},
   "outputs": [],
   "source": [
    "hdu = fits.PrimaryHDU(np.zeros((100, 100)))\n",
    "hdul = fits.HDUList([hdu])\n",
    "hdul.writeto('temp.fits', overwrite=True)\n",
    "read_hdul = fits.open('temp.fits')\n",
    "print('Type:', type(read_hdul))\n",
    "print('Length:', len(read_hdul))\n",
    "print('Info:')\n",
    "read_hdul.info()\n",
    "read_hdul.close()"
   ]
  }
 ],
 "metadata": {},
 "nbformat": 4,
 "nbformat_minor": 5
}
