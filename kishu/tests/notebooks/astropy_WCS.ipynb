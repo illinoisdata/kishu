{
 "cells": [
  {
   "cell_type": "code",
   "execution_count": null,
   "id": "4b61001d",
   "metadata": {},
   "outputs": [],
   "source": [
    "from astropy.wcs import WCS\n",
    "import numpy as np\n",
    "w = WCS(naxis=2)\n",
    "w.wcs.crpix = [0, 0]\n",
    "w.wcs.cdelt = np.array([-0.066667, 0.066667])\n",
    "w.wcs.crval = [0, -90]\n",
    "w.wcs.ctype = [\"RA---AIR\", \"DEC--AIR\"]\n",
    "print(w)"
   ]
  }
 ],
 "metadata": {},
 "nbformat": 4,
 "nbformat_minor": 5
}
