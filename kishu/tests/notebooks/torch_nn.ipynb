{
 "cells": [
  {
   "cell_type": "code",
   "execution_count": null,
   "id": "7da89f96",
   "metadata": {},
   "outputs": [],
   "source": [
    "import torch.nn as nn\n",
    "layer = nn.Linear(2, 1)\n",
    "print(layer)"
   ]
  }
 ],
 "metadata": {},
 "nbformat": 4,
 "nbformat_minor": 5
}
