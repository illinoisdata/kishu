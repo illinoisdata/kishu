{
 "cells": [
  {
   "cell_type": "code",
   "execution_count": null,
   "id": "1387945c",
   "metadata": {},
   "outputs": [],
   "source": [
    "from scipy.signal import windows\n",
    "win = windows.hamming(51)\n",
    "print('Hamming Window:', win)"
   ]
  }
 ],
 "metadata": {},
 "nbformat": 4,
 "nbformat_minor": 5
}
