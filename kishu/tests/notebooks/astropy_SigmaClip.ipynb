{
 "cells": [
  {
   "cell_type": "code",
   "execution_count": null,
   "id": "2a87b028",
   "metadata": {},
   "outputs": [],
   "source": [
    "from astropy.stats import SigmaClip\n",
    "import numpy as np\n",
    "clip = SigmaClip(sigma=2, maxiters=5)\n",
    "data = np.random.normal(0, 1, 100)\n",
    "data[::10] += 10\n",
    "clipped = clip(data)\n",
    "print(clipped)"
   ]
  }
 ],
 "metadata": {},
 "nbformat": 4,
 "nbformat_minor": 5
}
