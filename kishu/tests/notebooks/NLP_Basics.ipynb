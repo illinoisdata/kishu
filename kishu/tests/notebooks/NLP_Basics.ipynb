{
 "cells": [
  {
   "cell_type": "code",
   "execution_count": null,
   "id": "106763b6",
   "metadata": {},
   "outputs": [],
   "source": [
    "import nltk\n",
    "from nltk.tokenize import word_tokenize\n",
    "from nltk.corpus import stopwords\n",
    "from collections import Counter\n",
    "import string\n",
    "from wordcloud import WordCloud\n",
    "import matplotlib.pyplot as plt"
   ]
  },
  {
   "cell_type": "code",
   "execution_count": null,
   "id": "779ae1db",
   "metadata": {},
   "outputs": [],
   "source": [
    "nltk.download('punkt')\n",
    "nltk.download('stopwords')"
   ]
  },
  {
   "cell_type": "code",
   "execution_count": null,
   "id": "42907c9b",
   "metadata": {},
   "outputs": [],
   "source": [
    "text = \"GoodGoblin is transforming how students apply to college with smart, AI-powered tools.\"\n",
    "tokens = word_tokenize(text)\n",
    "print(\"Tokens:\", tokens)"
   ]
  },
  {
   "cell_type": "code",
   "execution_count": null,
   "id": "be5a21e8",
   "metadata": {},
   "outputs": [],
   "source": [
    "tokens = [word.lower() for word in tokens if word.isalpha()]\n",
    "print(\"Cleaned Tokens:\", tokens)"
   ]
  },
  {
   "cell_type": "code",
   "execution_count": null,
   "id": "a06c4a7b",
   "metadata": {},
   "outputs": [],
   "source": [
    "filtered_tokens = [word for word in tokens if word not in stopwords.words('english')]\n",
    "print(\"Filtered Tokens:\", filtered_tokens)"
   ]
  },
  {
   "cell_type": "code",
   "execution_count": null,
   "id": "7e83360a",
   "metadata": {},
   "outputs": [],
   "source": [
    "word_freq = Counter(filtered_tokens)\n",
    "print(\"Word Frequencies:\", word_freq)\n",
    "print(\"Most Common:\", word_freq.most_common(3))\n",
    "print(\"Unique Words:\", set(filtered_tokens))"
   ]
  },
  {
   "cell_type": "code",
   "execution_count": null,
   "id": "cf23f070",
   "metadata": {},
   "outputs": [],
   "source": [
    "wordcloud = WordCloud().generate(\" \".join(filtered_tokens))\n",
    "plt.imshow(wordcloud, interpolation='bilinear')\n",
    "plt.axis(\"off\")\n",
    "plt.title(\"NLP Word Cloud\")\n",
    "plt.show()"
   ]
  }
 ],
 "metadata": {},
 "nbformat": 4,
 "nbformat_minor": 5
}
