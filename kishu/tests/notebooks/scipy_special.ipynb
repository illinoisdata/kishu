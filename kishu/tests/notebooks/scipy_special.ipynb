{
 "cells": [
  {
   "cell_type": "code",
   "execution_count": null,
   "id": "df0fec3d",
   "metadata": {},
   "outputs": [],
   "source": [
    "from scipy import special\n",
    "val = special.exp10(3)\n",
    "print('10^3 =', val)"
   ]
  }
 ],
 "metadata": {},
 "nbformat": 4,
 "nbformat_minor": 5
}
