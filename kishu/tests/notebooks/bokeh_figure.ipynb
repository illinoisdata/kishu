{
 "cells": [
  {
   "cell_type": "code",
   "execution_count": null,
   "id": "7713cbda",
   "metadata": {},
   "outputs": [],
   "source": [
    "from bokeh.plotting import figure, show, output_notebook\n",
    "output_notebook()"
   ]
  },
  {
   "cell_type": "code",
   "execution_count": null,
   "id": "53248192",
   "metadata": {},
   "outputs": [],
   "source": [
    "p = figure(title='Simple Line', x_axis_label='x', y_axis_label='y')\n",
    "p.line([1, 2, 3], [4, 6, 2], legend_label='Line', line_width=2)\n",
    "show(p)"
   ]
  }
 ],
 "metadata": {},
 "nbformat": 4,
 "nbformat_minor": 5
}
