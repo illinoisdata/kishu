{
 "cells": [
  {
   "cell_type": "code",
   "execution_count": null,
   "id": "aceb2a19",
   "metadata": {},
   "outputs": [],
   "source": [
    "from datetime import timedelta\n",
    "duration = timedelta(days=2, hours=3)\n",
    "print('Total seconds:', duration.total_seconds())"
   ]
  }
 ],
 "metadata": {},
 "nbformat": 4,
 "nbformat_minor": 5
}
