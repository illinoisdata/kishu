{
 "cells": [
  {
   "cell_type": "code",
   "execution_count": null,
   "id": "ebde15e6",
   "metadata": {},
   "outputs": [],
   "source": [
    "from textblob import TextBlob\n",
    "text = TextBlob(\"GoodGoblin is amazing!\")\n",
    "print('Sentiment:', text.sentiment)"
   ]
  }
 ],
 "metadata": {},
 "nbformat": 4,
 "nbformat_minor": 5
}
