{
 "cells": [
  {
   "cell_type": "code",
   "execution_count": null,
   "id": "3148f5bd",
   "metadata": {},
   "outputs": [],
   "source": [
    "from sklearn.preprocessing import MinMaxScaler\n",
    "import numpy as np\n",
    "X = np.array([[1, 2], [2, 3], [3, 4]])\n",
    "scaler = MinMaxScaler().fit(X)\n",
    "print('Scaled:', scaler.transform(X))"
   ]
  }
 ],
 "metadata": {},
 "nbformat": 4,
 "nbformat_minor": 5
}
