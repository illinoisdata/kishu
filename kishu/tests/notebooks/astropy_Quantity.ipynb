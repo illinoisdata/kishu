{
 "cells": [
  {
   "cell_type": "code",
   "execution_count": null,
   "id": "332feb41",
   "metadata": {},
   "outputs": [],
   "source": [
    "import astropy.units as u\n",
    "speed = 100 * u.km/u.s\n",
    "time = 2 * u.h\n",
    "distance = speed * time\n",
    "print(distance.to(u.km))"
   ]
  }
 ],
 "metadata": {},
 "nbformat": 4,
 "nbformat_minor": 5
}
