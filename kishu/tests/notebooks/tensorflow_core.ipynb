{
 "cells": [
  {
   "cell_type": "code",
   "execution_count": null,
   "id": "b502a594",
   "metadata": {},
   "outputs": [],
   "source": [
    "import tensorflow as tf\n",
    "print('TF Version:', tf.__version__)\n",
    "a = tf.constant(3)\n",
    "b = tf.constant(4)\n",
    "print('Sum:', tf.add(a, b))"
   ]
  }
 ],
 "metadata": {},
 "nbformat": 4,
 "nbformat_minor": 5
}
