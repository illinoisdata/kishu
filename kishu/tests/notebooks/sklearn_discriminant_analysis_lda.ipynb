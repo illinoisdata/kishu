{
 "cells": [
  {
   "cell_type": "code",
   "execution_count": null,
   "id": "6aaeedff",
   "metadata": {},
   "outputs": [],
   "source": [
    "from sklearn.discriminant_analysis import LinearDiscriminantAnalysis\n",
    "from sklearn.datasets import load_iris\n",
    "import matplotlib.pyplot as plt\n",
    "data = load_iris()\n",
    "X = data.data\n",
    "y = data.target\n",
    "lda = LinearDiscriminantAnalysis(n_components=2)\n",
    "X_lda = lda.fit_transform(X, y)\n",
    "plt.scatter(X_lda[:, 0], X_lda[:, 1], c=y)\n",
    "plt.title('LDA of Iris Dataset')\n",
    "plt.show()"
   ]
  }
 ],
 "metadata": {},
 "nbformat": 4,
 "nbformat_minor": 5
}
