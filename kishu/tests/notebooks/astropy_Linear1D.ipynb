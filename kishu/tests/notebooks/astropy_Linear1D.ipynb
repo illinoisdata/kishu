{
 "cells": [
  {
   "cell_type": "code",
   "execution_count": null,
   "id": "5bac6ca9",
   "metadata": {},
   "outputs": [],
   "source": [
    "import numpy as np\n",
    "from astropy.modeling.functional_models import Linear1D\n",
    "import matplotlib.pyplot as plt"
   ]
  },
  {
   "cell_type": "code",
   "execution_count": null,
   "id": "56cca2c4",
   "metadata": {},
   "outputs": [],
   "source": [
    "model = Linear1D(slope=2.5, intercept=1.0)\n",
    "x = np.linspace(-10, 10, 100)\n",
    "y = model(x)\n",
    "plt.plot(x, y)\n",
    "plt.title('Linear1D Model')\n",
    "plt.grid(True)\n",
    "plt.show()"
   ]
  }
 ],
 "metadata": {},
 "nbformat": 4,
 "nbformat_minor": 5
}
