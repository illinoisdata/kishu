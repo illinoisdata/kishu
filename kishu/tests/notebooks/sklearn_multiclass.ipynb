{
 "cells": [
  {
   "cell_type": "code",
   "execution_count": null,
   "id": "c314af07",
   "metadata": {},
   "outputs": [],
   "source": [
    "from sklearn.multiclass import OneVsRestClassifier\n",
    "from sklearn.linear_model import LogisticRegression\n",
    "from sklearn.datasets import make_classification\n",
    "X, y = make_classification(n_samples=100, n_classes=3, n_informative=5, n_features=10)\n",
    "clf = OneVsRestClassifier(LogisticRegression()).fit(X, y)\n",
    "print('Score:', clf.score(X, y))"
   ]
  }
 ],
 "metadata": {},
 "nbformat": 4,
 "nbformat_minor": 5
}
