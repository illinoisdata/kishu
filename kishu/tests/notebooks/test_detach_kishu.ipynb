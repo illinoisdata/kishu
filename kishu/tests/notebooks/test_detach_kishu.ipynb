{
 "cells": [
  {
   "cell_type": "code",
   "execution_count": null,
   "id": "85867825",
   "metadata": {},
   "outputs": [],
   "source": [
    "from kishu import init_kishu, detach_kishu\n",
    "init_kishu()\n",
    "_kishu.set_test_mode()"
   ]
  },
  {
   "cell_type": "code",
   "execution_count": null,
   "id": "1adf334a",
   "metadata": {},
   "outputs": [],
   "source": [
    "a = 1"
   ]
  },
  {
   "cell_type": "code",
   "execution_count": null,
   "id": "c89a80d9",
   "metadata": {},
   "outputs": [],
   "source": [
    "detach_kishu(\"test_detach_kishu.ipynb\")"
   ]
  }
 ],
 "metadata": {
  "kernelspec": {
   "display_name": "kishu311",
   "language": "python",
   "name": "kishu311"
  },
  "language_info": {
   "codemirror_mode": {
    "name": "ipython",
    "version": 3
   },
   "file_extension": ".py",
   "mimetype": "text/x-python",
   "name": "python",
   "nbconvert_exporter": "python",
   "pygments_lexer": "ipython3",
   "version": "3.11.4"
  }
 },
 "nbformat": 4,
 "nbformat_minor": 5
}
