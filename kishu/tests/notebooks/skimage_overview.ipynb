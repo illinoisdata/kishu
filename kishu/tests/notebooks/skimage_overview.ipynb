{
 "cells": [
  {
   "cell_type": "code",
   "execution_count": null,
   "id": "757f2411",
   "metadata": {},
   "outputs": [],
   "source": [
    "from skimage import data, filters\n",
    "image = data.coins()\n",
    "edges = filters.sobel(image)\n",
    "print('Edges calculated.')"
   ]
  }
 ],
 "metadata": {},
 "nbformat": 4,
 "nbformat_minor": 5
}
