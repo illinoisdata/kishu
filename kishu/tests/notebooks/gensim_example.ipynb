{
 "cells": [
  {
   "cell_type": "code",
   "execution_count": null,
   "id": "f93be5ca",
   "metadata": {},
   "outputs": [],
   "source": [
    "from gensim.models import Word2Vec\n",
    "sentences = [[\"hello\", \"world\"], [\"machine\", \"learning\"]]\n",
    "model = Word2Vec(sentences, min_count=1)\n",
    "print(model.wv['hello'])"
   ]
  }
 ],
 "metadata": {},
 "nbformat": 4,
 "nbformat_minor": 5
}
