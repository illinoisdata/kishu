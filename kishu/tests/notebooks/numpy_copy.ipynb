{
 "cells": [
  {
   "cell_type": "code",
   "execution_count": null,
   "id": "f1d17d5c",
   "metadata": {},
   "outputs": [],
   "source": [
    "import numpy as np\n",
    "import copy\n",
    "x = np.array([1, 2, 3])\n",
    "y = copy.copy(x)\n",
    "print('Original:', x, 'Copy:', y)"
   ]
  }
 ],
 "metadata": {},
 "nbformat": 4,
 "nbformat_minor": 5
}
