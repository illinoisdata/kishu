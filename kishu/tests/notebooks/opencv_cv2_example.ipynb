{
 "cells": [
  {
   "cell_type": "code",
   "execution_count": null,
   "id": "8888d5fa",
   "metadata": {},
   "outputs": [],
   "source": [
    "import cv2\n",
    "import numpy as np\n",
    "img = np.zeros((100, 100, 3), dtype=np.uint8)\n",
    "img[:] = (0, 255, 0)\n",
    "cv2.imwrite('green.png', img)\n",
    "print('Image created and saved as green.png')"
   ]
  }
 ],
 "metadata": {},
 "nbformat": 4,
 "nbformat_minor": 5
}
