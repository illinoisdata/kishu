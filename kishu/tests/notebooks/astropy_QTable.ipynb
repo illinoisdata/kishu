{
 "cells": [
  {
   "cell_type": "code",
   "execution_count": null,
   "id": "7101069c",
   "metadata": {},
   "outputs": [],
   "source": [
    "from astropy.table import QTable\n",
    "import astropy.units as u\n",
    "table = QTable()\n",
    "table['flux'] = [1.2, 2.3, 3.1] * u.Jy\n",
    "table['error'] = [0.1, 0.2, 0.15] * u.Jy\n",
    "print(table)"
   ]
  }
 ],
 "metadata": {},
 "nbformat": 4,
 "nbformat_minor": 5
}
