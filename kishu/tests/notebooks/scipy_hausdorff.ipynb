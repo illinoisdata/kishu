{
 "cells": [
  {
   "cell_type": "code",
   "execution_count": null,
   "id": "e6b16749",
   "metadata": {},
   "outputs": [],
   "source": [
    "from scipy.spatial.distance import directed_hausdorff\n",
    "import numpy as np\n",
    "u = np.array([[1.0, 0.0], [0.0, 1.0]])\n",
    "v = np.array([[1.0, 0.0], [0.0, 1.0]])\n",
    "d = directed_hausdorff(u, v)[0]\n",
    "print('Hausdorff distance:', d)"
   ]
  }
 ],
 "metadata": {},
 "nbformat": 4,
 "nbformat_minor": 5
}
