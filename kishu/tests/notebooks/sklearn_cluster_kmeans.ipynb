{
 "cells": [
  {
   "cell_type": "code",
   "execution_count": null,
   "id": "b2878074",
   "metadata": {},
   "outputs": [],
   "source": [
    "from sklearn.cluster import KMeans\n",
    "from sklearn.datasets import make_blobs\n",
    "import matplotlib.pyplot as plt\n",
    "X, _ = make_blobs(n_samples=100, centers=3, random_state=42)\n",
    "kmeans = KMeans(n_clusters=3)\n",
    "kmeans.fit(X)\n",
    "plt.scatter(X[:,0], X[:,1], c=kmeans.labels_)\n",
    "plt.title('KMeans Clustering')\n",
    "plt.show()"
   ]
  }
 ],
 "metadata": {},
 "nbformat": 4,
 "nbformat_minor": 5
}
