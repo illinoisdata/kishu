{
 "cells": [
  {
   "cell_type": "code",
   "execution_count": null,
   "id": "0907cd84",
   "metadata": {},
   "outputs": [],
   "source": [
    "import numpy as np\n",
    "import matplotlib.pyplot as plt"
   ]
  },
  {
   "cell_type": "code",
   "execution_count": null,
   "id": "a97cad58",
   "metadata": {},
   "outputs": [],
   "source": [
    "input_size = 4\n",
    "hidden_size = 3\n",
    "sequence_length = 5"
   ]
  },
  {
   "cell_type": "code",
   "execution_count": null,
   "id": "6a5b8672",
   "metadata": {},
   "outputs": [],
   "source": [
    "Wxh = np.random.randn(hidden_size, input_size)\n",
    "Whh = np.random.randn(hidden_size, hidden_size)\n",
    "Why = np.random.randn(1, hidden_size)\n",
    "bh = np.zeros((hidden_size, 1))\n",
    "by = np.zeros((1, 1))"
   ]
  },
  {
   "cell_type": "code",
   "execution_count": null,
   "id": "154b83b0",
   "metadata": {},
   "outputs": [],
   "source": [
    "def rnn_step(x, h_prev):\n",
    "    h_next = np.tanh(np.dot(Wxh, x) + np.dot(Whh, h_prev) + bh)\n",
    "    y = np.dot(Why, h_next) + by\n",
    "    return y, h_next"
   ]
  },
  {
   "cell_type": "code",
   "execution_count": null,
   "id": "ac1a5e6b",
   "metadata": {},
   "outputs": [],
   "source": [
    "x_seq = [np.random.randn(input_size, 1) for _ in range(sequence_length)]\n",
    "h = np.zeros((hidden_size, 1))\n",
    "outputs = []"
   ]
  },
  {
   "cell_type": "code",
   "execution_count": null,
   "id": "d766bfeb",
   "metadata": {},
   "outputs": [],
   "source": [
    "for x in x_seq:\n",
    "    y, h = rnn_step(x, h)\n",
    "    outputs.append(y)"
   ]
  },
  {
   "cell_type": "code",
   "execution_count": null,
   "id": "180bfc26",
   "metadata": {},
   "outputs": [],
   "source": [
    "for i, y in enumerate(outputs):\n",
    "    print(f\"Time Step {i}, Output: {y.ravel()}\")"
   ]
  },
  {
   "cell_type": "code",
   "execution_count": null,
   "id": "1cb725b3",
   "metadata": {},
   "outputs": [],
   "source": [
    "print(\"Final Hidden State:\", h.ravel())\n",
    "print(\"Number of Outputs:\", len(outputs))\n",
    "print(\"Output Shape (last):\", outputs[-1].shape)"
   ]
  },
  {
   "cell_type": "code",
   "execution_count": null,
   "id": "aa2d6c11",
   "metadata": {},
   "outputs": [],
   "source": [
    "output_vals = [float(y) for y in outputs]\n",
    "plt.plot(output_vals, marker='o')\n",
    "plt.title(\"RNN Output Over Time\")\n",
    "plt.xlabel(\"Time Step\")\n",
    "plt.ylabel(\"Output\")\n",
    "plt.grid(True)\n",
    "plt.show()"
   ]
  }
 ],
 "metadata": {},
 "nbformat": 4,
 "nbformat_minor": 5
}
