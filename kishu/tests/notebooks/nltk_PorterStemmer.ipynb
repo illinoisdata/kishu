{
 "cells": [
  {
   "cell_type": "code",
   "execution_count": null,
   "id": "59fa564f",
   "metadata": {},
   "outputs": [],
   "source": [
    "from nltk.stem.porter import PorterStemmer\n",
    "stemmer = PorterStemmer()\n",
    "words = ['running', 'flies', 'swimming']\n",
    "stemmed = [stemmer.stem(word) for word in words]\n",
    "print('Stemmed Words:', stemmed)"
   ]
  }
 ],
 "metadata": {},
 "nbformat": 4,
 "nbformat_minor": 5
}
