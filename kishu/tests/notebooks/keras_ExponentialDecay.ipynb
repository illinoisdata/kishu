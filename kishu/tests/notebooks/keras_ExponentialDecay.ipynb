{
 "cells": [
  {
   "cell_type": "code",
   "execution_count": null,
   "id": "576054e1",
   "metadata": {},
   "outputs": [],
   "source": [
    "from tensorflow.keras.optimizers.schedules import ExponentialDecay\n",
    "schedule = ExponentialDecay(initial_learning_rate=1.0, decay_steps=100000, decay_rate=0.96)\n",
    "print(schedule(1000).numpy())"
   ]
  }
 ],
 "metadata": {},
 "nbformat": 4,
 "nbformat_minor": 5
}
