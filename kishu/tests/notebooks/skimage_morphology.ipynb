{
 "cells": [
  {
   "cell_type": "code",
   "execution_count": null,
   "id": "bacf48ed",
   "metadata": {},
   "outputs": [],
   "source": [
    "from skimage.morphology import dilation, disk\n",
    "from skimage import data\n",
    "import matplotlib.pyplot as plt\n",
    "image = data.coins()\n",
    "dilated = dilation(image, disk(3))\n",
    "plt.imshow(dilated, cmap='gray')\n",
    "plt.title('Dilated Image')\n",
    "plt.show()"
   ]
  }
 ],
 "metadata": {},
 "nbformat": 4,
 "nbformat_minor": 5
}
