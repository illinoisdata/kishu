{
 "cells": [
  {
   "cell_type": "code",
   "execution_count": null,
   "id": "8f765c1c",
   "metadata": {},
   "outputs": [],
   "source": [
    "import torch\n",
    "a = torch.tensor([2.0, 3.0])\n",
    "b = torch.tensor([1.0, 4.0])\n",
    "print('Addition:', a + b)"
   ]
  }
 ],
 "metadata": {},
 "nbformat": 4,
 "nbformat_minor": 5
}
