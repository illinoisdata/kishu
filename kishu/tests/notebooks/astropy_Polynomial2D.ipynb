{
 "cells": [
  {
   "cell_type": "code",
   "execution_count": null,
   "id": "a566f291",
   "metadata": {},
   "outputs": [],
   "source": [
    "from astropy.modeling.polynomial import Polynomial2D\n",
    "import numpy as np\n",
    "import matplotlib.pyplot as plt"
   ]
  },
  {
   "cell_type": "code",
   "execution_count": null,
   "id": "22f6f509",
   "metadata": {},
   "outputs": [],
   "source": [
    "model = Polynomial2D(degree=2)\n",
    "x, y = np.meshgrid(np.linspace(-1, 1, 50), np.linspace(-1, 1, 50))\n",
    "z = model(x, y)\n",
    "plt.imshow(z, origin='lower', cmap='coolwarm')\n",
    "plt.title('Polynomial2D')\n",
    "plt.colorbar()\n",
    "plt.show()"
   ]
  }
 ],
 "metadata": {},
 "nbformat": 4,
 "nbformat_minor": 5
}
