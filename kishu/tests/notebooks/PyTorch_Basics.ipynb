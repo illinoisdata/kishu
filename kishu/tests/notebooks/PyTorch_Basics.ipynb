{
 "cells": [
  {
   "cell_type": "code",
   "execution_count": null,
   "id": "ecd9b47c",
   "metadata": {},
   "outputs": [],
   "source": [
    "import torch\n",
    "import torch.nn as nn\n",
    "import torch.optim as optim"
   ]
  },
  {
   "cell_type": "code",
   "execution_count": null,
   "id": "8c40bfd7",
   "metadata": {},
   "outputs": [],
   "source": [
    "x = torch.tensor([[1.0, 2.0], [3.0, 4.0]])\n",
    "y = torch.tensor([[5.0, 6.0], [7.0, 8.0]])\n",
    "print(\"Sum:\", x + y)\n",
    "print(\"Element-wise Multiplication:\", x * y)\n",
    "print(\"Matrix Multiplication:\", x @ y.T)"
   ]
  },
  {
   "cell_type": "code",
   "execution_count": null,
   "id": "c7534830",
   "metadata": {},
   "outputs": [],
   "source": [
    "layer = nn.Linear(2, 1)\n",
    "input_data = torch.tensor([[1.0, 2.0]])\n",
    "output = layer(input_data)\n",
    "print(\"Linear Layer Output:\", output)"
   ]
  },
  {
   "cell_type": "code",
   "execution_count": null,
   "id": "255168ab",
   "metadata": {},
   "outputs": [],
   "source": [
    "target = torch.tensor([[1.0]])\n",
    "loss_fn = nn.MSELoss()\n",
    "loss = loss_fn(output, target)\n",
    "print(\"Loss:\", loss.item())"
   ]
  },
  {
   "cell_type": "code",
   "execution_count": null,
   "id": "34860845",
   "metadata": {},
   "outputs": [],
   "source": [
    "optimizer = optim.SGD(layer.parameters(), lr=0.01)\n",
    "optimizer.zero_grad()\n",
    "loss.backward()\n",
    "optimizer.step()\n",
    "print(\"Weights Updated\")"
   ]
  },
  {
   "cell_type": "code",
   "execution_count": null,
   "id": "aa51423d",
   "metadata": {},
   "outputs": [],
   "source": [
    "output_after = layer(input_data)\n",
    "print(\"New Output:\", output_after)\n",
    "print(\"Layer Weights:\", list(layer.parameters()))"
   ]
  }
 ],
 "metadata": {},
 "nbformat": 4,
 "nbformat_minor": 5
}
