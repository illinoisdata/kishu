{
 "cells": [
  {
   "cell_type": "code",
   "execution_count": null,
   "id": "14f5160b",
   "metadata": {},
   "outputs": [],
   "source": [
    "from scipy.spatial import distance\n",
    "import numpy as np\n",
    "a = np.array([1, 2])\n",
    "b = np.array([4, 6])\n",
    "d = distance.euclidean(a, b)\n",
    "print('Euclidean distance:', d)"
   ]
  }
 ],
 "metadata": {},
 "nbformat": 4,
 "nbformat_minor": 5
}
