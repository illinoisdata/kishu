{
 "cells": [
  {
   "cell_type": "code",
   "execution_count": null,
   "id": "8649447d",
   "metadata": {},
   "outputs": [],
   "source": [
    "from astropy.nddata import NDDataRef\n",
    "import numpy as np\n",
    "data = np.random.rand(4, 4)\n",
    "ndref = NDDataRef(data)\n",
    "print(ndref.data)"
   ]
  }
 ],
 "metadata": {},
 "nbformat": 4,
 "nbformat_minor": 5
}
