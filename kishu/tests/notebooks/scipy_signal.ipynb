{
 "cells": [
  {
   "cell_type": "code",
   "execution_count": null,
   "id": "1ae63df8",
   "metadata": {},
   "outputs": [],
   "source": [
    "from scipy import signal\n",
    "import numpy as np\n",
    "import matplotlib.pyplot as plt\n",
    "t = np.linspace(0, 1.0, 500)\n",
    "sig = np.sin(2 * np.pi * 5 * t)\n",
    "filtered = signal.savgol_filter(sig, 51, 3)\n",
    "plt.plot(t, sig, label='Original')\n",
    "plt.plot(t, filtered, label='Filtered')\n",
    "plt.legend()\n",
    "plt.show()"
   ]
  }
 ],
 "metadata": {},
 "nbformat": 4,
 "nbformat_minor": 5
}
