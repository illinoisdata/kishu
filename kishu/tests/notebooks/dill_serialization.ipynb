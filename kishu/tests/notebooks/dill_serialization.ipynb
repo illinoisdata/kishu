{
 "cells": [
  {
   "cell_type": "code",
   "execution_count": null,
   "id": "f23f89f0",
   "metadata": {},
   "outputs": [],
   "source": [
    "import dill\n",
    "obj = {'a': 1, 'b': [1, 2, 3]}\n",
    "with open('obj.pkl', 'wb') as f:\n",
    "    dill.dump(obj, f)"
   ]
  },
  {
   "cell_type": "code",
   "execution_count": null,
   "id": "ce902d0f",
   "metadata": {},
   "outputs": [],
   "source": [
    "with open('obj.pkl', 'rb') as f:\n",
    "    loaded = dill.load(f)\n",
    "print(loaded)"
   ]
  }
 ],
 "metadata": {},
 "nbformat": 4,
 "nbformat_minor": 5
}
