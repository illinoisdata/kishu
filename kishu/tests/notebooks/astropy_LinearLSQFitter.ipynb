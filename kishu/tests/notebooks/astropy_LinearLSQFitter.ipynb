{
 "cells": [
  {
   "cell_type": "code",
   "execution_count": null,
   "id": "ab8990db",
   "metadata": {},
   "outputs": [],
   "source": [
    "import numpy as np\n",
    "from astropy.modeling import models, fitting\n",
    "import matplotlib.pyplot as plt"
   ]
  },
  {
   "cell_type": "code",
   "execution_count": null,
   "id": "b1fbbefb",
   "metadata": {},
   "outputs": [],
   "source": [
    "x = np.linspace(-5, 5, 100)\n",
    "y = 2 * x + 1 + np.random.normal(0, 1, size=x.shape)\n",
    "linear = models.Linear1D()\n",
    "fitter = fitting.LinearLSQFitter()\n",
    "fit = fitter(linear, x, y)\n",
    "plt.plot(x, y, '.', label='Data')\n",
    "plt.plot(x, fit(x), label='Fit')\n",
    "plt.legend()\n",
    "plt.title('Linear Fit')\n",
    "plt.show()"
   ]
  }
 ],
 "metadata": {},
 "nbformat": 4,
 "nbformat_minor": 5
}
