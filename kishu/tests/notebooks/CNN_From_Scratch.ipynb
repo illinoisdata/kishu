{
 "cells": [
  {
   "cell_type": "code",
   "execution_count": null,
   "id": "302f6a71",
   "metadata": {},
   "outputs": [],
   "source": [
    "import numpy as np\n",
    "from scipy.signal import convolve2d\n",
    "import matplotlib.pyplot as plt"
   ]
  },
  {
   "cell_type": "code",
   "execution_count": null,
   "id": "8443a849",
   "metadata": {},
   "outputs": [],
   "source": [
    "image = np.array([\n",
    "    [0, 0, 1, 0, 0],\n",
    "    [0, 1, 1, 1, 0],\n",
    "    [1, 1, 1, 1, 1],\n",
    "    [0, 1, 1, 1, 0],\n",
    "    [0, 0, 1, 0, 0]\n",
    "])"
   ]
  },
  {
   "cell_type": "code",
   "execution_count": null,
   "id": "30ef49d0",
   "metadata": {},
   "outputs": [],
   "source": [
    "sobel_filter = np.array([\n",
    "    [-1, -2, -1],\n",
    "    [ 0,  0,  0],\n",
    "    [ 1,  2,  1]\n",
    "])\n",
    "identity_filter = np.array([\n",
    "    [0, 0, 0],\n",
    "    [0, 1, 0],\n",
    "    [0, 0, 0]\n",
    "])\n",
    "blur_filter = np.ones((3, 3)) / 9"
   ]
  },
  {
   "cell_type": "code",
   "execution_count": null,
   "id": "c5d4d648",
   "metadata": {},
   "outputs": [],
   "source": [
    "sobel_output = convolve2d(image, sobel_filter, mode='valid')\n",
    "identity_output = convolve2d(image, identity_filter, mode='same')\n",
    "blur_output = convolve2d(image, blur_filter, mode='same')"
   ]
  },
  {
   "cell_type": "code",
   "execution_count": null,
   "id": "e084d2eb",
   "metadata": {},
   "outputs": [],
   "source": [
    "relu_output = np.maximum(0, sobel_output)"
   ]
  },
  {
   "cell_type": "code",
   "execution_count": null,
   "id": "4f25b324",
   "metadata": {},
   "outputs": [],
   "source": [
    "def max_pooling(feature_map, size=2):\n",
    "    output_shape = (feature_map.shape[0]//size, feature_map.shape[1]//size)\n",
    "    pooled = np.zeros(output_shape)\n",
    "    for i in range(0, feature_map.shape[0], size):\n",
    "        for j in range(0, feature_map.shape[1], size):\n",
    "            pooled[i//size, j//size] = np.max(feature_map[i:i+size, j:j+size])\n",
    "    return pooled"
   ]
  },
  {
   "cell_type": "code",
   "execution_count": null,
   "id": "eb4c4542",
   "metadata": {},
   "outputs": [],
   "source": [
    "pooled_output = max_pooling(relu_output)"
   ]
  },
  {
   "cell_type": "code",
   "execution_count": null,
   "id": "04c634f2",
   "metadata": {},
   "outputs": [],
   "source": [
    "plt.figure(figsize=(10, 3))\n",
    "plt.subplot(1, 3, 1)\n",
    "plt.imshow(sobel_output, cmap='gray')\n",
    "plt.title('Sobel Filter')\n",
    "plt.subplot(1, 3, 2)\n",
    "plt.imshow(blur_output, cmap='gray')\n",
    "plt.title('Blurred Image')\n",
    "plt.subplot(1, 3, 3)\n",
    "plt.imshow(identity_output, cmap='gray')\n",
    "plt.title('Identity')\n",
    "plt.show()"
   ]
  },
  {
   "cell_type": "code",
   "execution_count": null,
   "id": "9297c64e",
   "metadata": {},
   "outputs": [],
   "source": [
    "plt.imshow(pooled_output, cmap='gray')\n",
    "plt.title('After Max Pooling')\n",
    "plt.colorbar()\n",
    "plt.show()"
   ]
  }
 ],
 "metadata": {},
 "nbformat": 4,
 "nbformat_minor": 5
}
