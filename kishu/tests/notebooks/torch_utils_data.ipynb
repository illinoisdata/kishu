{
 "cells": [
  {
   "cell_type": "code",
   "execution_count": null,
   "id": "a825f76a",
   "metadata": {},
   "outputs": [],
   "source": [
    "from torch.utils.data import Dataset, DataLoader\n",
    "class DummyDataset(Dataset):\n",
    "    def __init__(self): self.data = list(range(10))\n",
    "    def __len__(self): return len(self.data)\n",
    "    def __getitem__(self, idx): return self.data[idx]\n",
    "dataloader = DataLoader(DummyDataset(), batch_size=2)\n",
    "for batch in dataloader: print(batch)"
   ]
  }
 ],
 "metadata": {},
 "nbformat": 4,
 "nbformat_minor": 5
}
