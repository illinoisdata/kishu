{
 "cells": [
  {
   "cell_type": "code",
   "execution_count": null,
   "id": "f163656b",
   "metadata": {},
   "outputs": [],
   "source": [
    "import numpy as np\n",
    "a = np.array([[1, 2], [3, 4]])\n",
    "print('Array shape:', a.shape)\n",
    "print('Array sum:', a.sum())"
   ]
  }
 ],
 "metadata": {},
 "nbformat": 4,
 "nbformat_minor": 5
}
