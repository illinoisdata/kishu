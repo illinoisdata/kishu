{
 "cells": [
  {
   "cell_type": "code",
   "execution_count": null,
   "id": "0911299a",
   "metadata": {},
   "outputs": [],
   "source": [
    "import statsmodels.api as sm\n",
    "import numpy as np\n",
    "X = sm.add_constant(np.arange(10))\n",
    "y = X[:, 1] + np.random.normal(size=10)\n",
    "model = sm.OLS(y, X).fit()\n",
    "print(model.summary())"
   ]
  }
 ],
 "metadata": {},
 "nbformat": 4,
 "nbformat_minor": 5
}
