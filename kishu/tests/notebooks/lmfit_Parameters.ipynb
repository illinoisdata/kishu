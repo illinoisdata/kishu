{
 "cells": [
  {
   "cell_type": "code",
   "execution_count": null,
   "id": "115ff772",
   "metadata": {},
   "outputs": [],
   "source": [
    "from lmfit import Parameters\n",
    "params = Parameters()\n",
    "params.add('amp', value=10, min=0)\n",
    "params.add('decay', value=0.1, max=1.0)\n",
    "print(params.pretty_print())"
   ]
  }
 ],
 "metadata": {},
 "nbformat": 4,
 "nbformat_minor": 5
}
