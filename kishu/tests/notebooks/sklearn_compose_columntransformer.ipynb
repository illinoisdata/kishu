{
 "cells": [
  {
   "cell_type": "code",
   "execution_count": null,
   "id": "3a8b0408",
   "metadata": {},
   "outputs": [],
   "source": [
    "from sklearn.compose import ColumnTransformer\n",
    "from sklearn.preprocessing import StandardScaler, OneHotEncoder\n",
    "import pandas as pd\n",
    "data = pd.DataFrame({'age': [25, 32], 'gender': ['M', 'F']})\n",
    "transformer = ColumnTransformer([\n",
    "    ('num', StandardScaler(), ['age']),\n",
    "    ('cat', OneHotEncoder(), ['gender'])\n",
    "])\n",
    "print(transformer.fit_transform(data))"
   ]
  }
 ],
 "metadata": {},
 "nbformat": 4,
 "nbformat_minor": 5
}
