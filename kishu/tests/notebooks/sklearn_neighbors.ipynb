{
 "cells": [
  {
   "cell_type": "code",
   "execution_count": null,
   "id": "e859cc8e",
   "metadata": {},
   "outputs": [],
   "source": [
    "from sklearn.neighbors import KNeighborsClassifier\n",
    "from sklearn.datasets import load_iris\n",
    "X, y = load_iris(return_X_y=True)\n",
    "knn = KNeighborsClassifier(n_neighbors=3).fit(X, y)\n",
    "print('Accuracy:', knn.score(X, y))"
   ]
  }
 ],
 "metadata": {},
 "nbformat": 4,
 "nbformat_minor": 5
}
