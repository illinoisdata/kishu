{
 "cells": [
  {
   "cell_type": "code",
   "execution_count": null,
   "id": "0f539efe",
   "metadata": {},
   "outputs": [],
   "source": [
    "from scipy import sparse\n",
    "matrix = sparse.csr_matrix([[0, 0, 1], [1, 0, 0]])\n",
    "print(matrix.toarray())"
   ]
  }
 ],
 "metadata": {},
 "nbformat": 4,
 "nbformat_minor": 5
}
