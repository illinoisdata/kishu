{
 "cells": [
  {
   "cell_type": "code",
   "execution_count": null,
   "id": "113a63d5",
   "metadata": {},
   "outputs": [],
   "source": [
    "from keras.src.initializers.initializers import RandomNormal\n",
    "init = RandomNormal(mean=0.0, stddev=0.05)\n",
    "print(init(shape=(2, 2)))"
   ]
  }
 ],
 "metadata": {},
 "nbformat": 4,
 "nbformat_minor": 5
}
