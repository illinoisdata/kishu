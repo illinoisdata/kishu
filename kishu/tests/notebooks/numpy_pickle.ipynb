{
 "cells": [
  {
   "cell_type": "code",
   "execution_count": null,
   "id": "831dc966",
   "metadata": {},
   "outputs": [],
   "source": [
    "import numpy as np\n",
    "import pickle\n",
    "a = np.arange(10)\n",
    "with open('array.pkl', 'wb') as f:\n",
    "    pickle.dump(a, f)\n",
    "with open('array.pkl', 'rb') as f:\n",
    "    loaded = pickle.load(f)\n",
    "print('Loaded:', loaded)"
   ]
  }
 ],
 "metadata": {},
 "nbformat": 4,
 "nbformat_minor": 5
}
