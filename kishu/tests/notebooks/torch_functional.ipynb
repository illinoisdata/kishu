{
 "cells": [
  {
   "cell_type": "code",
   "execution_count": null,
   "id": "60b43b84",
   "metadata": {},
   "outputs": [],
   "source": [
    "import torch.nn.functional as F\n",
    "tensor = torch.tensor([0.0, 2.0, 1.0])\n",
    "softmax = F.softmax(tensor, dim=0)\n",
    "print('Softmax:', softmax)"
   ]
  }
 ],
 "metadata": {},
 "nbformat": 4,
 "nbformat_minor": 5
}
