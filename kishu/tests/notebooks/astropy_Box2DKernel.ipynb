{
 "cells": [
  {
   "cell_type": "code",
   "execution_count": null,
   "id": "deefd978",
   "metadata": {},
   "outputs": [],
   "source": [
    "from astropy.convolution import Box2DKernel\n",
    "import matplotlib.pyplot as plt"
   ]
  },
  {
   "cell_type": "code",
   "execution_count": null,
   "id": "9bc5d4a8",
   "metadata": {},
   "outputs": [],
   "source": [
    "kernel = Box2DKernel(5)\n",
    "print(kernel.array)\n",
    "plt.imshow(kernel.array, cmap='gray')\n",
    "plt.title('Box2DKernel')\n",
    "plt.colorbar()\n",
    "plt.show()\n",
    "print('Shape:', kernel.shape)\n",
    "print('Center:', kernel.center)\n",
    "print('Size:', kernel.size)\n",
    "print('NDIM:', kernel.ndim)\n",
    "print('Sum:', kernel.array.sum())"
   ]
  }
 ],
 "metadata": {},
 "nbformat": 4,
 "nbformat_minor": 5
}
