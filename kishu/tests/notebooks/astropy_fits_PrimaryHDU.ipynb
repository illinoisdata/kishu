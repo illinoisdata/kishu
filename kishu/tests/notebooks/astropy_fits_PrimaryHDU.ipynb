{
 "cells": [
  {
   "cell_type": "code",
   "execution_count": null,
   "id": "0605549a",
   "metadata": {},
   "outputs": [],
   "source": [
    "from astropy.io import fits\n",
    "import numpy as np"
   ]
  },
  {
   "cell_type": "code",
   "execution_count": null,
   "id": "44c4e841",
   "metadata": {},
   "outputs": [],
   "source": [
    "data = np.random.rand(50, 50)\n",
    "hdu = fits.PrimaryHDU(data)\n",
    "print('Header:')\n",
    "print(hdu.header)\n",
    "print('Shape:', hdu.data.shape)\n",
    "hdu.writeto('primary_hdu.fits', overwrite=True)\n",
    "read_hdu = fits.open('primary_hdu.fits')[0]\n",
    "print('Read shape:', read_hdu.data.shape)\n",
    "print('Sum of data:', read_hdu.data.sum())"
   ]
  }
 ],
 "metadata": {},
 "nbformat": 4,
 "nbformat_minor": 5
}
