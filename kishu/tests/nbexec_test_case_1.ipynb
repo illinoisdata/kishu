{
 "cells": [
  {
   "cell_type": "code",
   "execution_count": 1,
   "metadata": {},
   "outputs": [
    {
     "name": "stdout",
     "output_type": "stream",
     "text": [
      "load kishu new None None\n",
      "in init\n",
      "in if statement None None\n"
     ]
    },
    {
     "ename": "AttributeError",
     "evalue": "'KishuForJupyter' object has no attribute '_notebook_id'",
     "output_type": "error",
     "traceback": [
      "\u001b[0;31m---------------------------------------------------------------------------\u001b[0m",
      "\u001b[0;31mAttributeError\u001b[0m                            Traceback (most recent call last)",
      "Cell \u001b[0;32mIn[1], line 2\u001b[0m\n\u001b[1;32m      1\u001b[0m \u001b[38;5;28;01mfrom\u001b[39;00m \u001b[38;5;21;01mkishu\u001b[39;00m \u001b[38;5;28;01mimport\u001b[39;00m load_kishu;\n\u001b[0;32m----> 2\u001b[0m \u001b[43mload_kishu\u001b[49m\u001b[43m(\u001b[49m\u001b[43m)\u001b[49m\n",
      "File \u001b[0;32m~/Desktop/elastic-notebook/kishu/kishu/jupyterint2.py:341\u001b[0m, in \u001b[0;36mload_kishu\u001b[0;34m(notebook_id, notebook_path)\u001b[0m\n\u001b[1;32m    338\u001b[0m _ipython_shell \u001b[38;5;241m=\u001b[39m \u001b[38;5;28meval\u001b[39m(\u001b[38;5;124m\"\u001b[39m\u001b[38;5;124mget_ipython()\u001b[39m\u001b[38;5;124m\"\u001b[39m)\n\u001b[1;32m    339\u001b[0m ip \u001b[38;5;241m=\u001b[39m _ipython_shell\n\u001b[0;32m--> 341\u001b[0m kishu \u001b[38;5;241m=\u001b[39m \u001b[43mKishuForJupyter\u001b[49m\u001b[43m(\u001b[49m\u001b[43mnotebook_id\u001b[49m\u001b[43m,\u001b[49m\u001b[43m \u001b[49m\u001b[43mnotebook_path\u001b[49m\u001b[43m)\u001b[49m\n\u001b[1;32m    342\u001b[0m _kishu_exec_history \u001b[38;5;241m=\u001b[39m kishu\n\u001b[1;32m    343\u001b[0m ip\u001b[38;5;241m.\u001b[39mevents\u001b[38;5;241m.\u001b[39mregister(\u001b[38;5;124m\"\u001b[39m\u001b[38;5;124mpre_run_cell\u001b[39m\u001b[38;5;124m\"\u001b[39m, kishu\u001b[38;5;241m.\u001b[39mpre_run_cell)\n",
      "File \u001b[0;32m~/Desktop/elastic-notebook/kishu/kishu/jupyterint2.py:124\u001b[0m, in \u001b[0;36mKishuForJupyter.__init__\u001b[0;34m(self, notebook_id, notebook_path)\u001b[0m\n\u001b[1;32m    122\u001b[0m \u001b[38;5;28;01melse\u001b[39;00m:\n\u001b[1;32m    123\u001b[0m     \u001b[38;5;28mself\u001b[39m\u001b[38;5;241m.\u001b[39m_notebook_id \u001b[38;5;241m=\u001b[39m notebook_id\n\u001b[0;32m--> 124\u001b[0m \u001b[38;5;28mprint\u001b[39m(\u001b[38;5;124m\"\u001b[39m\u001b[38;5;124mnotebook id\u001b[39m\u001b[38;5;124m\"\u001b[39m, \u001b[38;5;28;43mself\u001b[39;49m\u001b[38;5;241;43m.\u001b[39;49m\u001b[43m_notebook_id\u001b[49m)\n\u001b[1;32m    125\u001b[0m \u001b[38;5;28mself\u001b[39m\u001b[38;5;241m.\u001b[39m_running_cell: Optional[CellExecInfo] \u001b[38;5;241m=\u001b[39m \u001b[38;5;28;01mNone\u001b[39;00m\n\u001b[1;32m    126\u001b[0m init_checkpoint_database(\u001b[38;5;28mself\u001b[39m\u001b[38;5;241m.\u001b[39mcheckpoint_file())\n",
      "\u001b[0;31mAttributeError\u001b[0m: 'KishuForJupyter' object has no attribute '_notebook_id'"
     ]
    }
   ],
   "source": [
    "from kishu import load_kishu;\n",
    "load_kishu()"
   ]
  },
  {
   "cell_type": "code",
   "execution_count": null,
   "metadata": {},
   "outputs": [],
   "source": [
    "import kishu\n",
    "print(kishu.__file__)"
   ]
  },
  {
   "cell_type": "code",
   "execution_count": null,
   "metadata": {},
   "outputs": [],
   "source": [
    "import numpy as np\n",
    "import pickle \n",
    "x = 2\n",
    "y = 2"
   ]
  },
  {
   "cell_type": "code",
   "execution_count": null,
   "metadata": {},
   "outputs": [],
   "source": [
    "def f(x):\n",
    "    return (x-3)*(x-5)*(x-7)+85\n",
    "\n",
    "x = np.linspace(0, 10, 200)\n",
    "y = f(x)\n",
    "z = 2"
   ]
  },
  {
   "cell_type": "code",
   "execution_count": null,
   "metadata": {},
   "outputs": [],
   "source": [
    "a, b = 1, 9\n",
    "xint = x[np.logical_and(x>=a, x<=b)][::30]\n",
    "yint = y[np.logical_and(x>=a, x<=b)][::30]"
   ]
  },
  {
   "cell_type": "code",
   "execution_count": null,
   "metadata": {},
   "outputs": [],
   "source": [
    "gen = (i for i in range(10))"
   ]
  },
  {
   "cell_type": "code",
   "execution_count": null,
   "metadata": {},
   "outputs": [],
   "source": [
    "x = 23\n",
    "y = \"Hello World!\"\n",
    "z = [1, 2, 3, 4, 5]"
   ]
  }
 ],
 "metadata": {
  "kernelspec": {
   "display_name": "Python 3 (ipykernel)",
   "language": "python",
   "name": "python3"
  },
  "language_info": {
   "codemirror_mode": {
    "name": "ipython",
    "version": 3
   },
   "file_extension": ".py",
   "mimetype": "text/x-python",
   "name": "python",
   "nbconvert_exporter": "python",
   "pygments_lexer": "ipython3",
   "version": "3.8.17"
  }
 },
 "nbformat": 4,
 "nbformat_minor": 4
}
