{
 "cells": [
  {
   "cell_type": "code",
   "execution_count": 1,
   "metadata": {},
   "outputs": [],
   "source": [
    "import os, sys\n",
    "sys.path.insert(0, os.path.abspath(\"..\"))\n",
    "\n",
    "from experiment.recover import resume\n",
    "from core.io.external_storage import ExternalStorage\n",
    "from core.io.filesystem_adapter import FilesystemAdapter"
   ]
  },
  {
   "cell_type": "code",
   "execution_count": 2,
   "metadata": {},
   "outputs": [],
   "source": [
    "storage = ExternalStorage()\n",
    "storage.register(\"local\", FilesystemAdapter())"
   ]
  },
  {
   "cell_type": "code",
   "execution_count": 3,
   "metadata": {},
   "outputs": [
    {
     "ename": "AttributeError",
     "evalue": "Can't get attribute 'cell_4' on <module '__main__'>",
     "output_type": "error",
     "traceback": [
      "\u001b[0;31m---------------------------------------------------------------------------\u001b[0m",
      "\u001b[0;31mAttributeError\u001b[0m                            Traceback (most recent call last)",
      "Cell \u001b[0;32mIn [3], line 2\u001b[0m\n\u001b[1;32m      1\u001b[0m global_state \u001b[38;5;241m=\u001b[39m {}\n\u001b[0;32m----> 2\u001b[0m \u001b[43mresume\u001b[49m\u001b[43m(\u001b[49m\u001b[43mstorage\u001b[49m\u001b[43m,\u001b[49m\u001b[43m \u001b[49m\u001b[43mglobal_state\u001b[49m\u001b[43m)\u001b[49m\n\u001b[1;32m      3\u001b[0m global_state\n",
      "File \u001b[0;32m~/Desktop/elastic-notebook/elastic/experiment/recover.py:53\u001b[0m, in \u001b[0;36mresume\u001b[0;34m(storage, global_state)\u001b[0m\n\u001b[1;32m     <a href='file:///Users/alinayh/Desktop/elastic-notebook/elastic/experiment/recover.py?line=50'>51</a>\u001b[0m \u001b[39mfor\u001b[39;00m oe_path, oe_name \u001b[39min\u001b[39;00m metadata\u001b[39m.\u001b[39mget_recompute_code()\u001b[39m.\u001b[39mitems():\n\u001b[1;32m     <a href='file:///Users/alinayh/Desktop/elastic-notebook/elastic/experiment/recover.py?line=51'>52</a>\u001b[0m     oe_pickled \u001b[39m=\u001b[39m storage\u001b[39m.\u001b[39mread_all(Path(oe_path))\n\u001b[0;32m---> <a href='file:///Users/alinayh/Desktop/elastic-notebook/elastic/experiment/recover.py?line=52'>53</a>\u001b[0m     oe \u001b[39m=\u001b[39m pickle\u001b[39m.\u001b[39;49mloads(oe_pickled)\n\u001b[1;32m     <a href='file:///Users/alinayh/Desktop/elastic-notebook/elastic/experiment/recover.py?line=53'>54</a>\u001b[0m     global_state[oe_name] \u001b[39m=\u001b[39m oe\n\u001b[1;32m     <a href='file:///Users/alinayh/Desktop/elastic-notebook/elastic/experiment/recover.py?line=54'>55</a>\u001b[0m     \u001b[39mglobals\u001b[39m()[oe_name] \u001b[39m=\u001b[39m oe\n",
      "\u001b[0;31mAttributeError\u001b[0m: Can't get attribute 'cell_4' on <module '__main__'>"
     ]
    }
   ],
   "source": [
    "global_state = {}\n",
    "resume(storage, global_state)\n",
    "global_state"
   ]
  }
 ],
 "metadata": {
  "interpreter": {
   "hash": "73e29f827a180d655af59b8e84c2509fd207c6d30a6436933ca2d326b6144ecd"
  },
  "kernelspec": {
   "display_name": "Python 3.9.12 ('.env': venv)",
   "language": "python",
   "name": "python3"
  },
  "language_info": {
   "codemirror_mode": {
    "name": "ipython",
    "version": 3
   },
   "file_extension": ".py",
   "mimetype": "text/x-python",
   "name": "python",
   "nbconvert_exporter": "python",
   "pygments_lexer": "ipython3",
   "version": "3.9.12"
  },
  "orig_nbformat": 4
 },
 "nbformat": 4,
 "nbformat_minor": 2
}
