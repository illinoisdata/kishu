{
 "cells": [
  {
   "cell_type": "code",
   "execution_count": 1,
   "id": "57eb3530",
   "metadata": {},
   "outputs": [
    {
     "name": "stdout",
     "output_type": "stream",
     "text": [
      "/Users/patience/Documents/Research/illinois.edu/elastic-notebook\n"
     ]
    }
   ],
   "source": [
    "cd .."
   ]
  },
  {
   "cell_type": "code",
   "execution_count": 2,
   "id": "2cbde244",
   "metadata": {},
   "outputs": [],
   "source": [
    "from experiment.migrate import migrate"
   ]
  },
  {
   "cell_type": "code",
   "execution_count": 3,
   "id": "a0e50dce",
   "metadata": {},
   "outputs": [],
   "source": [
    "from elastic.common.migration_metadata import MigrationMetadata"
   ]
  },
  {
   "cell_type": "code",
   "execution_count": 15,
   "id": "72a23e31",
   "metadata": {},
   "outputs": [],
   "source": [
    "a = 100"
   ]
  },
  {
   "cell_type": "code",
   "execution_count": 16,
   "id": "5eea47c5",
   "metadata": {},
   "outputs": [],
   "source": [
    "metadata = MigrationMetadata().with_recompute_code(\"\").with_objects_migrated(\n",
    "    {\"./obj_{}\".format(id(a)): \"a\"}\n",
    ")"
   ]
  },
  {
   "cell_type": "code",
   "execution_count": 17,
   "id": "4277fb9b",
   "metadata": {},
   "outputs": [],
   "source": [
    "from elastic.io.external_storage import ExternalStorage\n",
    "from elastic.io.filesystem_adapter import FilesystemAdapter"
   ]
  },
  {
   "cell_type": "code",
   "execution_count": 18,
   "id": "a1869059",
   "metadata": {},
   "outputs": [],
   "source": [
    "storage = ExternalStorage()\n",
    "storage.register(\"local\", FilesystemAdapter())"
   ]
  },
  {
   "cell_type": "code",
   "execution_count": 8,
   "id": "2a476e0d",
   "metadata": {},
   "outputs": [],
   "source": [
    "migrate([a], \"\", metadata, storage)"
   ]
  },
  {
   "cell_type": "code",
   "execution_count": 9,
   "id": "2999bd8a",
   "metadata": {},
   "outputs": [
    {
     "name": "stdout",
     "output_type": "stream",
     "text": [
      "README.md         \u001b[1m\u001b[36mexperiment\u001b[m\u001b[m/       obj_4341795168    setup.cfg\r\n",
      "\u001b[1m\u001b[36melastic\u001b[m\u001b[m/          metadata.json     obj_4380608864    setup.py\r\n",
      "\u001b[1m\u001b[36mexamples\u001b[m\u001b[m/         obj_4302088544    requirements.txt  \u001b[1m\u001b[36mtest\u001b[m\u001b[m/\r\n"
     ]
    }
   ],
   "source": [
    "ls"
   ]
  },
  {
   "cell_type": "code",
   "execution_count": 19,
   "id": "313e670e",
   "metadata": {},
   "outputs": [
    {
     "name": "stdout",
     "output_type": "stream",
     "text": [
      "{\"objectsMigrated\": {\"./obj_4380608864\": []}, \"recomputeCode\": \"\"}"
     ]
    }
   ],
   "source": [
    "cat metadata.json"
   ]
  },
  {
   "cell_type": "code",
   "execution_count": 22,
   "id": "e6ee55c8",
   "metadata": {},
   "outputs": [
    {
     "name": "stdout",
     "output_type": "stream",
     "text": [
      "a\n"
     ]
    }
   ],
   "source": [
    "glbs = globals().items()\n",
    "for k, v in glbs:\n",
    "    if v is a:\n",
    "        print(k)"
   ]
  },
  {
   "cell_type": "code",
   "execution_count": 23,
   "id": "4792ecda",
   "metadata": {},
   "outputs": [
    {
     "data": {
      "text/plain": [
       "['a']"
      ]
     },
     "execution_count": 23,
     "metadata": {},
     "output_type": "execute_result"
    }
   ],
   "source": [
    "[ k for k,v in glbs if v is a ]"
   ]
  },
  {
   "cell_type": "code",
   "execution_count": null,
   "id": "39d46c76",
   "metadata": {},
   "outputs": [],
   "source": []
  }
 ],
 "metadata": {
  "kernelspec": {
   "display_name": "Python 3 (ipykernel)",
   "language": "python",
   "name": "python3"
  },
  "language_info": {
   "codemirror_mode": {
    "name": "ipython",
    "version": 3
   },
   "file_extension": ".py",
   "mimetype": "text/x-python",
   "name": "python",
   "nbconvert_exporter": "python",
   "pygments_lexer": "ipython3",
   "version": "3.8.8"
  }
 },
 "nbformat": 4,
 "nbformat_minor": 5
}
