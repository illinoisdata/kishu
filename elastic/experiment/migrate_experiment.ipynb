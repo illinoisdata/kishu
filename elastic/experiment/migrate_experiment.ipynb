{
 "cells": [
  {
   "cell_type": "code",
   "execution_count": null,
   "id": "2cbde244",
   "metadata": {
    "pycharm": {
     "name": "#%%\n"
    }
   },
   "outputs": [],
   "source": [
    "import os, sys\n",
    "sys.path.insert(0, os.path.abspath(\"..\"))\n",
    "\n",
    "import numpy as np\n",
    "from sklearn import datasets\n",
    "\n",
    "from experiment.migrate import migrate\n",
    "from core.io.external_storage import ExternalStorage\n",
    "from core.io.filesystem_adapter import FilesystemAdapter\n",
    "\n",
    "from core.record_event import RecordEvent, ClearEvent\n",
    "from core.event import operation_events\n",
    "\n",
    "ClearEvent()"
   ]
  },
  {
   "cell_type": "code",
   "execution_count": null,
   "id": "9863d7aa",
   "metadata": {},
   "outputs": [],
   "source": [
    "@RecordEvent\n",
    "def cell_2():\n",
    "    iris_X, iris_y = datasets.load_iris(return_X_y=True)\n",
    "    return iris_X, iris_y"
   ]
  },
  {
   "cell_type": "code",
   "execution_count": null,
   "id": "35e3f332",
   "metadata": {},
   "outputs": [],
   "source": [
    "iris_X, iris_y = cell_2()"
   ]
  },
  {
   "cell_type": "code",
   "execution_count": null,
   "id": "492720a6",
   "metadata": {},
   "outputs": [],
   "source": [
    "@RecordEvent\n",
    "def cell_4(iris_X, iris_y):\n",
    "    indices = np.random.permutation(len(iris_X))\n",
    "    iris_X_train = iris_X[indices[:-10]]\n",
    "    iris_y_train = iris_y[indices[:-10]]\n",
    "    iris_X_test = iris_X[indices[-10:]]\n",
    "    iris_y_test = iris_y[indices[-10:]]\n",
    "    return indices, iris_X_train, iris_y_train, iris_X_test, iris_y_test"
   ]
  },
  {
   "cell_type": "code",
   "execution_count": null,
   "id": "d143cecd",
   "metadata": {},
   "outputs": [],
   "source": [
    "indices, iris_X_train, iris_y_train, iris_X_test, iris_y_test = cell_4(iris_X, iris_y)"
   ]
  },
  {
   "cell_type": "code",
   "execution_count": null,
   "id": "739e5746",
   "metadata": {},
   "outputs": [],
   "source": [
    "storage = ExternalStorage()\n",
    "storage.register(\"local\", FilesystemAdapter())"
   ]
  },
  {
   "cell_type": "code",
   "execution_count": null,
   "id": "04413586",
   "metadata": {},
   "outputs": [],
   "source": [
    "migrate([\"iris_X\", \"iris_y\"], \n",
    "        [operation_events[1]], # cell_4 \n",
    "        storage, \n",
    "        {\"cell_4\": [\"iris_X\", \"iris_y\"]}, \n",
    "        {\"cell_4\": [\"indices\", \"iris_X_train\", \"iris_y_train\", \"iris_X_test\", \"iris_y_test\"]}, \n",
    "        globals())"
   ]
  }
 ],
 "metadata": {
  "interpreter": {
   "hash": "73e29f827a180d655af59b8e84c2509fd207c6d30a6436933ca2d326b6144ecd"
  },
  "kernelspec": {
   "display_name": "Python 3.9.12 ('.env': venv)",
   "language": "python",
   "name": "python3"
  },
  "language_info": {
   "codemirror_mode": {
    "name": "ipython",
    "version": 3
   },
   "file_extension": ".py",
   "mimetype": "text/x-python",
   "name": "python",
   "nbconvert_exporter": "python",
   "pygments_lexer": "ipython3",
   "version": "3.9.12"
  }
 },
 "nbformat": 4,
 "nbformat_minor": 5
}
