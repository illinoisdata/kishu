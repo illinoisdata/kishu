{
 "cells": [
  {
   "cell_type": "code",
   "execution_count": 1,
   "id": "2cbde244",
   "metadata": {
    "pycharm": {
     "name": "#%%\n"
    }
   },
   "outputs": [],
   "source": [
    "import os, sys\n",
    "sys.path.insert(0, os.path.abspath(\"..\"))\n",
    "\n",
    "import numpy as np\n",
    "from sklearn import datasets\n",
    "\n",
    "from core.io.migrate import migrate\n",
    "from core.graph.node import Node\n",
    "from core.graph.node_set import NodeSet, NodeSetType\n",
    "from core.graph.edge import Edge\n",
    "from core.graph.versioned_var import VersionedVariable\n",
    "from core.container import DataContainer\n",
    "\n",
    "from core.record_event import RecordEvent, ClearEvent\n",
    "from core.event import operation_events\n",
    "\n",
    "ClearEvent()"
   ]
  },
  {
   "cell_type": "code",
   "execution_count": 2,
   "id": "9863d7aa",
   "metadata": {},
   "outputs": [],
   "source": [
    "@RecordEvent\n",
    "def cell_2():\n",
    "    iris_X, iris_y = datasets.load_iris(return_X_y=True)\n",
    "    return iris_X, iris_y"
   ]
  },
  {
   "cell_type": "code",
   "execution_count": 3,
   "id": "35e3f332",
   "metadata": {},
   "outputs": [
    {
     "name": "stdout",
     "output_type": "stream",
     "text": [
      "\n"
     ]
    }
   ],
   "source": [
    "iris_X, iris_y = cell_2()"
   ]
  },
  {
   "cell_type": "code",
   "execution_count": 4,
   "id": "492720a6",
   "metadata": {},
   "outputs": [],
   "source": [
    "@RecordEvent\n",
    "def cell_4():\n",
    "    indices = np.random.permutation(len(iris_X))\n",
    "    iris_X_train = iris_X[indices[:-10]]\n",
    "    iris_y_train = iris_y[indices[:-10]]\n",
    "    iris_X_test = iris_X[indices[-10:]]\n",
    "    iris_y_test = iris_y[indices[-10:]]\n",
    "    return indices, iris_X_train, iris_y_train, iris_X_test, iris_y_test"
   ]
  },
  {
   "cell_type": "code",
   "execution_count": 5,
   "id": "d143cecd",
   "metadata": {},
   "outputs": [
    {
     "name": "stdout",
     "output_type": "stream",
     "text": [
      "\n"
     ]
    }
   ],
   "source": [
    "indices, iris_X_train, iris_y_train, iris_X_test, iris_y_test = cell_4()"
   ]
  },
  {
   "cell_type": "code",
   "execution_count": 6,
   "id": "04413586",
   "metadata": {},
   "outputs": [],
   "source": [
    "node1 = Node(VersionedVariable(\"iris_X\", 1, 1), DataContainer(\"iris_X\", 1, iris_X, operation_events[0]), 1)\n",
    "node2 = Node(VersionedVariable(\"iris_y\", 2, 1), DataContainer(\"iris_y\", 1, iris_y, operation_events[0]), 1)\n",
    "node3 = Node(VersionedVariable(\"indices\", 3, 1), DataContainer(\"indices\", 1, indices, operation_events[1]), 1)\n",
    "node4 = Node(VersionedVariable(\"iris_X_train\", 4, 1), DataContainer(\"iris_X_train\", 1, iris_X_train, operation_events[1]), 1)\n",
    "node5 = Node(VersionedVariable(\"iris_y_train\", 5, 1), DataContainer(\"iris_y_train\", 1, iris_y_train, operation_events[1]), 1)\n",
    "node6 = Node(VersionedVariable(\"iris_X_test\", 6, 1), DataContainer(\"iris_X_test\", 1, iris_X_test, operation_events[1]), 1)\n",
    "node7 = Node(VersionedVariable(\"iris_y_test\", 7, 1), DataContainer(\"iris_y_test\", 1, iris_y_test, operation_events[1]), 1)\n",
    "edge = Edge(operation_events[1], \"\", NodeSet([node1, node2], NodeSetType.INPUT), NodeSet([node3, node4, node5, node6, node7], NodeSetType.OUTPUT))"
   ]
  },
  {
   "cell_type": "code",
   "execution_count": 7,
   "id": "07523921",
   "metadata": {},
   "outputs": [
    {
     "data": {
      "text/plain": [
       "['iris_X = data_container_dict[\"iris_X\"]',\n",
       " 'iris_y = data_container_dict[\"iris_y\"]',\n",
       " 'def cell_4():\\n    indices = np.random.permutation(len(iris_X))\\n    iris_X_train = iris_X[indices[:-10]]\\n    iris_y_train = iris_y[indices[:-10]]\\n    iris_X_test = iris_X[indices[-10:]]\\n    iris_y_test = iris_y[indices[-10:]]\\n    return indices, iris_X_train, iris_y_train, iris_X_test, iris_y_test',\n",
       " 'indices, iris_X_train, iris_y_train, iris_X_test, iris_y_test = cell_4()']"
      ]
     },
     "execution_count": 7,
     "metadata": {},
     "output_type": "execute_result"
    }
   ],
   "source": [
    "migrate([node1, node2], [edge], \"test\")"
   ]
  }
 ],
 "metadata": {
  "interpreter": {
   "hash": "73e29f827a180d655af59b8e84c2509fd207c6d30a6436933ca2d326b6144ecd"
  },
  "kernelspec": {
   "display_name": "Python 3.9.12 ('.env': venv)",
   "language": "python",
   "name": "python3"
  },
  "language_info": {
   "codemirror_mode": {
    "name": "ipython",
    "version": 3
   },
   "file_extension": ".py",
   "mimetype": "text/x-python",
   "name": "python",
   "nbconvert_exporter": "python",
   "pygments_lexer": "ipython3",
   "version": "3.9.12"
  }
 },
 "nbformat": 4,
 "nbformat_minor": 5
}
