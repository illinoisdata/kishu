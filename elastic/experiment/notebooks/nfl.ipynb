{
 "cells": [
  {
   "cell_type": "code",
   "execution_count": null,
   "id": "655b1ed7",
   "metadata": {
    "_cell_guid": "b1076dfc-b9ad-4769-8c92-a6c4dae69d19",
    "_kg_hide-input": true,
    "_kg_hide-output": true,
    "_uuid": "8f2839f25d086af736a60e9eeb907d3b93b6e0e5",
    "execution": {
     "iopub.execute_input": "2022-10-11T08:37:57.723524Z",
     "iopub.status.busy": "2022-10-11T08:37:57.721492Z",
     "iopub.status.idle": "2022-10-11T08:37:57.739291Z",
     "shell.execute_reply": "2022-10-11T08:37:57.740080Z",
     "shell.execute_reply.started": "2022-10-11T08:34:41.859843Z"
    },
    "papermill": {
     "duration": 0.083201,
     "end_time": "2022-10-11T08:37:57.740534",
     "exception": false,
     "start_time": "2022-10-11T08:37:57.657333",
     "status": "completed"
    },
    "tags": []
   },
   "outputs": [],
   "source": [
    "# This Python 3 environment comes with many helpful analytics libraries installed\n",
    "# It is defined by the kaggle/python Docker image: https://github.com/kaggle/docker-python\n",
    "# For example, here's several helpful packages to load\n",
    "\n",
    "import numpy as np # linear algebra\n",
    "import pandas as pd # data processing, CSV file I/O (e.g. pd.read_csv)\n",
    "\n",
    "# Input data files are available in the read-only \"../input/\" directory\n",
    "# For example, running this (by clicking run or pressing Shift+Enter) will list all files under the input directory\n",
    "\n",
    "import os\n",
    "\n",
    "# You can write up to 20GB to the current directory (/kaggle/working/) that gets preserved as output when you create a version using \"Save & Run All\" \n",
    "# You can also write temporary files to /kaggle/temp/, but they won't be saved outside of the current session"
   ]
  },
  {
   "cell_type": "code",
   "execution_count": null,
   "id": "4f527a13",
   "metadata": {
    "_kg_hide-input": true,
    "execution": {
     "iopub.execute_input": "2022-10-11T08:37:57.847735Z",
     "iopub.status.busy": "2022-10-11T08:37:57.844713Z",
     "iopub.status.idle": "2022-10-11T08:37:57.851369Z",
     "shell.execute_reply": "2022-10-11T08:37:57.850798Z",
     "shell.execute_reply.started": "2022-10-11T08:34:42.014925Z"
    },
    "papermill": {
     "duration": 0.060852,
     "end_time": "2022-10-11T08:37:57.851528",
     "exception": false,
     "start_time": "2022-10-11T08:37:57.790676",
     "status": "completed"
    },
    "tags": []
   },
   "outputs": [],
   "source": [
    "from IPython.core.display import display, HTML, Javascript\n",
    "\n",
    "html_contents =\"\"\"\n",
    "<!DOCTYPE html>\n",
    "<html lang=\"en\">\n",
    "    <head>\n",
    "        <link rel=\"stylesheet\" href=\"https://www.w3schools.com/w3css/4/w3.css\">\n",
    "        <link rel=\"stylesheet\" href=\"https://fonts.googleapis.com/css?family=Raleway\">\n",
    "        <link rel=\"stylesheet\" href=\"https://fonts.googleapis.com/css?family=Roboto\">\n",
    "        <link rel=\"stylesheet\" href=\"https://fonts.googleapis.com/css?family=Verdana\">\n",
    "        <link rel=\"stylesheet\" href=\"https://fonts.googleapis.com/css?family=Open Sans\">\n",
    "        <link rel=\"stylesheet\" href=\"https://cdnjs.cloudflare.com/ajax/libs/font-awesome/4.7.0/css/font-awesome.min.css\">\n",
    "        <style>\n",
    "        .title-section{\n",
    "            font-family: \"Roboto\", Verdana, sans-serif;\n",
    "            font-weight: bold;\n",
    "            color: \"#6A8CAF\";\n",
    "            letter-spacing: 6px;\n",
    "        }\n",
    "        hr { border: 1px solid #E58F65 !important;\n",
    "             color: #E58F65 !important;\n",
    "             background: #E58F65 !important;\n",
    "           }\n",
    "        body {\n",
    "            font-family: \"Verdana\", sans-serif;\n",
    "            }        \n",
    "        </style>\n",
    "    </head>    \n",
    "</html>\n",
    "\"\"\"\n",
    "\n",
    "HTML(html_contents)"
   ]
  },
  {
   "cell_type": "markdown",
   "id": "6f81e4c3",
   "metadata": {
    "papermill": {
     "duration": 0.0457,
     "end_time": "2022-10-11T08:37:57.943061",
     "exception": false,
     "start_time": "2022-10-11T08:37:57.897361",
     "status": "completed"
    },
    "tags": []
   },
   "source": [
    "# <span class=\"title-section w3-xxlarge\" style=\"color:#DC143C\" id=\"codebook\">0.NFL - National Football League - An Introduction </span>\n"
   ]
  },
  {
   "cell_type": "markdown",
   "id": "db52fb9d",
   "metadata": {
    "papermill": {
     "duration": 0.045357,
     "end_time": "2022-10-11T08:37:58.034187",
     "exception": false,
     "start_time": "2022-10-11T08:37:57.988830",
     "status": "completed"
    },
    "tags": []
   },
   "source": [
    "| NFL Logo | NFL Team Locations |\n",
    "| :---: | :-----: |\n",
    "| ![NFL](https://upload.wikimedia.org/wikipedia/en/thumb/a/a2/National_Football_League_logo.svg/188px-National_Football_League_logo.svg.png) |   ![NFL Teams](https://upload.wikimedia.org/wikipedia/commons/thumb/e/e0/US_National_Football_League_Teams_Location-en.svg/500px-US_National_Football_League_Teams_Location-en.svg.png)   |\n",
    "\n",
    "\n",
    "\n",
    "\n",
    "\n",
    "###### Some Info from Wikipedia\n",
    "###### The National Football League (NFL) is a professional American football league consisting of 32 teams, divided equally between the National Football Conference (NFC) and the American Football Conference (AFC). The NFL is one of the four major North American professional sports leagues, the highest professional level of American football in the world.\n",
    "\n",
    "###### The NFL's eighteen-week regular season runs from early September to early January, with each team playing seventeen games and having one bye week. Following the conclusion of the regular season, seven teams from each conference (four division winners and three wild card teams) advance to the playoffs, a single-elimination tournament culminating in the Super Bowl, which is usually held on the first Sunday in February and is played between the champions of the NFC and AFC. The league is headquartered in New York City.\n",
    "\n",
    "###### The NFL was formed in 1920 as the American Professional Football Association (APFA) before renaming itself the National Football League for the 1922 season. After initially determining champions through end-of-season standings, a playoff system was implemented in 1933 that culminated with the NFL Championship Game until 1966. Following an agreement to merge the NFL with the rival American Football League (AFL), the Super Bowl was first held in 1967 to determine a champion between the best teams from the two leagues and has remained as the final game of each NFL season since the merger was completed in 1970.\n",
    "\n",
    "###### Today,the NFL has the highest average attendance (67,591) of any professional sports league in the world and is the most popular sports league in the United States. The Super Bowl is also among the biggest club sporting events in the world, with the individual games accounting for many of the most watched television programs in American history and all occupying the Nielsen's Top 5 tally of the all-time most watched U.S. television broadcasts by 2015. The NFL is the wealthiest professional sports league by revenue, and the sports league with the most valuable teams."
   ]
  },
  {
   "cell_type": "markdown",
   "id": "4012aa56",
   "metadata": {
    "papermill": {
     "duration": 0.045616,
     "end_time": "2022-10-11T08:37:58.125939",
     "exception": false,
     "start_time": "2022-10-11T08:37:58.080323",
     "status": "completed"
    },
    "tags": []
   },
   "source": [
    "# <span class=\"title-section w3-xxlarge\" style=\"color:#DC143C\" id=\"codebook\">1.Load the Libraries </span>\n"
   ]
  },
  {
   "cell_type": "code",
   "execution_count": null,
   "id": "c9934ec7",
   "metadata": {
    "execution": {
     "iopub.execute_input": "2022-10-11T08:37:58.287853Z",
     "iopub.status.busy": "2022-10-11T08:37:58.287008Z",
     "iopub.status.idle": "2022-10-11T08:38:00.383746Z",
     "shell.execute_reply": "2022-10-11T08:38:00.382947Z",
     "shell.execute_reply.started": "2022-10-11T08:34:42.037965Z"
    },
    "papermill": {
     "duration": 2.21197,
     "end_time": "2022-10-11T08:38:00.383896",
     "exception": false,
     "start_time": "2022-10-11T08:37:58.171926",
     "status": "completed"
    },
    "tags": []
   },
   "outputs": [],
   "source": [
    "import seaborn as sns\n",
    "import plotly.express as px\n",
    "import matplotlib.pyplot as plt"
   ]
  },
  {
   "cell_type": "code",
   "execution_count": null,
   "id": "3c900163",
   "metadata": {
    "execution": {
     "iopub.execute_input": "2022-10-11T08:38:00.483094Z",
     "iopub.status.busy": "2022-10-11T08:38:00.482334Z",
     "iopub.status.idle": "2022-10-11T08:38:00.578228Z",
     "shell.execute_reply": "2022-10-11T08:38:00.577645Z",
     "shell.execute_reply.started": "2022-10-11T08:34:42.056018Z"
    },
    "papermill": {
     "duration": 0.146685,
     "end_time": "2022-10-11T08:38:00.578438",
     "exception": false,
     "start_time": "2022-10-11T08:38:00.431753",
     "status": "completed"
    },
    "tags": []
   },
   "outputs": [],
   "source": [
    "plays = 'notebooks/data/plays.csv'\n",
    "plays_df = pd.read_csv(plays)\n",
    "plays_df"
   ]
  },
  {
   "cell_type": "markdown",
   "id": "6d24dc4e",
   "metadata": {
    "papermill": {
     "duration": 0.045773,
     "end_time": "2022-10-11T08:38:00.671464",
     "exception": false,
     "start_time": "2022-10-11T08:38:00.625691",
     "status": "completed"
    },
    "tags": []
   },
   "source": [
    "# <span class=\"title-section w3-xxlarge\" style=\"color:#DC143C\" id=\"codebook\">2.Check the Datasets </span>\n"
   ]
  },
  {
   "cell_type": "code",
   "execution_count": null,
   "id": "5aeb9b0c",
   "metadata": {
    "execution": {
     "iopub.execute_input": "2022-10-11T08:38:00.767357Z",
     "iopub.status.busy": "2022-10-11T08:38:00.766276Z",
     "iopub.status.idle": "2022-10-11T08:38:00.772836Z",
     "shell.execute_reply": "2022-10-11T08:38:00.773420Z",
     "shell.execute_reply.started": "2022-10-11T08:34:42.245697Z"
    },
    "papermill": {
     "duration": 0.056722,
     "end_time": "2022-10-11T08:38:00.773623",
     "exception": false,
     "start_time": "2022-10-11T08:38:00.716901",
     "status": "completed"
    },
    "tags": []
   },
   "outputs": [],
   "source": [
    "def disp(data,num):\n",
    "    print(data.shape)\n",
    "    print(data.columns)\n",
    "    print(\"*\"*num)\n",
    "    print(data.describe())\n",
    "    print(\"=\"*num)\n",
    "    return data.head(num)"
   ]
  },
  {
   "cell_type": "code",
   "execution_count": null,
   "id": "059a6871",
   "metadata": {
    "execution": {
     "iopub.execute_input": "2022-10-11T08:38:00.878573Z",
     "iopub.status.busy": "2022-10-11T08:38:00.868495Z",
     "iopub.status.idle": "2022-10-11T08:38:00.950362Z",
     "shell.execute_reply": "2022-10-11T08:38:00.950923Z",
     "shell.execute_reply.started": "2022-10-11T08:34:42.253412Z"
    },
    "papermill": {
     "duration": 0.131448,
     "end_time": "2022-10-11T08:38:00.951120",
     "exception": false,
     "start_time": "2022-10-11T08:38:00.819672",
     "status": "completed"
    },
    "tags": []
   },
   "outputs": [],
   "source": [
    "print(disp(plays_df,20))"
   ]
  },
  {
   "cell_type": "code",
   "execution_count": null,
   "id": "b16d7ef6",
   "metadata": {
    "execution": {
     "iopub.execute_input": "2022-10-11T08:38:01.050516Z",
     "iopub.status.busy": "2022-10-11T08:38:01.048677Z",
     "iopub.status.idle": "2022-10-11T08:38:01.101821Z",
     "shell.execute_reply": "2022-10-11T08:38:01.102351Z",
     "shell.execute_reply.started": "2022-10-11T08:34:42.335665Z"
    },
    "papermill": {
     "duration": 0.103965,
     "end_time": "2022-10-11T08:38:01.102557",
     "exception": false,
     "start_time": "2022-10-11T08:38:00.998592",
     "status": "completed"
    },
    "tags": []
   },
   "outputs": [],
   "source": [
    "plays_df.fillna(0)"
   ]
  },
  {
   "cell_type": "markdown",
   "id": "3e1450e3",
   "metadata": {
    "papermill": {
     "duration": 0.049327,
     "end_time": "2022-10-11T08:38:01.201230",
     "exception": false,
     "start_time": "2022-10-11T08:38:01.151903",
     "status": "completed"
    },
    "tags": []
   },
   "source": [
    "# <span class=\"title-section w3-xlarge\" style=\"color:#DC143C\" id=\"codebook\">2.1.Let us do some basic EDA Using DataPrep </span>\n"
   ]
  },
  {
   "cell_type": "code",
   "execution_count": null,
   "id": "1989791f",
   "metadata": {
    "_kg_hide-output": true,
    "execution": {
     "iopub.execute_input": "2022-10-11T08:38:01.307836Z",
     "iopub.status.busy": "2022-10-11T08:38:01.306968Z",
     "iopub.status.idle": "2022-10-11T08:38:52.510830Z",
     "shell.execute_reply": "2022-10-11T08:38:52.510274Z",
     "shell.execute_reply.started": "2022-10-11T08:35:38.616473Z"
    },
    "papermill": {
     "duration": 51.261815,
     "end_time": "2022-10-11T08:38:52.510993",
     "exception": false,
     "start_time": "2022-10-11T08:38:01.249178",
     "status": "completed"
    },
    "tags": []
   },
   "outputs": [],
   "source": [
    "from dataprep.datasets import load_dataset\n",
    "from dataprep.eda import create_report\n",
    "from dataprep.eda import plot, plot_correlation, plot_missing"
   ]
  },
  {
   "cell_type": "code",
   "execution_count": null,
   "id": "94598aa5",
   "metadata": {
    "_kg_hide-input": true,
    "execution": {
     "iopub.execute_input": "2022-10-11T08:38:53.013954Z",
     "iopub.status.busy": "2022-10-11T08:38:53.013197Z",
     "iopub.status.idle": "2022-10-11T08:39:19.585503Z",
     "shell.execute_reply": "2022-10-11T08:39:19.584816Z",
     "shell.execute_reply.started": "2022-10-11T08:36:47.691243Z"
    },
    "papermill": {
     "duration": 26.820991,
     "end_time": "2022-10-11T08:39:19.585687",
     "exception": false,
     "start_time": "2022-10-11T08:38:52.764696",
     "status": "completed"
    },
    "tags": []
   },
   "outputs": [],
   "source": [
    "create_report(plays_df).show_browser()"
   ]
  },
  {
   "cell_type": "code",
   "execution_count": null,
   "id": "b455ecb7",
   "metadata": {
    "_kg_hide-input": true,
    "execution": {
     "iopub.execute_input": "2022-10-11T08:39:20.066131Z",
     "iopub.status.busy": "2022-10-11T08:39:20.065097Z",
     "iopub.status.idle": "2022-10-11T08:39:27.317088Z",
     "shell.execute_reply": "2022-10-11T08:39:27.317654Z",
     "shell.execute_reply.started": "2022-10-11T08:37:13.025807Z"
    },
    "papermill": {
     "duration": 7.502908,
     "end_time": "2022-10-11T08:39:27.317852",
     "exception": false,
     "start_time": "2022-10-11T08:39:19.814944",
     "status": "completed"
    },
    "tags": []
   },
   "outputs": [],
   "source": [
    "plot(plays_df)"
   ]
  },
  {
   "cell_type": "code",
   "execution_count": null,
   "id": "682abcff",
   "metadata": {
    "_kg_hide-input": true,
    "execution": {
     "iopub.execute_input": "2022-10-11T08:39:27.966523Z",
     "iopub.status.busy": "2022-10-11T08:39:27.965773Z",
     "iopub.status.idle": "2022-10-11T08:39:29.118999Z",
     "shell.execute_reply": "2022-10-11T08:39:29.119571Z",
     "shell.execute_reply.started": "2022-10-11T08:37:19.981264Z"
    },
    "papermill": {
     "duration": 1.477089,
     "end_time": "2022-10-11T08:39:29.119763",
     "exception": false,
     "start_time": "2022-10-11T08:39:27.642674",
     "status": "completed"
    },
    "tags": []
   },
   "outputs": [],
   "source": [
    "plot_correlation(plays_df)"
   ]
  },
  {
   "cell_type": "code",
   "execution_count": null,
   "id": "56336b85",
   "metadata": {
    "_kg_hide-input": true,
    "execution": {
     "iopub.execute_input": "2022-10-11T08:39:29.925820Z",
     "iopub.status.busy": "2022-10-11T08:39:29.908849Z",
     "iopub.status.idle": "2022-10-11T08:39:31.176899Z",
     "shell.execute_reply": "2022-10-11T08:39:31.177475Z",
     "shell.execute_reply.started": "2022-10-11T08:34:42.406968Z"
    },
    "papermill": {
     "duration": 1.660151,
     "end_time": "2022-10-11T08:39:31.177662",
     "exception": false,
     "start_time": "2022-10-11T08:39:29.517511",
     "status": "completed"
    },
    "tags": []
   },
   "outputs": [],
   "source": [
    "plot_missing(plays_df)"
   ]
  },
  {
   "cell_type": "markdown",
   "id": "2cdb2fe4",
   "metadata": {
    "papermill": {
     "duration": 0.474056,
     "end_time": "2022-10-11T08:39:32.126079",
     "exception": false,
     "start_time": "2022-10-11T08:39:31.652023",
     "status": "completed"
    },
    "tags": []
   },
   "source": [
    "# <span class=\"title-section w3-xxlarge\" style=\"color:#DC143C\" id=\"codebook\">3.Let us do some basic Visualization using Matplotlib and Seaborn </span>\n"
   ]
  },
  {
   "cell_type": "code",
   "execution_count": null,
   "id": "93c30f3d",
   "metadata": {
    "execution": {
     "iopub.execute_input": "2022-10-11T08:39:33.076604Z",
     "iopub.status.busy": "2022-10-11T08:39:33.075445Z",
     "iopub.status.idle": "2022-10-11T08:39:37.654706Z",
     "shell.execute_reply": "2022-10-11T08:39:37.655354Z",
     "shell.execute_reply.started": "2022-10-11T08:11:20.949151Z"
    },
    "papermill": {
     "duration": 5.05519,
     "end_time": "2022-10-11T08:39:37.655594",
     "exception": false,
     "start_time": "2022-10-11T08:39:32.600404",
     "status": "completed"
    },
    "tags": []
   },
   "outputs": [],
   "source": [
    "# Import necessary auxiliary stuffs\n",
    "from matplotlib import gridspec, ticker\n",
    "\n",
    "# Define size and grid spec\n",
    "fig = plt.figure(figsize=(30, 20), constrained_layout=False)\n",
    "gs = gridspec.GridSpec(3, 3, figure=fig)\n",
    "plt.xticks(rotation=90)\n",
    "\n",
    "# Make plot to put in first row, rightmost column\n",
    "ax = fig.add_subplot(gs[1, 2])\n",
    "sns.regplot(data = plays_df, x = 'playResult', y = 'prePenaltyPlayResult',\n",
    "            ax = ax, lowess = True,\n",
    "            scatter_kws = {'alpha': 0.005, 'color': 'green'},\n",
    "            line_kws = {'color': 'blue'}) \\\n",
    "    .set_yscale('log')\n",
    "\n",
    "ax.set(title = 'Play Return Number Vs Penalty Yards Info', xlabel = None)\n",
    "\n",
    "plt.xticks(rotation=90)\n",
    "\n",
    "# Make plot to put in second row, rightmost column\n",
    "ax = fig.add_subplot(gs[0, 2])\n",
    "sns.boxenplot(data = plays_df, x = 'possessionTeam', y = 'penaltyYards', ax = ax) \\\n",
    "    .set_yscale('log')\n",
    "ax.set(title = 'Penalty Yardage by Special Teams', xlabel = None)\n",
    "plt.xticks(rotation=90)\n",
    "\n",
    "# Make plot to put in third row, rightmost column\n",
    "ax = fig.add_subplot(gs[2, 2])\n",
    "sns.boxenplot(data = plays_df, x = 'possessionTeam', y = 'absoluteYardlineNumber', ax = ax) \\\n",
    "    .set_yscale('log')\n",
    "ax.set(title = 'Absolute Yardline Number for Special Teams Returns', xlabel = None)\n",
    "plt.xticks(rotation=90)\n",
    "\n",
    "# Make plot to put in third row, center column\n",
    "ax = fig.add_subplot(gs[2, 0])\n",
    "sns.regplot(data = plays_df, y = 'playResult', x = 'prePenaltyPlayResult',\n",
    "            ax = ax, lowess = True,\n",
    "            scatter_kws = {'alpha': 0.005, 'color': 'magenta'},\n",
    "            line_kws = {'color': 'blue'}) \\\n",
    "    .set_yscale('log')\n",
    "ax.set(title = 'Kick Length', xlabel = None)\n",
    "plt.xticks(rotation=90)\n",
    "\n",
    "# Make plot to put in third row, leftmost column\n",
    "ax = fig.add_subplot(gs[2, 1])\n",
    "sns.regplot(data = plays_df, x = 'down', y = 'playResult',\n",
    "            ax = ax, lowess = True,\n",
    "            scatter_kws = {'alpha': 0.005, 'color': 'purple'},\n",
    "            line_kws = {'color': 'blue'}) \\\n",
    "    .set_yscale('log')\n",
    "ax.set(title = 'Game Down vs Kick Return info', xlabel = None)\n",
    "plt.xticks(rotation=90)\n",
    "\n",
    "# Make plot that spans the remaining grid\n",
    "ax = fig.add_subplot(gs[0:2, 0:2])\n",
    "sns.boxenplot(data = plays_df, x = 'possessionTeam', y = 'playResult', ax = ax) \\\n",
    "    .set_yscale('log')\n",
    "ax.set(title = 'Kick Return Yardage by Team', xlabel = None)\n",
    "plt.xticks(rotation=60)\n",
    "\n",
    "plt.show()"
   ]
  },
  {
   "cell_type": "code",
   "execution_count": null,
   "id": "94bd9df2",
   "metadata": {
    "execution": {
     "iopub.execute_input": "2022-10-11T08:39:38.636300Z",
     "iopub.status.busy": "2022-10-11T08:39:38.635149Z",
     "iopub.status.idle": "2022-10-11T08:39:40.517916Z",
     "shell.execute_reply": "2022-10-11T08:39:40.518467Z",
     "shell.execute_reply.started": "2022-10-11T08:11:25.423402Z"
    },
    "papermill": {
     "duration": 2.371165,
     "end_time": "2022-10-11T08:39:40.518660",
     "exception": false,
     "start_time": "2022-10-11T08:39:38.147495",
     "status": "completed"
    },
    "tags": []
   },
   "outputs": [],
   "source": [
    "\n",
    "color_counts = (plays_df['possessionTeam'].value_counts().reset_index())\n",
    "color_counts.columns = ['possessionTeam', 'count']\n",
    "\n",
    "order = color_counts['possessionTeam']\n",
    "palette = color_counts['possessionTeam'].replace('other', None) # \"other\" is not a color name\n",
    "\n",
    "fig = plt.figure(figsize=(15, 8))\n",
    "gs = gridspec.GridSpec(1, 3, figure=fig)\n",
    "\n",
    "# Left plot\n",
    "ax = fig.add_subplot(gs[0])\n",
    "sns.barplot(data = color_counts, x = 'count', y = 'possessionTeam',\n",
    "            #palette = palette, \n",
    "            ax = ax)\n",
    "ax.set(title = 'Team KickOffReturns')\n",
    "ax.set_xlim((0, 900))\n",
    "for p in ax.patches:\n",
    "    ax.annotate(f\"{int(p.get_width())}\", xy = (p.get_width(), p.get_y() + 0.5),\n",
    "                horizontalalignment = 'left')\n",
    "    clr = p.get_facecolor()\n",
    "    if clr == (1, 1, 1, 1):\n",
    "        # If facecolor is white\n",
    "        p.set_edgecolor('magenta')\n",
    "ax.set_ylabel('')\n",
    "\n",
    "\n",
    "# Right plot\n",
    "ax = fig.add_subplot(gs[1:3])\n",
    "sns.boxenplot(data = plays_df, x = 'prePenaltyPlayResult', y = 'possessionTeam',\n",
    "              order = order, \n",
    "              #palette = palette, \n",
    "              ax = ax)\n",
    "ax.set(title = 'Team Kick Lengths', xscale = 'log')\n",
    "ax.yaxis.tick_right()\n",
    "ax.set_ylabel('')\n",
    "\n",
    "plt.suptitle(\"How teams performed when it comes to kick lengths\", fontsize = 15)\n",
    "plt.tight_layout()\n",
    "plt.show()\n",
    "\n",
    " "
   ]
  },
  {
   "cell_type": "code",
   "execution_count": null,
   "id": "8015fe9b",
   "metadata": {
    "execution": {
     "iopub.execute_input": "2022-10-11T08:39:41.524634Z",
     "iopub.status.busy": "2022-10-11T08:39:41.523524Z",
     "iopub.status.idle": "2022-10-11T08:39:41.550398Z",
     "shell.execute_reply": "2022-10-11T08:39:41.550983Z",
     "shell.execute_reply.started": "2022-10-11T08:11:27.575593Z"
    },
    "papermill": {
     "duration": 0.551757,
     "end_time": "2022-10-11T08:39:41.551170",
     "exception": false,
     "start_time": "2022-10-11T08:39:40.999413",
     "status": "completed"
    },
    "tags": []
   },
   "outputs": [],
   "source": [
    "\n",
    "df_temp = pd.DataFrame(plays_df.groupby(['offenseFormation']).playResult.count())\n",
    "df_temp2 = pd.DataFrame(plays_df.groupby(['playResult']).playResult.count())\n",
    "df_temp3= pd.DataFrame(plays_df.groupby(['offenseFormation', 'playResult']).count()).reset_index()\n",
    "df_temp=df_temp.rename(columns={\"playResult\": \"playResult\"})\n",
    "df_temp2=df_temp2.rename(columns={\"playResult\": \"playResult\"})\n",
    "df_temp=df_temp.fillna(0)"
   ]
  },
  {
   "cell_type": "markdown",
   "id": "35b0bafa",
   "metadata": {
    "papermill": {
     "duration": 0.485322,
     "end_time": "2022-10-11T08:39:42.531647",
     "exception": false,
     "start_time": "2022-10-11T08:39:42.046325",
     "status": "completed"
    },
    "tags": []
   },
   "source": [
    "## <span class=\"title-section w3-xlarge\" style=\"color:#DC143C\" id=\"codebook\">4.1.Some Plots based on Number of Special Team plays </span>\n"
   ]
  },
  {
   "cell_type": "markdown",
   "id": "056a3960",
   "metadata": {
    "papermill": {
     "duration": 0.482677,
     "end_time": "2022-10-11T08:39:43.497852",
     "exception": false,
     "start_time": "2022-10-11T08:39:43.015175",
     "status": "completed"
    },
    "tags": []
   },
   "source": [
    "</span>\n"
   ]
  },
  {
   "cell_type": "code",
   "execution_count": null,
   "id": "520ed9b1",
   "metadata": {
    "execution": {
     "iopub.execute_input": "2022-10-11T08:39:44.494733Z",
     "iopub.status.busy": "2022-10-11T08:39:44.493626Z",
     "iopub.status.idle": "2022-10-11T08:39:45.787020Z",
     "shell.execute_reply": "2022-10-11T08:39:45.786037Z",
     "shell.execute_reply.started": "2022-10-11T08:11:27.606366Z"
    },
    "papermill": {
     "duration": 1.779639,
     "end_time": "2022-10-11T08:39:45.787195",
     "exception": false,
     "start_time": "2022-10-11T08:39:44.007556",
     "status": "completed"
    },
    "tags": []
   },
   "outputs": [],
   "source": [
    "fig = px.box(df_temp2, x=\"playResult\")\n",
    "fig.show()\n",
    "fig = px.bar(df_temp2, x=\"playResult\")\n",
    "fig.show()\n",
    "fig = px.bar(df_temp3.sort_values('gameId',ascending=False), x='gameId', y='playResult')#, color='playDescription')\n",
    "fig.show()\n",
    "fig = px.bar(df_temp3.sort_values('gameId',ascending=False), x='gameId', y='playResult', color='playDescription')\n",
    "\n",
    " "
   ]
  },
  {
   "cell_type": "code",
   "execution_count": null,
   "id": "c735fbc9",
   "metadata": {
    "execution": {
     "iopub.execute_input": "2022-10-11T08:39:46.788236Z",
     "iopub.status.busy": "2022-10-11T08:39:46.787184Z",
     "iopub.status.idle": "2022-10-11T08:39:46.789868Z",
     "shell.execute_reply": "2022-10-11T08:39:46.790441Z",
     "shell.execute_reply.started": "2022-10-11T08:11:28.820241Z"
    },
    "papermill": {
     "duration": 0.49777,
     "end_time": "2022-10-11T08:39:46.790648",
     "exception": false,
     "start_time": "2022-10-11T08:39:46.292878",
     "status": "completed"
    },
    "tags": []
   },
   "outputs": [],
   "source": [
    "del df_temp\n",
    "del df_temp3\n",
    "del df_temp2"
   ]
  },
  {
   "cell_type": "markdown",
   "id": "658b384f",
   "metadata": {
    "papermill": {
     "duration": 0.51391,
     "end_time": "2022-10-11T08:39:47.795433",
     "exception": false,
     "start_time": "2022-10-11T08:39:47.281523",
     "status": "completed"
    },
    "tags": []
   },
   "source": [
    "## <span class=\"title-section w3-xlarge\" style=\"color:#DC143C\" id=\"codebook\">4.3.Some Plots based on Number of Special Team Kick Return Yardage </span>\n"
   ]
  },
  {
   "cell_type": "code",
   "execution_count": null,
   "id": "7cbb2f68",
   "metadata": {
    "execution": {
     "iopub.execute_input": "2022-10-11T08:39:48.792615Z",
     "iopub.status.busy": "2022-10-11T08:39:48.791821Z",
     "iopub.status.idle": "2022-10-11T08:40:29.601374Z",
     "shell.execute_reply": "2022-10-11T08:40:29.601949Z",
     "shell.execute_reply.started": "2022-10-11T08:11:28.826449Z"
    },
    "papermill": {
     "duration": 41.315531,
     "end_time": "2022-10-11T08:40:29.602146",
     "exception": false,
     "start_time": "2022-10-11T08:39:48.286615",
     "status": "completed"
    },
    "tags": []
   },
   "outputs": [],
   "source": [
    "\n",
    "df_temp = pd.DataFrame(plays_df.groupby(['possessionTeam','offenseFormation']).playResult.sum())\n",
    "df_temp2 = pd.DataFrame(plays_df.groupby(['possessionTeam','offenseFormation']).playResult.sum())\n",
    "df_temp3= pd.DataFrame(plays_df.groupby(['possessionTeam','playDescription', 'playResult']).sum()).reset_index()\n",
    "df_temp=df_temp.fillna(0)\n",
    "fig = px.box(df_temp2, x=\"playResult\")\n",
    "fig.show()\n",
    "fig = px.bar(df_temp3.sort_values('gameId',ascending=False), x=\"possessionTeam\", y=\"playResult\" , color='playResult')\n",
    "fig.show()\n",
    "fig = px.bar(df_temp3.sort_values('gameId',ascending=False), x=\"possessionTeam\", y=\"playResult\" , color='playDescription')\n",
    "fig.show()\n",
    "del df_temp\n",
    "del df_temp3\n",
    "del df_temp2\n",
    " "
   ]
  },
  {
   "cell_type": "markdown",
   "id": "e9c04927",
   "metadata": {
    "papermill": {
     "duration": 0.655772,
     "end_time": "2022-10-11T08:40:30.916242",
     "exception": false,
     "start_time": "2022-10-11T08:40:30.260470",
     "status": "completed"
    },
    "tags": []
   },
   "source": [
    "## <span class=\"title-section w3-xlarge\" style=\"color:#DC143C\" id=\"codebook\">4.4.Statistics based on absoluteYardlineNumber of each team and special team actions </span>\n"
   ]
  },
  {
   "cell_type": "code",
   "execution_count": null,
   "id": "943ba788",
   "metadata": {
    "execution": {
     "iopub.execute_input": "2022-10-11T08:40:32.267836Z",
     "iopub.status.busy": "2022-10-11T08:40:32.261541Z",
     "iopub.status.idle": "2022-10-11T08:40:32.641435Z",
     "shell.execute_reply": "2022-10-11T08:40:32.642057Z",
     "shell.execute_reply.started": "2022-10-11T08:12:07.980036Z"
    },
    "papermill": {
     "duration": 1.067678,
     "end_time": "2022-10-11T08:40:32.642304",
     "exception": false,
     "start_time": "2022-10-11T08:40:31.574626",
     "status": "completed"
    },
    "tags": []
   },
   "outputs": [],
   "source": [
    "\n",
    "df_temp = pd.DataFrame(plays_df.groupby(['possessionTeam','offenseFormation']).absoluteYardlineNumber.count())\n",
    "df_temp2 = pd.DataFrame(plays_df.groupby(['possessionTeam','playResult']).absoluteYardlineNumber.count())\n",
    "df_temp3= pd.DataFrame(plays_df.groupby(['possessionTeam','offenseFormation', 'playResult','absoluteYardlineNumber']).count()).reset_index()\n",
    "df_temp=df_temp.fillna(0)\n",
    "fig = px.violin(df_temp2, x=\"absoluteYardlineNumber\")\n",
    "fig.show()\n",
    "fig = px.bar(df_temp3.sort_values('gameId',ascending=False), x=\"possessionTeam\", y=\"absoluteYardlineNumber\" , color='playResult')\n",
    "fig.show()\n",
    "fig = px.bar(df_temp3.sort_values('gameId',ascending=False), x=\"possessionTeam\", y=\"absoluteYardlineNumber\" , color='offenseFormation')\n",
    "fig.show()\n",
    "del df_temp\n",
    "del df_temp3\n",
    "del df_temp2\n",
    "\n",
    " "
   ]
  },
  {
   "cell_type": "markdown",
   "id": "3d121a0a",
   "metadata": {
    "papermill": {
     "duration": 0.675252,
     "end_time": "2022-10-11T08:40:33.988165",
     "exception": false,
     "start_time": "2022-10-11T08:40:33.312913",
     "status": "completed"
    },
    "tags": []
   },
   "source": [
    "## <span class=\"title-section w3-xlarge\" style=\"color:#DC143C\" id=\"codebook\">4.5.Some Plots based on Number of Special Team Penalty Yards Impact </span>\n"
   ]
  },
  {
   "cell_type": "code",
   "execution_count": null,
   "id": "00b2fa8d",
   "metadata": {
    "execution": {
     "iopub.execute_input": "2022-10-11T08:40:35.335584Z",
     "iopub.status.busy": "2022-10-11T08:40:35.330198Z",
     "iopub.status.idle": "2022-10-11T08:40:35.574594Z",
     "shell.execute_reply": "2022-10-11T08:40:35.575123Z",
     "shell.execute_reply.started": "2022-10-11T08:12:08.365454Z"
    },
    "papermill": {
     "duration": 0.924439,
     "end_time": "2022-10-11T08:40:35.575351",
     "exception": false,
     "start_time": "2022-10-11T08:40:34.650912",
     "status": "completed"
    },
    "tags": []
   },
   "outputs": [],
   "source": [
    "df_temp = pd.DataFrame(plays_df.groupby(['possessionTeam','offenseFormation']).penaltyYards.count())\n",
    "df_temp2 = pd.DataFrame(plays_df.groupby(['possessionTeam','playResult']).penaltyYards.count())\n",
    "df_temp3= pd.DataFrame(plays_df.groupby(['possessionTeam','playDescription', 'playResult','penaltyYards']).count()).reset_index()\n",
    "df_temp=df_temp.fillna(0)\n",
    "fig = px.violin(df_temp2, x=\"penaltyYards\")\n",
    "fig.show()\n",
    "fig = px.bar(df_temp3.sort_values('gameId',ascending=False), x=\"possessionTeam\", y=\"penaltyYards\" , color='playResult')\n",
    "fig.show()\n",
    "fig = px.bar(df_temp3.sort_values('gameId',ascending=False), x=\"possessionTeam\", y=\"penaltyYards\" , color='offenseFormation')\n",
    "fig.show()\n",
    "del df_temp\n",
    "del df_temp3\n",
    "del df_temp2\n",
    "\n",
    " "
   ]
  },
  {
   "cell_type": "markdown",
   "id": "955d4c76",
   "metadata": {
    "papermill": {
     "duration": 0.653496,
     "end_time": "2022-10-11T08:40:36.887873",
     "exception": false,
     "start_time": "2022-10-11T08:40:36.234377",
     "status": "completed"
    },
    "tags": []
   },
   "source": [
    "\n",
    "## <span class=\"title-section w3-xlarge\" style=\"color:#DC143C\" id=\"codebook\">4.6 Let us try some seaborn Pair Plot Charts </span>\n"
   ]
  },
  {
   "cell_type": "markdown",
   "id": "923b3923",
   "metadata": {
    "papermill": {
     "duration": 0.656031,
     "end_time": "2022-10-11T08:40:38.196795",
     "exception": false,
     "start_time": "2022-10-11T08:40:37.540764",
     "status": "completed"
    },
    "tags": []
   },
   "source": [
    "\n",
    "## <span class=\"title-section w3-large\" style=\"color:#DC143C\" id=\"codebook\">4.6.1 Full seaborn Pair Plot Charts </span>\n"
   ]
  },
  {
   "cell_type": "code",
   "execution_count": null,
   "id": "e5a2b6af",
   "metadata": {
    "execution": {
     "iopub.execute_input": "2022-10-11T08:40:39.511980Z",
     "iopub.status.busy": "2022-10-11T08:40:39.510900Z",
     "iopub.status.idle": "2022-10-11T08:48:36.369451Z",
     "shell.execute_reply": "2022-10-11T08:48:36.370043Z",
     "shell.execute_reply.started": "2022-10-11T08:12:08.602893Z"
    },
    "papermill": {
     "duration": 477.517902,
     "end_time": "2022-10-11T08:48:36.370268",
     "exception": false,
     "start_time": "2022-10-11T08:40:38.852366",
     "status": "completed"
    },
    "tags": []
   },
   "outputs": [],
   "source": [
    "sns.pairplot(plays_df, hue=\"possessionTeam\")\n"
   ]
  },
  {
   "cell_type": "markdown",
   "id": "ef415724",
   "metadata": {
    "papermill": {
     "duration": 0.801557,
     "end_time": "2022-10-11T08:48:37.985216",
     "exception": false,
     "start_time": "2022-10-11T08:48:37.183659",
     "status": "completed"
    },
    "tags": []
   },
   "source": [
    "\n",
    "## <span class=\"title-section w3-large\" style=\"color:#DC143C\" id=\"codebook\">4.6.3 Full seaborn Pair Plot Chart with a hue on Possession Time </span>\n"
   ]
  },
  {
   "cell_type": "code",
   "execution_count": null,
   "id": "6e00b801",
   "metadata": {
    "execution": {
     "iopub.execute_input": "2022-10-11T08:48:39.596622Z",
     "iopub.status.busy": "2022-10-11T08:48:39.593219Z",
     "iopub.status.idle": "2022-10-11T08:48:49.644616Z",
     "shell.execute_reply": "2022-10-11T08:48:49.645160Z",
     "shell.execute_reply.started": "2022-10-11T08:19:00.527799Z"
    },
    "papermill": {
     "duration": 10.852893,
     "end_time": "2022-10-11T08:48:49.645362",
     "exception": false,
     "start_time": "2022-10-11T08:48:38.792469",
     "status": "completed"
    },
    "tags": []
   },
   "outputs": [],
   "source": [
    "\n",
    "sns.pairplot(\n",
    "    plays_df,\n",
    "    x_vars=[\"possessionTeam\", \"offenseFormation\", \"playResult\"],\n",
    "    y_vars=[\"prePenaltyPlayResult\", \"penaltyYards\"],\n",
    "    hue='possessionTeam',\n",
    ")\n",
    "\n"
   ]
  },
  {
   "cell_type": "markdown",
   "id": "e57f26da",
   "metadata": {
    "papermill": {
     "duration": 0.810438,
     "end_time": "2022-10-11T08:48:51.260408",
     "exception": false,
     "start_time": "2022-10-11T08:48:50.449970",
     "status": "completed"
    },
    "tags": []
   },
   "source": [
    "\n",
    "## <span class=\"title-section w3-xlarge\" style=\"color:#DC143C\" id=\"codebook\">4.7 A FacetGrid Plot </span>\n"
   ]
  },
  {
   "cell_type": "code",
   "execution_count": null,
   "id": "69a3820a",
   "metadata": {
    "execution": {
     "iopub.execute_input": "2022-10-11T08:48:52.864639Z",
     "iopub.status.busy": "2022-10-11T08:48:52.863905Z",
     "iopub.status.idle": "2022-10-11T08:49:16.562497Z",
     "shell.execute_reply": "2022-10-11T08:49:16.563096Z",
     "shell.execute_reply.started": "2022-10-11T08:19:10.241703Z"
    },
    "papermill": {
     "duration": 24.50243,
     "end_time": "2022-10-11T08:49:16.563327",
     "exception": false,
     "start_time": "2022-10-11T08:48:52.060897",
     "status": "completed"
    },
    "tags": []
   },
   "outputs": [],
   "source": [
    "\n",
    "# Initialize a grid of plots with an Axes for each walk\n",
    "grid = sns.FacetGrid(plays_df, col=\"possessionTeam\", hue=\"prePenaltyPlayResult\", palette=\"tab20c\",\n",
    "                     col_wrap=4, height=1.5)\n",
    "\n",
    "# Draw a horizontal line to show the starting point\n",
    "grid.refline(y=0, linestyle=\":\")\n",
    "\n",
    "# Draw a line plot to show the trajectory of each random walk\n",
    "grid.map(plt.plot, \"penaltyYards\", \"playResult\", marker=\"o\")\n",
    "\n",
    "# Adjust the arrangement of the plots\n",
    "grid.fig.tight_layout(w_pad=1)\n",
    "\n",
    " "
   ]
  },
  {
   "cell_type": "markdown",
   "id": "7371048a",
   "metadata": {
    "papermill": {
     "duration": 0.801479,
     "end_time": "2022-10-11T08:49:18.179291",
     "exception": false,
     "start_time": "2022-10-11T08:49:17.377812",
     "status": "completed"
    },
    "tags": []
   },
   "source": [
    "\n",
    "## <span class=\"title-section w3-xlarge\" style=\"color:#DC143C\" id=\"codebook\">4.8 Let us plot some playes from Week 1 play dataset </span>"
   ]
  },
  {
   "cell_type": "markdown",
   "id": "4a14be9f",
   "metadata": {
    "papermill": {
     "duration": 0.834127,
     "end_time": "2022-10-11T08:49:19.815996",
     "exception": false,
     "start_time": "2022-10-11T08:49:18.981869",
     "status": "completed"
    },
    "tags": []
   },
   "source": [
    "\n",
    "### <span class=\"title-section w3-large\" style=\"color:#DC143C\" id=\"codebook\">4.8.1 Let us load the plays dataset </span>"
   ]
  },
  {
   "cell_type": "code",
   "execution_count": null,
   "id": "1bea3145",
   "metadata": {
    "_kg_hide-input": true,
    "execution": {
     "iopub.execute_input": "2022-10-11T08:49:21.429788Z",
     "iopub.status.busy": "2022-10-11T08:49:21.428044Z",
     "iopub.status.idle": "2022-10-11T08:49:24.979326Z",
     "shell.execute_reply": "2022-10-11T08:49:24.979986Z",
     "shell.execute_reply.started": "2022-10-11T08:19:22.584184Z"
    },
    "papermill": {
     "duration": 4.35904,
     "end_time": "2022-10-11T08:49:24.980209",
     "exception": false,
     "start_time": "2022-10-11T08:49:20.621169",
     "status": "completed"
    },
    "tags": []
   },
   "outputs": [],
   "source": [
    "tr_2018 = 'notebooks/data/week1.csv'\n",
    "tracking2018 = pd.read_csv(tr_2018)"
   ]
  },
  {
   "cell_type": "markdown",
   "id": "99de5fa5",
   "metadata": {
    "papermill": {
     "duration": 0.810918,
     "end_time": "2022-10-11T08:49:26.605464",
     "exception": false,
     "start_time": "2022-10-11T08:49:25.794546",
     "status": "completed"
    },
    "tags": []
   },
   "source": [
    "\n",
    "### <span class=\"title-section w3-large\" style=\"color:#DC143C\" id=\"codebook\">4.8.2 Let us plot the football field </span>"
   ]
  },
  {
   "cell_type": "code",
   "execution_count": null,
   "id": "d73c8075",
   "metadata": {
    "_kg_hide-input": true,
    "execution": {
     "iopub.execute_input": "2022-10-11T08:49:28.815647Z",
     "iopub.status.busy": "2022-10-11T08:49:28.809801Z",
     "iopub.status.idle": "2022-10-11T08:49:28.920364Z",
     "shell.execute_reply": "2022-10-11T08:49:28.915583Z",
     "shell.execute_reply.started": "2022-10-11T08:19:22.585810Z"
    },
    "papermill": {
     "duration": 1.518753,
     "end_time": "2022-10-11T08:49:28.921148",
     "exception": false,
     "start_time": "2022-10-11T08:49:27.402395",
     "status": "completed"
    },
    "tags": []
   },
   "outputs": [],
   "source": [
    "#football field - code from  https://www.kaggle.com/jaronmichal/tracking-data-visualization \n",
    "import matplotlib.patches as patches\n",
    "from matplotlib.patches import Arc\n",
    "from matplotlib import pyplot as plt\n",
    "import matplotlib.patches as mpatches\n",
    "\n",
    "# Change size of the figure\n",
    "plt.rcParams['figure.figsize'] = [24, 16]\n",
    "def drawPitch(width, height, color=\"w\"):\n",
    "    fig = plt.figure()\n",
    "    ax = plt.axes(xlim=(-10, width + 30), ylim=(-15, height + 5))\n",
    "    plt.axis('off')\n",
    "\n",
    "    # Grass around pitch\n",
    "    rect = patches.Rectangle((-10, -5), width + 40, height + 10, linewidth=1, facecolor='#3f995b', capstyle='round')\n",
    "    ax.add_patch(rect)\n",
    "    ###################\n",
    "\n",
    "    # Pitch boundaries\n",
    "    rect = plt.Rectangle((0, 0), width + 20, height, ec=color, fc=\"None\", lw=2)\n",
    "    ax.add_patch(rect)\n",
    "    ###################\n",
    "\n",
    "    # vertical lines - every 5 yards\n",
    "    for i in range(21):\n",
    "        plt.plot([10 + 5 * i, 10 + 5 * i], [0, height], c=\"w\", lw=2)\n",
    "    ###################\n",
    "        \n",
    "    # distance markers - every 10 yards\n",
    "    for yards in range(10, width, 10):\n",
    "        yards_text = yards if yards <= width / 2 else width - yards\n",
    "        # top markers\n",
    "        plt.text(10 + yards - 2, height - 7.5, yards_text, size=15, c=\"w\", weight=\"bold\")\n",
    "        # botoom markers\n",
    "        plt.text(10 + yards - 2, 7.5, yards_text, size=15, c=\"w\", weight=\"bold\", rotation=180)\n",
    "    ###################\n",
    "\n",
    "    # yards markers - every yard\n",
    "    # bottom markers\n",
    "    for x in range(20):\n",
    "        for j in range(1, 5):\n",
    "            plt.plot([10 + x * 5 + j, 10 + x * 5 + j], [1, 3], color=\"w\", lw=2)\n",
    "\n",
    "    # top markers\n",
    "    for x in range(20):\n",
    "        for j in range(1, 5):\n",
    "            plt.plot([10 + x * 5 + j, 10 + x * 5 + j], [height - 1, height - 3], color=\"w\", lw=2)\n",
    "\n",
    "    # middle bottom markers\n",
    "    y = (height - 18.5) / 2\n",
    "    for x in range(20):\n",
    "        for j in range(1, 5):\n",
    "            plt.plot([10 + x * 5 + j, 10 + x * 5 + j], [y, y + 2], color=\"w\", lw=2)\n",
    "\n",
    "    # middle top markers\n",
    "    for x in range(20):\n",
    "        for j in range(1, 5):\n",
    "            plt.plot([10 + x * 5 + j, 10 + x * 5 + j], [height - y, height - y - 2], color=\"w\", lw=2)\n",
    "    ###################\n",
    "\n",
    "    # draw home end zone\n",
    "    plt.text(2.5, (height - 15) / 2, \"HOME\", size=30, c=\"w\", weight=\"bold\", rotation=90)\n",
    "    rect = plt.Rectangle((0, 0), 10, height, ec=color, fc=\"#0064dc\", lw=2)\n",
    "    ax.add_patch(rect)\n",
    "\n",
    "    # draw away end zone    \n",
    "    plt.text(111, (height - 15) / 2, \"AWAY\", size=30, c=\"w\", weight=\"bold\", rotation=-90)\n",
    "    rect = plt.Rectangle((width + 10, 0), 10, height, ec=color, fc=\"#c80014\", lw=2)\n",
    "    ax.add_patch(rect)\n",
    "    ###################\n",
    "    \n",
    "    # draw extra spot point\n",
    "    # left\n",
    "    y = (height - 3) / 2\n",
    "    plt.plot([10 + 2, 10 + 2], [y, y + 3], c=\"w\", lw=2)\n",
    "    \n",
    "    # right\n",
    "    plt.plot([width + 10 - 2, width + 10 - 2], [y, y + 3], c=\"w\", lw=2)\n",
    "    ###################\n",
    "    \n",
    "    # draw goalpost\n",
    "    goal_width = 6 # yards\n",
    "    y = (height - goal_width) / 2\n",
    "    # left\n",
    "    plt.plot([0, 0], [y, y + goal_width], \"-\", c=\"y\", lw=10, ms=20)\n",
    "    # right\n",
    "    plt.plot([width + 20, width + 20], [y, y + goal_width], \"-\", c=\"y\", lw=10, ms=20)\n",
    "    \n",
    "    return fig, ax"
   ]
  },
  {
   "cell_type": "markdown",
   "id": "9ea52dbb",
   "metadata": {
    "papermill": {
     "duration": 1.504932,
     "end_time": "2022-10-11T08:49:31.929590",
     "exception": false,
     "start_time": "2022-10-11T08:49:30.424658",
     "status": "completed"
    },
    "tags": []
   },
   "source": [
    "\n",
    "### <span class=\"title-section w3-large\" style=\"color:#DC143C\" id=\"codebook\">4.8.3 Plot a play for different roles</span>"
   ]
  },
  {
   "cell_type": "code",
   "execution_count": null,
   "id": "c07608b7",
   "metadata": {
    "_kg_hide-input": true,
    "execution": {
     "iopub.execute_input": "2022-10-11T08:49:34.850159Z",
     "iopub.status.busy": "2022-10-11T08:49:34.845532Z",
     "iopub.status.idle": "2022-10-11T08:49:34.858946Z",
     "shell.execute_reply": "2022-10-11T08:49:34.862503Z",
     "shell.execute_reply.started": "2022-10-11T08:19:22.587040Z"
    },
    "papermill": {
     "duration": 1.508604,
     "end_time": "2022-10-11T08:49:34.863417",
     "exception": false,
     "start_time": "2022-10-11T08:49:33.354813",
     "status": "completed"
    },
    "tags": []
   },
   "outputs": [],
   "source": [
    "from cycler import cycler\n",
    "custom_cycler = (cycler(color=['b','k','m','g']))"
   ]
  },
  {
   "cell_type": "markdown",
   "id": "b14b2442",
   "metadata": {
    "papermill": {
     "duration": 1.354397,
     "end_time": "2022-10-11T08:49:37.536547",
     "exception": false,
     "start_time": "2022-10-11T08:49:36.182150",
     "status": "completed"
    },
    "tags": []
   },
   "source": []
  },
  {
   "cell_type": "code",
   "execution_count": null,
   "id": "51b6ccf9",
   "metadata": {
    "execution": {
     "iopub.execute_input": "2022-10-11T08:49:40.223961Z",
     "iopub.status.busy": "2022-10-11T08:49:40.222793Z",
     "iopub.status.idle": "2022-10-11T08:49:40.233623Z",
     "shell.execute_reply": "2022-10-11T08:49:40.234239Z",
     "shell.execute_reply.started": "2022-10-11T08:19:22.588480Z"
    },
    "papermill": {
     "duration": 0.882695,
     "end_time": "2022-10-11T08:49:40.234564",
     "exception": false,
     "start_time": "2022-10-11T08:49:39.351869",
     "status": "completed"
    },
    "tags": []
   },
   "outputs": [],
   "source": [
    "def plot_play(df, gameId, position):\n",
    "    fig, ax = drawPitch(100, 54)\n",
    "    ax.set_prop_cycle(custom_cycler)\n",
    "    df.query('gameId == ' + gameId ).groupby('team').plot(x='x', y='y', ax=ax, style='.')\n",
    "    plt.title(' Plotting for gameId == ' + gameId ,fontsize=36,ha='center')\n",
    "    plt.legend().remove()"
   ]
  },
  {
   "cell_type": "code",
   "execution_count": null,
   "id": "1ea1b993",
   "metadata": {
    "execution": {
     "iopub.execute_input": "2022-10-11T08:49:41.910680Z",
     "iopub.status.busy": "2022-10-11T08:49:41.909880Z",
     "iopub.status.idle": "2022-10-11T08:49:43.352530Z",
     "shell.execute_reply": "2022-10-11T08:49:43.353154Z",
     "shell.execute_reply.started": "2022-10-11T08:19:22.589786Z"
    },
    "papermill": {
     "duration": 2.290648,
     "end_time": "2022-10-11T08:49:43.353371",
     "exception": false,
     "start_time": "2022-10-11T08:49:41.062723",
     "status": "completed"
    },
    "tags": []
   },
   "outputs": [],
   "source": [
    "#poslist = [\"CB\",\"OLB\",\"WR\",\"RB\",\"TE\",\"LB\",\"ILB\",\"K\",\"P\"]\n",
    "#for position in poslist:\n",
    "    #print('Plotting for a ' + position + ' Postion performance')\n",
    "position=\"QB\"\n",
    "plot_play(tracking2018,'2021091200', position)"
   ]
  },
  {
   "cell_type": "markdown",
   "id": "3bc411c7",
   "metadata": {
    "papermill": {
     "duration": 0.839778,
     "end_time": "2022-10-11T08:49:45.037990",
     "exception": false,
     "start_time": "2022-10-11T08:49:44.198212",
     "status": "completed"
    },
    "tags": []
   },
   "source": [
    "### <span class=\"title-section w3-medium\" style=\"color:#DC143C\" id=\"codebook\">4.8.3.1 Plot a play for Running Backs</span>"
   ]
  },
  {
   "cell_type": "code",
   "execution_count": null,
   "id": "5cdd80d1",
   "metadata": {
    "_kg_hide-input": true,
    "execution": {
     "iopub.execute_input": "2022-10-11T08:49:46.716227Z",
     "iopub.status.busy": "2022-10-11T08:49:46.715111Z",
     "iopub.status.idle": "2022-10-11T08:49:47.662969Z",
     "shell.execute_reply": "2022-10-11T08:49:47.663592Z",
     "shell.execute_reply.started": "2022-10-11T08:19:22.591168Z"
    },
    "papermill": {
     "duration": 1.785184,
     "end_time": "2022-10-11T08:49:47.663796",
     "exception": false,
     "start_time": "2022-10-11T08:49:45.878612",
     "status": "completed"
    },
    "tags": []
   },
   "outputs": [],
   "source": [
    "#fig, ax = plt.subplots(figsize=(12, 8))\n",
    "fig, ax = drawPitch(100, 54)\n",
    "ax.set_prop_cycle(custom_cycler)\n",
    "\n",
    "\n",
    "tracking2018.query('gameId == 2021091200 and playId == 1368 ').groupby('team') \\\n",
    "    .plot(x='x', y='y', ax=ax, style='.')\n",
    "gameId = \"2021091200\"\n",
    "playId = \"1368\"\n",
    "plt.title(' Plotting for gameId == ' + gameId + ' and playId == \"' + playId +  '\"',fontsize=36,ha='center')\n",
    "plt.legend().remove();"
   ]
  },
  {
   "cell_type": "markdown",
   "id": "80d2dcf2",
   "metadata": {
    "papermill": {
     "duration": 0.939242,
     "end_time": "2022-10-11T08:49:49.459016",
     "exception": false,
     "start_time": "2022-10-11T08:49:48.519774",
     "status": "completed"
    },
    "tags": []
   },
   "source": [
    "\n",
    "### <span class=\"title-section w3-large\" style=\"color:#DC143C\" id=\"codebook\">4.8.4 Plot a play for the entire team</span>"
   ]
  },
  {
   "cell_type": "code",
   "execution_count": null,
   "id": "72b85deb",
   "metadata": {
    "_kg_hide-input": true,
    "execution": {
     "iopub.execute_input": "2022-10-11T08:49:51.155052Z",
     "iopub.status.busy": "2022-10-11T08:49:51.154014Z",
     "iopub.status.idle": "2022-10-11T08:49:52.058238Z",
     "shell.execute_reply": "2022-10-11T08:49:52.057642Z",
     "shell.execute_reply.started": "2022-10-11T08:19:22.592371Z"
    },
    "papermill": {
     "duration": 1.736775,
     "end_time": "2022-10-11T08:49:52.058419",
     "exception": false,
     "start_time": "2022-10-11T08:49:50.321644",
     "status": "completed"
    },
    "tags": []
   },
   "outputs": [],
   "source": [
    "#fig, ax = plt.subplots(figsize=(12, 8))\n",
    "fig, ax = drawPitch(100, 54)\n",
    "ax.set_prop_cycle(custom_cycler)\n",
    "\n",
    "print('Play Summary for gameId == 2021091200 and playId == 2441')\n",
    "tracking2018.query('gameId == 2021091200 and playId == 2441').groupby('team') \\\n",
    "    .plot(x='x', y='y', ax=ax, style='.')\n",
    "gameId = \"2021091200\"\n",
    "playId = \"2441\"\n",
    "plt.title(' Plotting for gameId == ' + gameId + ' and playId == \"' + playId +  '\"',fontsize=36,ha='center')\n",
    "plt.legend().remove();"
   ]
  },
  {
   "cell_type": "markdown",
   "id": "8f280432",
   "metadata": {
    "papermill": {
     "duration": 0.85329,
     "end_time": "2022-10-11T08:49:53.795151",
     "exception": false,
     "start_time": "2022-10-11T08:49:52.941861",
     "status": "completed"
    },
    "tags": []
   },
   "source": [
    "\n",
    "### <span class=\"title-section w3-large\" style=\"color:#DC143C\" id=\"codebook\">4.8.6 Dynamic Pull down menu</span>\n",
    "##### \n",
    "###### Code Inspired by https://www.kaggle.com/werooring/nfl-big-data-bowl-basic-eda-for-beginner"
   ]
  },
  {
   "cell_type": "code",
   "execution_count": null,
   "id": "d0ef762e",
   "metadata": {
    "_kg_hide-input": true,
    "execution": {
     "iopub.execute_input": "2022-10-11T08:49:55.583414Z",
     "iopub.status.busy": "2022-10-11T08:49:55.582593Z",
     "iopub.status.idle": "2022-10-11T08:49:55.897855Z",
     "shell.execute_reply": "2022-10-11T08:49:55.897174Z",
     "shell.execute_reply.started": "2022-10-11T08:19:22.628251Z"
    },
    "papermill": {
     "duration": 1.154317,
     "end_time": "2022-10-11T08:49:55.898036",
     "exception": false,
     "start_time": "2022-10-11T08:49:54.743719",
     "status": "completed"
    },
    "tags": []
   },
   "outputs": [],
   "source": [
    "games_ids = {}\n",
    "games_tracking2018 = tracking2018.groupby(by=[\"gameId\"])\n",
    "for game, data in games_tracking2018:\n",
    "    games_ids[game] = list(set(data.playId.tolist()))\n",
    "\n",
    "    "
   ]
  },
  {
   "cell_type": "code",
   "execution_count": null,
   "id": "659c1b5f",
   "metadata": {
    "_kg_hide-input": true,
    "execution": {
     "iopub.execute_input": "2022-10-11T08:49:57.603625Z",
     "iopub.status.busy": "2022-10-11T08:49:57.602358Z",
     "iopub.status.idle": "2022-10-11T08:49:57.604676Z",
     "shell.execute_reply": "2022-10-11T08:49:57.605235Z",
     "shell.execute_reply.started": "2022-10-11T08:19:22.634519Z"
    },
    "papermill": {
     "duration": 0.84335,
     "end_time": "2022-10-11T08:49:57.605443",
     "exception": false,
     "start_time": "2022-10-11T08:49:56.762093",
     "status": "completed"
    },
    "tags": []
   },
   "outputs": [],
   "source": [
    "\n",
    "def extract_one_game(game_id, play_id, df):\n",
    "    game = df[(df.gameId == game_id) & (df.playId == play_id)]\n",
    "    home = {}\n",
    "    away = {}\n",
    "    balls = []\n",
    "    \n",
    "    players = game.sort_values(['frameId'], ascending=True).groupby('nflId')\n",
    "    for id, dx in players:\n",
    "        jerseyNumber = int(dx.jerseyNumber.iloc[0])\n",
    "        if dx.team.iloc[0] == \"home\":\n",
    "            home[jerseyNumber] = list(zip(dx.x.tolist(), dx.y.tolist()))\n",
    "        elif dx.team.iloc[0] == \"away\":\n",
    "            away[jerseyNumber] = list(zip(dx.x.tolist(), dx.y.tolist()))\n",
    "\n",
    "\n",
    "    ball_df = game.sort_values(['frameId'], ascending=True) \n",
    "    ball_df = ball_df[ball_df.team == \"football\"]\n",
    "    balls = list(zip(ball_df.x.tolist(), ball_df.y.tolist()))\n",
    "    return home, away, balls"
   ]
  },
  {
   "cell_type": "code",
   "execution_count": null,
   "id": "c41631d1",
   "metadata": {
    "_kg_hide-input": true,
    "execution": {
     "iopub.execute_input": "2022-10-11T08:49:59.282013Z",
     "iopub.status.busy": "2022-10-11T08:49:59.280810Z",
     "iopub.status.idle": "2022-10-11T08:49:59.295014Z",
     "shell.execute_reply": "2022-10-11T08:49:59.295598Z",
     "shell.execute_reply.started": "2022-10-11T08:19:22.638002Z"
    },
    "papermill": {
     "duration": 0.852056,
     "end_time": "2022-10-11T08:49:59.295822",
     "exception": false,
     "start_time": "2022-10-11T08:49:58.443766",
     "status": "completed"
    },
    "tags": []
   },
   "outputs": [],
   "source": [
    "from matplotlib import animation\n",
    "from IPython.display import HTML\n",
    "def animate_one_play(game_id, play_id, df):\n",
    "    fig, ax = drawPitch(100, 53.3)\n",
    "    \n",
    "    home, away, balls = extract_one_game(game_id, play_id, df)\n",
    "\n",
    "    team_left, = ax.plot([], [], '>', markersize=15, markerfacecolor=\"r\", markeredgewidth=2, markeredgecolor=\"white\", zorder=7)\n",
    "    team_right, = ax.plot([], [], '<', markersize=15, markerfacecolor=\"b\", markeredgewidth=2, markeredgecolor=\"white\", zorder=7)\n",
    "    ball, = ax.plot([], [], 'o', markersize=20, markerfacecolor=\"black\", markeredgewidth=2, markeredgecolor=\"white\", zorder=7)\n",
    "    drawings = [team_left, team_right, ball]\n",
    "\n",
    "    def init():\n",
    "        team_left.set_data([], [])\n",
    "        team_right.set_data([], [])\n",
    "        ball.set_data([], [])\n",
    "        return drawings\n",
    "\n",
    "    def draw_teams(i):\n",
    "        X = []\n",
    "        Y = []\n",
    "        for k, v in home.items():\n",
    "            x, y = v[i]\n",
    "            X.append(x)\n",
    "            Y.append(y)\n",
    "        team_left.set_data(X, Y)\n",
    "        \n",
    "        X = []\n",
    "        Y = []\n",
    "        for k, v in away.items():\n",
    "            x, y = v[i]\n",
    "            X.append(x)\n",
    "            Y.append(y)\n",
    "        team_right.set_data(X, Y)\n",
    "\n",
    "    def animate(i):\n",
    "        draw_teams(i)\n",
    "        \n",
    "        x, y = balls[i]\n",
    "        ball.set_data([x, y])\n",
    "        return drawings\n",
    "    \n",
    "    # !May take a while!\n",
    "    anim = animation.FuncAnimation(fig, animate, init_func=init,\n",
    "                                   frames=len(balls), interval=100, blit=True)\n",
    "\n",
    "    return anim"
   ]
  },
  {
   "cell_type": "markdown",
   "id": "07d2b2e9",
   "metadata": {
    "papermill": {
     "duration": 0.850204,
     "end_time": "2022-10-11T08:50:00.982402",
     "exception": false,
     "start_time": "2022-10-11T08:50:00.132198",
     "status": "completed"
    },
    "tags": []
   },
   "source": [
    "\n",
    "## <span class=\"title-section w3-xlarge\" style=\"color:#DC143C\" id=\"codebook\">4.9 Animation for a play</span>\n"
   ]
  },
  {
   "cell_type": "code",
   "execution_count": null,
   "id": "e6ee3696",
   "metadata": {
    "_kg_hide-input": true,
    "execution": {
     "iopub.execute_input": "2022-10-11T08:50:02.656030Z",
     "iopub.status.busy": "2022-10-11T08:50:02.654946Z",
     "iopub.status.idle": "2022-10-11T08:50:03.860442Z",
     "shell.execute_reply": "2022-10-11T08:50:03.859688Z",
     "shell.execute_reply.started": "2022-10-11T08:19:22.640622Z"
    },
    "papermill": {
     "duration": 2.044146,
     "end_time": "2022-10-11T08:50:03.860618",
     "exception": false,
     "start_time": "2022-10-11T08:50:01.816472",
     "status": "completed"
    },
    "tags": []
   },
   "outputs": [],
   "source": [
    "animate_one_play(2018121000, 2441, tracking2018)\n",
    "gameid=2021090900\n",
    "gamelist=(2021090900,2018121000,2018100704,2018111105,2018091610, 2018110401, 2018100701, 2018123005, 2018102102, 2018121606)\n",
    "plays=(2441,241,324,3239,3871,2180,4281,993,1452,1977)"
   ]
  },
  {
   "cell_type": "markdown",
   "id": "1face5a1",
   "metadata": {
    "papermill": {
     "duration": 0.950266,
     "end_time": "2022-10-11T08:50:05.688938",
     "exception": false,
     "start_time": "2022-10-11T08:50:04.738672",
     "status": "completed"
    },
    "tags": []
   },
   "source": [
    "\n",
    "## <span class=\"title-section w3-xlarge\" style=\"color:#DC143C\" id=\"codebook\">4.9.1 Select a game</span>\n"
   ]
  },
  {
   "cell_type": "code",
   "execution_count": null,
   "id": "8134e56b",
   "metadata": {
    "_kg_hide-input": true,
    "execution": {
     "iopub.execute_input": "2022-10-11T08:50:07.384003Z",
     "iopub.status.busy": "2022-10-11T08:50:07.383202Z",
     "iopub.status.idle": "2022-10-11T08:50:07.445681Z",
     "shell.execute_reply": "2022-10-11T08:50:07.446341Z",
     "shell.execute_reply.started": "2022-10-11T08:19:22.645608Z"
    },
    "papermill": {
     "duration": 0.906787,
     "end_time": "2022-10-11T08:50:07.446555",
     "exception": false,
     "start_time": "2022-10-11T08:50:06.539768",
     "status": "completed"
    },
    "tags": []
   },
   "outputs": [],
   "source": [
    "import ipywidgets as widgets\n",
    "from ipywidgets import interactive\n",
    "\n",
    "games = sorted(tracking2018['gameId'].unique().tolist())\n",
    "#games = sorted(df['Asset Type Description'].unique().tolist())\n",
    " \n",
    "def view(x=''):\n",
    "    return tracking2018[tracking2018['gameId']==x]\n",
    " \n",
    "w = widgets.Dropdown(options=games,\tdescription='Game:',    disabled=False,)\n",
    "\n",
    "interactive(view, x=w)"
   ]
  },
  {
   "cell_type": "code",
   "execution_count": null,
   "id": "b6b156b5",
   "metadata": {
    "_kg_hide-input": true,
    "execution": {
     "iopub.execute_input": "2022-10-11T08:50:09.152449Z",
     "iopub.status.busy": "2022-10-11T08:50:09.151413Z",
     "iopub.status.idle": "2022-10-11T08:50:09.155866Z",
     "shell.execute_reply": "2022-10-11T08:50:09.156589Z",
     "shell.execute_reply.started": "2022-10-11T08:19:22.650312Z"
    },
    "papermill": {
     "duration": 0.868823,
     "end_time": "2022-10-11T08:50:09.156852",
     "exception": false,
     "start_time": "2022-10-11T08:50:08.288029",
     "status": "completed"
    },
    "tags": []
   },
   "outputs": [],
   "source": [
    "gameid = w.value"
   ]
  },
  {
   "cell_type": "code",
   "execution_count": null,
   "id": "273cc169",
   "metadata": {
    "_kg_hide-input": true,
    "execution": {
     "iopub.execute_input": "2022-10-11T08:50:10.922584Z",
     "iopub.status.busy": "2022-10-11T08:50:10.921734Z",
     "iopub.status.idle": "2022-10-11T08:50:10.956447Z",
     "shell.execute_reply": "2022-10-11T08:50:10.957063Z",
     "shell.execute_reply.started": "2022-10-11T08:19:22.653761Z"
    },
    "papermill": {
     "duration": 0.885024,
     "end_time": "2022-10-11T08:50:10.957294",
     "exception": false,
     "start_time": "2022-10-11T08:50:10.072270",
     "status": "completed"
    },
    "tags": []
   },
   "outputs": [],
   "source": [
    "import random\n",
    "\n",
    "#games = sorted(tracking2018['gameId'].unique().tolist())\n",
    "plays = sorted(tracking2018[tracking2018['gameId']==gameid]['playId'])\n"
   ]
  },
  {
   "cell_type": "markdown",
   "id": "25e4385a",
   "metadata": {
    "papermill": {
     "duration": 0.854067,
     "end_time": "2022-10-11T08:50:12.681702",
     "exception": false,
     "start_time": "2022-10-11T08:50:11.827635",
     "status": "completed"
    },
    "tags": []
   },
   "source": [
    "\n",
    "## <span class=\"title-section w3-xlarge\" style=\"color:#DC143C\" id=\"codebook\">4.9.2 Random Play animation 1</span>"
   ]
  },
  {
   "cell_type": "code",
   "execution_count": null,
   "id": "e64339c6",
   "metadata": {
    "_kg_hide-input": true,
    "_kg_hide-output": false,
    "execution": {
     "iopub.execute_input": "2022-10-11T08:50:14.410847Z",
     "iopub.status.busy": "2022-10-11T08:50:14.410074Z",
     "iopub.status.idle": "2022-10-11T08:50:15.422891Z",
     "shell.execute_reply": "2022-10-11T08:50:15.424113Z",
     "shell.execute_reply.started": "2022-10-11T08:19:22.657113Z"
    },
    "papermill": {
     "duration": 1.875695,
     "end_time": "2022-10-11T08:50:15.424385",
     "exception": false,
     "start_time": "2022-10-11T08:50:13.548690",
     "status": "completed"
    },
    "tags": []
   },
   "outputs": [],
   "source": [
    "animate_one_play(2021091907, 1438, tracking2018)"
   ]
  },
  {
   "cell_type": "markdown",
   "id": "abe8a4f1",
   "metadata": {
    "papermill": {
     "duration": 0.867578,
     "end_time": "2022-10-11T08:50:17.268642",
     "exception": false,
     "start_time": "2022-10-11T08:50:16.401064",
     "status": "completed"
    },
    "tags": []
   },
   "source": [
    "\n",
    "## <span class=\"title-section w3-xlarge\" style=\"color:#DC143C\" id=\"codebook\">4.9.3 Random Play animation 2</span>"
   ]
  },
  {
   "cell_type": "code",
   "execution_count": null,
   "id": "e6dc02e2",
   "metadata": {
    "_kg_hide-input": true,
    "execution": {
     "iopub.execute_input": "2022-10-11T08:50:18.988909Z",
     "iopub.status.busy": "2022-10-11T08:50:18.987810Z",
     "iopub.status.idle": "2022-10-11T08:50:19.972344Z",
     "shell.execute_reply": "2022-10-11T08:50:19.971698Z",
     "shell.execute_reply.started": "2022-10-11T08:19:22.661893Z"
    },
    "papermill": {
     "duration": 1.849062,
     "end_time": "2022-10-11T08:50:19.972536",
     "exception": false,
     "start_time": "2022-10-11T08:50:18.123474",
     "status": "completed"
    },
    "tags": []
   },
   "outputs": [],
   "source": [
    "'''\n",
    "gameid = 2018100704\n",
    "playid = 3239\n",
    "playid=random.choice(plays)\n",
    "print('animation for ' , playid)\n",
    "animate_one_play(gameid, plays[playid], tracking2018)\n",
    "'''\n",
    "animate_one_play(2021102500, 326, tracking2018)"
   ]
  },
  {
   "cell_type": "markdown",
   "id": "5bfd109a",
   "metadata": {
    "papermill": {
     "duration": 0.872361,
     "end_time": "2022-10-11T08:50:21.694639",
     "exception": false,
     "start_time": "2022-10-11T08:50:20.822278",
     "status": "completed"
    },
    "tags": []
   },
   "source": [
    "\n",
    "## <span class=\"title-section w3-xlarge\" style=\"color:#DC143C\" id=\"codebook\">4.9.4 Random Play animation 3</span>"
   ]
  },
  {
   "cell_type": "code",
   "execution_count": null,
   "id": "6b39d756",
   "metadata": {
    "_kg_hide-input": true,
    "execution": {
     "iopub.execute_input": "2022-10-11T08:50:23.373989Z",
     "iopub.status.busy": "2022-10-11T08:50:23.373200Z",
     "iopub.status.idle": "2022-10-11T08:50:24.345237Z",
     "shell.execute_reply": "2022-10-11T08:50:24.344659Z",
     "shell.execute_reply.started": "2022-10-11T08:19:22.665539Z"
    },
    "papermill": {
     "duration": 1.807829,
     "end_time": "2022-10-11T08:50:24.345426",
     "exception": false,
     "start_time": "2022-10-11T08:50:22.537597",
     "status": "completed"
    },
    "tags": []
   },
   "outputs": [],
   "source": [
    "animate_one_play(2021102400, 2522, tracking2018)"
   ]
  },
  {
   "cell_type": "markdown",
   "id": "e82bcbe1",
   "metadata": {
    "papermill": {
     "duration": 0.877577,
     "end_time": "2022-10-11T08:50:26.073222",
     "exception": false,
     "start_time": "2022-10-11T08:50:25.195645",
     "status": "completed"
    },
    "tags": []
   },
   "source": [
    "\n",
    "## <span class=\"title-section w3-xlarge\" style=\"color:#DC143C\" id=\"codebook\">4.9.5 Random Play animation 4</span>"
   ]
  },
  {
   "cell_type": "code",
   "execution_count": null,
   "id": "32fb8e6d",
   "metadata": {
    "_kg_hide-input": true,
    "execution": {
     "iopub.execute_input": "2022-10-11T08:50:27.914926Z",
     "iopub.status.busy": "2022-10-11T08:50:27.902493Z",
     "iopub.status.idle": "2022-10-11T08:50:33.844565Z",
     "shell.execute_reply": "2022-10-11T08:50:33.845107Z",
     "shell.execute_reply.started": "2022-10-11T08:19:22.668649Z"
    },
    "papermill": {
     "duration": 6.818411,
     "end_time": "2022-10-11T08:50:33.845358",
     "exception": false,
     "start_time": "2022-10-11T08:50:27.026947",
     "status": "completed"
    },
    "tags": []
   },
   "outputs": [],
   "source": [
    "animate_one_play(2021091204, 2596, tracking2018)"
   ]
  },
  {
   "cell_type": "markdown",
   "id": "58dcf577",
   "metadata": {
    "papermill": {
     "duration": 0.858461,
     "end_time": "2022-10-11T08:50:35.565285",
     "exception": false,
     "start_time": "2022-10-11T08:50:34.706824",
     "status": "completed"
    },
    "tags": []
   },
   "source": [
    "\n",
    "## <span class=\"title-section w3-xlarge\" style=\"color:#DC143C\" id=\"codebook\">4.9.6 Random Play animation 5</span>"
   ]
  },
  {
   "cell_type": "code",
   "execution_count": null,
   "id": "ddb1fba8",
   "metadata": {
    "_kg_hide-input": true,
    "execution": {
     "iopub.execute_input": "2022-10-11T08:50:37.301632Z",
     "iopub.status.busy": "2022-10-11T08:50:37.300534Z",
     "iopub.status.idle": "2022-10-11T08:50:38.261406Z",
     "shell.execute_reply": "2022-10-11T08:50:38.260607Z",
     "shell.execute_reply.started": "2022-10-11T08:19:22.671293Z"
    },
    "papermill": {
     "duration": 1.840448,
     "end_time": "2022-10-11T08:50:38.261588",
     "exception": false,
     "start_time": "2022-10-11T08:50:36.421140",
     "status": "completed"
    },
    "tags": []
   },
   "outputs": [],
   "source": [
    "animate_one_play(2021091909, 1797, tracking2018)"
   ]
  },
  {
   "cell_type": "markdown",
   "id": "561460cf",
   "metadata": {
    "papermill": {
     "duration": 0.95026,
     "end_time": "2022-10-11T08:50:40.057213",
     "exception": false,
     "start_time": "2022-10-11T08:50:39.106953",
     "status": "completed"
    },
    "tags": []
   },
   "source": [
    "\n",
    "# <span class=\"title-section w3-xxlarge\" style=\"color:#DC143C\" id=\"codebook\">999. Work in Progress</span>\n",
    "\n",
    "## <span class=\"title-section w3-xlarge\" style=\"color:#DC143C\" id=\"codebook\">That's all folks! More will come later. Keep checking and keep learning</span>\n",
    "\n",
    "![More to come](https://www.lambdatest.com/blog/wp-content/uploads/2019/11/giphy-2.gif)"
   ]
  }
 ],
 "metadata": {
  "kernelspec": {
   "display_name": "Python 3.10.7 ('.env': venv)",
   "language": "python",
   "name": "python3"
  },
  "language_info": {
   "codemirror_mode": {
    "name": "ipython",
    "version": 3
   },
   "file_extension": ".py",
   "mimetype": "text/x-python",
   "name": "python",
   "nbconvert_exporter": "python",
   "pygments_lexer": "ipython3",
   "version": "3.10.7"
  },
  "papermill": {
   "default_parameters": {},
   "duration": 775.791031,
   "end_time": "2022-10-11T08:50:43.566055",
   "environment_variables": {},
   "exception": null,
   "input_path": "__notebook__.ipynb",
   "output_path": "__notebook__.ipynb",
   "parameters": {},
   "start_time": "2022-10-11T08:37:47.775024",
   "version": "2.3.3"
  },
  "vscode": {
   "interpreter": {
    "hash": "831878006862ccc20c8644a68163e333be809b5fee14b33e0a32c4838e696fe8"
   }
  },
  "widgets": {
   "application/vnd.jupyter.widget-state+json": {
    "state": {
     "0038b6e743824c20873fa7e37ee6265c": {
      "model_module": "@jupyter-widgets/controls",
      "model_module_version": "1.5.0",
      "model_name": "DescriptionStyleModel",
      "state": {
       "_model_module": "@jupyter-widgets/controls",
       "_model_module_version": "1.5.0",
       "_model_name": "DescriptionStyleModel",
       "_view_count": null,
       "_view_module": "@jupyter-widgets/base",
       "_view_module_version": "1.2.0",
       "_view_name": "StyleView",
       "description_width": ""
      }
     },
     "024df18f011544a8b3f52c4f2954699d": {
      "model_module": "@jupyter-widgets/controls",
      "model_module_version": "1.5.0",
      "model_name": "DropdownModel",
      "state": {
       "_dom_classes": [],
       "_model_module": "@jupyter-widgets/controls",
       "_model_module_version": "1.5.0",
       "_model_name": "DropdownModel",
       "_options_labels": [
        "2021090900",
        "2021091200",
        "2021091201",
        "2021091202",
        "2021091203",
        "2021091204",
        "2021091205",
        "2021091206",
        "2021091207",
        "2021091208",
        "2021091209",
        "2021091210",
        "2021091211",
        "2021091212",
        "2021091213",
        "2021091300"
       ],
       "_view_count": null,
       "_view_module": "@jupyter-widgets/controls",
       "_view_module_version": "1.5.0",
       "_view_name": "DropdownView",
       "description": "Game:",
       "description_tooltip": null,
       "disabled": false,
       "index": 0,
       "layout": "IPY_MODEL_ad2199822e884ccc96dd7690ee6a5694",
       "style": "IPY_MODEL_5f4546ef6c0445ef98cfbf7a5e58ece7"
      }
     },
     "0e2ea49d0cb24fc589fb0379b14bfdae": {
      "model_module": "@jupyter-widgets/base",
      "model_module_version": "1.2.0",
      "model_name": "LayoutModel",
      "state": {
       "_model_module": "@jupyter-widgets/base",
       "_model_module_version": "1.2.0",
       "_model_name": "LayoutModel",
       "_view_count": null,
       "_view_module": "@jupyter-widgets/base",
       "_view_module_version": "1.2.0",
       "_view_name": "LayoutView",
       "align_content": null,
       "align_items": null,
       "align_self": null,
       "border": null,
       "bottom": null,
       "display": null,
       "flex": null,
       "flex_flow": null,
       "grid_area": null,
       "grid_auto_columns": null,
       "grid_auto_flow": null,
       "grid_auto_rows": null,
       "grid_column": null,
       "grid_gap": null,
       "grid_row": null,
       "grid_template_areas": null,
       "grid_template_columns": null,
       "grid_template_rows": null,
       "height": null,
       "justify_content": null,
       "justify_items": null,
       "left": null,
       "margin": null,
       "max_height": null,
       "max_width": null,
       "min_height": null,
       "min_width": null,
       "object_fit": null,
       "object_position": null,
       "order": null,
       "overflow": null,
       "overflow_x": null,
       "overflow_y": null,
       "padding": null,
       "right": null,
       "top": null,
       "visibility": null,
       "width": null
      }
     },
     "100c3ce5e03e49fe9aa9fa9248b71a12": {
      "model_module": "@jupyter-widgets/base",
      "model_module_version": "1.2.0",
      "model_name": "LayoutModel",
      "state": {
       "_model_module": "@jupyter-widgets/base",
       "_model_module_version": "1.2.0",
       "_model_name": "LayoutModel",
       "_view_count": null,
       "_view_module": "@jupyter-widgets/base",
       "_view_module_version": "1.2.0",
       "_view_name": "LayoutView",
       "align_content": null,
       "align_items": null,
       "align_self": null,
       "border": null,
       "bottom": null,
       "display": "inline-flex",
       "flex": null,
       "flex_flow": "row wrap",
       "grid_area": null,
       "grid_auto_columns": null,
       "grid_auto_flow": null,
       "grid_auto_rows": null,
       "grid_column": null,
       "grid_gap": null,
       "grid_row": null,
       "grid_template_areas": null,
       "grid_template_columns": null,
       "grid_template_rows": null,
       "height": null,
       "justify_content": null,
       "justify_items": null,
       "left": null,
       "margin": null,
       "max_height": null,
       "max_width": null,
       "min_height": null,
       "min_width": null,
       "object_fit": null,
       "object_position": null,
       "order": null,
       "overflow": null,
       "overflow_x": null,
       "overflow_y": null,
       "padding": null,
       "right": null,
       "top": null,
       "visibility": null,
       "width": "100%"
      }
     },
     "1b659fe1cd0241c7a42a635c0b96ec14": {
      "model_module": "@jupyter-widgets/controls",
      "model_module_version": "1.5.0",
      "model_name": "DescriptionStyleModel",
      "state": {
       "_model_module": "@jupyter-widgets/controls",
       "_model_module_version": "1.5.0",
       "_model_name": "DescriptionStyleModel",
       "_view_count": null,
       "_view_module": "@jupyter-widgets/base",
       "_view_module_version": "1.2.0",
       "_view_name": "StyleView",
       "description_width": ""
      }
     },
     "1d41de8250ef43a0ac401e53672ab218": {
      "model_module": "@jupyter-widgets/base",
      "model_module_version": "1.2.0",
      "model_name": "LayoutModel",
      "state": {
       "_model_module": "@jupyter-widgets/base",
       "_model_module_version": "1.2.0",
       "_model_name": "LayoutModel",
       "_view_count": null,
       "_view_module": "@jupyter-widgets/base",
       "_view_module_version": "1.2.0",
       "_view_name": "LayoutView",
       "align_content": null,
       "align_items": null,
       "align_self": null,
       "border": null,
       "bottom": null,
       "display": null,
       "flex": "2",
       "flex_flow": null,
       "grid_area": null,
       "grid_auto_columns": null,
       "grid_auto_flow": null,
       "grid_auto_rows": null,
       "grid_column": null,
       "grid_gap": null,
       "grid_row": null,
       "grid_template_areas": null,
       "grid_template_columns": null,
       "grid_template_rows": null,
       "height": null,
       "justify_content": null,
       "justify_items": null,
       "left": null,
       "margin": null,
       "max_height": null,
       "max_width": null,
       "min_height": null,
       "min_width": null,
       "object_fit": null,
       "object_position": null,
       "order": null,
       "overflow": null,
       "overflow_x": null,
       "overflow_y": null,
       "padding": null,
       "right": null,
       "top": null,
       "visibility": null,
       "width": null
      }
     },
     "20980babf9844f41bf31f4a51f7ae674": {
      "model_module": "@jupyter-widgets/controls",
      "model_module_version": "1.5.0",
      "model_name": "ProgressStyleModel",
      "state": {
       "_model_module": "@jupyter-widgets/controls",
       "_model_module_version": "1.5.0",
       "_model_name": "ProgressStyleModel",
       "_view_count": null,
       "_view_module": "@jupyter-widgets/base",
       "_view_module_version": "1.2.0",
       "_view_name": "StyleView",
       "bar_color": null,
       "description_width": ""
      }
     },
     "23639e2335484752a9f2d8e79114dcb8": {
      "model_module": "@jupyter-widgets/base",
      "model_module_version": "1.2.0",
      "model_name": "LayoutModel",
      "state": {
       "_model_module": "@jupyter-widgets/base",
       "_model_module_version": "1.2.0",
       "_model_name": "LayoutModel",
       "_view_count": null,
       "_view_module": "@jupyter-widgets/base",
       "_view_module_version": "1.2.0",
       "_view_name": "LayoutView",
       "align_content": null,
       "align_items": null,
       "align_self": null,
       "border": null,
       "bottom": null,
       "display": null,
       "flex": null,
       "flex_flow": null,
       "grid_area": null,
       "grid_auto_columns": null,
       "grid_auto_flow": null,
       "grid_auto_rows": null,
       "grid_column": null,
       "grid_gap": null,
       "grid_row": null,
       "grid_template_areas": null,
       "grid_template_columns": null,
       "grid_template_rows": null,
       "height": null,
       "justify_content": null,
       "justify_items": null,
       "left": null,
       "margin": null,
       "max_height": null,
       "max_width": null,
       "min_height": null,
       "min_width": null,
       "object_fit": null,
       "object_position": null,
       "order": null,
       "overflow": null,
       "overflow_x": null,
       "overflow_y": null,
       "padding": null,
       "right": null,
       "top": null,
       "visibility": null,
       "width": null
      }
     },
     "2a01b70dad184c40917f3d772efe6174": {
      "model_module": "@jupyter-widgets/base",
      "model_module_version": "1.2.0",
      "model_name": "LayoutModel",
      "state": {
       "_model_module": "@jupyter-widgets/base",
       "_model_module_version": "1.2.0",
       "_model_name": "LayoutModel",
       "_view_count": null,
       "_view_module": "@jupyter-widgets/base",
       "_view_module_version": "1.2.0",
       "_view_name": "LayoutView",
       "align_content": null,
       "align_items": null,
       "align_self": null,
       "border": null,
       "bottom": null,
       "display": null,
       "flex": null,
       "flex_flow": null,
       "grid_area": null,
       "grid_auto_columns": null,
       "grid_auto_flow": null,
       "grid_auto_rows": null,
       "grid_column": null,
       "grid_gap": null,
       "grid_row": null,
       "grid_template_areas": null,
       "grid_template_columns": null,
       "grid_template_rows": null,
       "height": null,
       "justify_content": null,
       "justify_items": null,
       "left": null,
       "margin": null,
       "max_height": null,
       "max_width": null,
       "min_height": null,
       "min_width": null,
       "object_fit": null,
       "object_position": null,
       "order": null,
       "overflow": null,
       "overflow_x": null,
       "overflow_y": null,
       "padding": null,
       "right": null,
       "top": null,
       "visibility": null,
       "width": null
      }
     },
     "2c21379def4e4cbba83605accc7a1c58": {
      "model_module": "@jupyter-widgets/base",
      "model_module_version": "1.2.0",
      "model_name": "LayoutModel",
      "state": {
       "_model_module": "@jupyter-widgets/base",
       "_model_module_version": "1.2.0",
       "_model_name": "LayoutModel",
       "_view_count": null,
       "_view_module": "@jupyter-widgets/base",
       "_view_module_version": "1.2.0",
       "_view_name": "LayoutView",
       "align_content": null,
       "align_items": null,
       "align_self": null,
       "border": null,
       "bottom": null,
       "display": null,
       "flex": null,
       "flex_flow": null,
       "grid_area": null,
       "grid_auto_columns": null,
       "grid_auto_flow": null,
       "grid_auto_rows": null,
       "grid_column": null,
       "grid_gap": null,
       "grid_row": null,
       "grid_template_areas": null,
       "grid_template_columns": null,
       "grid_template_rows": null,
       "height": null,
       "justify_content": null,
       "justify_items": null,
       "left": null,
       "margin": null,
       "max_height": null,
       "max_width": null,
       "min_height": null,
       "min_width": null,
       "object_fit": null,
       "object_position": null,
       "order": null,
       "overflow": null,
       "overflow_x": null,
       "overflow_y": null,
       "padding": null,
       "right": null,
       "top": null,
       "visibility": null,
       "width": null
      }
     },
     "2ceedd6b165041d3ac18c17bbe45e0c5": {
      "model_module": "@jupyter-widgets/controls",
      "model_module_version": "1.5.0",
      "model_name": "HBoxModel",
      "state": {
       "_dom_classes": [],
       "_model_module": "@jupyter-widgets/controls",
       "_model_module_version": "1.5.0",
       "_model_name": "HBoxModel",
       "_view_count": null,
       "_view_module": "@jupyter-widgets/controls",
       "_view_module_version": "1.5.0",
       "_view_name": "HBoxView",
       "box_style": "",
       "children": [
        "IPY_MODEL_89da5d8dbed34cd18317fe8f15e647a6",
        "IPY_MODEL_707cce7c57534aba8013033912edf8b5",
        "IPY_MODEL_aeebd9f8f84244acad520defcfebe3fa"
       ],
       "layout": "IPY_MODEL_5539806d638241b9918e21220b1e644c"
      }
     },
     "3b7e0d2d39f1499f94a7fdd9081c8ab1": {
      "model_module": "@jupyter-widgets/controls",
      "model_module_version": "1.5.0",
      "model_name": "FloatProgressModel",
      "state": {
       "_dom_classes": [],
       "_model_module": "@jupyter-widgets/controls",
       "_model_module_version": "1.5.0",
       "_model_name": "FloatProgressModel",
       "_view_count": null,
       "_view_module": "@jupyter-widgets/controls",
       "_view_module_version": "1.5.0",
       "_view_name": "ProgressView",
       "bar_style": "",
       "description": "",
       "description_tooltip": null,
       "layout": "IPY_MODEL_58ff0d500b3543aebfeddc6421f53feb",
       "max": 322,
       "min": 0,
       "orientation": "horizontal",
       "style": "IPY_MODEL_5b13b39549b0489cb14c827dac8307f8",
       "value": 322
      }
     },
     "44af9403e09f44f08f496f64e25e28fd": {
      "model_module": "@jupyter-widgets/output",
      "model_module_version": "1.0.0",
      "model_name": "OutputModel",
      "state": {
       "_dom_classes": [],
       "_model_module": "@jupyter-widgets/output",
       "_model_module_version": "1.0.0",
       "_model_name": "OutputModel",
       "_view_count": null,
       "_view_module": "@jupyter-widgets/output",
       "_view_module_version": "1.0.0",
       "_view_name": "OutputView",
       "layout": "IPY_MODEL_0e2ea49d0cb24fc589fb0379b14bfdae",
       "msg_id": "",
       "outputs": []
      }
     },
     "479a4c5f4bf4412a8a359942285fe4d6": {
      "model_module": "@jupyter-widgets/controls",
      "model_module_version": "1.5.0",
      "model_name": "HTMLModel",
      "state": {
       "_dom_classes": [],
       "_model_module": "@jupyter-widgets/controls",
       "_model_module_version": "1.5.0",
       "_model_name": "HTMLModel",
       "_view_count": null,
       "_view_module": "@jupyter-widgets/controls",
       "_view_module_version": "1.5.0",
       "_view_name": "HTMLView",
       "description": "",
       "description_tooltip": null,
       "layout": "IPY_MODEL_23639e2335484752a9f2d8e79114dcb8",
       "placeholder": "​",
       "style": "IPY_MODEL_a2896491170b4853b19ceb27368fe46b",
       "value": " 1284/1489 [00:00&lt;00:00, 2104.70it/s]"
      }
     },
     "5539806d638241b9918e21220b1e644c": {
      "model_module": "@jupyter-widgets/base",
      "model_module_version": "1.2.0",
      "model_name": "LayoutModel",
      "state": {
       "_model_module": "@jupyter-widgets/base",
       "_model_module_version": "1.2.0",
       "_model_name": "LayoutModel",
       "_view_count": null,
       "_view_module": "@jupyter-widgets/base",
       "_view_module_version": "1.2.0",
       "_view_name": "LayoutView",
       "align_content": null,
       "align_items": null,
       "align_self": null,
       "border": null,
       "bottom": null,
       "display": "inline-flex",
       "flex": null,
       "flex_flow": "row wrap",
       "grid_area": null,
       "grid_auto_columns": null,
       "grid_auto_flow": null,
       "grid_auto_rows": null,
       "grid_column": null,
       "grid_gap": null,
       "grid_row": null,
       "grid_template_areas": null,
       "grid_template_columns": null,
       "grid_template_rows": null,
       "height": null,
       "justify_content": null,
       "justify_items": null,
       "left": null,
       "margin": null,
       "max_height": null,
       "max_width": null,
       "min_height": null,
       "min_width": null,
       "object_fit": null,
       "object_position": null,
       "order": null,
       "overflow": null,
       "overflow_x": null,
       "overflow_y": null,
       "padding": null,
       "right": null,
       "top": null,
       "visibility": null,
       "width": "100%"
      }
     },
     "5648ec5b53d0425fb0175d7a9a4278d6": {
      "model_module": "@jupyter-widgets/controls",
      "model_module_version": "1.5.0",
      "model_name": "VBoxModel",
      "state": {
       "_dom_classes": [
        "widget-interact"
       ],
       "_model_module": "@jupyter-widgets/controls",
       "_model_module_version": "1.5.0",
       "_model_name": "VBoxModel",
       "_view_count": null,
       "_view_module": "@jupyter-widgets/controls",
       "_view_module_version": "1.5.0",
       "_view_name": "VBoxView",
       "box_style": "",
       "children": [
        "IPY_MODEL_024df18f011544a8b3f52c4f2954699d",
        "IPY_MODEL_44af9403e09f44f08f496f64e25e28fd"
       ],
       "layout": "IPY_MODEL_ef5cf6e28b014765b1bb247a8b1a2fd7"
      }
     },
     "569ad513b0274376b8a3d611f90826d4": {
      "model_module": "@jupyter-widgets/base",
      "model_module_version": "1.2.0",
      "model_name": "LayoutModel",
      "state": {
       "_model_module": "@jupyter-widgets/base",
       "_model_module_version": "1.2.0",
       "_model_name": "LayoutModel",
       "_view_count": null,
       "_view_module": "@jupyter-widgets/base",
       "_view_module_version": "1.2.0",
       "_view_name": "LayoutView",
       "align_content": null,
       "align_items": null,
       "align_self": null,
       "border": null,
       "bottom": null,
       "display": null,
       "flex": "2",
       "flex_flow": null,
       "grid_area": null,
       "grid_auto_columns": null,
       "grid_auto_flow": null,
       "grid_auto_rows": null,
       "grid_column": null,
       "grid_gap": null,
       "grid_row": null,
       "grid_template_areas": null,
       "grid_template_columns": null,
       "grid_template_rows": null,
       "height": null,
       "justify_content": null,
       "justify_items": null,
       "left": null,
       "margin": null,
       "max_height": null,
       "max_width": null,
       "min_height": null,
       "min_width": null,
       "object_fit": null,
       "object_position": null,
       "order": null,
       "overflow": null,
       "overflow_x": null,
       "overflow_y": null,
       "padding": null,
       "right": null,
       "top": null,
       "visibility": null,
       "width": null
      }
     },
     "58ff0d500b3543aebfeddc6421f53feb": {
      "model_module": "@jupyter-widgets/base",
      "model_module_version": "1.2.0",
      "model_name": "LayoutModel",
      "state": {
       "_model_module": "@jupyter-widgets/base",
       "_model_module_version": "1.2.0",
       "_model_name": "LayoutModel",
       "_view_count": null,
       "_view_module": "@jupyter-widgets/base",
       "_view_module_version": "1.2.0",
       "_view_name": "LayoutView",
       "align_content": null,
       "align_items": null,
       "align_self": null,
       "border": null,
       "bottom": null,
       "display": null,
       "flex": "2",
       "flex_flow": null,
       "grid_area": null,
       "grid_auto_columns": null,
       "grid_auto_flow": null,
       "grid_auto_rows": null,
       "grid_column": null,
       "grid_gap": null,
       "grid_row": null,
       "grid_template_areas": null,
       "grid_template_columns": null,
       "grid_template_rows": null,
       "height": null,
       "justify_content": null,
       "justify_items": null,
       "left": null,
       "margin": null,
       "max_height": null,
       "max_width": null,
       "min_height": null,
       "min_width": null,
       "object_fit": null,
       "object_position": null,
       "order": null,
       "overflow": null,
       "overflow_x": null,
       "overflow_y": null,
       "padding": null,
       "right": null,
       "top": null,
       "visibility": null,
       "width": null
      }
     },
     "5b13b39549b0489cb14c827dac8307f8": {
      "model_module": "@jupyter-widgets/controls",
      "model_module_version": "1.5.0",
      "model_name": "ProgressStyleModel",
      "state": {
       "_model_module": "@jupyter-widgets/controls",
       "_model_module_version": "1.5.0",
       "_model_name": "ProgressStyleModel",
       "_view_count": null,
       "_view_module": "@jupyter-widgets/base",
       "_view_module_version": "1.2.0",
       "_view_name": "StyleView",
       "bar_color": null,
       "description_width": ""
      }
     },
     "5d80ba83c4ba4e3ca8b98e6b3e82428d": {
      "model_module": "@jupyter-widgets/controls",
      "model_module_version": "1.5.0",
      "model_name": "DescriptionStyleModel",
      "state": {
       "_model_module": "@jupyter-widgets/controls",
       "_model_module_version": "1.5.0",
       "_model_name": "DescriptionStyleModel",
       "_view_count": null,
       "_view_module": "@jupyter-widgets/base",
       "_view_module_version": "1.2.0",
       "_view_name": "StyleView",
       "description_width": ""
      }
     },
     "5f4546ef6c0445ef98cfbf7a5e58ece7": {
      "model_module": "@jupyter-widgets/controls",
      "model_module_version": "1.5.0",
      "model_name": "DescriptionStyleModel",
      "state": {
       "_model_module": "@jupyter-widgets/controls",
       "_model_module_version": "1.5.0",
       "_model_name": "DescriptionStyleModel",
       "_view_count": null,
       "_view_module": "@jupyter-widgets/base",
       "_view_module_version": "1.2.0",
       "_view_name": "StyleView",
       "description_width": ""
      }
     },
     "6b63590e2fc54cb6b21356c2b41f4767": {
      "model_module": "@jupyter-widgets/controls",
      "model_module_version": "1.5.0",
      "model_name": "HTMLModel",
      "state": {
       "_dom_classes": [],
       "_model_module": "@jupyter-widgets/controls",
       "_model_module_version": "1.5.0",
       "_model_name": "HTMLModel",
       "_view_count": null,
       "_view_module": "@jupyter-widgets/controls",
       "_view_module_version": "1.5.0",
       "_view_name": "HTMLView",
       "description": "",
       "description_tooltip": null,
       "layout": "IPY_MODEL_6e3bd7affc9046a691780d5c9698e10c",
       "placeholder": "​",
       "style": "IPY_MODEL_0038b6e743824c20873fa7e37ee6265c",
       "value": " 0/322 [00:00&lt;?, ?it/s]"
      }
     },
     "6e3bd7affc9046a691780d5c9698e10c": {
      "model_module": "@jupyter-widgets/base",
      "model_module_version": "1.2.0",
      "model_name": "LayoutModel",
      "state": {
       "_model_module": "@jupyter-widgets/base",
       "_model_module_version": "1.2.0",
       "_model_name": "LayoutModel",
       "_view_count": null,
       "_view_module": "@jupyter-widgets/base",
       "_view_module_version": "1.2.0",
       "_view_name": "LayoutView",
       "align_content": null,
       "align_items": null,
       "align_self": null,
       "border": null,
       "bottom": null,
       "display": null,
       "flex": null,
       "flex_flow": null,
       "grid_area": null,
       "grid_auto_columns": null,
       "grid_auto_flow": null,
       "grid_auto_rows": null,
       "grid_column": null,
       "grid_gap": null,
       "grid_row": null,
       "grid_template_areas": null,
       "grid_template_columns": null,
       "grid_template_rows": null,
       "height": null,
       "justify_content": null,
       "justify_items": null,
       "left": null,
       "margin": null,
       "max_height": null,
       "max_width": null,
       "min_height": null,
       "min_width": null,
       "object_fit": null,
       "object_position": null,
       "order": null,
       "overflow": null,
       "overflow_x": null,
       "overflow_y": null,
       "padding": null,
       "right": null,
       "top": null,
       "visibility": null,
       "width": null
      }
     },
     "707cce7c57534aba8013033912edf8b5": {
      "model_module": "@jupyter-widgets/controls",
      "model_module_version": "1.5.0",
      "model_name": "FloatProgressModel",
      "state": {
       "_dom_classes": [],
       "_model_module": "@jupyter-widgets/controls",
       "_model_module_version": "1.5.0",
       "_model_name": "FloatProgressModel",
       "_view_count": null,
       "_view_module": "@jupyter-widgets/controls",
       "_view_module_version": "1.5.0",
       "_view_name": "ProgressView",
       "bar_style": "",
       "description": "",
       "description_tooltip": null,
       "layout": "IPY_MODEL_1d41de8250ef43a0ac401e53672ab218",
       "max": 4548,
       "min": 0,
       "orientation": "horizontal",
       "style": "IPY_MODEL_b9281125414e46eca0f32295676fe2d8",
       "value": 4548
      }
     },
     "8479c4ade5a048a188902183b4eeb13f": {
      "model_module": "@jupyter-widgets/base",
      "model_module_version": "1.2.0",
      "model_name": "LayoutModel",
      "state": {
       "_model_module": "@jupyter-widgets/base",
       "_model_module_version": "1.2.0",
       "_model_name": "LayoutModel",
       "_view_count": null,
       "_view_module": "@jupyter-widgets/base",
       "_view_module_version": "1.2.0",
       "_view_name": "LayoutView",
       "align_content": null,
       "align_items": null,
       "align_self": null,
       "border": null,
       "bottom": null,
       "display": null,
       "flex": null,
       "flex_flow": null,
       "grid_area": null,
       "grid_auto_columns": null,
       "grid_auto_flow": null,
       "grid_auto_rows": null,
       "grid_column": null,
       "grid_gap": null,
       "grid_row": null,
       "grid_template_areas": null,
       "grid_template_columns": null,
       "grid_template_rows": null,
       "height": null,
       "justify_content": null,
       "justify_items": null,
       "left": null,
       "margin": null,
       "max_height": null,
       "max_width": null,
       "min_height": null,
       "min_width": null,
       "object_fit": null,
       "object_position": null,
       "order": null,
       "overflow": null,
       "overflow_x": null,
       "overflow_y": null,
       "padding": null,
       "right": null,
       "top": null,
       "visibility": null,
       "width": null
      }
     },
     "89da5d8dbed34cd18317fe8f15e647a6": {
      "model_module": "@jupyter-widgets/controls",
      "model_module_version": "1.5.0",
      "model_name": "HTMLModel",
      "state": {
       "_dom_classes": [],
       "_model_module": "@jupyter-widgets/controls",
       "_model_module_version": "1.5.0",
       "_model_name": "HTMLModel",
       "_view_count": null,
       "_view_module": "@jupyter-widgets/controls",
       "_view_module_version": "1.5.0",
       "_view_name": "HTMLView",
       "description": "",
       "description_tooltip": null,
       "layout": "IPY_MODEL_8479c4ade5a048a188902183b4eeb13f",
       "placeholder": "​",
       "style": "IPY_MODEL_d6b01ed781344bec8637b751fb052f12",
       "value": "Computing repeat-concatenate-5788b059baa86783a96749171a23a86d:  99%"
      }
     },
     "8aa5ff292a9e4dfdb52456c5c88d9740": {
      "model_module": "@jupyter-widgets/controls",
      "model_module_version": "1.5.0",
      "model_name": "DescriptionStyleModel",
      "state": {
       "_model_module": "@jupyter-widgets/controls",
       "_model_module_version": "1.5.0",
       "_model_name": "DescriptionStyleModel",
       "_view_count": null,
       "_view_module": "@jupyter-widgets/base",
       "_view_module_version": "1.2.0",
       "_view_name": "StyleView",
       "description_width": ""
      }
     },
     "9940dc3a103e4f86aa7de6faa886a8a8": {
      "model_module": "@jupyter-widgets/controls",
      "model_module_version": "1.5.0",
      "model_name": "FloatProgressModel",
      "state": {
       "_dom_classes": [],
       "_model_module": "@jupyter-widgets/controls",
       "_model_module_version": "1.5.0",
       "_model_name": "FloatProgressModel",
       "_view_count": null,
       "_view_module": "@jupyter-widgets/controls",
       "_view_module_version": "1.5.0",
       "_view_name": "ProgressView",
       "bar_style": "",
       "description": "",
       "description_tooltip": null,
       "layout": "IPY_MODEL_569ad513b0274376b8a3d611f90826d4",
       "max": 1489,
       "min": 0,
       "orientation": "horizontal",
       "style": "IPY_MODEL_20980babf9844f41bf31f4a51f7ae674",
       "value": 1489
      }
     },
     "a2896491170b4853b19ceb27368fe46b": {
      "model_module": "@jupyter-widgets/controls",
      "model_module_version": "1.5.0",
      "model_name": "DescriptionStyleModel",
      "state": {
       "_model_module": "@jupyter-widgets/controls",
       "_model_module_version": "1.5.0",
       "_model_name": "DescriptionStyleModel",
       "_view_count": null,
       "_view_module": "@jupyter-widgets/base",
       "_view_module_version": "1.2.0",
       "_view_name": "StyleView",
       "description_width": ""
      }
     },
     "a6c7f6320a8341859e7d30c7be256c05": {
      "model_module": "@jupyter-widgets/controls",
      "model_module_version": "1.5.0",
      "model_name": "HTMLModel",
      "state": {
       "_dom_classes": [],
       "_model_module": "@jupyter-widgets/controls",
       "_model_module_version": "1.5.0",
       "_model_name": "HTMLModel",
       "_view_count": null,
       "_view_module": "@jupyter-widgets/controls",
       "_view_module_version": "1.5.0",
       "_view_name": "HTMLView",
       "description": "",
       "description_tooltip": null,
       "layout": "IPY_MODEL_2c21379def4e4cbba83605accc7a1c58",
       "placeholder": "​",
       "style": "IPY_MODEL_1b659fe1cd0241c7a42a635c0b96ec14",
       "value": "Computing ks_2samp-705e6dee87e2eb2ef4e0c7ee90dcdf04:  86%"
      }
     },
     "aaad5ddec8d842979a3d9e5f4e771d57": {
      "model_module": "@jupyter-widgets/base",
      "model_module_version": "1.2.0",
      "model_name": "LayoutModel",
      "state": {
       "_model_module": "@jupyter-widgets/base",
       "_model_module_version": "1.2.0",
       "_model_name": "LayoutModel",
       "_view_count": null,
       "_view_module": "@jupyter-widgets/base",
       "_view_module_version": "1.2.0",
       "_view_name": "LayoutView",
       "align_content": null,
       "align_items": null,
       "align_self": null,
       "border": null,
       "bottom": null,
       "display": null,
       "flex": null,
       "flex_flow": null,
       "grid_area": null,
       "grid_auto_columns": null,
       "grid_auto_flow": null,
       "grid_auto_rows": null,
       "grid_column": null,
       "grid_gap": null,
       "grid_row": null,
       "grid_template_areas": null,
       "grid_template_columns": null,
       "grid_template_rows": null,
       "height": null,
       "justify_content": null,
       "justify_items": null,
       "left": null,
       "margin": null,
       "max_height": null,
       "max_width": null,
       "min_height": null,
       "min_width": null,
       "object_fit": null,
       "object_position": null,
       "order": null,
       "overflow": null,
       "overflow_x": null,
       "overflow_y": null,
       "padding": null,
       "right": null,
       "top": null,
       "visibility": null,
       "width": null
      }
     },
     "ad2199822e884ccc96dd7690ee6a5694": {
      "model_module": "@jupyter-widgets/base",
      "model_module_version": "1.2.0",
      "model_name": "LayoutModel",
      "state": {
       "_model_module": "@jupyter-widgets/base",
       "_model_module_version": "1.2.0",
       "_model_name": "LayoutModel",
       "_view_count": null,
       "_view_module": "@jupyter-widgets/base",
       "_view_module_version": "1.2.0",
       "_view_name": "LayoutView",
       "align_content": null,
       "align_items": null,
       "align_self": null,
       "border": null,
       "bottom": null,
       "display": null,
       "flex": null,
       "flex_flow": null,
       "grid_area": null,
       "grid_auto_columns": null,
       "grid_auto_flow": null,
       "grid_auto_rows": null,
       "grid_column": null,
       "grid_gap": null,
       "grid_row": null,
       "grid_template_areas": null,
       "grid_template_columns": null,
       "grid_template_rows": null,
       "height": null,
       "justify_content": null,
       "justify_items": null,
       "left": null,
       "margin": null,
       "max_height": null,
       "max_width": null,
       "min_height": null,
       "min_width": null,
       "object_fit": null,
       "object_position": null,
       "order": null,
       "overflow": null,
       "overflow_x": null,
       "overflow_y": null,
       "padding": null,
       "right": null,
       "top": null,
       "visibility": null,
       "width": null
      }
     },
     "aeebd9f8f84244acad520defcfebe3fa": {
      "model_module": "@jupyter-widgets/controls",
      "model_module_version": "1.5.0",
      "model_name": "HTMLModel",
      "state": {
       "_dom_classes": [],
       "_model_module": "@jupyter-widgets/controls",
       "_model_module_version": "1.5.0",
       "_model_name": "HTMLModel",
       "_view_count": null,
       "_view_module": "@jupyter-widgets/controls",
       "_view_module_version": "1.5.0",
       "_view_name": "HTMLView",
       "description": "",
       "description_tooltip": null,
       "layout": "IPY_MODEL_2a01b70dad184c40917f3d772efe6174",
       "placeholder": "​",
       "style": "IPY_MODEL_5d80ba83c4ba4e3ca8b98e6b3e82428d",
       "value": " 4510/4548 [00:03&lt;00:00, 2572.49it/s]"
      }
     },
     "b237c2064bce41d58e697711b1b6769a": {
      "model_module": "@jupyter-widgets/controls",
      "model_module_version": "1.5.0",
      "model_name": "HBoxModel",
      "state": {
       "_dom_classes": [],
       "_model_module": "@jupyter-widgets/controls",
       "_model_module_version": "1.5.0",
       "_model_name": "HBoxModel",
       "_view_count": null,
       "_view_module": "@jupyter-widgets/controls",
       "_view_module_version": "1.5.0",
       "_view_name": "HBoxView",
       "box_style": "",
       "children": [
        "IPY_MODEL_a6c7f6320a8341859e7d30c7be256c05",
        "IPY_MODEL_9940dc3a103e4f86aa7de6faa886a8a8",
        "IPY_MODEL_479a4c5f4bf4412a8a359942285fe4d6"
       ],
       "layout": "IPY_MODEL_100c3ce5e03e49fe9aa9fa9248b71a12"
      }
     },
     "b9281125414e46eca0f32295676fe2d8": {
      "model_module": "@jupyter-widgets/controls",
      "model_module_version": "1.5.0",
      "model_name": "ProgressStyleModel",
      "state": {
       "_model_module": "@jupyter-widgets/controls",
       "_model_module_version": "1.5.0",
       "_model_name": "ProgressStyleModel",
       "_view_count": null,
       "_view_module": "@jupyter-widgets/base",
       "_view_module_version": "1.2.0",
       "_view_name": "StyleView",
       "bar_color": null,
       "description_width": ""
      }
     },
     "d009da7b6aeb4493bd2d6e8a29104211": {
      "model_module": "@jupyter-widgets/base",
      "model_module_version": "1.2.0",
      "model_name": "LayoutModel",
      "state": {
       "_model_module": "@jupyter-widgets/base",
       "_model_module_version": "1.2.0",
       "_model_name": "LayoutModel",
       "_view_count": null,
       "_view_module": "@jupyter-widgets/base",
       "_view_module_version": "1.2.0",
       "_view_name": "LayoutView",
       "align_content": null,
       "align_items": null,
       "align_self": null,
       "border": null,
       "bottom": null,
       "display": "inline-flex",
       "flex": null,
       "flex_flow": "row wrap",
       "grid_area": null,
       "grid_auto_columns": null,
       "grid_auto_flow": null,
       "grid_auto_rows": null,
       "grid_column": null,
       "grid_gap": null,
       "grid_row": null,
       "grid_template_areas": null,
       "grid_template_columns": null,
       "grid_template_rows": null,
       "height": null,
       "justify_content": null,
       "justify_items": null,
       "left": null,
       "margin": null,
       "max_height": null,
       "max_width": null,
       "min_height": null,
       "min_width": null,
       "object_fit": null,
       "object_position": null,
       "order": null,
       "overflow": null,
       "overflow_x": null,
       "overflow_y": null,
       "padding": null,
       "right": null,
       "top": null,
       "visibility": null,
       "width": "100%"
      }
     },
     "d6b01ed781344bec8637b751fb052f12": {
      "model_module": "@jupyter-widgets/controls",
      "model_module_version": "1.5.0",
      "model_name": "DescriptionStyleModel",
      "state": {
       "_model_module": "@jupyter-widgets/controls",
       "_model_module_version": "1.5.0",
       "_model_name": "DescriptionStyleModel",
       "_view_count": null,
       "_view_module": "@jupyter-widgets/base",
       "_view_module_version": "1.2.0",
       "_view_name": "StyleView",
       "description_width": ""
      }
     },
     "dbe97a9033b54c8eb9bfd75124779baa": {
      "model_module": "@jupyter-widgets/controls",
      "model_module_version": "1.5.0",
      "model_name": "HTMLModel",
      "state": {
       "_dom_classes": [],
       "_model_module": "@jupyter-widgets/controls",
       "_model_module_version": "1.5.0",
       "_model_name": "HTMLModel",
       "_view_count": null,
       "_view_module": "@jupyter-widgets/controls",
       "_view_module_version": "1.5.0",
       "_view_name": "HTMLView",
       "description": "",
       "description_tooltip": null,
       "layout": "IPY_MODEL_aaad5ddec8d842979a3d9e5f4e771d57",
       "placeholder": "​",
       "style": "IPY_MODEL_8aa5ff292a9e4dfdb52456c5c88d9740",
       "value": "Computing isnull-e05dda8f3a2d72c8cd458b440d717287:   0%"
      }
     },
     "e32fb10cf44942f1b4c69510a24d16ad": {
      "model_module": "@jupyter-widgets/controls",
      "model_module_version": "1.5.0",
      "model_name": "HBoxModel",
      "state": {
       "_dom_classes": [],
       "_model_module": "@jupyter-widgets/controls",
       "_model_module_version": "1.5.0",
       "_model_name": "HBoxModel",
       "_view_count": null,
       "_view_module": "@jupyter-widgets/controls",
       "_view_module_version": "1.5.0",
       "_view_name": "HBoxView",
       "box_style": "",
       "children": [
        "IPY_MODEL_dbe97a9033b54c8eb9bfd75124779baa",
        "IPY_MODEL_3b7e0d2d39f1499f94a7fdd9081c8ab1",
        "IPY_MODEL_6b63590e2fc54cb6b21356c2b41f4767"
       ],
       "layout": "IPY_MODEL_d009da7b6aeb4493bd2d6e8a29104211"
      }
     },
     "ef5cf6e28b014765b1bb247a8b1a2fd7": {
      "model_module": "@jupyter-widgets/base",
      "model_module_version": "1.2.0",
      "model_name": "LayoutModel",
      "state": {
       "_model_module": "@jupyter-widgets/base",
       "_model_module_version": "1.2.0",
       "_model_name": "LayoutModel",
       "_view_count": null,
       "_view_module": "@jupyter-widgets/base",
       "_view_module_version": "1.2.0",
       "_view_name": "LayoutView",
       "align_content": null,
       "align_items": null,
       "align_self": null,
       "border": null,
       "bottom": null,
       "display": null,
       "flex": null,
       "flex_flow": null,
       "grid_area": null,
       "grid_auto_columns": null,
       "grid_auto_flow": null,
       "grid_auto_rows": null,
       "grid_column": null,
       "grid_gap": null,
       "grid_row": null,
       "grid_template_areas": null,
       "grid_template_columns": null,
       "grid_template_rows": null,
       "height": null,
       "justify_content": null,
       "justify_items": null,
       "left": null,
       "margin": null,
       "max_height": null,
       "max_width": null,
       "min_height": null,
       "min_width": null,
       "object_fit": null,
       "object_position": null,
       "order": null,
       "overflow": null,
       "overflow_x": null,
       "overflow_y": null,
       "padding": null,
       "right": null,
       "top": null,
       "visibility": null,
       "width": null
      }
     }
    },
    "version_major": 2,
    "version_minor": 0
   }
  }
 },
 "nbformat": 4,
 "nbformat_minor": 5
}
