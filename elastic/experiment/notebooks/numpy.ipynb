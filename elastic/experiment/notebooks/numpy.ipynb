{
 "cells": [
  {
   "cell_type": "code",
   "execution_count": 1,
   "outputs": [],
   "source": [
    "import os, sys\n",
    "# directory reach\n",
    "sys.path.insert(0, os.path.abspath(\"../../..\"))\n",
    "\n",
    "import numpy as np\n",
    "from sklearn import datasets\n",
    "\n",
    "from elastic.core.notebook.variable_snapshot import VariableSnapshotSet\n",
    "from elastic.core.notebook.record_event import RecordEvent\n",
    "\n",
    "from sklearn.neighbors import KNeighborsClassifier\n",
    "\n",
    "from elastic.core.globals import reset_notebook_state\n",
    "reset_notebook_state()\n",
    "\n",
    "@RecordEvent\n",
    "def import_libraries():\n",
    "    import numpy as np\n",
    "    from sklearn import datasets\n",
    "    from sklearn.neighbors import KNeighborsClassifier\n",
    "    return VariableSnapshotSet({\"np\": np, \"datasets\": datasets, \"KNeighborsClassifier\": KNeighborsClassifier})\n",
    "\n",
    "np, datasets, KNeighborsClassifier = import_libraries()"
   ],
   "metadata": {
    "collapsed": false,
    "pycharm": {
     "name": "#%%\n"
    }
   }
  },
  {
   "cell_type": "code",
   "execution_count": 2,
   "outputs": [],
   "source": [
    "@RecordEvent\n",
    "def cell_2():\n",
    "    iris_X, iris_y = datasets.load_iris(return_X_y=True)\n",
    "    \n",
    "    return VariableSnapshotSet({\"iris_X\": iris_X, \"iris_y\": iris_y})"
   ],
   "metadata": {
    "collapsed": false,
    "pycharm": {
     "name": "#%%\n"
    }
   }
  },
  {
   "cell_type": "code",
   "execution_count": 3,
   "outputs": [
    {
     "name": "stdout",
     "output_type": "stream",
     "text": [
      "\n",
      "container created for variable  iris_X\n",
      "container created for variable  iris_y\n"
     ]
    }
   ],
   "source": [
    "iris_X, iris_y = cell_2()"
   ],
   "metadata": {
    "collapsed": false,
    "pycharm": {
     "name": "#%%\n"
    }
   }
  },
  {
   "cell_type": "code",
   "execution_count": 4,
   "outputs": [],
   "source": [
    "@RecordEvent\n",
    "def cell_3():\n",
    "    np.random.seed(0)"
   ],
   "metadata": {
    "collapsed": false,
    "pycharm": {
     "name": "#%%\n"
    }
   }
  },
  {
   "cell_type": "code",
   "execution_count": 5,
   "outputs": [
    {
     "name": "stdout",
     "output_type": "stream",
     "text": [
      "\n"
     ]
    }
   ],
   "source": [
    "cell_3()"
   ],
   "metadata": {
    "collapsed": false,
    "pycharm": {
     "name": "#%%\n"
    }
   }
  },
  {
   "cell_type": "code",
   "execution_count": 6,
   "outputs": [],
   "source": [
    "@RecordEvent\n",
    "def cell_4():\n",
    "    indices = np.random.permutation(len(iris_X))\n",
    "    iris_X_train = iris_X[indices[:-10]]\n",
    "    iris_y_train = iris_y[indices[:-10]]\n",
    "    iris_X_test = iris_X[indices[-10:]]\n",
    "    iris_y_test = iris_y[indices[-10:]]\n",
    "    \n",
    "    return VariableSnapshotSet({\"indices\": indices, \"iris_X_train\": iris_X_train, \"iris_y_train\": iris_y_train, \"iris_X_test\": iris_X_test, \"iris_y_test\": iris_y_test})"
   ],
   "metadata": {
    "collapsed": false,
    "pycharm": {
     "name": "#%%\n"
    }
   }
  },
  {
   "cell_type": "code",
   "execution_count": 7,
   "outputs": [
    {
     "name": "stdout",
     "output_type": "stream",
     "text": [
      "\n",
      "container created for variable  indices\n",
      "container created for variable  iris_X_train\n",
      "container created for variable  iris_y_train\n",
      "container created for variable  iris_X_test\n",
      "container created for variable  iris_y_test\n"
     ]
    }
   ],
   "source": [
    "indices, iris_X_train, iris_y_train, iris_X_test, iris_y_test = cell_4()"
   ],
   "metadata": {
    "collapsed": false,
    "pycharm": {
     "name": "#%%\n"
    }
   }
  },
  {
   "cell_type": "code",
   "execution_count": 8,
   "outputs": [],
   "source": [
    "@RecordEvent\n",
    "def cell_5():\n",
    "    # def test_var(xxx):\n",
    "    #     print(\"test_var\")\n",
    "    test_str = \"abc\"\n",
    "    try:\n",
    "        knn = KNeighborsClassifier.get_item()()\n",
    "    except:\n",
    "        knn = KNeighborsClassifier()\n",
    "    knn.fit(iris_X_train, iris_y_train)\n",
    "\n",
    "    knn.predict(iris_X_test)\n",
    "    \n",
    "    return VariableSnapshotSet({\"knn\": knn, \"test_str\": test_str})"
   ],
   "metadata": {
    "collapsed": false,
    "pycharm": {
     "name": "#%%\n"
    }
   }
  },
  {
   "cell_type": "code",
   "execution_count": 9,
   "outputs": [
    {
     "name": "stdout",
     "output_type": "stream",
     "text": [
      "\n",
      "container created for variable  knn\n",
      "container created for variable  test_var\n",
      "container created for variable  test_str\n"
     ]
    }
   ],
   "source": [
    "knn, test_str = cell_5()"
   ],
   "metadata": {
    "collapsed": false,
    "pycharm": {
     "name": "#%%\n"
    }
   }
  },
  {
   "cell_type": "code",
   "execution_count": 12,
   "metadata": {
    "collapsed": false,
    "pycharm": {
     "name": "#%%\n"
    }
   },
   "outputs": [
    {
     "name": "stdout",
     "output_type": "stream",
     "text": [
      "minimum migration cost: 0.003527\n",
      "---------------------------\n",
      "Nodes to migrate:\n",
      "Pickling iris_X\n",
      "Pickling iris_y\n",
      "Pickling indices\n",
      "Pickling iris_X_train\n",
      "Pickling iris_y_train\n",
      "Pickling iris_X_test\n",
      "Pickling knn\n",
      "Pickling test_var\n",
      "Pickling test_str\n",
      "Pickling iris_y_test\n",
      "Pickling np\n",
      "Pickling datasets\n",
      "Pickling KNeighborsClassifier\n",
      "save to: ./test.pickle\n"
     ]
    }
   ],
   "source": [
    "# from elastic.core.notebook.create_graph import create_graph\n",
    "# graph = create_graph()\n",
    "#\n",
    "# from elastic.algorithm.optimizer_exact import OptimizerExact\n",
    "# from elastic.algorithm.baseline import MigrateAllBaseline\n",
    "# from elastic.algorithm.baseline import RecomputeAllBaseline\n",
    "# from elastic.algorithm.baseline import RandomBaseline\n",
    "#\n",
    "# opt = OptimizerExact(migration_speed_bps=100000)\n",
    "# graph.trim_graph(opt)\n",
    "#\n",
    "# from elastic.core.io.filesystem_adapter import FilesystemAdapter\n",
    "# from elastic.core.io.migrate import migrate\n",
    "#\n",
    "# migrate(graph, FilesystemAdapter(), \"./test.pickle\")"
   ]
  },
  {
   "cell_type": "code",
   "execution_count": 12,
   "outputs": [],
   "source": [],
   "metadata": {
    "collapsed": false,
    "pycharm": {
     "name": "#%%\n"
    }
   }
  }
 ],
 "metadata": {
  "interpreter": {
   "hash": "73e29f827a180d655af59b8e84c2509fd207c6d30a6436933ca2d326b6144ecd"
  },
  "kernelspec": {
   "display_name": "Python 3.9.12 ('.env': venv)",
   "language": "python",
   "name": "python3"
  },
  "language_info": {
   "codemirror_mode": {
    "name": "ipython",
    "version": 3
   },
   "file_extension": ".py",
   "mimetype": "text/x-python",
   "name": "python",
   "nbconvert_exporter": "python",
   "pygments_lexer": "ipython3",
   "version": "3.9.12"
  },
  "orig_nbformat": 4,
  "vscode": {
   "interpreter": {
    "hash": "831878006862ccc20c8644a68163e333be809b5fee14b33e0a32c4838e696fe8"
   }
  }
 },
 "nbformat": 4,
 "nbformat_minor": 2
}