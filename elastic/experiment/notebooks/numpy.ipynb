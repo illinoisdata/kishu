{
 "cells": [
  {
   "cell_type": "code",
   "execution_count": 1,
   "outputs": [
    {
     "ename": "ImportError",
     "evalue": "cannot import name 'VariableSnapshotSet' from 'elastic.core.notebook.variable_snapshot' (/Users/libilly/elastic_notebook2/elastic-notebook/elastic/core/notebook/variable_snapshot.py)",
     "output_type": "error",
     "traceback": [
      "\u001B[0;31m---------------------------------------------------------------------------\u001B[0m",
      "\u001B[0;31mImportError\u001B[0m                               Traceback (most recent call last)",
      "Cell \u001B[0;32mIn [1], line 8\u001B[0m\n\u001B[1;32m      5\u001B[0m \u001B[38;5;28;01mimport\u001B[39;00m \u001B[38;5;21;01mnumpy\u001B[39;00m \u001B[38;5;28;01mas\u001B[39;00m \u001B[38;5;21;01mnp\u001B[39;00m\n\u001B[1;32m      6\u001B[0m \u001B[38;5;28;01mfrom\u001B[39;00m \u001B[38;5;21;01msklearn\u001B[39;00m \u001B[38;5;28;01mimport\u001B[39;00m datasets\n\u001B[0;32m----> 8\u001B[0m \u001B[38;5;28;01mfrom\u001B[39;00m \u001B[38;5;21;01melastic\u001B[39;00m\u001B[38;5;21;01m.\u001B[39;00m\u001B[38;5;21;01mcore\u001B[39;00m\u001B[38;5;21;01m.\u001B[39;00m\u001B[38;5;21;01mnotebook\u001B[39;00m\u001B[38;5;21;01m.\u001B[39;00m\u001B[38;5;21;01mvariable_snapshot\u001B[39;00m \u001B[38;5;28;01mimport\u001B[39;00m VariableSnapshotSet\n\u001B[1;32m      9\u001B[0m \u001B[38;5;28;01mfrom\u001B[39;00m \u001B[38;5;21;01melastic\u001B[39;00m\u001B[38;5;21;01m.\u001B[39;00m\u001B[38;5;21;01mcore\u001B[39;00m\u001B[38;5;21;01m.\u001B[39;00m\u001B[38;5;21;01mnotebook\u001B[39;00m\u001B[38;5;21;01m.\u001B[39;00m\u001B[38;5;21;01mrecord_event\u001B[39;00m \u001B[38;5;28;01mimport\u001B[39;00m RecordEvent\n\u001B[1;32m     11\u001B[0m \u001B[38;5;28;01mfrom\u001B[39;00m \u001B[38;5;21;01msklearn\u001B[39;00m\u001B[38;5;21;01m.\u001B[39;00m\u001B[38;5;21;01mneighbors\u001B[39;00m \u001B[38;5;28;01mimport\u001B[39;00m KNeighborsClassifier\n",
      "\u001B[0;31mImportError\u001B[0m: cannot import name 'VariableSnapshotSet' from 'elastic.core.notebook.variable_snapshot' (/Users/libilly/elastic_notebook2/elastic-notebook/elastic/core/notebook/variable_snapshot.py)"
     ]
    }
   ],
   "source": [
    "import os, sys\n",
    "# directory reach\n",
    "sys.path.insert(0, os.path.abspath(\"../../..\"))\n",
    "\n",
    "import numpy as np\n",
    "from sklearn import datasets\n",
    "\n",
    "from elastic.core.notebook.variable_snapshot import VariableSnapshotSet\n",
    "from elastic.core.notebook.record_event import RecordEvent\n",
    "\n",
    "from sklearn.neighbors import KNeighborsClassifier\n",
    "\n",
    "from elastic.core.globals import reset_notebook_state\n",
    "reset_notebook_state()\n",
    "\n",
    "@RecordEvent\n",
    "def import_libraries():\n",
    "    import numpy as np\n",
    "    from sklearn import datasets\n",
    "    from sklearn.neighbors import KNeighborsClassifier\n",
    "    return VariableSnapshotSet({\"np\": np, \"datasets\": datasets, \"KNeighborsClassifier\": KNeighborsClassifier})\n",
    "\n",
    "np, datasets, KNeighborsClassifier = import_libraries()"
   ],
   "metadata": {
    "collapsed": false,
    "pycharm": {
     "name": "#%%\n"
    }
   }
  },
  {
   "cell_type": "code",
   "execution_count": null,
   "outputs": [],
   "source": [
    "@RecordEvent\n",
    "def cell_2():\n",
    "    iris_X, iris_y = datasets.load_iris(return_X_y=True)\n",
    "    \n",
    "    return VariableSnapshotSet({\"iris_X\": iris_X, \"iris_y\": iris_y})"
   ],
   "metadata": {
    "collapsed": false,
    "pycharm": {
     "name": "#%%\n"
    }
   }
  },
  {
   "cell_type": "code",
   "execution_count": null,
   "outputs": [],
   "source": [
    "iris_X, iris_y = cell_2()"
   ],
   "metadata": {
    "collapsed": false,
    "pycharm": {
     "name": "#%%\n"
    }
   }
  },
  {
   "cell_type": "code",
   "execution_count": null,
   "outputs": [],
   "source": [
    "@RecordEvent\n",
    "def cell_3():\n",
    "    np.random.seed(0)"
   ],
   "metadata": {
    "collapsed": false,
    "pycharm": {
     "name": "#%%\n"
    }
   }
  },
  {
   "cell_type": "code",
   "execution_count": null,
   "outputs": [],
   "source": [
    "cell_3()"
   ],
   "metadata": {
    "collapsed": false,
    "pycharm": {
     "name": "#%%\n"
    }
   }
  },
  {
   "cell_type": "code",
   "execution_count": null,
   "outputs": [],
   "source": [
    "@RecordEvent\n",
    "def cell_4():\n",
    "    indices = np.random.permutation(len(iris_X))\n",
    "    iris_X_train = iris_X[indices[:-10]]\n",
    "    iris_y_train = iris_y[indices[:-10]]\n",
    "    iris_X_test = iris_X[indices[-10:]]\n",
    "    iris_y_test = iris_y[indices[-10:]]\n",
    "    \n",
    "    return VariableSnapshotSet({\"indices\": indices, \"iris_X_train\": iris_X_train, \"iris_y_train\": iris_y_train, \"iris_X_test\": iris_X_test, \"iris_y_test\": iris_y_test})"
   ],
   "metadata": {
    "collapsed": false,
    "pycharm": {
     "name": "#%%\n"
    }
   }
  },
  {
   "cell_type": "code",
   "execution_count": null,
   "outputs": [],
   "source": [
    "indices, iris_X_train, iris_y_train, iris_X_test, iris_y_test = cell_4()"
   ],
   "metadata": {
    "collapsed": false,
    "pycharm": {
     "name": "#%%\n"
    }
   }
  },
  {
   "cell_type": "code",
   "execution_count": null,
   "outputs": [],
   "source": [
    "@RecordEvent\n",
    "def cell_5():\n",
    "    def test_var(xxx):\n",
    "        print(\"test_var\")\n",
    "    test_str = \"abc\"\n",
    "    try:\n",
    "        knn = KNeighborsClassifier.get_item()()\n",
    "    except:\n",
    "        knn = KNeighborsClassifier()\n",
    "    knn.fit(iris_X_train, iris_y_train)\n",
    "\n",
    "    knn.predict(iris_X_test)\n",
    "    \n",
    "    return VariableSnapshotSet({\"knn\": knn, \"test_var\": test_var, \"test_str\": test_str})"
   ],
   "metadata": {
    "collapsed": false,
    "pycharm": {
     "name": "#%%\n"
    }
   }
  },
  {
   "cell_type": "code",
   "execution_count": null,
   "outputs": [],
   "source": [
    "knn, test_var, test_str = cell_5()"
   ],
   "metadata": {
    "collapsed": false,
    "pycharm": {
     "name": "#%%\n"
    }
   }
  },
  {
   "cell_type": "code",
   "execution_count": null,
   "metadata": {
    "collapsed": false,
    "pycharm": {
     "name": "#%%\n"
    }
   },
   "outputs": [],
   "source": [
    "# from elastic.core.notebook.create_graph import create_graph\n",
    "# graph = create_graph()\n",
    "#\n",
    "# from elastic.algorithm.optimizer_exact import OptimizerExact\n",
    "# from elastic.algorithm.baseline import MigrateAllBaseline\n",
    "# from elastic.algorithm.baseline import RecomputeAllBaseline\n",
    "# from elastic.algorithm.baseline import RandomBaseline\n",
    "#\n",
    "# opt = OptimizerExact(migration_speed_bps=100000)\n",
    "# graph.trim_graph(opt)\n",
    "#\n",
    "# from elastic.core.io.filesystem_adapter import FilesystemAdapter\n",
    "# from elastic.core.io.migrate import migrate\n",
    "#\n",
    "# migrate(graph, FilesystemAdapter(), \"./test.pickle\")"
   ]
  },
  {
   "cell_type": "code",
   "execution_count": null,
   "outputs": [],
   "source": [],
   "metadata": {
    "collapsed": false,
    "pycharm": {
     "name": "#%%\n"
    }
   }
  }
 ],
 "metadata": {
  "interpreter": {
   "hash": "73e29f827a180d655af59b8e84c2509fd207c6d30a6436933ca2d326b6144ecd"
  },
  "kernelspec": {
   "display_name": "Python 3.9.12 ('.env': venv)",
   "language": "python",
   "name": "python3"
  },
  "language_info": {
   "codemirror_mode": {
    "name": "ipython",
    "version": 3
   },
   "file_extension": ".py",
   "mimetype": "text/x-python",
   "name": "python",
   "nbconvert_exporter": "python",
   "pygments_lexer": "ipython3",
   "version": "3.9.12"
  },
  "orig_nbformat": 4,
  "vscode": {
   "interpreter": {
    "hash": "831878006862ccc20c8644a68163e333be809b5fee14b33e0a32c4838e696fe8"
   }
  }
 },
 "nbformat": 4,
 "nbformat_minor": 2
}