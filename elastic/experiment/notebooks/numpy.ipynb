{
 "cells": [
  {
   "cell_type": "code",
   "execution_count": 1,
   "metadata": {
    "pycharm": {
     "name": "#%%\n"
    }
   },
   "outputs": [],
   "source": [
    "import os, sys\n",
    "# directory reach\n",
    "sys.path.insert(0, os.path.abspath(\"../..\"))\n",
    "\n",
    "import numpy as np\n",
    "from sklearn import datasets\n",
    "\n",
    "from elastic.core.notebook.variable_snapshot import VariableSnapshotSet\n",
    "from elastic.core.notebook.record_event import RecordEvent\n",
    "\n",
    "from sklearn.neighbors import KNeighborsClassifier\n",
    "\n",
    "from elastic.core.globals import reset_notebook_state\n",
    "reset_notebook_state()"
   ]
  },
  {
   "cell_type": "code",
   "execution_count": 2,
   "metadata": {
    "pycharm": {
     "name": "#%%\n"
    }
   },
   "outputs": [],
   "source": [
    "@RecordEvent\n",
    "def cell_2():\n",
    "    iris_X, iris_y = datasets.load_iris(return_X_y=True)\n",
    "    \n",
    "    return VariableSnapshotSet({\"iris_X\": iris_X, \"iris_y\": iris_y})"
   ]
  },
  {
   "cell_type": "code",
   "execution_count": 3,
   "metadata": {
    "pycharm": {
     "name": "#%%\n"
    }
   },
   "outputs": [
    {
     "name": "stdout",
     "output_type": "stream",
     "text": [
      "\n",
      "container created for variable  iris_X\n",
      "container created for variable  iris_y\n"
     ]
    }
   ],
   "source": [
    "iris_X, iris_y = cell_2()"
   ]
  },
  {
   "cell_type": "code",
   "execution_count": 4,
   "metadata": {
    "pycharm": {
     "name": "#%%\n"
    }
   },
   "outputs": [],
   "source": [
    "@RecordEvent\n",
    "def cell_3():\n",
    "    np.random.seed(0)"
   ]
  },
  {
   "cell_type": "code",
   "execution_count": 5,
   "metadata": {
    "pycharm": {
     "name": "#%%\n"
    }
   },
   "outputs": [
    {
     "name": "stdout",
     "output_type": "stream",
     "text": [
      "\n"
     ]
    }
   ],
   "source": [
    "cell_3()"
   ]
  },
  {
   "cell_type": "code",
   "execution_count": 6,
   "metadata": {
    "pycharm": {
     "name": "#%%\n"
    }
   },
   "outputs": [],
   "source": [
    "@RecordEvent\n",
    "def cell_4():\n",
    "    indices = np.random.permutation(len(iris_X))\n",
    "    iris_X_train = iris_X[indices[:-10]]\n",
    "    iris_y_train = iris_y[indices[:-10]]\n",
    "    iris_X_test = iris_X[indices[-10:]]\n",
    "    iris_y_test = iris_y[indices[-10:]]\n",
    "    \n",
    "    return VariableSnapshotSet({\"indices\": indices, \"iris_X_train\": iris_X_train, \"iris_y_train\": iris_y_train, \"iris_X_test\": iris_X_test, \"iris_y_test\": iris_y_test})"
   ]
  },
  {
   "cell_type": "code",
   "execution_count": 7,
   "metadata": {
    "pycharm": {
     "name": "#%%\n"
    }
   },
   "outputs": [
    {
     "name": "stdout",
     "output_type": "stream",
     "text": [
      "\n",
      "container created for variable  indices\n",
      "container created for variable  iris_X_train\n",
      "container created for variable  iris_y_train\n",
      "container created for variable  iris_X_test\n",
      "container created for variable  iris_y_test\n"
     ]
    }
   ],
   "source": [
    "indices, iris_X_train, iris_y_train, iris_X_test, iris_y_test = cell_4()"
   ]
  },
  {
   "cell_type": "code",
   "execution_count": 8,
   "metadata": {
    "pycharm": {
     "name": "#%%\n"
    }
   },
   "outputs": [],
   "source": [
    "@RecordEvent\n",
    "def cell_5():\n",
    "    knn = KNeighborsClassifier()\n",
    "    knn.fit(iris_X_train, iris_y_train)\n",
    "\n",
    "    knn.predict(iris_X_test)\n",
    "    \n",
    "    return VariableSnapshotSet({\"knn\": knn})"
   ]
  },
  {
   "cell_type": "code",
   "execution_count": 9,
   "metadata": {
    "pycharm": {
     "name": "#%%\n"
    }
   },
   "outputs": [
    {
     "name": "stdout",
     "output_type": "stream",
     "text": [
      "\n",
      "container created for variable  knn\n"
     ]
    }
   ],
   "source": [
    "knn = cell_5()"
   ]
  },
  {
   "cell_type": "code",
   "execution_count": 10,
   "outputs": [],
   "source": [
    "@RecordEvent\n",
    "def import_libraries():\n",
    "    import numpy as np\n",
    "    from sklearn import datasets\n",
    "    from sklearn.neighbors import KNeighborsClassifier\n",
    "    return VariableSnapshotSet({\"np\": np, \"datasets\": datasets, \"KNeighborsClassifier\": KNeighborsClassifier})"
   ],
   "metadata": {
    "collapsed": false,
    "pycharm": {
     "name": "#%%\n"
    }
   }
  },
  {
   "cell_type": "code",
   "execution_count": 11,
   "outputs": [
    {
     "name": "stdout",
     "output_type": "stream",
     "text": [
      "\n",
      "container created for variable  np\n",
      "container created for variable  datasets\n",
      "container created for variable  KNeighborsClassifier\n"
     ]
    }
   ],
   "source": [
    "_ = import_libraries()"
   ],
   "metadata": {
    "collapsed": false,
    "pycharm": {
     "name": "#%%\n"
    }
   }
  },
  {
   "cell_type": "code",
   "execution_count": 35,
   "outputs": [],
   "source": [],
   "metadata": {
    "collapsed": false,
    "pycharm": {
     "name": "#%%\n"
    }
   }
  }
 ],
 "metadata": {
  "kernelspec": {
   "display_name": "Python 3.10.7 ('.env': venv)",
   "language": "python",
   "name": "python3"
  },
  "language_info": {
   "codemirror_mode": {
    "name": "ipython",
    "version": 3
   },
   "file_extension": ".py",
   "mimetype": "text/x-python",
   "name": "python",
   "nbconvert_exporter": "python",
   "pygments_lexer": "ipython3",
   "version": "3.10.7"
  },
  "orig_nbformat": 4,
  "vscode": {
   "interpreter": {
    "hash": "831878006862ccc20c8644a68163e333be809b5fee14b33e0a32c4838e696fe8"
   }
  }
 },
 "nbformat": 4,
 "nbformat_minor": 2
}