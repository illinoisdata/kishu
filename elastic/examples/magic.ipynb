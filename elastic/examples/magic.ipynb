{
 "cells": [
  {
   "cell_type": "code",
   "execution_count": 1,
   "metadata": {
    "execution": {
     "iopub.execute_input": "2022-10-24T13:32:01.939271Z",
     "iopub.status.busy": "2022-10-24T13:32:01.938883Z",
     "iopub.status.idle": "2022-10-24T13:32:02.252619Z",
     "shell.execute_reply": "2022-10-24T13:32:02.251823Z",
     "shell.execute_reply.started": "2022-10-24T13:32:01.939247Z"
    },
    "pycharm": {
     "name": "#%%\n"
    },
    "tags": []
   },
   "outputs": [],
   "source": [
    "import sys, os\n",
    "sys.path.insert(0, os.path.abspath(\"../..\"))\n",
    "%load_ext elastic.core.notebook.elastic_notebook"
   ]
  },
  {
   "cell_type": "code",
   "execution_count": 2,
   "metadata": {
    "collapsed": false,
    "execution": {
     "iopub.execute_input": "2022-10-24T13:32:03.875549Z",
     "iopub.status.busy": "2022-10-24T13:32:03.875001Z",
     "iopub.status.idle": "2022-10-24T13:32:03.893254Z",
     "shell.execute_reply": "2022-10-24T13:32:03.892612Z",
     "shell.execute_reply.started": "2022-10-24T13:32:03.875523Z"
    },
    "jupyter": {
     "outputs_hidden": false
    },
    "pycharm": {
     "name": "#%%\n"
    },
    "tags": []
   },
   "outputs": [],
   "source": [
    "%%RecordEvent\n",
    "x = 1"
   ]
  },
  {
   "cell_type": "code",
   "execution_count": 3,
   "metadata": {
    "collapsed": false,
    "execution": {
     "iopub.execute_input": "2022-10-24T13:32:04.434785Z",
     "iopub.status.busy": "2022-10-24T13:32:04.433609Z",
     "iopub.status.idle": "2022-10-24T13:32:04.448579Z",
     "shell.execute_reply": "2022-10-24T13:32:04.447364Z",
     "shell.execute_reply.started": "2022-10-24T13:32:04.434749Z"
    },
    "jupyter": {
     "outputs_hidden": false
    },
    "pycharm": {
     "name": "#%%\n"
    },
    "tags": []
   },
   "outputs": [],
   "source": [
    "%%RecordEvent\n",
    "y = x\n",
    "x = x + 1\n",
    "z = 1\n",
    "a = 1\n",
    "del a"
   ]
  },
  {
   "cell_type": "code",
   "execution_count": 4,
   "metadata": {
    "collapsed": false,
    "execution": {
     "iopub.execute_input": "2022-10-24T13:32:04.777204Z",
     "iopub.status.busy": "2022-10-24T13:32:04.776389Z",
     "iopub.status.idle": "2022-10-24T13:32:04.789207Z",
     "shell.execute_reply": "2022-10-24T13:32:04.788173Z",
     "shell.execute_reply.started": "2022-10-24T13:32:04.777146Z"
    },
    "jupyter": {
     "outputs_hidden": false
    },
    "pycharm": {
     "name": "#%%\n"
    },
    "tags": []
   },
   "outputs": [],
   "source": [
    "%%RecordEvent\n",
    "import numpy as np\n",
    "from numpy import random\n"
   ]
  },
  {
   "cell_type": "code",
   "execution_count": 5,
   "metadata": {
    "collapsed": false,
    "execution": {
     "iopub.execute_input": "2022-10-24T13:32:05.097127Z",
     "iopub.status.busy": "2022-10-24T13:32:05.096109Z",
     "iopub.status.idle": "2022-10-24T13:32:05.109461Z",
     "shell.execute_reply": "2022-10-24T13:32:05.107585Z",
     "shell.execute_reply.started": "2022-10-24T13:32:05.097069Z"
    },
    "jupyter": {
     "outputs_hidden": false
    },
    "pycharm": {
     "name": "#%%\n"
    },
    "tags": []
   },
   "outputs": [
    {
     "name": "stdout",
     "output_type": "stream",
     "text": [
      "---------------------------\n",
      "VSs:\n",
      "x 0\n",
      "x 1\n",
      "y 0\n",
      "z 0\n",
      "a 0\n",
      "np 0\n",
      "random 0\n",
      "---------------------------\n",
      "OEs:\n",
      "---------------------------\n",
      "OE num: 0  runtime: 0.00013113021850585938\n",
      "sources\n",
      "destinations\n",
      "    x 0\n",
      "---------------------------\n",
      "OE num: 1  runtime: 0.00022292137145996094\n",
      "sources\n",
      "    x 0\n",
      "destinations\n",
      "    y 0\n",
      "    x 1\n",
      "    z 0\n",
      "    a 0\n",
      "---------------------------\n",
      "OE num: 2  runtime: 0.00016880035400390625\n",
      "sources\n",
      "destinations\n",
      "    np 0\n",
      "    random 0\n"
     ]
    }
   ],
   "source": [
    "%Inspect"
   ]
  },
  {
   "cell_type": "code",
   "execution_count": 6,
   "metadata": {
    "collapsed": false,
    "execution": {
     "iopub.execute_input": "2022-10-24T13:32:06.036508Z",
     "iopub.status.busy": "2022-10-24T13:32:06.035765Z",
     "iopub.status.idle": "2022-10-24T13:32:06.046514Z",
     "shell.execute_reply": "2022-10-24T13:32:06.043740Z",
     "shell.execute_reply.started": "2022-10-24T13:32:06.036459Z"
    },
    "jupyter": {
     "outputs_hidden": false
    },
    "pycharm": {
     "name": "#%%\n"
    },
    "tags": []
   },
   "outputs": [
    {
     "name": "stdout",
     "output_type": "stream",
     "text": [
      "minimum migration cost: 0.0005228519439697266\n",
      "---------------------------\n",
      "variables to migrate:\n",
      "---------------------------\n",
      "variables to recompute:\n",
      "z 28\n",
      "np 72\n",
      "y 28\n",
      "random 72\n",
      "x 28\n",
      "---------------------------\n",
      "OEs to recompute:\n",
      "2 0.00016880035400390625\n",
      "1 0.00022292137145996094\n",
      "0 0.00013113021850585938\n",
      "Checkpoint saved to: checkpoints/magic.pickle\n"
     ]
    }
   ],
   "source": [
    "%Checkpoint checkpoints/magic.pickle"
   ]
  },
  {
   "cell_type": "code",
   "execution_count": 6,
   "metadata": {
    "collapsed": false,
    "jupyter": {
     "outputs_hidden": false
    },
    "pycharm": {
     "name": "#%%\n"
    }
   },
   "outputs": [],
   "source": []
  },
  {
   "cell_type": "code",
   "execution_count": 6,
   "outputs": [],
   "source": [],
   "metadata": {
    "collapsed": false,
    "pycharm": {
     "name": "#%%\n"
    }
   }
  }
 ],
 "metadata": {
  "kernelspec": {
   "display_name": "Python 3 (ipykernel)",
   "language": "python",
   "name": "python3"
  },
  "language_info": {
   "codemirror_mode": {
    "name": "ipython",
    "version": 3
   },
   "file_extension": ".py",
   "mimetype": "text/x-python",
   "name": "python",
   "nbconvert_exporter": "python",
   "pygments_lexer": "ipython3",
   "version": "3.8.9"
  }
 },
 "nbformat": 4,
 "nbformat_minor": 4
}