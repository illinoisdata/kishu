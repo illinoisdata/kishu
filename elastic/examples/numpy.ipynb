{
 "cells": [
  {
   "cell_type": "code",
   "execution_count": 1,
   "metadata": {
    "pycharm": {
     "name": "#%%\n"
    }
   },
   "outputs": [
    {
     "ename": "ModuleNotFoundError",
     "evalue": "No module named 'numpy'",
     "output_type": "error",
     "traceback": [
      "\u001b[0;31m---------------------------------------------------------------------------\u001b[0m",
      "\u001b[0;31mModuleNotFoundError\u001b[0m                       Traceback (most recent call last)",
      "Cell \u001b[0;32mIn [1], line 4\u001b[0m\n\u001b[1;32m      1\u001b[0m \u001b[38;5;28;01mimport\u001b[39;00m \u001b[38;5;21;01mos\u001b[39;00m\u001b[38;5;241m,\u001b[39m \u001b[38;5;21;01msys\u001b[39;00m\n\u001b[1;32m      2\u001b[0m sys\u001b[38;5;241m.\u001b[39mpath\u001b[38;5;241m.\u001b[39minsert(\u001b[38;5;241m0\u001b[39m, os\u001b[38;5;241m.\u001b[39mpath\u001b[38;5;241m.\u001b[39mabspath(\u001b[38;5;124m\"\u001b[39m\u001b[38;5;124m..\u001b[39m\u001b[38;5;124m\"\u001b[39m))\n\u001b[0;32m----> 4\u001b[0m \u001b[38;5;28;01mimport\u001b[39;00m \u001b[38;5;21;01mnumpy\u001b[39;00m \u001b[38;5;28;01mas\u001b[39;00m \u001b[38;5;21;01mnp\u001b[39;00m\n\u001b[1;32m      5\u001b[0m \u001b[38;5;28;01mfrom\u001b[39;00m \u001b[38;5;21;01msklearn\u001b[39;00m \u001b[38;5;28;01mimport\u001b[39;00m datasets\n\u001b[1;32m      7\u001b[0m \u001b[38;5;28;01mimport\u001b[39;00m \u001b[38;5;21;01mcore\u001b[39;00m\u001b[38;5;21;01m.\u001b[39;00m\u001b[38;5;21;01mcontainer\u001b[39;00m\n",
      "\u001b[0;31mModuleNotFoundError\u001b[0m: No module named 'numpy'"
     ]
    }
   ],
   "source": [
    "import os, sys\n",
    "sys.path.insert(0, os.path.abspath(\"..\"))\n",
    "\n",
    "import numpy as np\n",
    "from sklearn import datasets\n",
    "\n",
    "import core.container\n",
    "from core.record_event import RecordEvent\n",
    "from core.record_event import ClearEvent\n",
    "\n",
    "ClearEvent()"
   ]
  },
  {
   "cell_type": "code",
   "execution_count": 15,
   "metadata": {
    "pycharm": {
     "name": "#%%\n"
    }
   },
   "outputs": [],
   "source": [
    "@RecordEvent\n",
    "def cell_2():\n",
    "    iris_X, iris_y = datasets.load_iris(return_X_y=True)\n",
    "    \n",
    "    return iris_X, iris_y"
   ]
  },
  {
   "cell_type": "code",
   "execution_count": 16,
   "metadata": {
    "pycharm": {
     "name": "#%%\n"
    }
   },
   "outputs": [
    {
     "name": "stdout",
     "output_type": "stream",
     "text": [
      "container created for variable  6295533200\n",
      "container created for variable  6295532912\n"
     ]
    }
   ],
   "source": [
    "iris_X, iris_y = cell_2()"
   ]
  },
  {
   "cell_type": "code",
   "execution_count": 17,
   "metadata": {
    "pycharm": {
     "name": "#%%\n"
    }
   },
   "outputs": [],
   "source": [
    "@RecordEvent\n",
    "def cell_3():\n",
    "    np.random.seed(0)"
   ]
  },
  {
   "cell_type": "code",
   "execution_count": 18,
   "metadata": {
    "pycharm": {
     "name": "#%%\n"
    }
   },
   "outputs": [],
   "source": [
    "cell_3()"
   ]
  },
  {
   "cell_type": "code",
   "execution_count": 19,
   "metadata": {
    "pycharm": {
     "name": "#%%\n"
    }
   },
   "outputs": [],
   "source": [
    "@RecordEvent\n",
    "def cell_4():\n",
    "    indices = np.random.permutation(len(iris_X))\n",
    "    iris_X_train = iris_X[indices[:-10]]\n",
    "    iris_y_train = iris_y[indices[:-10]]\n",
    "    iris_X_test = iris_X[indices[-10:]]\n",
    "    iris_y_test = iris_y[indices[-10:]]\n",
    "    \n",
    "    return indices, iris_X_train, iris_y_train, iris_X_test, iris_y_test"
   ]
  },
  {
   "cell_type": "code",
   "execution_count": 20,
   "metadata": {
    "pycharm": {
     "name": "#%%\n"
    }
   },
   "outputs": [
    {
     "name": "stdout",
     "output_type": "stream",
     "text": [
      "container created for variable  6138860528\n",
      "container created for variable  6295533968\n",
      "container created for variable  6295533872\n",
      "container created for variable  6295534544\n",
      "container created for variable  6295534064\n"
     ]
    }
   ],
   "source": [
    "indices, iris_X_train, iris_y_train, iris_X_test, iris_y_test = cell_4()"
   ]
  },
  {
   "cell_type": "code",
   "execution_count": 22,
   "metadata": {
    "pycharm": {
     "name": "#%%\n"
    }
   },
   "outputs": [],
   "source": [
    "from sklearn.neighbors import KNeighborsClassifier\n",
    "\n",
    "@RecordEvent\n",
    "def cell_5():\n",
    "    knn = KNeighborsClassifier()\n",
    "    knn.fit(iris_X_train, iris_y_train)\n",
    "\n",
    "    knn.predict(iris_X_test)\n",
    "    \n",
    "    return knn"
   ]
  },
  {
   "cell_type": "code",
   "execution_count": 23,
   "metadata": {
    "pycharm": {
     "name": "#%%\n"
    }
   },
   "outputs": [
    {
     "name": "stdout",
     "output_type": "stream",
     "text": [
      "container created for variable  6297939248\n"
     ]
    }
   ],
   "source": [
    "knn = cell_5()"
   ]
  },
  {
   "cell_type": "code",
   "execution_count": 25,
   "metadata": {
    "pycharm": {
     "name": "#%%\n"
    }
   },
   "outputs": [
    {
     "name": "stdout",
     "output_type": "stream",
     "text": [
      "Operation with name cell_2 and id 0 started at 2022-09-05 13:55:40.497532 and ended at 2022-09-05 13:55:40.499309, 0:00:00.001777 s elapsed, 0 related data events \n",
      "\n",
      "related data events: \n",
      "\n",
      "------------\n",
      "Operation with name cell_3 and id 1 started at 2022-09-05 13:55:40.505720 and ended at 2022-09-05 13:55:40.505740, 0:00:00.000020 s elapsed, 0 related data events \n",
      "\n",
      "related data events: \n",
      "\n",
      "------------\n",
      "Operation with name cell_4 and id 2 started at 2022-09-05 13:55:40.882402 and ended at 2022-09-05 13:55:40.882507, 0:00:00.000105 s elapsed, 5 related data events \n",
      "\n",
      "related data events: \n",
      "\n",
      "DataContainer with base ID 6138861104 and type <class 'numpy.ndarray'> used at 2022-09-05 13:55:40.882416, previous operation event was Operation with name cell_2 and id 0 started at 2022-09-05 13:55:40.497532 and ended at 2022-09-05 13:55:40.499309, 0:00:00.001777 s elapsed, 0 related data events \n",
      "\n",
      "DataContainer with base ID 6138861104 and type <class 'numpy.ndarray'> used at 2022-09-05 13:55:40.882492, previous operation event was Operation with name cell_2 and id 0 started at 2022-09-05 13:55:40.497532 and ended at 2022-09-05 13:55:40.499309, 0:00:00.001777 s elapsed, 0 related data events \n",
      "\n",
      "DataContainer with base ID 6138859856 and type <class 'numpy.ndarray'> used at 2022-09-05 13:55:40.882496, previous operation event was Operation with name cell_2 and id 0 started at 2022-09-05 13:55:40.497532 and ended at 2022-09-05 13:55:40.499309, 0:00:00.001777 s elapsed, 0 related data events \n",
      "\n",
      "DataContainer with base ID 6138861104 and type <class 'numpy.ndarray'> used at 2022-09-05 13:55:40.882503, previous operation event was Operation with name cell_2 and id 0 started at 2022-09-05 13:55:40.497532 and ended at 2022-09-05 13:55:40.499309, 0:00:00.001777 s elapsed, 0 related data events \n",
      "\n",
      "DataContainer with base ID 6138859856 and type <class 'numpy.ndarray'> used at 2022-09-05 13:55:40.882506, previous operation event was Operation with name cell_2 and id 0 started at 2022-09-05 13:55:40.497532 and ended at 2022-09-05 13:55:40.499309, 0:00:00.001777 s elapsed, 0 related data events \n",
      "\n",
      "------------\n",
      "Operation with name cell_5 and id 3 started at 2022-09-05 13:55:51.012322 and ended at 2022-09-05 13:55:51.015416, 0:00:00.003094 s elapsed, 11 related data events \n",
      "\n",
      "related data events: \n",
      "\n",
      "DataContainer with base ID 6138860048 and type <class 'numpy.ndarray'> used at 2022-09-05 13:55:51.012482, previous operation event was Operation with name cell_4 and id 2 started at 2022-09-05 13:55:40.882402 and ended at 2022-09-05 13:55:40.882507, 0:00:00.000105 s elapsed, 5 related data events \n",
      "\n",
      "DataContainer with base ID 6138860048 and type <class 'numpy.ndarray'> used at 2022-09-05 13:55:51.012527, previous operation event was Operation with name cell_4 and id 2 started at 2022-09-05 13:55:40.882402 and ended at 2022-09-05 13:55:40.882507, 0:00:00.000105 s elapsed, 5 related data events \n",
      "\n",
      "DataContainer with base ID 6138860720 and type <class 'numpy.ndarray'> used at 2022-09-05 13:55:51.012690, previous operation event was Operation with name cell_4 and id 2 started at 2022-09-05 13:55:40.882402 and ended at 2022-09-05 13:55:40.882507, 0:00:00.000105 s elapsed, 5 related data events \n",
      "\n",
      "DataContainer with base ID 6138860720 and type <class 'numpy.ndarray'> used at 2022-09-05 13:55:51.012708, previous operation event was Operation with name cell_4 and id 2 started at 2022-09-05 13:55:40.882402 and ended at 2022-09-05 13:55:40.882507, 0:00:00.000105 s elapsed, 5 related data events \n",
      "\n",
      "DataContainer with base ID 6138859664 and type <class 'numpy.ndarray'> used at 2022-09-05 13:55:51.013767, previous operation event was Operation with name cell_4 and id 2 started at 2022-09-05 13:55:40.882402 and ended at 2022-09-05 13:55:40.882507, 0:00:00.000105 s elapsed, 5 related data events \n",
      "\n",
      "DataContainer with base ID 6138859664 and type <class 'numpy.ndarray'> used at 2022-09-05 13:55:51.013804, previous operation event was Operation with name cell_4 and id 2 started at 2022-09-05 13:55:40.882402 and ended at 2022-09-05 13:55:40.882507, 0:00:00.000105 s elapsed, 5 related data events \n",
      "\n",
      "DataContainer with base ID 6138859664 and type <class 'numpy.ndarray'> used at 2022-09-05 13:55:51.014417, previous operation event was Operation with name cell_4 and id 2 started at 2022-09-05 13:55:40.882402 and ended at 2022-09-05 13:55:40.882507, 0:00:00.000105 s elapsed, 5 related data events \n",
      "\n",
      "DataContainer with base ID 6138859664 and type <class 'numpy.ndarray'> used at 2022-09-05 13:55:51.014423, previous operation event was Operation with name cell_4 and id 2 started at 2022-09-05 13:55:40.882402 and ended at 2022-09-05 13:55:40.882507, 0:00:00.000105 s elapsed, 5 related data events \n",
      "\n",
      "DataContainer with base ID 6138859664 and type <class 'numpy.ndarray'> used at 2022-09-05 13:55:51.014426, previous operation event was Operation with name cell_4 and id 2 started at 2022-09-05 13:55:40.882402 and ended at 2022-09-05 13:55:40.882507, 0:00:00.000105 s elapsed, 5 related data events \n",
      "\n",
      "DataContainer with base ID 6138859664 and type <class 'numpy.ndarray'> used at 2022-09-05 13:55:51.014428, previous operation event was Operation with name cell_4 and id 2 started at 2022-09-05 13:55:40.882402 and ended at 2022-09-05 13:55:40.882507, 0:00:00.000105 s elapsed, 5 related data events \n",
      "\n",
      "DataContainer with base ID 6138859664 and type <class 'numpy.ndarray'> used at 2022-09-05 13:55:51.014433, previous operation event was Operation with name cell_4 and id 2 started at 2022-09-05 13:55:40.882402 and ended at 2022-09-05 13:55:40.882507, 0:00:00.000105 s elapsed, 5 related data events \n",
      "\n",
      "------------\n",
      "Operation with name cell_2 and id 4 started at 2022-09-05 14:05:15.115438 and ended at 2022-09-05 14:05:15.118509, 0:00:00.003071 s elapsed, 0 related data events \n",
      "\n",
      "related data events: \n",
      "\n",
      "------------\n",
      "Operation with name cell_3 and id 5 started at 2022-09-05 14:05:25.754187 and ended at 2022-09-05 14:05:25.754299, 0:00:00.000112 s elapsed, 0 related data events \n",
      "\n",
      "related data events: \n",
      "\n",
      "------------\n",
      "Operation with name cell_4 and id 6 started at 2022-09-05 14:05:39.723200 and ended at 2022-09-05 14:05:39.723416, 0:00:00.000216 s elapsed, 5 related data events \n",
      "\n",
      "related data events: \n",
      "\n",
      "DataContainer with base ID 6295533200 and type <class 'numpy.ndarray'> used at 2022-09-05 14:05:39.723238, previous operation event was Operation with name cell_2 and id 4 started at 2022-09-05 14:05:15.115438 and ended at 2022-09-05 14:05:15.118509, 0:00:00.003071 s elapsed, 0 related data events \n",
      "\n",
      "DataContainer with base ID 6295533200 and type <class 'numpy.ndarray'> used at 2022-09-05 14:05:39.723378, previous operation event was Operation with name cell_2 and id 4 started at 2022-09-05 14:05:15.115438 and ended at 2022-09-05 14:05:15.118509, 0:00:00.003071 s elapsed, 0 related data events \n",
      "\n",
      "DataContainer with base ID 6295532912 and type <class 'numpy.ndarray'> used at 2022-09-05 14:05:39.723384, previous operation event was Operation with name cell_2 and id 4 started at 2022-09-05 14:05:15.115438 and ended at 2022-09-05 14:05:15.118509, 0:00:00.003071 s elapsed, 0 related data events \n",
      "\n",
      "DataContainer with base ID 6295533200 and type <class 'numpy.ndarray'> used at 2022-09-05 14:05:39.723394, previous operation event was Operation with name cell_2 and id 4 started at 2022-09-05 14:05:15.115438 and ended at 2022-09-05 14:05:15.118509, 0:00:00.003071 s elapsed, 0 related data events \n",
      "\n",
      "DataContainer with base ID 6295532912 and type <class 'numpy.ndarray'> used at 2022-09-05 14:05:39.723407, previous operation event was Operation with name cell_2 and id 4 started at 2022-09-05 14:05:15.115438 and ended at 2022-09-05 14:05:15.118509, 0:00:00.003071 s elapsed, 0 related data events \n",
      "\n",
      "------------\n",
      "Operation with name cell_5 and id 7 started at 2022-09-05 14:05:49.569257 and ended at 2022-09-05 14:05:49.574312, 0:00:00.005055 s elapsed, 11 related data events \n",
      "\n",
      "related data events: \n",
      "\n",
      "DataContainer with base ID 6295533968 and type <class 'numpy.ndarray'> used at 2022-09-05 14:05:49.569720, previous operation event was Operation with name cell_4 and id 6 started at 2022-09-05 14:05:39.723200 and ended at 2022-09-05 14:05:39.723416, 0:00:00.000216 s elapsed, 5 related data events \n",
      "\n",
      "DataContainer with base ID 6295533968 and type <class 'numpy.ndarray'> used at 2022-09-05 14:05:49.570041, previous operation event was Operation with name cell_4 and id 6 started at 2022-09-05 14:05:39.723200 and ended at 2022-09-05 14:05:39.723416, 0:00:00.000216 s elapsed, 5 related data events \n",
      "\n",
      "DataContainer with base ID 6295533872 and type <class 'numpy.ndarray'> used at 2022-09-05 14:05:49.570593, previous operation event was Operation with name cell_4 and id 6 started at 2022-09-05 14:05:39.723200 and ended at 2022-09-05 14:05:39.723416, 0:00:00.000216 s elapsed, 5 related data events \n",
      "\n",
      "DataContainer with base ID 6295533872 and type <class 'numpy.ndarray'> used at 2022-09-05 14:05:49.570622, previous operation event was Operation with name cell_4 and id 6 started at 2022-09-05 14:05:39.723200 and ended at 2022-09-05 14:05:39.723416, 0:00:00.000216 s elapsed, 5 related data events \n",
      "\n",
      "DataContainer with base ID 6295534544 and type <class 'numpy.ndarray'> used at 2022-09-05 14:05:49.571500, previous operation event was Operation with name cell_4 and id 6 started at 2022-09-05 14:05:39.723200 and ended at 2022-09-05 14:05:39.723416, 0:00:00.000216 s elapsed, 5 related data events \n",
      "\n",
      "DataContainer with base ID 6295534544 and type <class 'numpy.ndarray'> used at 2022-09-05 14:05:49.571517, previous operation event was Operation with name cell_4 and id 6 started at 2022-09-05 14:05:39.723200 and ended at 2022-09-05 14:05:39.723416, 0:00:00.000216 s elapsed, 5 related data events \n",
      "\n",
      "DataContainer with base ID 6295534544 and type <class 'numpy.ndarray'> used at 2022-09-05 14:05:49.573120, previous operation event was Operation with name cell_4 and id 6 started at 2022-09-05 14:05:39.723200 and ended at 2022-09-05 14:05:39.723416, 0:00:00.000216 s elapsed, 5 related data events \n",
      "\n",
      "DataContainer with base ID 6295534544 and type <class 'numpy.ndarray'> used at 2022-09-05 14:05:49.573128, previous operation event was Operation with name cell_4 and id 6 started at 2022-09-05 14:05:39.723200 and ended at 2022-09-05 14:05:39.723416, 0:00:00.000216 s elapsed, 5 related data events \n",
      "\n",
      "DataContainer with base ID 6295534544 and type <class 'numpy.ndarray'> used at 2022-09-05 14:05:49.573131, previous operation event was Operation with name cell_4 and id 6 started at 2022-09-05 14:05:39.723200 and ended at 2022-09-05 14:05:39.723416, 0:00:00.000216 s elapsed, 5 related data events \n",
      "\n",
      "DataContainer with base ID 6295534544 and type <class 'numpy.ndarray'> used at 2022-09-05 14:05:49.573134, previous operation event was Operation with name cell_4 and id 6 started at 2022-09-05 14:05:39.723200 and ended at 2022-09-05 14:05:39.723416, 0:00:00.000216 s elapsed, 5 related data events \n",
      "\n",
      "DataContainer with base ID 6295534544 and type <class 'numpy.ndarray'> used at 2022-09-05 14:05:49.573139, previous operation event was Operation with name cell_4 and id 6 started at 2022-09-05 14:05:39.723200 and ended at 2022-09-05 14:05:39.723416, 0:00:00.000216 s elapsed, 5 related data events \n",
      "\n",
      "------------\n"
     ]
    }
   ],
   "source": [
    "for x in core.event.operation_events:\n",
    "    print(x, \"\\n\")\n",
    "    print(\"related data events: \\n\")\n",
    "    for y in x.related_data_events:\n",
    "        print(y, \"\\n\")\n",
    "    print(\"------------\")"
   ]
  },
  {
   "cell_type": "code",
   "execution_count": 11,
   "metadata": {
    "pycharm": {
     "name": "#%%\n"
    }
   },
   "outputs": [
    {
     "name": "stdout",
     "output_type": "stream",
     "text": [
      "DataContainer with base ID 4830848560 and type <class 'numpy.ndarray'> used at 2022-09-05 13:47:06.241763, previous operation event was Operation with name cell_2 and id 0 started at 2022-09-05 13:47:05.666897 and ended at 2022-09-05 13:47:05.668917, 0:00:00.002020 s elapsed, 0 related data events \n",
      "\n",
      "DataContainer with base ID 4830848560 and type <class 'numpy.ndarray'> used at 2022-09-05 13:47:06.242667, previous operation event was Operation with name cell_2 and id 0 started at 2022-09-05 13:47:05.666897 and ended at 2022-09-05 13:47:05.668917, 0:00:00.002020 s elapsed, 0 related data events \n",
      "\n",
      "DataContainer with base ID 4830848176 and type <class 'numpy.ndarray'> used at 2022-09-05 13:47:06.242675, previous operation event was Operation with name cell_2 and id 0 started at 2022-09-05 13:47:05.666897 and ended at 2022-09-05 13:47:05.668917, 0:00:00.002020 s elapsed, 0 related data events \n",
      "\n",
      "DataContainer with base ID 4830848560 and type <class 'numpy.ndarray'> used at 2022-09-05 13:47:06.242685, previous operation event was Operation with name cell_2 and id 0 started at 2022-09-05 13:47:05.666897 and ended at 2022-09-05 13:47:05.668917, 0:00:00.002020 s elapsed, 0 related data events \n",
      "\n",
      "DataContainer with base ID 4830848176 and type <class 'numpy.ndarray'> used at 2022-09-05 13:47:06.242688, previous operation event was Operation with name cell_2 and id 0 started at 2022-09-05 13:47:05.666897 and ended at 2022-09-05 13:47:05.668917, 0:00:00.002020 s elapsed, 0 related data events \n",
      "\n",
      "DataContainer with base ID 4830847312 and type <class 'numpy.ndarray'> used at 2022-09-05 13:47:06.996780, previous operation event was Operation with name cell_4 and id 2 started at 2022-09-05 13:47:06.241746 and ended at 2022-09-05 13:47:06.242690, 0:00:00.000944 s elapsed, 5 related data events \n",
      "\n",
      "DataContainer with base ID 4830847312 and type <class 'numpy.ndarray'> used at 2022-09-05 13:47:06.996838, previous operation event was Operation with name cell_4 and id 2 started at 2022-09-05 13:47:06.241746 and ended at 2022-09-05 13:47:06.242690, 0:00:00.000944 s elapsed, 5 related data events \n",
      "\n",
      "DataContainer with base ID 4830847216 and type <class 'numpy.ndarray'> used at 2022-09-05 13:47:06.997285, previous operation event was Operation with name cell_4 and id 2 started at 2022-09-05 13:47:06.241746 and ended at 2022-09-05 13:47:06.242690, 0:00:00.000944 s elapsed, 5 related data events \n",
      "\n",
      "DataContainer with base ID 4830847216 and type <class 'numpy.ndarray'> used at 2022-09-05 13:47:06.997313, previous operation event was Operation with name cell_4 and id 2 started at 2022-09-05 13:47:06.241746 and ended at 2022-09-05 13:47:06.242690, 0:00:00.000944 s elapsed, 5 related data events \n",
      "\n",
      "DataContainer with base ID 4830849328 and type <class 'numpy.ndarray'> used at 2022-09-05 13:47:06.999526, previous operation event was Operation with name cell_4 and id 2 started at 2022-09-05 13:47:06.241746 and ended at 2022-09-05 13:47:06.242690, 0:00:00.000944 s elapsed, 5 related data events \n",
      "\n",
      "DataContainer with base ID 4830849328 and type <class 'numpy.ndarray'> used at 2022-09-05 13:47:06.999550, previous operation event was Operation with name cell_4 and id 2 started at 2022-09-05 13:47:06.241746 and ended at 2022-09-05 13:47:06.242690, 0:00:00.000944 s elapsed, 5 related data events \n",
      "\n",
      "DataContainer with base ID 4830849328 and type <class 'numpy.ndarray'> used at 2022-09-05 13:47:07.000170, previous operation event was Operation with name cell_4 and id 2 started at 2022-09-05 13:47:06.241746 and ended at 2022-09-05 13:47:06.242690, 0:00:00.000944 s elapsed, 5 related data events \n",
      "\n",
      "DataContainer with base ID 4830849328 and type <class 'numpy.ndarray'> used at 2022-09-05 13:47:07.000174, previous operation event was Operation with name cell_4 and id 2 started at 2022-09-05 13:47:06.241746 and ended at 2022-09-05 13:47:06.242690, 0:00:00.000944 s elapsed, 5 related data events \n",
      "\n",
      "DataContainer with base ID 4830849328 and type <class 'numpy.ndarray'> used at 2022-09-05 13:47:07.000176, previous operation event was Operation with name cell_4 and id 2 started at 2022-09-05 13:47:06.241746 and ended at 2022-09-05 13:47:06.242690, 0:00:00.000944 s elapsed, 5 related data events \n",
      "\n",
      "DataContainer with base ID 4830849328 and type <class 'numpy.ndarray'> used at 2022-09-05 13:47:07.000179, previous operation event was Operation with name cell_4 and id 2 started at 2022-09-05 13:47:06.241746 and ended at 2022-09-05 13:47:06.242690, 0:00:00.000944 s elapsed, 5 related data events \n",
      "\n",
      "DataContainer with base ID 4830849328 and type <class 'numpy.ndarray'> used at 2022-09-05 13:47:07.000182, previous operation event was Operation with name cell_4 and id 2 started at 2022-09-05 13:47:06.241746 and ended at 2022-09-05 13:47:06.242690, 0:00:00.000944 s elapsed, 5 related data events \n",
      "\n"
     ]
    }
   ],
   "source": [
    "for x in core.event.data_events:\n",
    "   print(x, \"\\n\")"
   ]
  },
  {
   "cell_type": "code",
   "execution_count": 11,
   "metadata": {
    "collapsed": false,
    "pycharm": {
     "name": "#%%\n"
    }
   },
   "outputs": [
    {
     "name": "stdout",
     "output_type": "stream",
     "text": [
      "[[5.1 3.5 1.4 0.2]\n",
      " [4.9 3.  1.4 0.2]\n",
      " [4.7 3.2 1.3 0.2]\n",
      " [4.6 3.1 1.5 0.2]\n",
      " [5.  3.6 1.4 0.2]\n",
      " [5.4 3.9 1.7 0.4]\n",
      " [4.6 3.4 1.4 0.3]\n",
      " [5.  3.4 1.5 0.2]\n",
      " [4.4 2.9 1.4 0.2]\n",
      " [4.9 3.1 1.5 0.1]\n",
      " [5.4 3.7 1.5 0.2]\n",
      " [4.8 3.4 1.6 0.2]\n",
      " [4.8 3.  1.4 0.1]\n",
      " [4.3 3.  1.1 0.1]\n",
      " [5.8 4.  1.2 0.2]\n",
      " [5.7 4.4 1.5 0.4]\n",
      " [5.4 3.9 1.3 0.4]\n",
      " [5.1 3.5 1.4 0.3]\n",
      " [5.7 3.8 1.7 0.3]\n",
      " [5.1 3.8 1.5 0.3]\n",
      " [5.4 3.4 1.7 0.2]\n",
      " [5.1 3.7 1.5 0.4]\n",
      " [4.6 3.6 1.  0.2]\n",
      " [5.1 3.3 1.7 0.5]\n",
      " [4.8 3.4 1.9 0.2]\n",
      " [5.  3.  1.6 0.2]\n",
      " [5.  3.4 1.6 0.4]\n",
      " [5.2 3.5 1.5 0.2]\n",
      " [5.2 3.4 1.4 0.2]\n",
      " [4.7 3.2 1.6 0.2]\n",
      " [4.8 3.1 1.6 0.2]\n",
      " [5.4 3.4 1.5 0.4]\n",
      " [5.2 4.1 1.5 0.1]\n",
      " [5.5 4.2 1.4 0.2]\n",
      " [4.9 3.1 1.5 0.2]\n",
      " [5.  3.2 1.2 0.2]\n",
      " [5.5 3.5 1.3 0.2]\n",
      " [4.9 3.6 1.4 0.1]\n",
      " [4.4 3.  1.3 0.2]\n",
      " [5.1 3.4 1.5 0.2]\n",
      " [5.  3.5 1.3 0.3]\n",
      " [4.5 2.3 1.3 0.3]\n",
      " [4.4 3.2 1.3 0.2]\n",
      " [5.  3.5 1.6 0.6]\n",
      " [5.1 3.8 1.9 0.4]\n",
      " [4.8 3.  1.4 0.3]\n",
      " [5.1 3.8 1.6 0.2]\n",
      " [4.6 3.2 1.4 0.2]\n",
      " [5.3 3.7 1.5 0.2]\n",
      " [5.  3.3 1.4 0.2]\n",
      " [7.  3.2 4.7 1.4]\n",
      " [6.4 3.2 4.5 1.5]\n",
      " [6.9 3.1 4.9 1.5]\n",
      " [5.5 2.3 4.  1.3]\n",
      " [6.5 2.8 4.6 1.5]\n",
      " [5.7 2.8 4.5 1.3]\n",
      " [6.3 3.3 4.7 1.6]\n",
      " [4.9 2.4 3.3 1. ]\n",
      " [6.6 2.9 4.6 1.3]\n",
      " [5.2 2.7 3.9 1.4]\n",
      " [5.  2.  3.5 1. ]\n",
      " [5.9 3.  4.2 1.5]\n",
      " [6.  2.2 4.  1. ]\n",
      " [6.1 2.9 4.7 1.4]\n",
      " [5.6 2.9 3.6 1.3]\n",
      " [6.7 3.1 4.4 1.4]\n",
      " [5.6 3.  4.5 1.5]\n",
      " [5.8 2.7 4.1 1. ]\n",
      " [6.2 2.2 4.5 1.5]\n",
      " [5.6 2.5 3.9 1.1]\n",
      " [5.9 3.2 4.8 1.8]\n",
      " [6.1 2.8 4.  1.3]\n",
      " [6.3 2.5 4.9 1.5]\n",
      " [6.1 2.8 4.7 1.2]\n",
      " [6.4 2.9 4.3 1.3]\n",
      " [6.6 3.  4.4 1.4]\n",
      " [6.8 2.8 4.8 1.4]\n",
      " [6.7 3.  5.  1.7]\n",
      " [6.  2.9 4.5 1.5]\n",
      " [5.7 2.6 3.5 1. ]\n",
      " [5.5 2.4 3.8 1.1]\n",
      " [5.5 2.4 3.7 1. ]\n",
      " [5.8 2.7 3.9 1.2]\n",
      " [6.  2.7 5.1 1.6]\n",
      " [5.4 3.  4.5 1.5]\n",
      " [6.  3.4 4.5 1.6]\n",
      " [6.7 3.1 4.7 1.5]\n",
      " [6.3 2.3 4.4 1.3]\n",
      " [5.6 3.  4.1 1.3]\n",
      " [5.5 2.5 4.  1.3]\n",
      " [5.5 2.6 4.4 1.2]\n",
      " [6.1 3.  4.6 1.4]\n",
      " [5.8 2.6 4.  1.2]\n",
      " [5.  2.3 3.3 1. ]\n",
      " [5.6 2.7 4.2 1.3]\n",
      " [5.7 3.  4.2 1.2]\n",
      " [5.7 2.9 4.2 1.3]\n",
      " [6.2 2.9 4.3 1.3]\n",
      " [5.1 2.5 3.  1.1]\n",
      " [5.7 2.8 4.1 1.3]\n",
      " [6.3 3.3 6.  2.5]\n",
      " [5.8 2.7 5.1 1.9]\n",
      " [7.1 3.  5.9 2.1]\n",
      " [6.3 2.9 5.6 1.8]\n",
      " [6.5 3.  5.8 2.2]\n",
      " [7.6 3.  6.6 2.1]\n",
      " [4.9 2.5 4.5 1.7]\n",
      " [7.3 2.9 6.3 1.8]\n",
      " [6.7 2.5 5.8 1.8]\n",
      " [7.2 3.6 6.1 2.5]\n",
      " [6.5 3.2 5.1 2. ]\n",
      " [6.4 2.7 5.3 1.9]\n",
      " [6.8 3.  5.5 2.1]\n",
      " [5.7 2.5 5.  2. ]\n",
      " [5.8 2.8 5.1 2.4]\n",
      " [6.4 3.2 5.3 2.3]\n",
      " [6.5 3.  5.5 1.8]\n",
      " [7.7 3.8 6.7 2.2]\n",
      " [7.7 2.6 6.9 2.3]\n",
      " [6.  2.2 5.  1.5]\n",
      " [6.9 3.2 5.7 2.3]\n",
      " [5.6 2.8 4.9 2. ]\n",
      " [7.7 2.8 6.7 2. ]\n",
      " [6.3 2.7 4.9 1.8]\n",
      " [6.7 3.3 5.7 2.1]\n",
      " [7.2 3.2 6.  1.8]\n",
      " [6.2 2.8 4.8 1.8]\n",
      " [6.1 3.  4.9 1.8]\n",
      " [6.4 2.8 5.6 2.1]\n",
      " [7.2 3.  5.8 1.6]\n",
      " [7.4 2.8 6.1 1.9]\n",
      " [7.9 3.8 6.4 2. ]\n",
      " [6.4 2.8 5.6 2.2]\n",
      " [6.3 2.8 5.1 1.5]\n",
      " [6.1 2.6 5.6 1.4]\n",
      " [7.7 3.  6.1 2.3]\n",
      " [6.3 3.4 5.6 2.4]\n",
      " [6.4 3.1 5.5 1.8]\n",
      " [6.  3.  4.8 1.8]\n",
      " [6.9 3.1 5.4 2.1]\n",
      " [6.7 3.1 5.6 2.4]\n",
      " [6.9 3.1 5.1 2.3]\n",
      " [5.8 2.7 5.1 1.9]\n",
      " [6.8 3.2 5.9 2.3]\n",
      " [6.7 3.3 5.7 2.5]\n",
      " [6.7 3.  5.2 2.3]\n",
      " [6.3 2.5 5.  1.9]\n",
      " [6.5 3.  5.2 2. ]\n",
      " [6.2 3.4 5.4 2.3]\n",
      " [5.9 3.  5.1 1.8]] \n",
      "\n",
      "[0 0 0 0 0 0 0 0 0 0 0 0 0 0 0 0 0 0 0 0 0 0 0 0 0 0 0 0 0 0 0 0 0 0 0 0 0\n",
      " 0 0 0 0 0 0 0 0 0 0 0 0 0 1 1 1 1 1 1 1 1 1 1 1 1 1 1 1 1 1 1 1 1 1 1 1 1\n",
      " 1 1 1 1 1 1 1 1 1 1 1 1 1 1 1 1 1 1 1 1 1 1 1 1 1 1 2 2 2 2 2 2 2 2 2 2 2\n",
      " 2 2 2 2 2 2 2 2 2 2 2 2 2 2 2 2 2 2 2 2 2 2 2 2 2 2 2 2 2 2 2 2 2 2 2 2 2\n",
      " 2 2] \n",
      "\n",
      "[114  62  33 107   7 100  40  86  76  71 134  51  73  54  63  37  78  90\n",
      "  45  16 121  66  24   8 126  22  44  97  93  26 137  84  27 127 132  59\n",
      "  18  83  61  92 112   2 141  43  10  60 116 144 119 108  69 135  56  80\n",
      " 123 133 106 146  50 147  85  30 101  94  64  89  91 125  48  13 111  95\n",
      "  20  15  52   3 149  98   6  68 109  96  12 102 120 104 128  46  11 110\n",
      " 124  41 148   1 113 139  42   4 129  17  38   5  53 143 105   0  34  28\n",
      "  55  75  35  23  74  31 118  57 131  65  32 138  14 122  19  29 130  49\n",
      " 136  99  82  79 115 145  72  77  25  81 140 142  39  58  88  70  87  36\n",
      "  21   9 103  67 117  47] \n",
      "\n",
      "[[5.8 2.8 5.1 2.4]\n",
      " [6.  2.2 4.  1. ]\n",
      " [5.5 4.2 1.4 0.2]\n",
      " [7.3 2.9 6.3 1.8]\n",
      " [5.  3.4 1.5 0.2]\n",
      " [6.3 3.3 6.  2.5]\n",
      " [5.  3.5 1.3 0.3]\n",
      " [6.7 3.1 4.7 1.5]\n",
      " [6.8 2.8 4.8 1.4]\n",
      " [6.1 2.8 4.  1.3]\n",
      " [6.1 2.6 5.6 1.4]\n",
      " [6.4 3.2 4.5 1.5]\n",
      " [6.1 2.8 4.7 1.2]\n",
      " [6.5 2.8 4.6 1.5]\n",
      " [6.1 2.9 4.7 1.4]\n",
      " [4.9 3.6 1.4 0.1]\n",
      " [6.  2.9 4.5 1.5]\n",
      " [5.5 2.6 4.4 1.2]\n",
      " [4.8 3.  1.4 0.3]\n",
      " [5.4 3.9 1.3 0.4]\n",
      " [5.6 2.8 4.9 2. ]\n",
      " [5.6 3.  4.5 1.5]\n",
      " [4.8 3.4 1.9 0.2]\n",
      " [4.4 2.9 1.4 0.2]\n",
      " [6.2 2.8 4.8 1.8]\n",
      " [4.6 3.6 1.  0.2]\n",
      " [5.1 3.8 1.9 0.4]\n",
      " [6.2 2.9 4.3 1.3]\n",
      " [5.  2.3 3.3 1. ]\n",
      " [5.  3.4 1.6 0.4]\n",
      " [6.4 3.1 5.5 1.8]\n",
      " [5.4 3.  4.5 1.5]\n",
      " [5.2 3.5 1.5 0.2]\n",
      " [6.1 3.  4.9 1.8]\n",
      " [6.4 2.8 5.6 2.2]\n",
      " [5.2 2.7 3.9 1.4]\n",
      " [5.7 3.8 1.7 0.3]\n",
      " [6.  2.7 5.1 1.6]\n",
      " [5.9 3.  4.2 1.5]\n",
      " [5.8 2.6 4.  1.2]\n",
      " [6.8 3.  5.5 2.1]\n",
      " [4.7 3.2 1.3 0.2]\n",
      " [6.9 3.1 5.1 2.3]\n",
      " [5.  3.5 1.6 0.6]\n",
      " [5.4 3.7 1.5 0.2]\n",
      " [5.  2.  3.5 1. ]\n",
      " [6.5 3.  5.5 1.8]\n",
      " [6.7 3.3 5.7 2.5]\n",
      " [6.  2.2 5.  1.5]\n",
      " [6.7 2.5 5.8 1.8]\n",
      " [5.6 2.5 3.9 1.1]\n",
      " [7.7 3.  6.1 2.3]\n",
      " [6.3 3.3 4.7 1.6]\n",
      " [5.5 2.4 3.8 1.1]\n",
      " [6.3 2.7 4.9 1.8]\n",
      " [6.3 2.8 5.1 1.5]\n",
      " [4.9 2.5 4.5 1.7]\n",
      " [6.3 2.5 5.  1.9]\n",
      " [7.  3.2 4.7 1.4]\n",
      " [6.5 3.  5.2 2. ]\n",
      " [6.  3.4 4.5 1.6]\n",
      " [4.8 3.1 1.6 0.2]\n",
      " [5.8 2.7 5.1 1.9]\n",
      " [5.6 2.7 4.2 1.3]\n",
      " [5.6 2.9 3.6 1.3]\n",
      " [5.5 2.5 4.  1.3]\n",
      " [6.1 3.  4.6 1.4]\n",
      " [7.2 3.2 6.  1.8]\n",
      " [5.3 3.7 1.5 0.2]\n",
      " [4.3 3.  1.1 0.1]\n",
      " [6.4 2.7 5.3 1.9]\n",
      " [5.7 3.  4.2 1.2]\n",
      " [5.4 3.4 1.7 0.2]\n",
      " [5.7 4.4 1.5 0.4]\n",
      " [6.9 3.1 4.9 1.5]\n",
      " [4.6 3.1 1.5 0.2]\n",
      " [5.9 3.  5.1 1.8]\n",
      " [5.1 2.5 3.  1.1]\n",
      " [4.6 3.4 1.4 0.3]\n",
      " [6.2 2.2 4.5 1.5]\n",
      " [7.2 3.6 6.1 2.5]\n",
      " [5.7 2.9 4.2 1.3]\n",
      " [4.8 3.  1.4 0.1]\n",
      " [7.1 3.  5.9 2.1]\n",
      " [6.9 3.2 5.7 2.3]\n",
      " [6.5 3.  5.8 2.2]\n",
      " [6.4 2.8 5.6 2.1]\n",
      " [5.1 3.8 1.6 0.2]\n",
      " [4.8 3.4 1.6 0.2]\n",
      " [6.5 3.2 5.1 2. ]\n",
      " [6.7 3.3 5.7 2.1]\n",
      " [4.5 2.3 1.3 0.3]\n",
      " [6.2 3.4 5.4 2.3]\n",
      " [4.9 3.  1.4 0.2]\n",
      " [5.7 2.5 5.  2. ]\n",
      " [6.9 3.1 5.4 2.1]\n",
      " [4.4 3.2 1.3 0.2]\n",
      " [5.  3.6 1.4 0.2]\n",
      " [7.2 3.  5.8 1.6]\n",
      " [5.1 3.5 1.4 0.3]\n",
      " [4.4 3.  1.3 0.2]\n",
      " [5.4 3.9 1.7 0.4]\n",
      " [5.5 2.3 4.  1.3]\n",
      " [6.8 3.2 5.9 2.3]\n",
      " [7.6 3.  6.6 2.1]\n",
      " [5.1 3.5 1.4 0.2]\n",
      " [4.9 3.1 1.5 0.2]\n",
      " [5.2 3.4 1.4 0.2]\n",
      " [5.7 2.8 4.5 1.3]\n",
      " [6.6 3.  4.4 1.4]\n",
      " [5.  3.2 1.2 0.2]\n",
      " [5.1 3.3 1.7 0.5]\n",
      " [6.4 2.9 4.3 1.3]\n",
      " [5.4 3.4 1.5 0.4]\n",
      " [7.7 2.6 6.9 2.3]\n",
      " [4.9 2.4 3.3 1. ]\n",
      " [7.9 3.8 6.4 2. ]\n",
      " [6.7 3.1 4.4 1.4]\n",
      " [5.2 4.1 1.5 0.1]\n",
      " [6.  3.  4.8 1.8]\n",
      " [5.8 4.  1.2 0.2]\n",
      " [7.7 2.8 6.7 2. ]\n",
      " [5.1 3.8 1.5 0.3]\n",
      " [4.7 3.2 1.6 0.2]\n",
      " [7.4 2.8 6.1 1.9]\n",
      " [5.  3.3 1.4 0.2]\n",
      " [6.3 3.4 5.6 2.4]\n",
      " [5.7 2.8 4.1 1.3]\n",
      " [5.8 2.7 3.9 1.2]\n",
      " [5.7 2.6 3.5 1. ]\n",
      " [6.4 3.2 5.3 2.3]\n",
      " [6.7 3.  5.2 2.3]\n",
      " [6.3 2.5 4.9 1.5]\n",
      " [6.7 3.  5.  1.7]\n",
      " [5.  3.  1.6 0.2]\n",
      " [5.5 2.4 3.7 1. ]\n",
      " [6.7 3.1 5.6 2.4]\n",
      " [5.8 2.7 5.1 1.9]\n",
      " [5.1 3.4 1.5 0.2]\n",
      " [6.6 2.9 4.6 1.3]] \n",
      "\n",
      "[2 1 0 2 0 2 0 1 1 1 2 1 1 1 1 0 1 1 0 0 2 1 0 0 2 0 0 1 1 0 2 1 0 2 2 1 0\n",
      " 1 1 1 2 0 2 0 0 1 2 2 2 2 1 2 1 1 2 2 2 2 1 2 1 0 2 1 1 1 1 2 0 0 2 1 0 0\n",
      " 1 0 2 1 0 1 2 1 0 2 2 2 2 0 0 2 2 0 2 0 2 2 0 0 2 0 0 0 1 2 2 0 0 0 1 1 0\n",
      " 0 1 0 2 1 2 1 0 2 0 2 0 0 2 0 2 1 1 1 2 2 1 1 0 1 2 2 0 1] \n",
      "\n",
      "[[5.6 3.  4.1 1.3]\n",
      " [5.9 3.2 4.8 1.8]\n",
      " [6.3 2.3 4.4 1.3]\n",
      " [5.5 3.5 1.3 0.2]\n",
      " [5.1 3.7 1.5 0.4]\n",
      " [4.9 3.1 1.5 0.1]\n",
      " [6.3 2.9 5.6 1.8]\n",
      " [5.8 2.7 4.1 1. ]\n",
      " [7.7 3.8 6.7 2.2]\n",
      " [4.6 3.2 1.4 0.2]] \n",
      "\n",
      "[1 1 1 0 0 0 2 1 2 0] \n",
      "\n",
      "KNeighborsClassifier() \n",
      "\n"
     ]
    }
   ],
   "source": [
    "for x in core.event.data_containers:\n",
    "    print(x, \"\\n\")"
   ]
  },
  {
   "cell_type": "code",
   "execution_count": 26,
   "metadata": {
    "pycharm": {
     "name": "#%%\n"
    }
   },
   "outputs": [],
   "source": [
    "parent_lookup = {oe: set() for oe in core.event.operation_events}\n",
    "children_lookup = {oe: set() for oe in core.event.operation_events}"
   ]
  },
  {
   "cell_type": "code",
   "execution_count": 27,
   "metadata": {
    "collapsed": false,
    "pycharm": {
     "name": "#%%\n"
    }
   },
   "outputs": [
    {
     "name": "stdout",
     "output_type": "stream",
     "text": [
      "{0: <core.event.OperationEvent object at 0x1044f0b50>, 1: <core.event.OperationEvent object at 0x1044c3a90>, 2: <core.event.OperationEvent object at 0x104425580>, 3: <core.event.OperationEvent object at 0x16de5f220>, 4: <core.event.OperationEvent object at 0x1044c35b0>, 5: <core.event.OperationEvent object at 0x16de5ffa0>, 6: <core.event.OperationEvent object at 0x16e08b8b0>, 7: <core.event.OperationEvent object at 0x177620130>}\n"
     ]
    }
   ],
   "source": [
    "print(core.event.operation_event_lookup)"
   ]
  },
  {
   "cell_type": "code",
   "execution_count": 28,
   "metadata": {
    "pycharm": {
     "name": "#%%\n"
    }
   },
   "outputs": [],
   "source": [
    "for oe in core.event.operation_events:\n",
    "    for related_data_event in core.event.operation_event_lookup[oe.exec_uuid].related_data_events:\n",
    "        parent_oe = related_data_event.prev_operation_event\n",
    "        \n",
    "        parent_lookup[oe].add(parent_oe)\n",
    "        children_lookup[parent_oe].add(oe)"
   ]
  },
  {
   "cell_type": "code",
   "execution_count": 29,
   "metadata": {
    "collapsed": false,
    "pycharm": {
     "name": "#%%\n"
    }
   },
   "outputs": [
    {
     "name": "stdout",
     "output_type": "stream",
     "text": [
      "{<core.event.OperationEvent object at 0x1044f0b50>: set(), <core.event.OperationEvent object at 0x1044c3a90>: set(), <core.event.OperationEvent object at 0x104425580>: {<core.event.OperationEvent object at 0x1044f0b50>}, <core.event.OperationEvent object at 0x16de5f220>: {<core.event.OperationEvent object at 0x104425580>}, <core.event.OperationEvent object at 0x1044c35b0>: set(), <core.event.OperationEvent object at 0x16de5ffa0>: set(), <core.event.OperationEvent object at 0x16e08b8b0>: {<core.event.OperationEvent object at 0x1044c35b0>}, <core.event.OperationEvent object at 0x177620130>: {<core.event.OperationEvent object at 0x16e08b8b0>}}\n",
      "{<core.event.OperationEvent object at 0x1044f0b50>: {<core.event.OperationEvent object at 0x104425580>}, <core.event.OperationEvent object at 0x1044c3a90>: set(), <core.event.OperationEvent object at 0x104425580>: {<core.event.OperationEvent object at 0x16de5f220>}, <core.event.OperationEvent object at 0x16de5f220>: set(), <core.event.OperationEvent object at 0x1044c35b0>: {<core.event.OperationEvent object at 0x16e08b8b0>}, <core.event.OperationEvent object at 0x16de5ffa0>: set(), <core.event.OperationEvent object at 0x16e08b8b0>: {<core.event.OperationEvent object at 0x177620130>}, <core.event.OperationEvent object at 0x177620130>: set()}\n"
     ]
    }
   ],
   "source": [
    "print(parent_lookup)\n",
    "print(children_lookup)"
   ]
  },
  {
   "cell_type": "code",
   "execution_count": null,
   "metadata": {
    "collapsed": false,
    "pycharm": {
     "name": "#%%\n"
    }
   },
   "outputs": [],
   "source": []
  }
 ],
 "metadata": {
  "kernelspec": {
   "display_name": "Python 3.8.9 64-bit",
   "language": "python",
   "name": "python3"
  },
  "language_info": {
   "codemirror_mode": {
    "name": "ipython",
    "version": 3
   },
   "file_extension": ".py",
   "mimetype": "text/x-python",
   "name": "python",
   "nbconvert_exporter": "python",
   "pygments_lexer": "ipython3",
   "version": "3.8.9"
  },
  "orig_nbformat": 4,
  "vscode": {
   "interpreter": {
    "hash": "31f2aee4e71d21fbe5cf8b01ff0e069b9275f58929596ceb00d14d90e3e16cd6"
   }
  }
 },
 "nbformat": 4,
 "nbformat_minor": 2
}
