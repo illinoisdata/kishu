{
 "cells": [
  {
   "cell_type": "code",
   "execution_count": 1,
   "metadata": {
    "pycharm": {
     "name": "#%%\n"
    }
   },
   "outputs": [],
   "source": [
    "import os, sys\n",
    "sys.path.insert(0, os.path.abspath(\"..\"))\n",
    "\n",
    "import numpy as np\n",
    "from sklearn import datasets\n",
    "\n",
    "import core.container\n",
    "from core.container import OperationContainer\n",
    "from core.record_event import RecordEvent\n",
    "from core.record_event import ClearEvent\n",
    "\n",
    "from sklearn.neighbors import KNeighborsClassifier\n",
    "\n",
    "ClearEvent()"
   ]
  },
  {
   "cell_type": "code",
   "execution_count": 2,
   "metadata": {
    "pycharm": {
     "name": "#%%\n"
    }
   },
   "outputs": [],
   "source": [
    "@RecordEvent\n",
    "def cell_2():\n",
    "    iris_X, iris_y = datasets.load_iris(return_X_y=True)\n",
    "    \n",
    "    return OperationContainer({\"iris_X\": iris_X, \"iris_y\": iris_y})"
   ]
  },
  {
   "cell_type": "code",
   "execution_count": 3,
   "metadata": {
    "pycharm": {
     "name": "#%%\n"
    }
   },
   "outputs": [
    {
     "name": "stdout",
     "output_type": "stream",
     "text": [
      "\n",
      "container created for variable  iris_X\n",
      "container created for variable  iris_y\n"
     ]
    }
   ],
   "source": [
    "iris_X, iris_y = cell_2()"
   ]
  },
  {
   "cell_type": "code",
   "execution_count": 4,
   "metadata": {
    "pycharm": {
     "name": "#%%\n"
    }
   },
   "outputs": [],
   "source": [
    "@RecordEvent\n",
    "def cell_3():\n",
    "    np.random.seed(0)"
   ]
  },
  {
   "cell_type": "code",
   "execution_count": 5,
   "metadata": {
    "pycharm": {
     "name": "#%%\n"
    }
   },
   "outputs": [
    {
     "name": "stdout",
     "output_type": "stream",
     "text": [
      "\n"
     ]
    }
   ],
   "source": [
    "cell_3()"
   ]
  },
  {
   "cell_type": "code",
   "execution_count": 6,
   "metadata": {
    "pycharm": {
     "name": "#%%\n"
    }
   },
   "outputs": [],
   "source": [
    "@RecordEvent\n",
    "def cell_4():\n",
    "    indices = np.random.permutation(len(iris_X))\n",
    "    iris_X_train = iris_X[indices[:-10]]\n",
    "    iris_y_train = iris_y[indices[:-10]]\n",
    "    iris_X_test = iris_X[indices[-10:]]\n",
    "    iris_y_test = iris_y[indices[-10:]]\n",
    "    \n",
    "    return OperationContainer({\"indices\": indices, \"iris_X_train\": iris_X_train, \"iris_y_train\": iris_y_train, \"iris_X_test\": iris_X_test, \"iris_y_test\": iris_y_test})"
   ]
  },
  {
   "cell_type": "code",
   "execution_count": 7,
   "metadata": {
    "pycharm": {
     "name": "#%%\n"
    }
   },
   "outputs": [
    {
     "name": "stdout",
     "output_type": "stream",
     "text": [
      "\n",
      "container created for variable  indices\n",
      "container created for variable  iris_X_train\n",
      "container created for variable  iris_y_train\n",
      "container created for variable  iris_X_test\n",
      "container created for variable  iris_y_test\n"
     ]
    }
   ],
   "source": [
    "indices, iris_X_train, iris_y_train, iris_X_test, iris_y_test = cell_4()"
   ]
  },
  {
   "cell_type": "code",
   "execution_count": 8,
   "metadata": {
    "pycharm": {
     "name": "#%%\n"
    }
   },
   "outputs": [],
   "source": [
    "@RecordEvent\n",
    "def cell_5():\n",
    "    knn = KNeighborsClassifier()\n",
    "    knn.fit(iris_X_train, iris_y_train)\n",
    "\n",
    "    knn.predict(iris_X_test)\n",
    "    \n",
    "    return OperationContainer({\"knn\": knn})"
   ]
  },
  {
   "cell_type": "code",
   "execution_count": 9,
   "metadata": {
    "pycharm": {
     "name": "#%%\n"
    }
   },
   "outputs": [
    {
     "name": "stdout",
     "output_type": "stream",
     "text": [
      "\n",
      "container created for variable  knn\n"
     ]
    }
   ],
   "source": [
    "knn = cell_5()"
   ]
  },
  {
   "cell_type": "code",
   "execution_count": 10,
   "metadata": {
    "pycharm": {
     "name": "#%%\n"
    }
   },
   "outputs": [
    {
     "name": "stdout",
     "output_type": "stream",
     "text": [
      "Operation with name cell_2 and id 0 started at 2022-09-19 14:04:26.093069 and ended at 2022-09-19 14:04:26.095805, 0.002736 s elapsed, 0 related data events \n",
      "\n",
      "related data events: \n",
      "\n",
      "------------\n",
      "Operation with name cell_3 and id 1 started at 2022-09-19 14:04:27.132696 and ended at 2022-09-19 14:04:27.132746, 5e-05 s elapsed, 0 related data events \n",
      "\n",
      "related data events: \n",
      "\n",
      "------------\n",
      "Operation with name cell_4 and id 2 started at 2022-09-19 14:04:28.069185 and ended at 2022-09-19 14:04:28.070279, 0.001094 s elapsed, 5 related data events \n",
      "\n",
      "related data events: \n",
      "\n",
      "DataContainer with base ID 5494202704 and type <class 'numpy.ndarray'> used at 2022-09-19 14:04:28.069208, previous operation event was Operation with name cell_2 and id 0 started at 2022-09-19 14:04:26.093069 and ended at 2022-09-19 14:04:26.095805, 0.002736 s elapsed, 0 related data events \n",
      "\n",
      "DataContainer with base ID 5494202704 and type <class 'numpy.ndarray'> used at 2022-09-19 14:04:28.070249, previous operation event was Operation with name cell_2 and id 0 started at 2022-09-19 14:04:26.093069 and ended at 2022-09-19 14:04:26.095805, 0.002736 s elapsed, 0 related data events \n",
      "\n",
      "DataContainer with base ID 5494202608 and type <class 'numpy.ndarray'> used at 2022-09-19 14:04:28.070260, previous operation event was Operation with name cell_2 and id 0 started at 2022-09-19 14:04:26.093069 and ended at 2022-09-19 14:04:26.095805, 0.002736 s elapsed, 0 related data events \n",
      "\n",
      "DataContainer with base ID 5494202704 and type <class 'numpy.ndarray'> used at 2022-09-19 14:04:28.070271, previous operation event was Operation with name cell_2 and id 0 started at 2022-09-19 14:04:26.093069 and ended at 2022-09-19 14:04:26.095805, 0.002736 s elapsed, 0 related data events \n",
      "\n",
      "DataContainer with base ID 5494202608 and type <class 'numpy.ndarray'> used at 2022-09-19 14:04:28.070275, previous operation event was Operation with name cell_2 and id 0 started at 2022-09-19 14:04:26.093069 and ended at 2022-09-19 14:04:26.095805, 0.002736 s elapsed, 0 related data events \n",
      "\n",
      "------------\n",
      "Operation with name cell_5 and id 3 started at 2022-09-19 14:04:29.396785 and ended at 2022-09-19 14:04:29.402569, 0.005784 s elapsed, 11 related data events \n",
      "\n",
      "related data events: \n",
      "\n",
      "DataContainer with base ID 5494204432 and type <class 'numpy.ndarray'> used at 2022-09-19 14:04:29.396921, previous operation event was Operation with name cell_4 and id 2 started at 2022-09-19 14:04:28.069185 and ended at 2022-09-19 14:04:28.070279, 0.001094 s elapsed, 5 related data events \n",
      "\n",
      "DataContainer with base ID 5494204432 and type <class 'numpy.ndarray'> used at 2022-09-19 14:04:29.396978, previous operation event was Operation with name cell_4 and id 2 started at 2022-09-19 14:04:28.069185 and ended at 2022-09-19 14:04:28.070279, 0.001094 s elapsed, 5 related data events \n",
      "\n",
      "DataContainer with base ID 5494204336 and type <class 'numpy.ndarray'> used at 2022-09-19 14:04:29.397128, previous operation event was Operation with name cell_4 and id 2 started at 2022-09-19 14:04:28.069185 and ended at 2022-09-19 14:04:28.070279, 0.001094 s elapsed, 5 related data events \n",
      "\n",
      "DataContainer with base ID 5494204336 and type <class 'numpy.ndarray'> used at 2022-09-19 14:04:29.397145, previous operation event was Operation with name cell_4 and id 2 started at 2022-09-19 14:04:28.069185 and ended at 2022-09-19 14:04:28.070279, 0.001094 s elapsed, 5 related data events \n",
      "\n",
      "DataContainer with base ID 5494204624 and type <class 'numpy.ndarray'> used at 2022-09-19 14:04:29.400541, previous operation event was Operation with name cell_4 and id 2 started at 2022-09-19 14:04:28.069185 and ended at 2022-09-19 14:04:28.070279, 0.001094 s elapsed, 5 related data events \n",
      "\n",
      "DataContainer with base ID 5494204624 and type <class 'numpy.ndarray'> used at 2022-09-19 14:04:29.400572, previous operation event was Operation with name cell_4 and id 2 started at 2022-09-19 14:04:28.069185 and ended at 2022-09-19 14:04:28.070279, 0.001094 s elapsed, 5 related data events \n",
      "\n",
      "DataContainer with base ID 5494204624 and type <class 'numpy.ndarray'> used at 2022-09-19 14:04:29.401326, previous operation event was Operation with name cell_4 and id 2 started at 2022-09-19 14:04:28.069185 and ended at 2022-09-19 14:04:28.070279, 0.001094 s elapsed, 5 related data events \n",
      "\n",
      "DataContainer with base ID 5494204624 and type <class 'numpy.ndarray'> used at 2022-09-19 14:04:29.401335, previous operation event was Operation with name cell_4 and id 2 started at 2022-09-19 14:04:28.069185 and ended at 2022-09-19 14:04:28.070279, 0.001094 s elapsed, 5 related data events \n",
      "\n",
      "DataContainer with base ID 5494204624 and type <class 'numpy.ndarray'> used at 2022-09-19 14:04:29.401337, previous operation event was Operation with name cell_4 and id 2 started at 2022-09-19 14:04:28.069185 and ended at 2022-09-19 14:04:28.070279, 0.001094 s elapsed, 5 related data events \n",
      "\n",
      "DataContainer with base ID 5494204624 and type <class 'numpy.ndarray'> used at 2022-09-19 14:04:29.401340, previous operation event was Operation with name cell_4 and id 2 started at 2022-09-19 14:04:28.069185 and ended at 2022-09-19 14:04:28.070279, 0.001094 s elapsed, 5 related data events \n",
      "\n",
      "DataContainer with base ID 5494204624 and type <class 'numpy.ndarray'> used at 2022-09-19 14:04:29.401343, previous operation event was Operation with name cell_4 and id 2 started at 2022-09-19 14:04:28.069185 and ended at 2022-09-19 14:04:28.070279, 0.001094 s elapsed, 5 related data events \n",
      "\n",
      "------------\n"
     ]
    }
   ],
   "source": [
    "for x in core.event.operation_events:\n",
    "    print(x, \"\\n\")\n",
    "    print(\"related data events: \\n\")\n",
    "    for y in x.related_data_events:\n",
    "        print(y, \"\\n\")\n",
    "    print(\"------------\")"
   ]
  },
  {
   "cell_type": "code",
   "execution_count": 11,
   "metadata": {
    "pycharm": {
     "name": "#%%\n"
    }
   },
   "outputs": [
    {
     "name": "stdout",
     "output_type": "stream",
     "text": [
      "DataContainer with base ID 5494202704 and type <class 'numpy.ndarray'> used at 2022-09-19 14:04:28.069208, previous operation event was Operation with name cell_2 and id 0 started at 2022-09-19 14:04:26.093069 and ended at 2022-09-19 14:04:26.095805, 0.002736 s elapsed, 0 related data events \n",
      "\n",
      "DataContainer with base ID 5494202704 and type <class 'numpy.ndarray'> used at 2022-09-19 14:04:28.070249, previous operation event was Operation with name cell_2 and id 0 started at 2022-09-19 14:04:26.093069 and ended at 2022-09-19 14:04:26.095805, 0.002736 s elapsed, 0 related data events \n",
      "\n",
      "DataContainer with base ID 5494202608 and type <class 'numpy.ndarray'> used at 2022-09-19 14:04:28.070260, previous operation event was Operation with name cell_2 and id 0 started at 2022-09-19 14:04:26.093069 and ended at 2022-09-19 14:04:26.095805, 0.002736 s elapsed, 0 related data events \n",
      "\n",
      "DataContainer with base ID 5494202704 and type <class 'numpy.ndarray'> used at 2022-09-19 14:04:28.070271, previous operation event was Operation with name cell_2 and id 0 started at 2022-09-19 14:04:26.093069 and ended at 2022-09-19 14:04:26.095805, 0.002736 s elapsed, 0 related data events \n",
      "\n",
      "DataContainer with base ID 5494202608 and type <class 'numpy.ndarray'> used at 2022-09-19 14:04:28.070275, previous operation event was Operation with name cell_2 and id 0 started at 2022-09-19 14:04:26.093069 and ended at 2022-09-19 14:04:26.095805, 0.002736 s elapsed, 0 related data events \n",
      "\n",
      "DataContainer with base ID 5494204432 and type <class 'numpy.ndarray'> used at 2022-09-19 14:04:29.396921, previous operation event was Operation with name cell_4 and id 2 started at 2022-09-19 14:04:28.069185 and ended at 2022-09-19 14:04:28.070279, 0.001094 s elapsed, 5 related data events \n",
      "\n",
      "DataContainer with base ID 5494204432 and type <class 'numpy.ndarray'> used at 2022-09-19 14:04:29.396978, previous operation event was Operation with name cell_4 and id 2 started at 2022-09-19 14:04:28.069185 and ended at 2022-09-19 14:04:28.070279, 0.001094 s elapsed, 5 related data events \n",
      "\n",
      "DataContainer with base ID 5494204336 and type <class 'numpy.ndarray'> used at 2022-09-19 14:04:29.397128, previous operation event was Operation with name cell_4 and id 2 started at 2022-09-19 14:04:28.069185 and ended at 2022-09-19 14:04:28.070279, 0.001094 s elapsed, 5 related data events \n",
      "\n",
      "DataContainer with base ID 5494204336 and type <class 'numpy.ndarray'> used at 2022-09-19 14:04:29.397145, previous operation event was Operation with name cell_4 and id 2 started at 2022-09-19 14:04:28.069185 and ended at 2022-09-19 14:04:28.070279, 0.001094 s elapsed, 5 related data events \n",
      "\n",
      "DataContainer with base ID 5494204624 and type <class 'numpy.ndarray'> used at 2022-09-19 14:04:29.400541, previous operation event was Operation with name cell_4 and id 2 started at 2022-09-19 14:04:28.069185 and ended at 2022-09-19 14:04:28.070279, 0.001094 s elapsed, 5 related data events \n",
      "\n",
      "DataContainer with base ID 5494204624 and type <class 'numpy.ndarray'> used at 2022-09-19 14:04:29.400572, previous operation event was Operation with name cell_4 and id 2 started at 2022-09-19 14:04:28.069185 and ended at 2022-09-19 14:04:28.070279, 0.001094 s elapsed, 5 related data events \n",
      "\n",
      "DataContainer with base ID 5494204624 and type <class 'numpy.ndarray'> used at 2022-09-19 14:04:29.401326, previous operation event was Operation with name cell_4 and id 2 started at 2022-09-19 14:04:28.069185 and ended at 2022-09-19 14:04:28.070279, 0.001094 s elapsed, 5 related data events \n",
      "\n",
      "DataContainer with base ID 5494204624 and type <class 'numpy.ndarray'> used at 2022-09-19 14:04:29.401335, previous operation event was Operation with name cell_4 and id 2 started at 2022-09-19 14:04:28.069185 and ended at 2022-09-19 14:04:28.070279, 0.001094 s elapsed, 5 related data events \n",
      "\n",
      "DataContainer with base ID 5494204624 and type <class 'numpy.ndarray'> used at 2022-09-19 14:04:29.401337, previous operation event was Operation with name cell_4 and id 2 started at 2022-09-19 14:04:28.069185 and ended at 2022-09-19 14:04:28.070279, 0.001094 s elapsed, 5 related data events \n",
      "\n",
      "DataContainer with base ID 5494204624 and type <class 'numpy.ndarray'> used at 2022-09-19 14:04:29.401340, previous operation event was Operation with name cell_4 and id 2 started at 2022-09-19 14:04:28.069185 and ended at 2022-09-19 14:04:28.070279, 0.001094 s elapsed, 5 related data events \n",
      "\n",
      "DataContainer with base ID 5494204624 and type <class 'numpy.ndarray'> used at 2022-09-19 14:04:29.401343, previous operation event was Operation with name cell_4 and id 2 started at 2022-09-19 14:04:28.069185 and ended at 2022-09-19 14:04:28.070279, 0.001094 s elapsed, 5 related data events \n",
      "\n"
     ]
    }
   ],
   "source": [
    "for x in core.event.data_events:\n",
    "   print(x, \"\\n\")"
   ]
  },
  {
   "cell_type": "code",
   "execution_count": 12,
   "outputs": [
    {
     "name": "stdout",
     "output_type": "stream",
     "text": [
      "[[5.1 3.5 1.4 0.2]\n",
      " [4.9 3.  1.4 0.2]\n",
      " [4.7 3.2 1.3 0.2]\n",
      " [4.6 3.1 1.5 0.2]\n",
      " [5.  3.6 1.4 0.2]\n",
      " [5.4 3.9 1.7 0.4]\n",
      " [4.6 3.4 1.4 0.3]\n",
      " [5.  3.4 1.5 0.2]\n",
      " [4.4 2.9 1.4 0.2]\n",
      " [4.9 3.1 1.5 0.1]\n",
      " [5.4 3.7 1.5 0.2]\n",
      " [4.8 3.4 1.6 0.2]\n",
      " [4.8 3.  1.4 0.1]\n",
      " [4.3 3.  1.1 0.1]\n",
      " [5.8 4.  1.2 0.2]\n",
      " [5.7 4.4 1.5 0.4]\n",
      " [5.4 3.9 1.3 0.4]\n",
      " [5.1 3.5 1.4 0.3]\n",
      " [5.7 3.8 1.7 0.3]\n",
      " [5.1 3.8 1.5 0.3]\n",
      " [5.4 3.4 1.7 0.2]\n",
      " [5.1 3.7 1.5 0.4]\n",
      " [4.6 3.6 1.  0.2]\n",
      " [5.1 3.3 1.7 0.5]\n",
      " [4.8 3.4 1.9 0.2]\n",
      " [5.  3.  1.6 0.2]\n",
      " [5.  3.4 1.6 0.4]\n",
      " [5.2 3.5 1.5 0.2]\n",
      " [5.2 3.4 1.4 0.2]\n",
      " [4.7 3.2 1.6 0.2]\n",
      " [4.8 3.1 1.6 0.2]\n",
      " [5.4 3.4 1.5 0.4]\n",
      " [5.2 4.1 1.5 0.1]\n",
      " [5.5 4.2 1.4 0.2]\n",
      " [4.9 3.1 1.5 0.2]\n",
      " [5.  3.2 1.2 0.2]\n",
      " [5.5 3.5 1.3 0.2]\n",
      " [4.9 3.6 1.4 0.1]\n",
      " [4.4 3.  1.3 0.2]\n",
      " [5.1 3.4 1.5 0.2]\n",
      " [5.  3.5 1.3 0.3]\n",
      " [4.5 2.3 1.3 0.3]\n",
      " [4.4 3.2 1.3 0.2]\n",
      " [5.  3.5 1.6 0.6]\n",
      " [5.1 3.8 1.9 0.4]\n",
      " [4.8 3.  1.4 0.3]\n",
      " [5.1 3.8 1.6 0.2]\n",
      " [4.6 3.2 1.4 0.2]\n",
      " [5.3 3.7 1.5 0.2]\n",
      " [5.  3.3 1.4 0.2]\n",
      " [7.  3.2 4.7 1.4]\n",
      " [6.4 3.2 4.5 1.5]\n",
      " [6.9 3.1 4.9 1.5]\n",
      " [5.5 2.3 4.  1.3]\n",
      " [6.5 2.8 4.6 1.5]\n",
      " [5.7 2.8 4.5 1.3]\n",
      " [6.3 3.3 4.7 1.6]\n",
      " [4.9 2.4 3.3 1. ]\n",
      " [6.6 2.9 4.6 1.3]\n",
      " [5.2 2.7 3.9 1.4]\n",
      " [5.  2.  3.5 1. ]\n",
      " [5.9 3.  4.2 1.5]\n",
      " [6.  2.2 4.  1. ]\n",
      " [6.1 2.9 4.7 1.4]\n",
      " [5.6 2.9 3.6 1.3]\n",
      " [6.7 3.1 4.4 1.4]\n",
      " [5.6 3.  4.5 1.5]\n",
      " [5.8 2.7 4.1 1. ]\n",
      " [6.2 2.2 4.5 1.5]\n",
      " [5.6 2.5 3.9 1.1]\n",
      " [5.9 3.2 4.8 1.8]\n",
      " [6.1 2.8 4.  1.3]\n",
      " [6.3 2.5 4.9 1.5]\n",
      " [6.1 2.8 4.7 1.2]\n",
      " [6.4 2.9 4.3 1.3]\n",
      " [6.6 3.  4.4 1.4]\n",
      " [6.8 2.8 4.8 1.4]\n",
      " [6.7 3.  5.  1.7]\n",
      " [6.  2.9 4.5 1.5]\n",
      " [5.7 2.6 3.5 1. ]\n",
      " [5.5 2.4 3.8 1.1]\n",
      " [5.5 2.4 3.7 1. ]\n",
      " [5.8 2.7 3.9 1.2]\n",
      " [6.  2.7 5.1 1.6]\n",
      " [5.4 3.  4.5 1.5]\n",
      " [6.  3.4 4.5 1.6]\n",
      " [6.7 3.1 4.7 1.5]\n",
      " [6.3 2.3 4.4 1.3]\n",
      " [5.6 3.  4.1 1.3]\n",
      " [5.5 2.5 4.  1.3]\n",
      " [5.5 2.6 4.4 1.2]\n",
      " [6.1 3.  4.6 1.4]\n",
      " [5.8 2.6 4.  1.2]\n",
      " [5.  2.3 3.3 1. ]\n",
      " [5.6 2.7 4.2 1.3]\n",
      " [5.7 3.  4.2 1.2]\n",
      " [5.7 2.9 4.2 1.3]\n",
      " [6.2 2.9 4.3 1.3]\n",
      " [5.1 2.5 3.  1.1]\n",
      " [5.7 2.8 4.1 1.3]\n",
      " [6.3 3.3 6.  2.5]\n",
      " [5.8 2.7 5.1 1.9]\n",
      " [7.1 3.  5.9 2.1]\n",
      " [6.3 2.9 5.6 1.8]\n",
      " [6.5 3.  5.8 2.2]\n",
      " [7.6 3.  6.6 2.1]\n",
      " [4.9 2.5 4.5 1.7]\n",
      " [7.3 2.9 6.3 1.8]\n",
      " [6.7 2.5 5.8 1.8]\n",
      " [7.2 3.6 6.1 2.5]\n",
      " [6.5 3.2 5.1 2. ]\n",
      " [6.4 2.7 5.3 1.9]\n",
      " [6.8 3.  5.5 2.1]\n",
      " [5.7 2.5 5.  2. ]\n",
      " [5.8 2.8 5.1 2.4]\n",
      " [6.4 3.2 5.3 2.3]\n",
      " [6.5 3.  5.5 1.8]\n",
      " [7.7 3.8 6.7 2.2]\n",
      " [7.7 2.6 6.9 2.3]\n",
      " [6.  2.2 5.  1.5]\n",
      " [6.9 3.2 5.7 2.3]\n",
      " [5.6 2.8 4.9 2. ]\n",
      " [7.7 2.8 6.7 2. ]\n",
      " [6.3 2.7 4.9 1.8]\n",
      " [6.7 3.3 5.7 2.1]\n",
      " [7.2 3.2 6.  1.8]\n",
      " [6.2 2.8 4.8 1.8]\n",
      " [6.1 3.  4.9 1.8]\n",
      " [6.4 2.8 5.6 2.1]\n",
      " [7.2 3.  5.8 1.6]\n",
      " [7.4 2.8 6.1 1.9]\n",
      " [7.9 3.8 6.4 2. ]\n",
      " [6.4 2.8 5.6 2.2]\n",
      " [6.3 2.8 5.1 1.5]\n",
      " [6.1 2.6 5.6 1.4]\n",
      " [7.7 3.  6.1 2.3]\n",
      " [6.3 3.4 5.6 2.4]\n",
      " [6.4 3.1 5.5 1.8]\n",
      " [6.  3.  4.8 1.8]\n",
      " [6.9 3.1 5.4 2.1]\n",
      " [6.7 3.1 5.6 2.4]\n",
      " [6.9 3.1 5.1 2.3]\n",
      " [5.8 2.7 5.1 1.9]\n",
      " [6.8 3.2 5.9 2.3]\n",
      " [6.7 3.3 5.7 2.5]\n",
      " [6.7 3.  5.2 2.3]\n",
      " [6.3 2.5 5.  1.9]\n",
      " [6.5 3.  5.2 2. ]\n",
      " [6.2 3.4 5.4 2.3]\n",
      " [5.9 3.  5.1 1.8]] \n",
      "\n",
      "[0 0 0 0 0 0 0 0 0 0 0 0 0 0 0 0 0 0 0 0 0 0 0 0 0 0 0 0 0 0 0 0 0 0 0 0 0\n",
      " 0 0 0 0 0 0 0 0 0 0 0 0 0 1 1 1 1 1 1 1 1 1 1 1 1 1 1 1 1 1 1 1 1 1 1 1 1\n",
      " 1 1 1 1 1 1 1 1 1 1 1 1 1 1 1 1 1 1 1 1 1 1 1 1 1 1 2 2 2 2 2 2 2 2 2 2 2\n",
      " 2 2 2 2 2 2 2 2 2 2 2 2 2 2 2 2 2 2 2 2 2 2 2 2 2 2 2 2 2 2 2 2 2 2 2 2 2\n",
      " 2 2] \n",
      "\n",
      "[114  62  33 107   7 100  40  86  76  71 134  51  73  54  63  37  78  90\n",
      "  45  16 121  66  24   8 126  22  44  97  93  26 137  84  27 127 132  59\n",
      "  18  83  61  92 112   2 141  43  10  60 116 144 119 108  69 135  56  80\n",
      " 123 133 106 146  50 147  85  30 101  94  64  89  91 125  48  13 111  95\n",
      "  20  15  52   3 149  98   6  68 109  96  12 102 120 104 128  46  11 110\n",
      " 124  41 148   1 113 139  42   4 129  17  38   5  53 143 105   0  34  28\n",
      "  55  75  35  23  74  31 118  57 131  65  32 138  14 122  19  29 130  49\n",
      " 136  99  82  79 115 145  72  77  25  81 140 142  39  58  88  70  87  36\n",
      "  21   9 103  67 117  47] \n",
      "\n",
      "[[5.8 2.8 5.1 2.4]\n",
      " [6.  2.2 4.  1. ]\n",
      " [5.5 4.2 1.4 0.2]\n",
      " [7.3 2.9 6.3 1.8]\n",
      " [5.  3.4 1.5 0.2]\n",
      " [6.3 3.3 6.  2.5]\n",
      " [5.  3.5 1.3 0.3]\n",
      " [6.7 3.1 4.7 1.5]\n",
      " [6.8 2.8 4.8 1.4]\n",
      " [6.1 2.8 4.  1.3]\n",
      " [6.1 2.6 5.6 1.4]\n",
      " [6.4 3.2 4.5 1.5]\n",
      " [6.1 2.8 4.7 1.2]\n",
      " [6.5 2.8 4.6 1.5]\n",
      " [6.1 2.9 4.7 1.4]\n",
      " [4.9 3.6 1.4 0.1]\n",
      " [6.  2.9 4.5 1.5]\n",
      " [5.5 2.6 4.4 1.2]\n",
      " [4.8 3.  1.4 0.3]\n",
      " [5.4 3.9 1.3 0.4]\n",
      " [5.6 2.8 4.9 2. ]\n",
      " [5.6 3.  4.5 1.5]\n",
      " [4.8 3.4 1.9 0.2]\n",
      " [4.4 2.9 1.4 0.2]\n",
      " [6.2 2.8 4.8 1.8]\n",
      " [4.6 3.6 1.  0.2]\n",
      " [5.1 3.8 1.9 0.4]\n",
      " [6.2 2.9 4.3 1.3]\n",
      " [5.  2.3 3.3 1. ]\n",
      " [5.  3.4 1.6 0.4]\n",
      " [6.4 3.1 5.5 1.8]\n",
      " [5.4 3.  4.5 1.5]\n",
      " [5.2 3.5 1.5 0.2]\n",
      " [6.1 3.  4.9 1.8]\n",
      " [6.4 2.8 5.6 2.2]\n",
      " [5.2 2.7 3.9 1.4]\n",
      " [5.7 3.8 1.7 0.3]\n",
      " [6.  2.7 5.1 1.6]\n",
      " [5.9 3.  4.2 1.5]\n",
      " [5.8 2.6 4.  1.2]\n",
      " [6.8 3.  5.5 2.1]\n",
      " [4.7 3.2 1.3 0.2]\n",
      " [6.9 3.1 5.1 2.3]\n",
      " [5.  3.5 1.6 0.6]\n",
      " [5.4 3.7 1.5 0.2]\n",
      " [5.  2.  3.5 1. ]\n",
      " [6.5 3.  5.5 1.8]\n",
      " [6.7 3.3 5.7 2.5]\n",
      " [6.  2.2 5.  1.5]\n",
      " [6.7 2.5 5.8 1.8]\n",
      " [5.6 2.5 3.9 1.1]\n",
      " [7.7 3.  6.1 2.3]\n",
      " [6.3 3.3 4.7 1.6]\n",
      " [5.5 2.4 3.8 1.1]\n",
      " [6.3 2.7 4.9 1.8]\n",
      " [6.3 2.8 5.1 1.5]\n",
      " [4.9 2.5 4.5 1.7]\n",
      " [6.3 2.5 5.  1.9]\n",
      " [7.  3.2 4.7 1.4]\n",
      " [6.5 3.  5.2 2. ]\n",
      " [6.  3.4 4.5 1.6]\n",
      " [4.8 3.1 1.6 0.2]\n",
      " [5.8 2.7 5.1 1.9]\n",
      " [5.6 2.7 4.2 1.3]\n",
      " [5.6 2.9 3.6 1.3]\n",
      " [5.5 2.5 4.  1.3]\n",
      " [6.1 3.  4.6 1.4]\n",
      " [7.2 3.2 6.  1.8]\n",
      " [5.3 3.7 1.5 0.2]\n",
      " [4.3 3.  1.1 0.1]\n",
      " [6.4 2.7 5.3 1.9]\n",
      " [5.7 3.  4.2 1.2]\n",
      " [5.4 3.4 1.7 0.2]\n",
      " [5.7 4.4 1.5 0.4]\n",
      " [6.9 3.1 4.9 1.5]\n",
      " [4.6 3.1 1.5 0.2]\n",
      " [5.9 3.  5.1 1.8]\n",
      " [5.1 2.5 3.  1.1]\n",
      " [4.6 3.4 1.4 0.3]\n",
      " [6.2 2.2 4.5 1.5]\n",
      " [7.2 3.6 6.1 2.5]\n",
      " [5.7 2.9 4.2 1.3]\n",
      " [4.8 3.  1.4 0.1]\n",
      " [7.1 3.  5.9 2.1]\n",
      " [6.9 3.2 5.7 2.3]\n",
      " [6.5 3.  5.8 2.2]\n",
      " [6.4 2.8 5.6 2.1]\n",
      " [5.1 3.8 1.6 0.2]\n",
      " [4.8 3.4 1.6 0.2]\n",
      " [6.5 3.2 5.1 2. ]\n",
      " [6.7 3.3 5.7 2.1]\n",
      " [4.5 2.3 1.3 0.3]\n",
      " [6.2 3.4 5.4 2.3]\n",
      " [4.9 3.  1.4 0.2]\n",
      " [5.7 2.5 5.  2. ]\n",
      " [6.9 3.1 5.4 2.1]\n",
      " [4.4 3.2 1.3 0.2]\n",
      " [5.  3.6 1.4 0.2]\n",
      " [7.2 3.  5.8 1.6]\n",
      " [5.1 3.5 1.4 0.3]\n",
      " [4.4 3.  1.3 0.2]\n",
      " [5.4 3.9 1.7 0.4]\n",
      " [5.5 2.3 4.  1.3]\n",
      " [6.8 3.2 5.9 2.3]\n",
      " [7.6 3.  6.6 2.1]\n",
      " [5.1 3.5 1.4 0.2]\n",
      " [4.9 3.1 1.5 0.2]\n",
      " [5.2 3.4 1.4 0.2]\n",
      " [5.7 2.8 4.5 1.3]\n",
      " [6.6 3.  4.4 1.4]\n",
      " [5.  3.2 1.2 0.2]\n",
      " [5.1 3.3 1.7 0.5]\n",
      " [6.4 2.9 4.3 1.3]\n",
      " [5.4 3.4 1.5 0.4]\n",
      " [7.7 2.6 6.9 2.3]\n",
      " [4.9 2.4 3.3 1. ]\n",
      " [7.9 3.8 6.4 2. ]\n",
      " [6.7 3.1 4.4 1.4]\n",
      " [5.2 4.1 1.5 0.1]\n",
      " [6.  3.  4.8 1.8]\n",
      " [5.8 4.  1.2 0.2]\n",
      " [7.7 2.8 6.7 2. ]\n",
      " [5.1 3.8 1.5 0.3]\n",
      " [4.7 3.2 1.6 0.2]\n",
      " [7.4 2.8 6.1 1.9]\n",
      " [5.  3.3 1.4 0.2]\n",
      " [6.3 3.4 5.6 2.4]\n",
      " [5.7 2.8 4.1 1.3]\n",
      " [5.8 2.7 3.9 1.2]\n",
      " [5.7 2.6 3.5 1. ]\n",
      " [6.4 3.2 5.3 2.3]\n",
      " [6.7 3.  5.2 2.3]\n",
      " [6.3 2.5 4.9 1.5]\n",
      " [6.7 3.  5.  1.7]\n",
      " [5.  3.  1.6 0.2]\n",
      " [5.5 2.4 3.7 1. ]\n",
      " [6.7 3.1 5.6 2.4]\n",
      " [5.8 2.7 5.1 1.9]\n",
      " [5.1 3.4 1.5 0.2]\n",
      " [6.6 2.9 4.6 1.3]] \n",
      "\n",
      "[2 1 0 2 0 2 0 1 1 1 2 1 1 1 1 0 1 1 0 0 2 1 0 0 2 0 0 1 1 0 2 1 0 2 2 1 0\n",
      " 1 1 1 2 0 2 0 0 1 2 2 2 2 1 2 1 1 2 2 2 2 1 2 1 0 2 1 1 1 1 2 0 0 2 1 0 0\n",
      " 1 0 2 1 0 1 2 1 0 2 2 2 2 0 0 2 2 0 2 0 2 2 0 0 2 0 0 0 1 2 2 0 0 0 1 1 0\n",
      " 0 1 0 2 1 2 1 0 2 0 2 0 0 2 0 2 1 1 1 2 2 1 1 0 1 2 2 0 1] \n",
      "\n",
      "[[5.6 3.  4.1 1.3]\n",
      " [5.9 3.2 4.8 1.8]\n",
      " [6.3 2.3 4.4 1.3]\n",
      " [5.5 3.5 1.3 0.2]\n",
      " [5.1 3.7 1.5 0.4]\n",
      " [4.9 3.1 1.5 0.1]\n",
      " [6.3 2.9 5.6 1.8]\n",
      " [5.8 2.7 4.1 1. ]\n",
      " [7.7 3.8 6.7 2.2]\n",
      " [4.6 3.2 1.4 0.2]] \n",
      "\n",
      "[1 1 1 0 0 0 2 1 2 0] \n",
      "\n",
      "KNeighborsClassifier() \n",
      "\n"
     ]
    }
   ],
   "source": [
    "for x in core.event.data_containers:\n",
    "    print(x, \"\\n\")"
   ],
   "metadata": {
    "collapsed": false,
    "pycharm": {
     "name": "#%%\n"
    }
   }
  },
  {
   "cell_type": "code",
   "execution_count": 13,
   "metadata": {
    "pycharm": {
     "name": "#%%\n"
    }
   },
   "outputs": [],
   "source": [
    "parent_lookup = {oe: set() for oe in core.event.operation_events}\n",
    "children_lookup = {oe: set() for oe in core.event.operation_events}"
   ]
  },
  {
   "cell_type": "code",
   "execution_count": 14,
   "outputs": [
    {
     "name": "stdout",
     "output_type": "stream",
     "text": [
      "{0: <core.event.OperationEvent object at 0x103b31910>, 1: <core.event.OperationEvent object at 0x103b16370>, 2: <core.event.OperationEvent object at 0x146eaad00>, 3: <core.event.OperationEvent object at 0x103b11250>}\n"
     ]
    }
   ],
   "source": [
    "print(core.event.operation_event_lookup)"
   ],
   "metadata": {
    "collapsed": false,
    "pycharm": {
     "name": "#%%\n"
    }
   }
  },
  {
   "cell_type": "code",
   "execution_count": 15,
   "metadata": {
    "pycharm": {
     "name": "#%%\n"
    }
   },
   "outputs": [],
   "source": [
    "for oe in core.event.operation_events:\n",
    "    for related_data_event in core.event.operation_event_lookup[oe.exec_uuid].related_data_events:\n",
    "        parent_oe = related_data_event.prev_operation_event\n",
    "        \n",
    "        parent_lookup[oe].add(parent_oe)\n",
    "        children_lookup[parent_oe].add(oe)"
   ]
  },
  {
   "cell_type": "code",
   "execution_count": 16,
   "outputs": [
    {
     "name": "stdout",
     "output_type": "stream",
     "text": [
      "{<core.event.OperationEvent object at 0x103b31910>: set(), <core.event.OperationEvent object at 0x103b16370>: set(), <core.event.OperationEvent object at 0x146eaad00>: {<core.event.OperationEvent object at 0x103b31910>}, <core.event.OperationEvent object at 0x103b11250>: {<core.event.OperationEvent object at 0x146eaad00>}}\n",
      "{<core.event.OperationEvent object at 0x103b31910>: {<core.event.OperationEvent object at 0x146eaad00>}, <core.event.OperationEvent object at 0x103b16370>: set(), <core.event.OperationEvent object at 0x146eaad00>: {<core.event.OperationEvent object at 0x103b11250>}, <core.event.OperationEvent object at 0x103b11250>: set()}\n"
     ]
    }
   ],
   "source": [
    "print(parent_lookup)\n",
    "print(children_lookup)"
   ],
   "metadata": {
    "collapsed": false,
    "pycharm": {
     "name": "#%%\n"
    }
   }
  },
  {
   "cell_type": "code",
   "execution_count": 17,
   "outputs": [],
   "source": [
    "from core.convert_graph import ConvertGraph\n",
    "graph = ConvertGraph()"
   ],
   "metadata": {
    "collapsed": false,
    "pycharm": {
     "name": "#%%\n"
    }
   }
  },
  {
   "cell_type": "code",
   "execution_count": 18,
   "outputs": [
    {
     "name": "stdout",
     "output_type": "stream",
     "text": [
      "{'iris_X': <core.graph.node.Node object at 0x1477c17c0>, 'iris_y': <core.graph.node.Node object at 0x1477c1c10>, 'indices': <core.graph.node.Node object at 0x16e8b10d0>, 'iris_X_train': <core.graph.node.Node object at 0x16e8b1160>, 'iris_y_train': <core.graph.node.Node object at 0x16e8b1490>, 'iris_X_test': <core.graph.node.Node object at 0x16e8b19d0>, 'iris_y_test': <core.graph.node.Node object at 0x16e8b1be0>, 'knn': <core.graph.node.Node object at 0x16e8b1ca0>}\n",
      "cell_2 0.002736\n",
      "sources\n",
      "destinations\n",
      "iris_X 1 4928\n",
      "iris_y 1 1312\n",
      "cell_3 5e-05\n",
      "sources\n",
      "destinations\n",
      "cell_4 0.001094\n",
      "sources\n",
      "iris_X 1 4928\n",
      "iris_y 1 1312\n",
      "destinations\n",
      "indices 1 1312\n",
      "iris_X_train 1 4608\n",
      "iris_y_train 1 1232\n",
      "iris_X_test 1 448\n",
      "iris_y_test 1 192\n",
      "cell_5 0.005784\n",
      "sources\n",
      "iris_X_train 1 4608\n",
      "iris_y_train 1 1232\n",
      "iris_X_test 1 448\n",
      "destinations\n",
      "knn 1 48\n"
     ]
    }
   ],
   "source": [
    "print(graph.active_nodes)\n",
    "for edge in graph.edges:\n",
    "    print(edge.oe.cell_func_name, edge.duration)\n",
    "    print(\"sources\")\n",
    "    for node in edge.src.nodes:\n",
    "        print(node.var.name, node.var.ver, node.size)\n",
    "    print(\"destinations\")\n",
    "    for node in edge.dst.nodes:\n",
    "        print(node.var.name, node.var.ver, node.size)"
   ],
   "metadata": {
    "collapsed": false,
    "pycharm": {
     "name": "#%%\n"
    }
   }
  },
  {
   "cell_type": "code",
   "execution_count": 38,
   "outputs": [
    {
     "name": "stdout",
     "output_type": "stream",
     "text": [
      "current score:  0.1408\n",
      "best decrease:  0.013945999999999986\n",
      "best set:  5\n",
      "current score:  0.12685400000000002\n",
      "best decrease:  0.06288000000000002\n",
      "best set:  6\n",
      "current score:  0.063974\n",
      "best decrease:  0.0\n",
      "best set:  4\n",
      "iris_y 1 1312\n",
      "knn 1 48\n",
      "iris_X 1 4928\n"
     ]
    }
   ],
   "source": [
    "from algorithm.optimizer_greedy import OptimizerGreedy\n",
    "\n",
    "graph.set_migration_speed(100000)\n",
    "opt = OptimizerGreedy(graph, list(graph.active_nodes.values()))\n",
    "recompute_nodes = opt.select_nodes()\n",
    "\n",
    "for node in recompute_nodes:\n",
    "    print(node.var.name, node.var.ver, node.size)"
   ],
   "metadata": {
    "collapsed": false,
    "pycharm": {
     "name": "#%%\n"
    }
   }
  },
  {
   "cell_type": "code",
   "execution_count": 37,
   "outputs": [
    {
     "name": "stdout",
     "output_type": "stream",
     "text": [
      "{1, 4, 5, 6, 7}\n",
      "{0: set(), 1: {(0, 1)}, 2: set(), 3: {(2, 3)}, 4: {(1, 4)}, 5: {(4, 5)}, 6: {(5, 6)}, 7: {(6, 7)}}\n",
      "0.0784\n",
      "0.002736\n",
      "0.081136\n"
     ]
    }
   ],
   "source": [
    "import matplotlib.pyplot as plt\n",
    "import networkx as nx\n",
    "\n",
    "#nx.draw(opt.compute_graph, with_labels = True)\n",
    "#plt.show()\n",
    "\n",
    "print(opt.active_node_sets)\n",
    "print(opt.recomputation_edges)\n",
    "\n",
    "recompute_idx = set()\n",
    "recompute_idx.add(1)\n",
    "\n",
    "migrate_idx = set()\n",
    "migrate_idx.add(5)\n",
    "migrate_idx.add(7)\n",
    "\n",
    "print(opt.compute_migration_cost(migrate_idx))\n",
    "print(opt.compute_recomputation_cost(recompute_idx))\n",
    "print(opt.total_cost(migrate_idx))"
   ],
   "metadata": {
    "collapsed": false,
    "pycharm": {
     "name": "#%%\n"
    }
   }
  },
  {
   "cell_type": "code",
   "execution_count": 32,
   "outputs": [
    {
     "name": "stdout",
     "output_type": "stream",
     "text": [
      "iris_y_train\n",
      "indices\n",
      "iris_X_train\n",
      "iris_X_test\n",
      "iris_y_test\n",
      "source oes:\n",
      "cell_4\n",
      "--------\n",
      "cell_4\n",
      "cell_4\n",
      "@RecordEvent\n",
      "def cell_4():\n",
      "    indices = np.random.permutation(len(iris_X))\n",
      "    iris_X_train = iris_X[indices[:-10]]\n",
      "    iris_y_train = iris_y[indices[:-10]]\n",
      "    iris_X_test = iris_X[indices[-10:]]\n",
      "    iris_y_test = iris_y[indices[-10:]]\n",
      "    \n",
      "    return OperationContainer({\"indices\": indices, \"iris_X_train\": iris_X_train, \"iris_y_train\": iris_y_train, \"iris_X_test\": iris_X_test, \"iris_y_test\": iris_y_test})\n",
      "\n"
     ]
    }
   ],
   "source": [
    "from core.graph.search import find_path\n",
    "\n",
    "recompute_edges = find_path(graph, recompute_nodes, core.event.operation_events)\n",
    "for edge in recompute_edges:\n",
    "    print(edge.oe.cell_func_name)\n",
    "    print(edge.oe.cell_func_code)"
   ],
   "metadata": {
    "collapsed": false,
    "pycharm": {
     "name": "#%%\n"
    }
   }
  },
  {
   "cell_type": "code",
   "execution_count": 34,
   "outputs": [
    {
     "name": "stdout",
     "output_type": "stream",
     "text": [
      "{<core.graph.node.Node object at 0x1477c1c10>, <core.graph.node.Node object at 0x16e8b1ca0>, <core.graph.node.Node object at 0x1477c17c0>} [<core.graph.edge.Edge object at 0x16e8b1fd0>]\n",
      "---------------------------------------\n",
      "iris_X = data_container_dict[\"iris_X\"]\n",
      "---------------------------------------\n",
      "iris_y = data_container_dict[\"iris_y\"]\n",
      "---------------------------------------\n",
      "def cell_4():\n",
      "    indices = np.random.permutation(len(iris_X))\n",
      "    iris_X_train = iris_X[indices[:-10]]\n",
      "    iris_y_train = iris_y[indices[:-10]]\n",
      "    iris_X_test = iris_X[indices[-10:]]\n",
      "    iris_y_test = iris_y[indices[-10:]]\n",
      "    \n",
      "    return indices, iris_X_train, iris_y_train, iris_X_test, iris_y_test\n",
      "---------------------------------------\n",
      "indices, iris_X_train, iris_y_train, iris_X_test, iris_y_test = cell_4()\n"
     ]
    }
   ],
   "source": [
    "from core.io.migrate import migrate\n",
    "print(recompute_nodes, recompute_edges)\n",
    "recomputation_code = migrate(recompute_nodes, recompute_edges, \"numpy_notebook\")\n",
    "for code in recomputation_code:\n",
    "    print(\"---------------------------------------\")\n",
    "    print(code)"
   ],
   "metadata": {
    "collapsed": false,
    "pycharm": {
     "name": "#%%\n"
    }
   }
  },
  {
   "cell_type": "code",
   "execution_count": null,
   "outputs": [],
   "source": [
    "import sys\n",
    "mods = [m.__name__ for m in sys.modules.values() if m]\n",
    "print(mods)"
   ],
   "metadata": {
    "collapsed": false,
    "pycharm": {
     "name": "#%%\n"
    }
   }
  },
  {
   "cell_type": "code",
   "execution_count": null,
   "outputs": [],
   "source": [],
   "metadata": {
    "collapsed": false,
    "pycharm": {
     "name": "#%%\n"
    }
   }
  }
 ],
 "metadata": {
  "language_info": {
   "name": "python"
  },
  "orig_nbformat": 4
 },
 "nbformat": 4,
 "nbformat_minor": 2
}