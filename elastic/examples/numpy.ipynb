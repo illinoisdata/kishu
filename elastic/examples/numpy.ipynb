{
 "cells": [
  {
   "cell_type": "code",
   "execution_count": 1,
   "metadata": {
    "pycharm": {
     "name": "#%%\n"
    }
   },
   "outputs": [],
   "source": [
    "import os, sys\n",
    "sys.path.insert(0, os.path.abspath(\"..\"))\n",
    "\n",
    "import numpy as np\n",
    "from sklearn import datasets\n",
    "\n",
    "from elastic.core.notebook.variable_snapshot import VariableSnapshotSet\n",
    "from elastic.core.notebook.record_event import RecordEvent\n",
    "\n",
    "from sklearn.neighbors import KNeighborsClassifier\n",
    "\n",
    "from elastic.core.globals import reset_notebook_state\n",
    "reset_notebook_state()"
   ]
  },
  {
   "cell_type": "code",
   "execution_count": 2,
   "metadata": {
    "pycharm": {
     "name": "#%%\n"
    }
   },
   "outputs": [],
   "source": [
    "@RecordEvent\n",
    "def cell_2():\n",
    "    iris_X, iris_y = datasets.load_iris(return_X_y=True)\n",
    "    \n",
    "    return VariableSnapshotSet({\"iris_X\": iris_X, \"iris_y\": iris_y})"
   ]
  },
  {
   "cell_type": "code",
   "execution_count": 3,
   "metadata": {
    "pycharm": {
     "name": "#%%\n"
    }
   },
   "outputs": [
    {
     "name": "stdout",
     "output_type": "stream",
     "text": [
      "\n",
      "container created for variable  iris_X\n",
      "container created for variable  iris_y\n"
     ]
    }
   ],
   "source": [
    "iris_X, iris_y = cell_2()"
   ]
  },
  {
   "cell_type": "code",
   "execution_count": 4,
   "metadata": {
    "pycharm": {
     "name": "#%%\n"
    }
   },
   "outputs": [],
   "source": [
    "@RecordEvent\n",
    "def cell_3():\n",
    "    np.random.seed(0)"
   ]
  },
  {
   "cell_type": "code",
   "execution_count": 5,
   "metadata": {
    "pycharm": {
     "name": "#%%\n"
    }
   },
   "outputs": [
    {
     "name": "stdout",
     "output_type": "stream",
     "text": [
      "\n"
     ]
    }
   ],
   "source": [
    "cell_3()"
   ]
  },
  {
   "cell_type": "code",
   "execution_count": 6,
   "metadata": {
    "pycharm": {
     "name": "#%%\n"
    }
   },
   "outputs": [],
   "source": [
    "@RecordEvent\n",
    "def cell_4():\n",
    "    indices = np.random.permutation(len(iris_X))\n",
    "    iris_X_train = iris_X[indices[:-10]]\n",
    "    iris_y_train = iris_y[indices[:-10]]\n",
    "    iris_X_test = iris_X[indices[-10:]]\n",
    "    iris_y_test = iris_y[indices[-10:]]\n",
    "    \n",
    "    return VariableSnapshotSet({\"indices\": indices, \"iris_X_train\": iris_X_train, \"iris_y_train\": iris_y_train, \"iris_X_test\": iris_X_test, \"iris_y_test\": iris_y_test})"
   ]
  },
  {
   "cell_type": "code",
   "execution_count": 7,
   "metadata": {
    "pycharm": {
     "name": "#%%\n"
    }
   },
   "outputs": [
    {
     "name": "stdout",
     "output_type": "stream",
     "text": [
      "\n",
      "container created for variable  indices\n",
      "container created for variable  iris_X_train\n",
      "container created for variable  iris_y_train\n",
      "container created for variable  iris_X_test\n",
      "container created for variable  iris_y_test\n"
     ]
    }
   ],
   "source": [
    "indices, iris_X_train, iris_y_train, iris_X_test, iris_y_test = cell_4()"
   ]
  },
  {
   "cell_type": "code",
   "execution_count": 8,
   "metadata": {
    "pycharm": {
     "name": "#%%\n"
    }
   },
   "outputs": [],
   "source": [
    "@RecordEvent\n",
    "def cell_5():\n",
    "    test_var = 123\n",
    "    knn = KNeighborsClassifier()\n",
    "    knn.fit(iris_X_train, iris_y_train)\n",
    "\n",
    "    knn.predict(iris_X_test)\n",
    "    \n",
    "    return VariableSnapshotSet({\"knn\": knn, \"test_var\": test_var})"
   ]
  },
  {
   "cell_type": "code",
   "execution_count": 9,
   "metadata": {
    "pycharm": {
     "name": "#%%\n"
    }
   },
   "outputs": [
    {
     "name": "stdout",
     "output_type": "stream",
     "text": [
      "\n",
      "container created for variable  knn\n",
      "container created for variable  test_var\n"
     ]
    }
   ],
   "source": [
    "knn, test_var = cell_5()"
   ]
  },
  {
   "cell_type": "code",
   "execution_count": 10,
   "metadata": {
    "pycharm": {
     "name": "#%%\n"
    }
   },
   "outputs": [
    {
     "name": "stdout",
     "output_type": "stream",
     "text": [
      "\n",
      "container created for variable  np\n",
      "container created for variable  datasets\n"
     ]
    },
    {
     "data": {
      "text/plain": "(<module 'numpy' from '/Users/libilly/elastic_notebook2/elastic-notebook/venv/lib/python3.8/site-packages/numpy/__init__.py'>,\n <module 'sklearn.datasets' from '/Users/libilly/elastic_notebook2/elastic-notebook/venv/lib/python3.8/site-packages/sklearn/datasets/__init__.py'>)"
     },
     "execution_count": 10,
     "metadata": {},
     "output_type": "execute_result"
    }
   ],
   "source": [
    "@RecordEvent\n",
    "def import_libraries():\n",
    "    import numpy as np\n",
    "    from sklearn import datasets\n",
    "    return VariableSnapshotSet({\"np\": np, \"datasets\": datasets})\n",
    "\n",
    "import_libraries()"
   ]
  },
  {
   "cell_type": "code",
   "execution_count": 11,
   "metadata": {
    "pycharm": {
     "name": "#%%\n"
    }
   },
   "outputs": [
    {
     "name": "stdout",
     "output_type": "stream",
     "text": [
      "Operation with name cell_2 and id 0 started at 2022-10-15 16:51:17.349147 and ended at 2022-10-15 16:51:17.350947, 0.0018 s elapsed, 0 input variable snapshots \n",
      "\n",
      "input variable_snapshots: \n",
      "\n",
      "------------\n",
      "Operation with name cell_3 and id 1 started at 2022-10-15 16:51:17.356918 and ended at 2022-10-15 16:51:17.356937, 1.9e-05 s elapsed, 0 input variable snapshots \n",
      "\n",
      "input variable_snapshots: \n",
      "\n",
      "------------\n",
      "Operation with name cell_4 and id 2 started at 2022-10-15 16:51:17.362960 and ended at 2022-10-15 16:51:17.363124, 0.000164 s elapsed, 2 input variable snapshots \n",
      "\n",
      "input variable_snapshots: \n",
      "\n",
      "[[5.1 3.5 1.4 0.2]\n",
      " [4.9 3.  1.4 0.2]\n",
      " [4.7 3.2 1.3 0.2]\n",
      " [4.6 3.1 1.5 0.2]\n",
      " [5.  3.6 1.4 0.2]\n",
      " [5.4 3.9 1.7 0.4]\n",
      " [4.6 3.4 1.4 0.3]\n",
      " [5.  3.4 1.5 0.2]\n",
      " [4.4 2.9 1.4 0.2]\n",
      " [4.9 3.1 1.5 0.1]\n",
      " [5.4 3.7 1.5 0.2]\n",
      " [4.8 3.4 1.6 0.2]\n",
      " [4.8 3.  1.4 0.1]\n",
      " [4.3 3.  1.1 0.1]\n",
      " [5.8 4.  1.2 0.2]\n",
      " [5.7 4.4 1.5 0.4]\n",
      " [5.4 3.9 1.3 0.4]\n",
      " [5.1 3.5 1.4 0.3]\n",
      " [5.7 3.8 1.7 0.3]\n",
      " [5.1 3.8 1.5 0.3]\n",
      " [5.4 3.4 1.7 0.2]\n",
      " [5.1 3.7 1.5 0.4]\n",
      " [4.6 3.6 1.  0.2]\n",
      " [5.1 3.3 1.7 0.5]\n",
      " [4.8 3.4 1.9 0.2]\n",
      " [5.  3.  1.6 0.2]\n",
      " [5.  3.4 1.6 0.4]\n",
      " [5.2 3.5 1.5 0.2]\n",
      " [5.2 3.4 1.4 0.2]\n",
      " [4.7 3.2 1.6 0.2]\n",
      " [4.8 3.1 1.6 0.2]\n",
      " [5.4 3.4 1.5 0.4]\n",
      " [5.2 4.1 1.5 0.1]\n",
      " [5.5 4.2 1.4 0.2]\n",
      " [4.9 3.1 1.5 0.2]\n",
      " [5.  3.2 1.2 0.2]\n",
      " [5.5 3.5 1.3 0.2]\n",
      " [4.9 3.6 1.4 0.1]\n",
      " [4.4 3.  1.3 0.2]\n",
      " [5.1 3.4 1.5 0.2]\n",
      " [5.  3.5 1.3 0.3]\n",
      " [4.5 2.3 1.3 0.3]\n",
      " [4.4 3.2 1.3 0.2]\n",
      " [5.  3.5 1.6 0.6]\n",
      " [5.1 3.8 1.9 0.4]\n",
      " [4.8 3.  1.4 0.3]\n",
      " [5.1 3.8 1.6 0.2]\n",
      " [4.6 3.2 1.4 0.2]\n",
      " [5.3 3.7 1.5 0.2]\n",
      " [5.  3.3 1.4 0.2]\n",
      " [7.  3.2 4.7 1.4]\n",
      " [6.4 3.2 4.5 1.5]\n",
      " [6.9 3.1 4.9 1.5]\n",
      " [5.5 2.3 4.  1.3]\n",
      " [6.5 2.8 4.6 1.5]\n",
      " [5.7 2.8 4.5 1.3]\n",
      " [6.3 3.3 4.7 1.6]\n",
      " [4.9 2.4 3.3 1. ]\n",
      " [6.6 2.9 4.6 1.3]\n",
      " [5.2 2.7 3.9 1.4]\n",
      " [5.  2.  3.5 1. ]\n",
      " [5.9 3.  4.2 1.5]\n",
      " [6.  2.2 4.  1. ]\n",
      " [6.1 2.9 4.7 1.4]\n",
      " [5.6 2.9 3.6 1.3]\n",
      " [6.7 3.1 4.4 1.4]\n",
      " [5.6 3.  4.5 1.5]\n",
      " [5.8 2.7 4.1 1. ]\n",
      " [6.2 2.2 4.5 1.5]\n",
      " [5.6 2.5 3.9 1.1]\n",
      " [5.9 3.2 4.8 1.8]\n",
      " [6.1 2.8 4.  1.3]\n",
      " [6.3 2.5 4.9 1.5]\n",
      " [6.1 2.8 4.7 1.2]\n",
      " [6.4 2.9 4.3 1.3]\n",
      " [6.6 3.  4.4 1.4]\n",
      " [6.8 2.8 4.8 1.4]\n",
      " [6.7 3.  5.  1.7]\n",
      " [6.  2.9 4.5 1.5]\n",
      " [5.7 2.6 3.5 1. ]\n",
      " [5.5 2.4 3.8 1.1]\n",
      " [5.5 2.4 3.7 1. ]\n",
      " [5.8 2.7 3.9 1.2]\n",
      " [6.  2.7 5.1 1.6]\n",
      " [5.4 3.  4.5 1.5]\n",
      " [6.  3.4 4.5 1.6]\n",
      " [6.7 3.1 4.7 1.5]\n",
      " [6.3 2.3 4.4 1.3]\n",
      " [5.6 3.  4.1 1.3]\n",
      " [5.5 2.5 4.  1.3]\n",
      " [5.5 2.6 4.4 1.2]\n",
      " [6.1 3.  4.6 1.4]\n",
      " [5.8 2.6 4.  1.2]\n",
      " [5.  2.3 3.3 1. ]\n",
      " [5.6 2.7 4.2 1.3]\n",
      " [5.7 3.  4.2 1.2]\n",
      " [5.7 2.9 4.2 1.3]\n",
      " [6.2 2.9 4.3 1.3]\n",
      " [5.1 2.5 3.  1.1]\n",
      " [5.7 2.8 4.1 1.3]\n",
      " [6.3 3.3 6.  2.5]\n",
      " [5.8 2.7 5.1 1.9]\n",
      " [7.1 3.  5.9 2.1]\n",
      " [6.3 2.9 5.6 1.8]\n",
      " [6.5 3.  5.8 2.2]\n",
      " [7.6 3.  6.6 2.1]\n",
      " [4.9 2.5 4.5 1.7]\n",
      " [7.3 2.9 6.3 1.8]\n",
      " [6.7 2.5 5.8 1.8]\n",
      " [7.2 3.6 6.1 2.5]\n",
      " [6.5 3.2 5.1 2. ]\n",
      " [6.4 2.7 5.3 1.9]\n",
      " [6.8 3.  5.5 2.1]\n",
      " [5.7 2.5 5.  2. ]\n",
      " [5.8 2.8 5.1 2.4]\n",
      " [6.4 3.2 5.3 2.3]\n",
      " [6.5 3.  5.5 1.8]\n",
      " [7.7 3.8 6.7 2.2]\n",
      " [7.7 2.6 6.9 2.3]\n",
      " [6.  2.2 5.  1.5]\n",
      " [6.9 3.2 5.7 2.3]\n",
      " [5.6 2.8 4.9 2. ]\n",
      " [7.7 2.8 6.7 2. ]\n",
      " [6.3 2.7 4.9 1.8]\n",
      " [6.7 3.3 5.7 2.1]\n",
      " [7.2 3.2 6.  1.8]\n",
      " [6.2 2.8 4.8 1.8]\n",
      " [6.1 3.  4.9 1.8]\n",
      " [6.4 2.8 5.6 2.1]\n",
      " [7.2 3.  5.8 1.6]\n",
      " [7.4 2.8 6.1 1.9]\n",
      " [7.9 3.8 6.4 2. ]\n",
      " [6.4 2.8 5.6 2.2]\n",
      " [6.3 2.8 5.1 1.5]\n",
      " [6.1 2.6 5.6 1.4]\n",
      " [7.7 3.  6.1 2.3]\n",
      " [6.3 3.4 5.6 2.4]\n",
      " [6.4 3.1 5.5 1.8]\n",
      " [6.  3.  4.8 1.8]\n",
      " [6.9 3.1 5.4 2.1]\n",
      " [6.7 3.1 5.6 2.4]\n",
      " [6.9 3.1 5.1 2.3]\n",
      " [5.8 2.7 5.1 1.9]\n",
      " [6.8 3.2 5.9 2.3]\n",
      " [6.7 3.3 5.7 2.5]\n",
      " [6.7 3.  5.2 2.3]\n",
      " [6.3 2.5 5.  1.9]\n",
      " [6.5 3.  5.2 2. ]\n",
      " [6.2 3.4 5.4 2.3]\n",
      " [5.9 3.  5.1 1.8]] \n",
      "\n",
      "[0 0 0 0 0 0 0 0 0 0 0 0 0 0 0 0 0 0 0 0 0 0 0 0 0 0 0 0 0 0 0 0 0 0 0 0 0\n",
      " 0 0 0 0 0 0 0 0 0 0 0 0 0 1 1 1 1 1 1 1 1 1 1 1 1 1 1 1 1 1 1 1 1 1 1 1 1\n",
      " 1 1 1 1 1 1 1 1 1 1 1 1 1 1 1 1 1 1 1 1 1 1 1 1 1 1 2 2 2 2 2 2 2 2 2 2 2\n",
      " 2 2 2 2 2 2 2 2 2 2 2 2 2 2 2 2 2 2 2 2 2 2 2 2 2 2 2 2 2 2 2 2 2 2 2 2 2\n",
      " 2 2] \n",
      "\n",
      "------------\n",
      "Operation with name cell_5 and id 3 started at 2022-10-15 16:51:17.369027 and ended at 2022-10-15 16:51:17.370987, 0.00196 s elapsed, 3 input variable snapshots \n",
      "\n",
      "input variable_snapshots: \n",
      "\n",
      "[[5.6 3.  4.1 1.3]\n",
      " [5.9 3.2 4.8 1.8]\n",
      " [6.3 2.3 4.4 1.3]\n",
      " [5.5 3.5 1.3 0.2]\n",
      " [5.1 3.7 1.5 0.4]\n",
      " [4.9 3.1 1.5 0.1]\n",
      " [6.3 2.9 5.6 1.8]\n",
      " [5.8 2.7 4.1 1. ]\n",
      " [7.7 3.8 6.7 2.2]\n",
      " [4.6 3.2 1.4 0.2]] \n",
      "\n",
      "[2 1 0 2 0 2 0 1 1 1 2 1 1 1 1 0 1 1 0 0 2 1 0 0 2 0 0 1 1 0 2 1 0 2 2 1 0\n",
      " 1 1 1 2 0 2 0 0 1 2 2 2 2 1 2 1 1 2 2 2 2 1 2 1 0 2 1 1 1 1 2 0 0 2 1 0 0\n",
      " 1 0 2 1 0 1 2 1 0 2 2 2 2 0 0 2 2 0 2 0 2 2 0 0 2 0 0 0 1 2 2 0 0 0 1 1 0\n",
      " 0 1 0 2 1 2 1 0 2 0 2 0 0 2 0 2 1 1 1 2 2 1 1 0 1 2 2 0 1] \n",
      "\n",
      "[[5.8 2.8 5.1 2.4]\n",
      " [6.  2.2 4.  1. ]\n",
      " [5.5 4.2 1.4 0.2]\n",
      " [7.3 2.9 6.3 1.8]\n",
      " [5.  3.4 1.5 0.2]\n",
      " [6.3 3.3 6.  2.5]\n",
      " [5.  3.5 1.3 0.3]\n",
      " [6.7 3.1 4.7 1.5]\n",
      " [6.8 2.8 4.8 1.4]\n",
      " [6.1 2.8 4.  1.3]\n",
      " [6.1 2.6 5.6 1.4]\n",
      " [6.4 3.2 4.5 1.5]\n",
      " [6.1 2.8 4.7 1.2]\n",
      " [6.5 2.8 4.6 1.5]\n",
      " [6.1 2.9 4.7 1.4]\n",
      " [4.9 3.6 1.4 0.1]\n",
      " [6.  2.9 4.5 1.5]\n",
      " [5.5 2.6 4.4 1.2]\n",
      " [4.8 3.  1.4 0.3]\n",
      " [5.4 3.9 1.3 0.4]\n",
      " [5.6 2.8 4.9 2. ]\n",
      " [5.6 3.  4.5 1.5]\n",
      " [4.8 3.4 1.9 0.2]\n",
      " [4.4 2.9 1.4 0.2]\n",
      " [6.2 2.8 4.8 1.8]\n",
      " [4.6 3.6 1.  0.2]\n",
      " [5.1 3.8 1.9 0.4]\n",
      " [6.2 2.9 4.3 1.3]\n",
      " [5.  2.3 3.3 1. ]\n",
      " [5.  3.4 1.6 0.4]\n",
      " [6.4 3.1 5.5 1.8]\n",
      " [5.4 3.  4.5 1.5]\n",
      " [5.2 3.5 1.5 0.2]\n",
      " [6.1 3.  4.9 1.8]\n",
      " [6.4 2.8 5.6 2.2]\n",
      " [5.2 2.7 3.9 1.4]\n",
      " [5.7 3.8 1.7 0.3]\n",
      " [6.  2.7 5.1 1.6]\n",
      " [5.9 3.  4.2 1.5]\n",
      " [5.8 2.6 4.  1.2]\n",
      " [6.8 3.  5.5 2.1]\n",
      " [4.7 3.2 1.3 0.2]\n",
      " [6.9 3.1 5.1 2.3]\n",
      " [5.  3.5 1.6 0.6]\n",
      " [5.4 3.7 1.5 0.2]\n",
      " [5.  2.  3.5 1. ]\n",
      " [6.5 3.  5.5 1.8]\n",
      " [6.7 3.3 5.7 2.5]\n",
      " [6.  2.2 5.  1.5]\n",
      " [6.7 2.5 5.8 1.8]\n",
      " [5.6 2.5 3.9 1.1]\n",
      " [7.7 3.  6.1 2.3]\n",
      " [6.3 3.3 4.7 1.6]\n",
      " [5.5 2.4 3.8 1.1]\n",
      " [6.3 2.7 4.9 1.8]\n",
      " [6.3 2.8 5.1 1.5]\n",
      " [4.9 2.5 4.5 1.7]\n",
      " [6.3 2.5 5.  1.9]\n",
      " [7.  3.2 4.7 1.4]\n",
      " [6.5 3.  5.2 2. ]\n",
      " [6.  3.4 4.5 1.6]\n",
      " [4.8 3.1 1.6 0.2]\n",
      " [5.8 2.7 5.1 1.9]\n",
      " [5.6 2.7 4.2 1.3]\n",
      " [5.6 2.9 3.6 1.3]\n",
      " [5.5 2.5 4.  1.3]\n",
      " [6.1 3.  4.6 1.4]\n",
      " [7.2 3.2 6.  1.8]\n",
      " [5.3 3.7 1.5 0.2]\n",
      " [4.3 3.  1.1 0.1]\n",
      " [6.4 2.7 5.3 1.9]\n",
      " [5.7 3.  4.2 1.2]\n",
      " [5.4 3.4 1.7 0.2]\n",
      " [5.7 4.4 1.5 0.4]\n",
      " [6.9 3.1 4.9 1.5]\n",
      " [4.6 3.1 1.5 0.2]\n",
      " [5.9 3.  5.1 1.8]\n",
      " [5.1 2.5 3.  1.1]\n",
      " [4.6 3.4 1.4 0.3]\n",
      " [6.2 2.2 4.5 1.5]\n",
      " [7.2 3.6 6.1 2.5]\n",
      " [5.7 2.9 4.2 1.3]\n",
      " [4.8 3.  1.4 0.1]\n",
      " [7.1 3.  5.9 2.1]\n",
      " [6.9 3.2 5.7 2.3]\n",
      " [6.5 3.  5.8 2.2]\n",
      " [6.4 2.8 5.6 2.1]\n",
      " [5.1 3.8 1.6 0.2]\n",
      " [4.8 3.4 1.6 0.2]\n",
      " [6.5 3.2 5.1 2. ]\n",
      " [6.7 3.3 5.7 2.1]\n",
      " [4.5 2.3 1.3 0.3]\n",
      " [6.2 3.4 5.4 2.3]\n",
      " [4.9 3.  1.4 0.2]\n",
      " [5.7 2.5 5.  2. ]\n",
      " [6.9 3.1 5.4 2.1]\n",
      " [4.4 3.2 1.3 0.2]\n",
      " [5.  3.6 1.4 0.2]\n",
      " [7.2 3.  5.8 1.6]\n",
      " [5.1 3.5 1.4 0.3]\n",
      " [4.4 3.  1.3 0.2]\n",
      " [5.4 3.9 1.7 0.4]\n",
      " [5.5 2.3 4.  1.3]\n",
      " [6.8 3.2 5.9 2.3]\n",
      " [7.6 3.  6.6 2.1]\n",
      " [5.1 3.5 1.4 0.2]\n",
      " [4.9 3.1 1.5 0.2]\n",
      " [5.2 3.4 1.4 0.2]\n",
      " [5.7 2.8 4.5 1.3]\n",
      " [6.6 3.  4.4 1.4]\n",
      " [5.  3.2 1.2 0.2]\n",
      " [5.1 3.3 1.7 0.5]\n",
      " [6.4 2.9 4.3 1.3]\n",
      " [5.4 3.4 1.5 0.4]\n",
      " [7.7 2.6 6.9 2.3]\n",
      " [4.9 2.4 3.3 1. ]\n",
      " [7.9 3.8 6.4 2. ]\n",
      " [6.7 3.1 4.4 1.4]\n",
      " [5.2 4.1 1.5 0.1]\n",
      " [6.  3.  4.8 1.8]\n",
      " [5.8 4.  1.2 0.2]\n",
      " [7.7 2.8 6.7 2. ]\n",
      " [5.1 3.8 1.5 0.3]\n",
      " [4.7 3.2 1.6 0.2]\n",
      " [7.4 2.8 6.1 1.9]\n",
      " [5.  3.3 1.4 0.2]\n",
      " [6.3 3.4 5.6 2.4]\n",
      " [5.7 2.8 4.1 1.3]\n",
      " [5.8 2.7 3.9 1.2]\n",
      " [5.7 2.6 3.5 1. ]\n",
      " [6.4 3.2 5.3 2.3]\n",
      " [6.7 3.  5.2 2.3]\n",
      " [6.3 2.5 4.9 1.5]\n",
      " [6.7 3.  5.  1.7]\n",
      " [5.  3.  1.6 0.2]\n",
      " [5.5 2.4 3.7 1. ]\n",
      " [6.7 3.1 5.6 2.4]\n",
      " [5.8 2.7 5.1 1.9]\n",
      " [5.1 3.4 1.5 0.2]\n",
      " [6.6 2.9 4.6 1.3]] \n",
      "\n",
      "------------\n",
      "Operation with name import_libraries and id 4 started at 2022-10-15 16:51:17.373542 and ended at 2022-10-15 16:51:17.373546, 4e-06 s elapsed, 0 input variable snapshots \n",
      "\n",
      "input variable_snapshots: \n",
      "\n",
      "------------\n"
     ]
    }
   ],
   "source": [
    "from elastic.core.globals import operation_events\n",
    "\n",
    "for x in operation_events:\n",
    "    print(x, \"\\n\")\n",
    "    print(\"input variable_snapshots: \\n\")\n",
    "    for y in x.input_variable_snapshots:\n",
    "        print(y, \"\\n\")\n",
    "    print(\"------------\")"
   ]
  },
  {
   "cell_type": "code",
   "execution_count": 12,
   "metadata": {
    "collapsed": false,
    "pycharm": {
     "name": "#%%\n"
    }
   },
   "outputs": [
    {
     "name": "stdout",
     "output_type": "stream",
     "text": [
      "---------------------------\n",
      "Active nodes:\n",
      "iris_X 1 4928\n",
      "iris_y 1 1312\n",
      "indices 1 1312\n",
      "iris_X_train 1 4608\n",
      "iris_y_train 1 1232\n",
      "iris_X_test 1 448\n",
      "iris_y_test 1 192\n",
      "knn 1 48\n",
      "test_var 1 28\n",
      "np 1 48\n",
      "datasets 1 48\n",
      "---------------------------\n",
      "Edges:\n",
      "---------------------------\n",
      "Edge: cell_2 0.0018\n",
      "sources\n",
      "destinations\n",
      "    iris_X 1 4928\n",
      "    iris_y 1 1312\n",
      "---------------------------\n",
      "Edge: cell_3 1.9e-05\n",
      "sources\n",
      "destinations\n",
      "---------------------------\n",
      "Edge: cell_4 0.000164\n",
      "sources\n",
      "    iris_X 1 4928\n",
      "    iris_y 1 1312\n",
      "destinations\n",
      "    indices 1 1312\n",
      "    iris_X_train 1 4608\n",
      "    iris_y_train 1 1232\n",
      "    iris_X_test 1 448\n",
      "    iris_y_test 1 192\n",
      "---------------------------\n",
      "Edge: cell_5 0.00196\n",
      "sources\n",
      "    iris_X_test 1 448\n",
      "    iris_y_train 1 1232\n",
      "    iris_X_train 1 4608\n",
      "destinations\n",
      "    knn 1 48\n",
      "    test_var 1 28\n",
      "---------------------------\n",
      "Edge: import_libraries 4e-06\n",
      "sources\n",
      "destinations\n",
      "    np 1 48\n",
      "    datasets 1 48\n"
     ]
    }
   ],
   "source": [
    "# Create a graph representation of the current state of the notebook\n",
    "from elastic.core.notebook.create_graph import create_graph\n",
    "graph = create_graph()\n",
    "\n",
    "print(\"---------------------------\")\n",
    "print(\"Active nodes:\")\n",
    "for node in graph.active_nodes:\n",
    "    print(node.vs.get_name(), node.vs.get_version(), node.vs.get_size())\n",
    "\n",
    "print(\"---------------------------\")\n",
    "print(\"Edges:\")\n",
    "for edge in graph.edges:\n",
    "    print(\"---------------------------\")\n",
    "    print(\"Edge:\", edge.oe.cell_func_name, edge.oe.duration)\n",
    "    print(\"sources\")\n",
    "    for node in edge.src.nodes:\n",
    "        print(\"   \", node.vs.get_name(), node.vs.get_version(), node.vs.get_size())\n",
    "    print(\"destinations\")\n",
    "    for node in edge.dst.nodes:\n",
    "        print(\"   \", node.vs.get_name(), node.vs.get_version(), node.vs.get_size())"
   ]
  },
  {
   "cell_type": "code",
   "execution_count": 13,
   "metadata": {
    "collapsed": false,
    "pycharm": {
     "name": "#%%\n"
    }
   },
   "outputs": [
    {
     "name": "stdout",
     "output_type": "stream",
     "text": [
      "minimum migration cost: 0.002728\n",
      "---------------------------\n",
      "Nodes to migrate:\n",
      "test_var 1 28\n",
      "knn 1 48\n",
      "---------------------------\n",
      "Nodes to recompute:\n",
      "datasets 1 48\n",
      "<elastic.core.notebook.variable_snapshot.EmptyObject object at 0x165377bb0>\n",
      "iris_y 1 48\n",
      "<elastic.core.notebook.variable_snapshot.EmptyObject object at 0x16536fa30>\n",
      "iris_X_test 1 48\n",
      "<elastic.core.notebook.variable_snapshot.EmptyObject object at 0x165377280>\n",
      "iris_y_test 1 48\n",
      "<elastic.core.notebook.variable_snapshot.EmptyObject object at 0x177a8ac10>\n",
      "indices 1 48\n",
      "<elastic.core.notebook.variable_snapshot.EmptyObject object at 0x177a8afd0>\n",
      "iris_X 1 48\n",
      "<elastic.core.notebook.variable_snapshot.EmptyObject object at 0x177a8afa0>\n",
      "iris_X_train 1 48\n",
      "<elastic.core.notebook.variable_snapshot.EmptyObject object at 0x177a8af70>\n",
      "iris_y_train 1 48\n",
      "<elastic.core.notebook.variable_snapshot.EmptyObject object at 0x177a8af40>\n",
      "np 1 48\n",
      "<elastic.core.notebook.variable_snapshot.EmptyObject object at 0x177a8af10>\n"
     ]
    }
   ],
   "source": [
    "# Use the optimizer to find nodes to migrate\n",
    "from elastic.algorithm.optimizer_greedy import OptimizerGreedy\n",
    "from elastic.algorithm.optimizer_exact import OptimizerExact\n",
    "from elastic.algorithm.baseline import MigrateAllBaseline\n",
    "from elastic.algorithm.baseline import RecomputeAllBaseline\n",
    "from elastic.algorithm.baseline import RandomBaseline\n",
    "\n",
    "opt = OptimizerExact(migration_speed_bps=100000)\n",
    "graph.trim_graph(opt)\n",
    "\n",
    "print(\"---------------------------\")\n",
    "print(\"Nodes to recompute:\")\n",
    "for node in graph.nodes_to_recompute:\n",
    "    print(node.vs.get_name(), node.vs.get_version(), node.vs.get_size())\n",
    "    print(node.vs)"
   ]
  },
  {
   "cell_type": "code",
   "execution_count": 14,
   "metadata": {
    "collapsed": false,
    "pycharm": {
     "name": "#%%\n"
    }
   },
   "outputs": [
    {
     "ename": "TypeError",
     "evalue": "cannot pickle 'int' object",
     "output_type": "error",
     "traceback": [
      "\u001B[0;31m---------------------------------------------------------------------------\u001B[0m",
      "\u001B[0;31mTypeError\u001B[0m                                 Traceback (most recent call last)",
      "Cell \u001B[0;32mIn [14], line 5\u001B[0m\n\u001B[1;32m      2\u001B[0m \u001B[38;5;28;01mfrom\u001B[39;00m \u001B[38;5;21;01melastic\u001B[39;00m\u001B[38;5;21;01m.\u001B[39;00m\u001B[38;5;21;01mcore\u001B[39;00m\u001B[38;5;21;01m.\u001B[39;00m\u001B[38;5;21;01mio\u001B[39;00m\u001B[38;5;21;01m.\u001B[39;00m\u001B[38;5;21;01mfilesystem_adapter\u001B[39;00m \u001B[38;5;28;01mimport\u001B[39;00m FilesystemAdapter\n\u001B[1;32m      3\u001B[0m \u001B[38;5;28;01mfrom\u001B[39;00m \u001B[38;5;21;01melastic\u001B[39;00m\u001B[38;5;21;01m.\u001B[39;00m\u001B[38;5;21;01mcore\u001B[39;00m\u001B[38;5;21;01m.\u001B[39;00m\u001B[38;5;21;01mio\u001B[39;00m\u001B[38;5;21;01m.\u001B[39;00m\u001B[38;5;21;01mmigrate\u001B[39;00m \u001B[38;5;28;01mimport\u001B[39;00m migrate\n\u001B[0;32m----> 5\u001B[0m \u001B[43mmigrate\u001B[49m\u001B[43m(\u001B[49m\u001B[43mgraph\u001B[49m\u001B[43m,\u001B[49m\u001B[43m \u001B[49m\u001B[43mFilesystemAdapter\u001B[49m\u001B[43m(\u001B[49m\u001B[43m)\u001B[49m\u001B[43m)\u001B[49m\n",
      "File \u001B[0;32m~/elastic_notebook2/elastic-notebook/elastic/core/io/migrate.py:32\u001B[0m, in \u001B[0;36mmigrate\u001B[0;34m(dependency_graph, adapter)\u001B[0m\n\u001B[1;32m     17\u001B[0m \u001B[38;5;28;01mdef\u001B[39;00m \u001B[38;5;21mmigrate\u001B[39m(dependency_graph: DependencyGraph,\n\u001B[1;32m     18\u001B[0m             adapter: Adapter):\n\u001B[1;32m     19\u001B[0m     \u001B[38;5;124;03m\"\"\"\u001B[39;00m\n\u001B[1;32m     20\u001B[0m \u001B[38;5;124;03m    (1) Iterate over all objects and operation events. For each\u001B[39;00m\n\u001B[1;32m     21\u001B[0m \u001B[38;5;124;03m        (1a) Pickle the object / oe\u001B[39;00m\n\u001B[0;32m   (...)\u001B[0m\n\u001B[1;32m     29\u001B[0m \u001B[38;5;124;03m            the location to write the dependency graph and metadata to\u001B[39;00m\n\u001B[1;32m     30\u001B[0m \u001B[38;5;124;03m    \"\"\"\u001B[39;00m\n\u001B[0;32m---> 32\u001B[0m     metadata_pickle \u001B[38;5;241m=\u001B[39m \u001B[43mdill\u001B[49m\u001B[38;5;241;43m.\u001B[39;49m\u001B[43mdumps\u001B[49m\u001B[43m(\u001B[49m\u001B[43mMigrationMetadata\u001B[49m\u001B[43m(\u001B[49m\u001B[43m)\u001B[49m\u001B[38;5;241;43m.\u001B[39;49m\u001B[43mwith_dependency_graph\u001B[49m\u001B[43m(\u001B[49m\u001B[43mdependency_graph\u001B[49m\u001B[43m)\u001B[49m\u001B[43m\\\u001B[49m\n\u001B[1;32m     33\u001B[0m \u001B[43m                                 \u001B[49m\u001B[38;5;241;43m.\u001B[39;49m\u001B[43mwith_variable_version\u001B[49m\u001B[43m(\u001B[49m\u001B[43mvariable_version\u001B[49m\u001B[43m)\u001B[49m\u001B[43m)\u001B[49m\n\u001B[1;32m     34\u001B[0m     adapter\u001B[38;5;241m.\u001B[39mwrite_all(Path(METADATA_PATH), metadata_pickle)\n",
      "File \u001B[0;32m~/elastic_notebook2/elastic-notebook/venv/lib/python3.8/site-packages/dill/_dill.py:304\u001B[0m, in \u001B[0;36mdumps\u001B[0;34m(obj, protocol, byref, fmode, recurse, **kwds)\u001B[0m\n\u001B[1;32m    280\u001B[0m \u001B[38;5;124;03m\"\"\"\u001B[39;00m\n\u001B[1;32m    281\u001B[0m \u001B[38;5;124;03mPickle an object to a string.\u001B[39;00m\n\u001B[1;32m    282\u001B[0m \n\u001B[0;32m   (...)\u001B[0m\n\u001B[1;32m    301\u001B[0m \u001B[38;5;124;03mDefault values for keyword arguments can be set in :mod:`dill.settings`.\u001B[39;00m\n\u001B[1;32m    302\u001B[0m \u001B[38;5;124;03m\"\"\"\u001B[39;00m\n\u001B[1;32m    303\u001B[0m file \u001B[38;5;241m=\u001B[39m StringIO()\n\u001B[0;32m--> 304\u001B[0m \u001B[43mdump\u001B[49m\u001B[43m(\u001B[49m\u001B[43mobj\u001B[49m\u001B[43m,\u001B[49m\u001B[43m \u001B[49m\u001B[43mfile\u001B[49m\u001B[43m,\u001B[49m\u001B[43m \u001B[49m\u001B[43mprotocol\u001B[49m\u001B[43m,\u001B[49m\u001B[43m \u001B[49m\u001B[43mbyref\u001B[49m\u001B[43m,\u001B[49m\u001B[43m \u001B[49m\u001B[43mfmode\u001B[49m\u001B[43m,\u001B[49m\u001B[43m \u001B[49m\u001B[43mrecurse\u001B[49m\u001B[43m,\u001B[49m\u001B[43m \u001B[49m\u001B[38;5;241;43m*\u001B[39;49m\u001B[38;5;241;43m*\u001B[39;49m\u001B[43mkwds\u001B[49m\u001B[43m)\u001B[49m\u001B[38;5;66;03m#, strictio)\u001B[39;00m\n\u001B[1;32m    305\u001B[0m \u001B[38;5;28;01mreturn\u001B[39;00m file\u001B[38;5;241m.\u001B[39mgetvalue()\n",
      "File \u001B[0;32m~/elastic_notebook2/elastic-notebook/venv/lib/python3.8/site-packages/dill/_dill.py:276\u001B[0m, in \u001B[0;36mdump\u001B[0;34m(obj, file, protocol, byref, fmode, recurse, **kwds)\u001B[0m\n\u001B[1;32m    274\u001B[0m _kwds \u001B[38;5;241m=\u001B[39m kwds\u001B[38;5;241m.\u001B[39mcopy()\n\u001B[1;32m    275\u001B[0m _kwds\u001B[38;5;241m.\u001B[39mupdate(\u001B[38;5;28mdict\u001B[39m(byref\u001B[38;5;241m=\u001B[39mbyref, fmode\u001B[38;5;241m=\u001B[39mfmode, recurse\u001B[38;5;241m=\u001B[39mrecurse))\n\u001B[0;32m--> 276\u001B[0m \u001B[43mPickler\u001B[49m\u001B[43m(\u001B[49m\u001B[43mfile\u001B[49m\u001B[43m,\u001B[49m\u001B[43m \u001B[49m\u001B[43mprotocol\u001B[49m\u001B[43m,\u001B[49m\u001B[43m \u001B[49m\u001B[38;5;241;43m*\u001B[39;49m\u001B[38;5;241;43m*\u001B[39;49m\u001B[43m_kwds\u001B[49m\u001B[43m)\u001B[49m\u001B[38;5;241;43m.\u001B[39;49m\u001B[43mdump\u001B[49m\u001B[43m(\u001B[49m\u001B[43mobj\u001B[49m\u001B[43m)\u001B[49m\n\u001B[1;32m    277\u001B[0m \u001B[38;5;28;01mreturn\u001B[39;00m\n",
      "File \u001B[0;32m~/elastic_notebook2/elastic-notebook/venv/lib/python3.8/site-packages/dill/_dill.py:498\u001B[0m, in \u001B[0;36mPickler.dump\u001B[0;34m(self, obj)\u001B[0m\n\u001B[1;32m    496\u001B[0m     \u001B[38;5;28;01mraise\u001B[39;00m PicklingError(msg)\n\u001B[1;32m    497\u001B[0m \u001B[38;5;28;01melse\u001B[39;00m:\n\u001B[0;32m--> 498\u001B[0m     \u001B[43mStockPickler\u001B[49m\u001B[38;5;241;43m.\u001B[39;49m\u001B[43mdump\u001B[49m\u001B[43m(\u001B[49m\u001B[38;5;28;43mself\u001B[39;49m\u001B[43m,\u001B[49m\u001B[43m \u001B[49m\u001B[43mobj\u001B[49m\u001B[43m)\u001B[49m\n\u001B[1;32m    499\u001B[0m stack\u001B[38;5;241m.\u001B[39mclear()  \u001B[38;5;66;03m# clear record of 'recursion-sensitive' pickled objects\u001B[39;00m\n\u001B[1;32m    500\u001B[0m \u001B[38;5;28;01mreturn\u001B[39;00m\n",
      "File \u001B[0;32m/Library/Developer/CommandLineTools/Library/Frameworks/Python3.framework/Versions/3.8/lib/python3.8/pickle.py:487\u001B[0m, in \u001B[0;36m_Pickler.dump\u001B[0;34m(self, obj)\u001B[0m\n\u001B[1;32m    485\u001B[0m \u001B[38;5;28;01mif\u001B[39;00m \u001B[38;5;28mself\u001B[39m\u001B[38;5;241m.\u001B[39mproto \u001B[38;5;241m>\u001B[39m\u001B[38;5;241m=\u001B[39m \u001B[38;5;241m4\u001B[39m:\n\u001B[1;32m    486\u001B[0m     \u001B[38;5;28mself\u001B[39m\u001B[38;5;241m.\u001B[39mframer\u001B[38;5;241m.\u001B[39mstart_framing()\n\u001B[0;32m--> 487\u001B[0m \u001B[38;5;28;43mself\u001B[39;49m\u001B[38;5;241;43m.\u001B[39;49m\u001B[43msave\u001B[49m\u001B[43m(\u001B[49m\u001B[43mobj\u001B[49m\u001B[43m)\u001B[49m\n\u001B[1;32m    488\u001B[0m \u001B[38;5;28mself\u001B[39m\u001B[38;5;241m.\u001B[39mwrite(STOP)\n\u001B[1;32m    489\u001B[0m \u001B[38;5;28mself\u001B[39m\u001B[38;5;241m.\u001B[39mframer\u001B[38;5;241m.\u001B[39mend_framing()\n",
      "File \u001B[0;32m/Library/Developer/CommandLineTools/Library/Frameworks/Python3.framework/Versions/3.8/lib/python3.8/pickle.py:603\u001B[0m, in \u001B[0;36m_Pickler.save\u001B[0;34m(self, obj, save_persistent_id)\u001B[0m\n\u001B[1;32m    599\u001B[0m     \u001B[38;5;28;01mraise\u001B[39;00m PicklingError(\u001B[38;5;124m\"\u001B[39m\u001B[38;5;124mTuple returned by \u001B[39m\u001B[38;5;132;01m%s\u001B[39;00m\u001B[38;5;124m must have \u001B[39m\u001B[38;5;124m\"\u001B[39m\n\u001B[1;32m    600\u001B[0m                         \u001B[38;5;124m\"\u001B[39m\u001B[38;5;124mtwo to six elements\u001B[39m\u001B[38;5;124m\"\u001B[39m \u001B[38;5;241m%\u001B[39m reduce)\n\u001B[1;32m    602\u001B[0m \u001B[38;5;66;03m# Save the reduce() output and finally memoize the object\u001B[39;00m\n\u001B[0;32m--> 603\u001B[0m \u001B[38;5;28;43mself\u001B[39;49m\u001B[38;5;241;43m.\u001B[39;49m\u001B[43msave_reduce\u001B[49m\u001B[43m(\u001B[49m\u001B[43mobj\u001B[49m\u001B[38;5;241;43m=\u001B[39;49m\u001B[43mobj\u001B[49m\u001B[43m,\u001B[49m\u001B[43m \u001B[49m\u001B[38;5;241;43m*\u001B[39;49m\u001B[43mrv\u001B[49m\u001B[43m)\u001B[49m\n",
      "File \u001B[0;32m/Library/Developer/CommandLineTools/Library/Frameworks/Python3.framework/Versions/3.8/lib/python3.8/pickle.py:717\u001B[0m, in \u001B[0;36m_Pickler.save_reduce\u001B[0;34m(self, func, args, state, listitems, dictitems, state_setter, obj)\u001B[0m\n\u001B[1;32m    715\u001B[0m \u001B[38;5;28;01mif\u001B[39;00m state \u001B[38;5;129;01mis\u001B[39;00m \u001B[38;5;129;01mnot\u001B[39;00m \u001B[38;5;28;01mNone\u001B[39;00m:\n\u001B[1;32m    716\u001B[0m     \u001B[38;5;28;01mif\u001B[39;00m state_setter \u001B[38;5;129;01mis\u001B[39;00m \u001B[38;5;28;01mNone\u001B[39;00m:\n\u001B[0;32m--> 717\u001B[0m         \u001B[43msave\u001B[49m\u001B[43m(\u001B[49m\u001B[43mstate\u001B[49m\u001B[43m)\u001B[49m\n\u001B[1;32m    718\u001B[0m         write(BUILD)\n\u001B[1;32m    719\u001B[0m     \u001B[38;5;28;01melse\u001B[39;00m:\n\u001B[1;32m    720\u001B[0m         \u001B[38;5;66;03m# If a state_setter is specified, call it instead of load_build\u001B[39;00m\n\u001B[1;32m    721\u001B[0m         \u001B[38;5;66;03m# to update obj's with its previous state.\u001B[39;00m\n\u001B[1;32m    722\u001B[0m         \u001B[38;5;66;03m# First, push state_setter and its tuple of expected arguments\u001B[39;00m\n\u001B[1;32m    723\u001B[0m         \u001B[38;5;66;03m# (obj, state) onto the stack.\u001B[39;00m\n",
      "File \u001B[0;32m/Library/Developer/CommandLineTools/Library/Frameworks/Python3.framework/Versions/3.8/lib/python3.8/pickle.py:560\u001B[0m, in \u001B[0;36m_Pickler.save\u001B[0;34m(self, obj, save_persistent_id)\u001B[0m\n\u001B[1;32m    558\u001B[0m f \u001B[38;5;241m=\u001B[39m \u001B[38;5;28mself\u001B[39m\u001B[38;5;241m.\u001B[39mdispatch\u001B[38;5;241m.\u001B[39mget(t)\n\u001B[1;32m    559\u001B[0m \u001B[38;5;28;01mif\u001B[39;00m f \u001B[38;5;129;01mis\u001B[39;00m \u001B[38;5;129;01mnot\u001B[39;00m \u001B[38;5;28;01mNone\u001B[39;00m:\n\u001B[0;32m--> 560\u001B[0m     \u001B[43mf\u001B[49m\u001B[43m(\u001B[49m\u001B[38;5;28;43mself\u001B[39;49m\u001B[43m,\u001B[49m\u001B[43m \u001B[49m\u001B[43mobj\u001B[49m\u001B[43m)\u001B[49m  \u001B[38;5;66;03m# Call unbound method with explicit self\u001B[39;00m\n\u001B[1;32m    561\u001B[0m     \u001B[38;5;28;01mreturn\u001B[39;00m\n\u001B[1;32m    563\u001B[0m \u001B[38;5;66;03m# Check private dispatch table if any, or else\u001B[39;00m\n\u001B[1;32m    564\u001B[0m \u001B[38;5;66;03m# copyreg.dispatch_table\u001B[39;00m\n",
      "File \u001B[0;32m~/elastic_notebook2/elastic-notebook/venv/lib/python3.8/site-packages/dill/_dill.py:990\u001B[0m, in \u001B[0;36msave_module_dict\u001B[0;34m(pickler, obj)\u001B[0m\n\u001B[1;32m    987\u001B[0m     \u001B[38;5;28;01mif\u001B[39;00m is_dill(pickler, child\u001B[38;5;241m=\u001B[39m\u001B[38;5;28;01mFalse\u001B[39;00m) \u001B[38;5;129;01mand\u001B[39;00m pickler\u001B[38;5;241m.\u001B[39m_session:\n\u001B[1;32m    988\u001B[0m         \u001B[38;5;66;03m# we only care about session the first pass thru\u001B[39;00m\n\u001B[1;32m    989\u001B[0m         pickler\u001B[38;5;241m.\u001B[39m_session \u001B[38;5;241m=\u001B[39m \u001B[38;5;28;01mFalse\u001B[39;00m\n\u001B[0;32m--> 990\u001B[0m     \u001B[43mStockPickler\u001B[49m\u001B[38;5;241;43m.\u001B[39;49m\u001B[43msave_dict\u001B[49m\u001B[43m(\u001B[49m\u001B[43mpickler\u001B[49m\u001B[43m,\u001B[49m\u001B[43m \u001B[49m\u001B[43mobj\u001B[49m\u001B[43m)\u001B[49m\n\u001B[1;32m    991\u001B[0m     log\u001B[38;5;241m.\u001B[39minfo(\u001B[38;5;124m\"\u001B[39m\u001B[38;5;124m# D2\u001B[39m\u001B[38;5;124m\"\u001B[39m)\n\u001B[1;32m    992\u001B[0m \u001B[38;5;28;01mreturn\u001B[39;00m\n",
      "File \u001B[0;32m/Library/Developer/CommandLineTools/Library/Frameworks/Python3.framework/Versions/3.8/lib/python3.8/pickle.py:971\u001B[0m, in \u001B[0;36m_Pickler.save_dict\u001B[0;34m(self, obj)\u001B[0m\n\u001B[1;32m    968\u001B[0m     \u001B[38;5;28mself\u001B[39m\u001B[38;5;241m.\u001B[39mwrite(MARK \u001B[38;5;241m+\u001B[39m DICT)\n\u001B[1;32m    970\u001B[0m \u001B[38;5;28mself\u001B[39m\u001B[38;5;241m.\u001B[39mmemoize(obj)\n\u001B[0;32m--> 971\u001B[0m \u001B[38;5;28;43mself\u001B[39;49m\u001B[38;5;241;43m.\u001B[39;49m\u001B[43m_batch_setitems\u001B[49m\u001B[43m(\u001B[49m\u001B[43mobj\u001B[49m\u001B[38;5;241;43m.\u001B[39;49m\u001B[43mitems\u001B[49m\u001B[43m(\u001B[49m\u001B[43m)\u001B[49m\u001B[43m)\u001B[49m\n",
      "File \u001B[0;32m/Library/Developer/CommandLineTools/Library/Frameworks/Python3.framework/Versions/3.8/lib/python3.8/pickle.py:997\u001B[0m, in \u001B[0;36m_Pickler._batch_setitems\u001B[0;34m(self, items)\u001B[0m\n\u001B[1;32m    995\u001B[0m     \u001B[38;5;28;01mfor\u001B[39;00m k, v \u001B[38;5;129;01min\u001B[39;00m tmp:\n\u001B[1;32m    996\u001B[0m         save(k)\n\u001B[0;32m--> 997\u001B[0m         \u001B[43msave\u001B[49m\u001B[43m(\u001B[49m\u001B[43mv\u001B[49m\u001B[43m)\u001B[49m\n\u001B[1;32m    998\u001B[0m     write(SETITEMS)\n\u001B[1;32m    999\u001B[0m \u001B[38;5;28;01melif\u001B[39;00m n:\n",
      "File \u001B[0;32m/Library/Developer/CommandLineTools/Library/Frameworks/Python3.framework/Versions/3.8/lib/python3.8/pickle.py:603\u001B[0m, in \u001B[0;36m_Pickler.save\u001B[0;34m(self, obj, save_persistent_id)\u001B[0m\n\u001B[1;32m    599\u001B[0m     \u001B[38;5;28;01mraise\u001B[39;00m PicklingError(\u001B[38;5;124m\"\u001B[39m\u001B[38;5;124mTuple returned by \u001B[39m\u001B[38;5;132;01m%s\u001B[39;00m\u001B[38;5;124m must have \u001B[39m\u001B[38;5;124m\"\u001B[39m\n\u001B[1;32m    600\u001B[0m                         \u001B[38;5;124m\"\u001B[39m\u001B[38;5;124mtwo to six elements\u001B[39m\u001B[38;5;124m\"\u001B[39m \u001B[38;5;241m%\u001B[39m reduce)\n\u001B[1;32m    602\u001B[0m \u001B[38;5;66;03m# Save the reduce() output and finally memoize the object\u001B[39;00m\n\u001B[0;32m--> 603\u001B[0m \u001B[38;5;28;43mself\u001B[39;49m\u001B[38;5;241;43m.\u001B[39;49m\u001B[43msave_reduce\u001B[49m\u001B[43m(\u001B[49m\u001B[43mobj\u001B[49m\u001B[38;5;241;43m=\u001B[39;49m\u001B[43mobj\u001B[49m\u001B[43m,\u001B[49m\u001B[43m \u001B[49m\u001B[38;5;241;43m*\u001B[39;49m\u001B[43mrv\u001B[49m\u001B[43m)\u001B[49m\n",
      "File \u001B[0;32m/Library/Developer/CommandLineTools/Library/Frameworks/Python3.framework/Versions/3.8/lib/python3.8/pickle.py:717\u001B[0m, in \u001B[0;36m_Pickler.save_reduce\u001B[0;34m(self, func, args, state, listitems, dictitems, state_setter, obj)\u001B[0m\n\u001B[1;32m    715\u001B[0m \u001B[38;5;28;01mif\u001B[39;00m state \u001B[38;5;129;01mis\u001B[39;00m \u001B[38;5;129;01mnot\u001B[39;00m \u001B[38;5;28;01mNone\u001B[39;00m:\n\u001B[1;32m    716\u001B[0m     \u001B[38;5;28;01mif\u001B[39;00m state_setter \u001B[38;5;129;01mis\u001B[39;00m \u001B[38;5;28;01mNone\u001B[39;00m:\n\u001B[0;32m--> 717\u001B[0m         \u001B[43msave\u001B[49m\u001B[43m(\u001B[49m\u001B[43mstate\u001B[49m\u001B[43m)\u001B[49m\n\u001B[1;32m    718\u001B[0m         write(BUILD)\n\u001B[1;32m    719\u001B[0m     \u001B[38;5;28;01melse\u001B[39;00m:\n\u001B[1;32m    720\u001B[0m         \u001B[38;5;66;03m# If a state_setter is specified, call it instead of load_build\u001B[39;00m\n\u001B[1;32m    721\u001B[0m         \u001B[38;5;66;03m# to update obj's with its previous state.\u001B[39;00m\n\u001B[1;32m    722\u001B[0m         \u001B[38;5;66;03m# First, push state_setter and its tuple of expected arguments\u001B[39;00m\n\u001B[1;32m    723\u001B[0m         \u001B[38;5;66;03m# (obj, state) onto the stack.\u001B[39;00m\n",
      "File \u001B[0;32m/Library/Developer/CommandLineTools/Library/Frameworks/Python3.framework/Versions/3.8/lib/python3.8/pickle.py:560\u001B[0m, in \u001B[0;36m_Pickler.save\u001B[0;34m(self, obj, save_persistent_id)\u001B[0m\n\u001B[1;32m    558\u001B[0m f \u001B[38;5;241m=\u001B[39m \u001B[38;5;28mself\u001B[39m\u001B[38;5;241m.\u001B[39mdispatch\u001B[38;5;241m.\u001B[39mget(t)\n\u001B[1;32m    559\u001B[0m \u001B[38;5;28;01mif\u001B[39;00m f \u001B[38;5;129;01mis\u001B[39;00m \u001B[38;5;129;01mnot\u001B[39;00m \u001B[38;5;28;01mNone\u001B[39;00m:\n\u001B[0;32m--> 560\u001B[0m     \u001B[43mf\u001B[49m\u001B[43m(\u001B[49m\u001B[38;5;28;43mself\u001B[39;49m\u001B[43m,\u001B[49m\u001B[43m \u001B[49m\u001B[43mobj\u001B[49m\u001B[43m)\u001B[49m  \u001B[38;5;66;03m# Call unbound method with explicit self\u001B[39;00m\n\u001B[1;32m    561\u001B[0m     \u001B[38;5;28;01mreturn\u001B[39;00m\n\u001B[1;32m    563\u001B[0m \u001B[38;5;66;03m# Check private dispatch table if any, or else\u001B[39;00m\n\u001B[1;32m    564\u001B[0m \u001B[38;5;66;03m# copyreg.dispatch_table\u001B[39;00m\n",
      "File \u001B[0;32m~/elastic_notebook2/elastic-notebook/venv/lib/python3.8/site-packages/dill/_dill.py:990\u001B[0m, in \u001B[0;36msave_module_dict\u001B[0;34m(pickler, obj)\u001B[0m\n\u001B[1;32m    987\u001B[0m     \u001B[38;5;28;01mif\u001B[39;00m is_dill(pickler, child\u001B[38;5;241m=\u001B[39m\u001B[38;5;28;01mFalse\u001B[39;00m) \u001B[38;5;129;01mand\u001B[39;00m pickler\u001B[38;5;241m.\u001B[39m_session:\n\u001B[1;32m    988\u001B[0m         \u001B[38;5;66;03m# we only care about session the first pass thru\u001B[39;00m\n\u001B[1;32m    989\u001B[0m         pickler\u001B[38;5;241m.\u001B[39m_session \u001B[38;5;241m=\u001B[39m \u001B[38;5;28;01mFalse\u001B[39;00m\n\u001B[0;32m--> 990\u001B[0m     \u001B[43mStockPickler\u001B[49m\u001B[38;5;241;43m.\u001B[39;49m\u001B[43msave_dict\u001B[49m\u001B[43m(\u001B[49m\u001B[43mpickler\u001B[49m\u001B[43m,\u001B[49m\u001B[43m \u001B[49m\u001B[43mobj\u001B[49m\u001B[43m)\u001B[49m\n\u001B[1;32m    991\u001B[0m     log\u001B[38;5;241m.\u001B[39minfo(\u001B[38;5;124m\"\u001B[39m\u001B[38;5;124m# D2\u001B[39m\u001B[38;5;124m\"\u001B[39m)\n\u001B[1;32m    992\u001B[0m \u001B[38;5;28;01mreturn\u001B[39;00m\n",
      "File \u001B[0;32m/Library/Developer/CommandLineTools/Library/Frameworks/Python3.framework/Versions/3.8/lib/python3.8/pickle.py:971\u001B[0m, in \u001B[0;36m_Pickler.save_dict\u001B[0;34m(self, obj)\u001B[0m\n\u001B[1;32m    968\u001B[0m     \u001B[38;5;28mself\u001B[39m\u001B[38;5;241m.\u001B[39mwrite(MARK \u001B[38;5;241m+\u001B[39m DICT)\n\u001B[1;32m    970\u001B[0m \u001B[38;5;28mself\u001B[39m\u001B[38;5;241m.\u001B[39mmemoize(obj)\n\u001B[0;32m--> 971\u001B[0m \u001B[38;5;28;43mself\u001B[39;49m\u001B[38;5;241;43m.\u001B[39;49m\u001B[43m_batch_setitems\u001B[49m\u001B[43m(\u001B[49m\u001B[43mobj\u001B[49m\u001B[38;5;241;43m.\u001B[39;49m\u001B[43mitems\u001B[49m\u001B[43m(\u001B[49m\u001B[43m)\u001B[49m\u001B[43m)\u001B[49m\n",
      "File \u001B[0;32m/Library/Developer/CommandLineTools/Library/Frameworks/Python3.framework/Versions/3.8/lib/python3.8/pickle.py:997\u001B[0m, in \u001B[0;36m_Pickler._batch_setitems\u001B[0;34m(self, items)\u001B[0m\n\u001B[1;32m    995\u001B[0m     \u001B[38;5;28;01mfor\u001B[39;00m k, v \u001B[38;5;129;01min\u001B[39;00m tmp:\n\u001B[1;32m    996\u001B[0m         save(k)\n\u001B[0;32m--> 997\u001B[0m         \u001B[43msave\u001B[49m\u001B[43m(\u001B[49m\u001B[43mv\u001B[49m\u001B[43m)\u001B[49m\n\u001B[1;32m    998\u001B[0m     write(SETITEMS)\n\u001B[1;32m    999\u001B[0m \u001B[38;5;28;01melif\u001B[39;00m n:\n",
      "    \u001B[0;31m[... skipping similar frames: _Pickler.save at line 560 (1 times)]\u001B[0m\n",
      "File \u001B[0;32m/Library/Developer/CommandLineTools/Library/Frameworks/Python3.framework/Versions/3.8/lib/python3.8/pickle.py:931\u001B[0m, in \u001B[0;36m_Pickler.save_list\u001B[0;34m(self, obj)\u001B[0m\n\u001B[1;32m    928\u001B[0m     \u001B[38;5;28mself\u001B[39m\u001B[38;5;241m.\u001B[39mwrite(MARK \u001B[38;5;241m+\u001B[39m LIST)\n\u001B[1;32m    930\u001B[0m \u001B[38;5;28mself\u001B[39m\u001B[38;5;241m.\u001B[39mmemoize(obj)\n\u001B[0;32m--> 931\u001B[0m \u001B[38;5;28;43mself\u001B[39;49m\u001B[38;5;241;43m.\u001B[39;49m\u001B[43m_batch_appends\u001B[49m\u001B[43m(\u001B[49m\u001B[43mobj\u001B[49m\u001B[43m)\u001B[49m\n",
      "File \u001B[0;32m/Library/Developer/CommandLineTools/Library/Frameworks/Python3.framework/Versions/3.8/lib/python3.8/pickle.py:955\u001B[0m, in \u001B[0;36m_Pickler._batch_appends\u001B[0;34m(self, items)\u001B[0m\n\u001B[1;32m    953\u001B[0m     write(MARK)\n\u001B[1;32m    954\u001B[0m     \u001B[38;5;28;01mfor\u001B[39;00m x \u001B[38;5;129;01min\u001B[39;00m tmp:\n\u001B[0;32m--> 955\u001B[0m         \u001B[43msave\u001B[49m\u001B[43m(\u001B[49m\u001B[43mx\u001B[49m\u001B[43m)\u001B[49m\n\u001B[1;32m    956\u001B[0m     write(APPENDS)\n\u001B[1;32m    957\u001B[0m \u001B[38;5;28;01melif\u001B[39;00m n:\n",
      "    \u001B[0;31m[... skipping similar frames: _Pickler.save at line 560 (3 times), _Pickler._batch_setitems at line 997 (2 times), _Pickler.save at line 603 (2 times), _Pickler.save_dict at line 971 (2 times), save_module_dict at line 990 (2 times), _Pickler.save_reduce at line 717 (2 times)]\u001B[0m\n",
      "File \u001B[0;32m/Library/Developer/CommandLineTools/Library/Frameworks/Python3.framework/Versions/3.8/lib/python3.8/pickle.py:931\u001B[0m, in \u001B[0;36m_Pickler.save_list\u001B[0;34m(self, obj)\u001B[0m\n\u001B[1;32m    928\u001B[0m     \u001B[38;5;28mself\u001B[39m\u001B[38;5;241m.\u001B[39mwrite(MARK \u001B[38;5;241m+\u001B[39m LIST)\n\u001B[1;32m    930\u001B[0m \u001B[38;5;28mself\u001B[39m\u001B[38;5;241m.\u001B[39mmemoize(obj)\n\u001B[0;32m--> 931\u001B[0m \u001B[38;5;28;43mself\u001B[39;49m\u001B[38;5;241;43m.\u001B[39;49m\u001B[43m_batch_appends\u001B[49m\u001B[43m(\u001B[49m\u001B[43mobj\u001B[49m\u001B[43m)\u001B[49m\n",
      "File \u001B[0;32m/Library/Developer/CommandLineTools/Library/Frameworks/Python3.framework/Versions/3.8/lib/python3.8/pickle.py:955\u001B[0m, in \u001B[0;36m_Pickler._batch_appends\u001B[0;34m(self, items)\u001B[0m\n\u001B[1;32m    953\u001B[0m     write(MARK)\n\u001B[1;32m    954\u001B[0m     \u001B[38;5;28;01mfor\u001B[39;00m x \u001B[38;5;129;01min\u001B[39;00m tmp:\n\u001B[0;32m--> 955\u001B[0m         \u001B[43msave\u001B[49m\u001B[43m(\u001B[49m\u001B[43mx\u001B[49m\u001B[43m)\u001B[49m\n\u001B[1;32m    956\u001B[0m     write(APPENDS)\n\u001B[1;32m    957\u001B[0m \u001B[38;5;28;01melif\u001B[39;00m n:\n",
      "File \u001B[0;32m/Library/Developer/CommandLineTools/Library/Frameworks/Python3.framework/Versions/3.8/lib/python3.8/pickle.py:603\u001B[0m, in \u001B[0;36m_Pickler.save\u001B[0;34m(self, obj, save_persistent_id)\u001B[0m\n\u001B[1;32m    599\u001B[0m     \u001B[38;5;28;01mraise\u001B[39;00m PicklingError(\u001B[38;5;124m\"\u001B[39m\u001B[38;5;124mTuple returned by \u001B[39m\u001B[38;5;132;01m%s\u001B[39;00m\u001B[38;5;124m must have \u001B[39m\u001B[38;5;124m\"\u001B[39m\n\u001B[1;32m    600\u001B[0m                         \u001B[38;5;124m\"\u001B[39m\u001B[38;5;124mtwo to six elements\u001B[39m\u001B[38;5;124m\"\u001B[39m \u001B[38;5;241m%\u001B[39m reduce)\n\u001B[1;32m    602\u001B[0m \u001B[38;5;66;03m# Save the reduce() output and finally memoize the object\u001B[39;00m\n\u001B[0;32m--> 603\u001B[0m \u001B[38;5;28;43mself\u001B[39;49m\u001B[38;5;241;43m.\u001B[39;49m\u001B[43msave_reduce\u001B[49m\u001B[43m(\u001B[49m\u001B[43mobj\u001B[49m\u001B[38;5;241;43m=\u001B[39;49m\u001B[43mobj\u001B[49m\u001B[43m,\u001B[49m\u001B[43m \u001B[49m\u001B[38;5;241;43m*\u001B[39;49m\u001B[43mrv\u001B[49m\u001B[43m)\u001B[49m\n",
      "File \u001B[0;32m/Library/Developer/CommandLineTools/Library/Frameworks/Python3.framework/Versions/3.8/lib/python3.8/pickle.py:717\u001B[0m, in \u001B[0;36m_Pickler.save_reduce\u001B[0;34m(self, func, args, state, listitems, dictitems, state_setter, obj)\u001B[0m\n\u001B[1;32m    715\u001B[0m \u001B[38;5;28;01mif\u001B[39;00m state \u001B[38;5;129;01mis\u001B[39;00m \u001B[38;5;129;01mnot\u001B[39;00m \u001B[38;5;28;01mNone\u001B[39;00m:\n\u001B[1;32m    716\u001B[0m     \u001B[38;5;28;01mif\u001B[39;00m state_setter \u001B[38;5;129;01mis\u001B[39;00m \u001B[38;5;28;01mNone\u001B[39;00m:\n\u001B[0;32m--> 717\u001B[0m         \u001B[43msave\u001B[49m\u001B[43m(\u001B[49m\u001B[43mstate\u001B[49m\u001B[43m)\u001B[49m\n\u001B[1;32m    718\u001B[0m         write(BUILD)\n\u001B[1;32m    719\u001B[0m     \u001B[38;5;28;01melse\u001B[39;00m:\n\u001B[1;32m    720\u001B[0m         \u001B[38;5;66;03m# If a state_setter is specified, call it instead of load_build\u001B[39;00m\n\u001B[1;32m    721\u001B[0m         \u001B[38;5;66;03m# to update obj's with its previous state.\u001B[39;00m\n\u001B[1;32m    722\u001B[0m         \u001B[38;5;66;03m# First, push state_setter and its tuple of expected arguments\u001B[39;00m\n\u001B[1;32m    723\u001B[0m         \u001B[38;5;66;03m# (obj, state) onto the stack.\u001B[39;00m\n",
      "    \u001B[0;31m[... skipping similar frames: _Pickler.save at line 560 (1 times)]\u001B[0m\n",
      "File \u001B[0;32m~/elastic_notebook2/elastic-notebook/venv/lib/python3.8/site-packages/dill/_dill.py:990\u001B[0m, in \u001B[0;36msave_module_dict\u001B[0;34m(pickler, obj)\u001B[0m\n\u001B[1;32m    987\u001B[0m     \u001B[38;5;28;01mif\u001B[39;00m is_dill(pickler, child\u001B[38;5;241m=\u001B[39m\u001B[38;5;28;01mFalse\u001B[39;00m) \u001B[38;5;129;01mand\u001B[39;00m pickler\u001B[38;5;241m.\u001B[39m_session:\n\u001B[1;32m    988\u001B[0m         \u001B[38;5;66;03m# we only care about session the first pass thru\u001B[39;00m\n\u001B[1;32m    989\u001B[0m         pickler\u001B[38;5;241m.\u001B[39m_session \u001B[38;5;241m=\u001B[39m \u001B[38;5;28;01mFalse\u001B[39;00m\n\u001B[0;32m--> 990\u001B[0m     \u001B[43mStockPickler\u001B[49m\u001B[38;5;241;43m.\u001B[39;49m\u001B[43msave_dict\u001B[49m\u001B[43m(\u001B[49m\u001B[43mpickler\u001B[49m\u001B[43m,\u001B[49m\u001B[43m \u001B[49m\u001B[43mobj\u001B[49m\u001B[43m)\u001B[49m\n\u001B[1;32m    991\u001B[0m     log\u001B[38;5;241m.\u001B[39minfo(\u001B[38;5;124m\"\u001B[39m\u001B[38;5;124m# D2\u001B[39m\u001B[38;5;124m\"\u001B[39m)\n\u001B[1;32m    992\u001B[0m \u001B[38;5;28;01mreturn\u001B[39;00m\n",
      "File \u001B[0;32m/Library/Developer/CommandLineTools/Library/Frameworks/Python3.framework/Versions/3.8/lib/python3.8/pickle.py:971\u001B[0m, in \u001B[0;36m_Pickler.save_dict\u001B[0;34m(self, obj)\u001B[0m\n\u001B[1;32m    968\u001B[0m     \u001B[38;5;28mself\u001B[39m\u001B[38;5;241m.\u001B[39mwrite(MARK \u001B[38;5;241m+\u001B[39m DICT)\n\u001B[1;32m    970\u001B[0m \u001B[38;5;28mself\u001B[39m\u001B[38;5;241m.\u001B[39mmemoize(obj)\n\u001B[0;32m--> 971\u001B[0m \u001B[38;5;28;43mself\u001B[39;49m\u001B[38;5;241;43m.\u001B[39;49m\u001B[43m_batch_setitems\u001B[49m\u001B[43m(\u001B[49m\u001B[43mobj\u001B[49m\u001B[38;5;241;43m.\u001B[39;49m\u001B[43mitems\u001B[49m\u001B[43m(\u001B[49m\u001B[43m)\u001B[49m\u001B[43m)\u001B[49m\n",
      "File \u001B[0;32m/Library/Developer/CommandLineTools/Library/Frameworks/Python3.framework/Versions/3.8/lib/python3.8/pickle.py:997\u001B[0m, in \u001B[0;36m_Pickler._batch_setitems\u001B[0;34m(self, items)\u001B[0m\n\u001B[1;32m    995\u001B[0m     \u001B[38;5;28;01mfor\u001B[39;00m k, v \u001B[38;5;129;01min\u001B[39;00m tmp:\n\u001B[1;32m    996\u001B[0m         save(k)\n\u001B[0;32m--> 997\u001B[0m         \u001B[43msave\u001B[49m\u001B[43m(\u001B[49m\u001B[43mv\u001B[49m\u001B[43m)\u001B[49m\n\u001B[1;32m    998\u001B[0m     write(SETITEMS)\n\u001B[1;32m    999\u001B[0m \u001B[38;5;28;01melif\u001B[39;00m n:\n",
      "File \u001B[0;32m/Library/Developer/CommandLineTools/Library/Frameworks/Python3.framework/Versions/3.8/lib/python3.8/pickle.py:560\u001B[0m, in \u001B[0;36m_Pickler.save\u001B[0;34m(self, obj, save_persistent_id)\u001B[0m\n\u001B[1;32m    558\u001B[0m f \u001B[38;5;241m=\u001B[39m \u001B[38;5;28mself\u001B[39m\u001B[38;5;241m.\u001B[39mdispatch\u001B[38;5;241m.\u001B[39mget(t)\n\u001B[1;32m    559\u001B[0m \u001B[38;5;28;01mif\u001B[39;00m f \u001B[38;5;129;01mis\u001B[39;00m \u001B[38;5;129;01mnot\u001B[39;00m \u001B[38;5;28;01mNone\u001B[39;00m:\n\u001B[0;32m--> 560\u001B[0m     \u001B[43mf\u001B[49m\u001B[43m(\u001B[49m\u001B[38;5;28;43mself\u001B[39;49m\u001B[43m,\u001B[49m\u001B[43m \u001B[49m\u001B[43mobj\u001B[49m\u001B[43m)\u001B[49m  \u001B[38;5;66;03m# Call unbound method with explicit self\u001B[39;00m\n\u001B[1;32m    561\u001B[0m     \u001B[38;5;28;01mreturn\u001B[39;00m\n\u001B[1;32m    563\u001B[0m \u001B[38;5;66;03m# Check private dispatch table if any, or else\u001B[39;00m\n\u001B[1;32m    564\u001B[0m \u001B[38;5;66;03m# copyreg.dispatch_table\u001B[39;00m\n",
      "File \u001B[0;32m/Library/Developer/CommandLineTools/Library/Frameworks/Python3.framework/Versions/3.8/lib/python3.8/pickle.py:931\u001B[0m, in \u001B[0;36m_Pickler.save_list\u001B[0;34m(self, obj)\u001B[0m\n\u001B[1;32m    928\u001B[0m     \u001B[38;5;28mself\u001B[39m\u001B[38;5;241m.\u001B[39mwrite(MARK \u001B[38;5;241m+\u001B[39m LIST)\n\u001B[1;32m    930\u001B[0m \u001B[38;5;28mself\u001B[39m\u001B[38;5;241m.\u001B[39mmemoize(obj)\n\u001B[0;32m--> 931\u001B[0m \u001B[38;5;28;43mself\u001B[39;49m\u001B[38;5;241;43m.\u001B[39;49m\u001B[43m_batch_appends\u001B[49m\u001B[43m(\u001B[49m\u001B[43mobj\u001B[49m\u001B[43m)\u001B[49m\n",
      "File \u001B[0;32m/Library/Developer/CommandLineTools/Library/Frameworks/Python3.framework/Versions/3.8/lib/python3.8/pickle.py:958\u001B[0m, in \u001B[0;36m_Pickler._batch_appends\u001B[0;34m(self, items)\u001B[0m\n\u001B[1;32m    956\u001B[0m     write(APPENDS)\n\u001B[1;32m    957\u001B[0m \u001B[38;5;28;01melif\u001B[39;00m n:\n\u001B[0;32m--> 958\u001B[0m     \u001B[43msave\u001B[49m\u001B[43m(\u001B[49m\u001B[43mtmp\u001B[49m\u001B[43m[\u001B[49m\u001B[38;5;241;43m0\u001B[39;49m\u001B[43m]\u001B[49m\u001B[43m)\u001B[49m\n\u001B[1;32m    959\u001B[0m     write(APPEND)\n\u001B[1;32m    960\u001B[0m \u001B[38;5;66;03m# else tmp is empty, and we're done\u001B[39;00m\n",
      "File \u001B[0;32m/Library/Developer/CommandLineTools/Library/Frameworks/Python3.framework/Versions/3.8/lib/python3.8/pickle.py:603\u001B[0m, in \u001B[0;36m_Pickler.save\u001B[0;34m(self, obj, save_persistent_id)\u001B[0m\n\u001B[1;32m    599\u001B[0m     \u001B[38;5;28;01mraise\u001B[39;00m PicklingError(\u001B[38;5;124m\"\u001B[39m\u001B[38;5;124mTuple returned by \u001B[39m\u001B[38;5;132;01m%s\u001B[39;00m\u001B[38;5;124m must have \u001B[39m\u001B[38;5;124m\"\u001B[39m\n\u001B[1;32m    600\u001B[0m                         \u001B[38;5;124m\"\u001B[39m\u001B[38;5;124mtwo to six elements\u001B[39m\u001B[38;5;124m\"\u001B[39m \u001B[38;5;241m%\u001B[39m reduce)\n\u001B[1;32m    602\u001B[0m \u001B[38;5;66;03m# Save the reduce() output and finally memoize the object\u001B[39;00m\n\u001B[0;32m--> 603\u001B[0m \u001B[38;5;28;43mself\u001B[39;49m\u001B[38;5;241;43m.\u001B[39;49m\u001B[43msave_reduce\u001B[49m\u001B[43m(\u001B[49m\u001B[43mobj\u001B[49m\u001B[38;5;241;43m=\u001B[39;49m\u001B[43mobj\u001B[49m\u001B[43m,\u001B[49m\u001B[43m \u001B[49m\u001B[38;5;241;43m*\u001B[39;49m\u001B[43mrv\u001B[49m\u001B[43m)\u001B[49m\n",
      "File \u001B[0;32m/Library/Developer/CommandLineTools/Library/Frameworks/Python3.framework/Versions/3.8/lib/python3.8/pickle.py:717\u001B[0m, in \u001B[0;36m_Pickler.save_reduce\u001B[0;34m(self, func, args, state, listitems, dictitems, state_setter, obj)\u001B[0m\n\u001B[1;32m    715\u001B[0m \u001B[38;5;28;01mif\u001B[39;00m state \u001B[38;5;129;01mis\u001B[39;00m \u001B[38;5;129;01mnot\u001B[39;00m \u001B[38;5;28;01mNone\u001B[39;00m:\n\u001B[1;32m    716\u001B[0m     \u001B[38;5;28;01mif\u001B[39;00m state_setter \u001B[38;5;129;01mis\u001B[39;00m \u001B[38;5;28;01mNone\u001B[39;00m:\n\u001B[0;32m--> 717\u001B[0m         \u001B[43msave\u001B[49m\u001B[43m(\u001B[49m\u001B[43mstate\u001B[49m\u001B[43m)\u001B[49m\n\u001B[1;32m    718\u001B[0m         write(BUILD)\n\u001B[1;32m    719\u001B[0m     \u001B[38;5;28;01melse\u001B[39;00m:\n\u001B[1;32m    720\u001B[0m         \u001B[38;5;66;03m# If a state_setter is specified, call it instead of load_build\u001B[39;00m\n\u001B[1;32m    721\u001B[0m         \u001B[38;5;66;03m# to update obj's with its previous state.\u001B[39;00m\n\u001B[1;32m    722\u001B[0m         \u001B[38;5;66;03m# First, push state_setter and its tuple of expected arguments\u001B[39;00m\n\u001B[1;32m    723\u001B[0m         \u001B[38;5;66;03m# (obj, state) onto the stack.\u001B[39;00m\n",
      "File \u001B[0;32m/Library/Developer/CommandLineTools/Library/Frameworks/Python3.framework/Versions/3.8/lib/python3.8/pickle.py:560\u001B[0m, in \u001B[0;36m_Pickler.save\u001B[0;34m(self, obj, save_persistent_id)\u001B[0m\n\u001B[1;32m    558\u001B[0m f \u001B[38;5;241m=\u001B[39m \u001B[38;5;28mself\u001B[39m\u001B[38;5;241m.\u001B[39mdispatch\u001B[38;5;241m.\u001B[39mget(t)\n\u001B[1;32m    559\u001B[0m \u001B[38;5;28;01mif\u001B[39;00m f \u001B[38;5;129;01mis\u001B[39;00m \u001B[38;5;129;01mnot\u001B[39;00m \u001B[38;5;28;01mNone\u001B[39;00m:\n\u001B[0;32m--> 560\u001B[0m     \u001B[43mf\u001B[49m\u001B[43m(\u001B[49m\u001B[38;5;28;43mself\u001B[39;49m\u001B[43m,\u001B[49m\u001B[43m \u001B[49m\u001B[43mobj\u001B[49m\u001B[43m)\u001B[49m  \u001B[38;5;66;03m# Call unbound method with explicit self\u001B[39;00m\n\u001B[1;32m    561\u001B[0m     \u001B[38;5;28;01mreturn\u001B[39;00m\n\u001B[1;32m    563\u001B[0m \u001B[38;5;66;03m# Check private dispatch table if any, or else\u001B[39;00m\n\u001B[1;32m    564\u001B[0m \u001B[38;5;66;03m# copyreg.dispatch_table\u001B[39;00m\n",
      "File \u001B[0;32m~/elastic_notebook2/elastic-notebook/venv/lib/python3.8/site-packages/dill/_dill.py:990\u001B[0m, in \u001B[0;36msave_module_dict\u001B[0;34m(pickler, obj)\u001B[0m\n\u001B[1;32m    987\u001B[0m     \u001B[38;5;28;01mif\u001B[39;00m is_dill(pickler, child\u001B[38;5;241m=\u001B[39m\u001B[38;5;28;01mFalse\u001B[39;00m) \u001B[38;5;129;01mand\u001B[39;00m pickler\u001B[38;5;241m.\u001B[39m_session:\n\u001B[1;32m    988\u001B[0m         \u001B[38;5;66;03m# we only care about session the first pass thru\u001B[39;00m\n\u001B[1;32m    989\u001B[0m         pickler\u001B[38;5;241m.\u001B[39m_session \u001B[38;5;241m=\u001B[39m \u001B[38;5;28;01mFalse\u001B[39;00m\n\u001B[0;32m--> 990\u001B[0m     \u001B[43mStockPickler\u001B[49m\u001B[38;5;241;43m.\u001B[39;49m\u001B[43msave_dict\u001B[49m\u001B[43m(\u001B[49m\u001B[43mpickler\u001B[49m\u001B[43m,\u001B[49m\u001B[43m \u001B[49m\u001B[43mobj\u001B[49m\u001B[43m)\u001B[49m\n\u001B[1;32m    991\u001B[0m     log\u001B[38;5;241m.\u001B[39minfo(\u001B[38;5;124m\"\u001B[39m\u001B[38;5;124m# D2\u001B[39m\u001B[38;5;124m\"\u001B[39m)\n\u001B[1;32m    992\u001B[0m \u001B[38;5;28;01mreturn\u001B[39;00m\n",
      "File \u001B[0;32m/Library/Developer/CommandLineTools/Library/Frameworks/Python3.framework/Versions/3.8/lib/python3.8/pickle.py:971\u001B[0m, in \u001B[0;36m_Pickler.save_dict\u001B[0;34m(self, obj)\u001B[0m\n\u001B[1;32m    968\u001B[0m     \u001B[38;5;28mself\u001B[39m\u001B[38;5;241m.\u001B[39mwrite(MARK \u001B[38;5;241m+\u001B[39m DICT)\n\u001B[1;32m    970\u001B[0m \u001B[38;5;28mself\u001B[39m\u001B[38;5;241m.\u001B[39mmemoize(obj)\n\u001B[0;32m--> 971\u001B[0m \u001B[38;5;28;43mself\u001B[39;49m\u001B[38;5;241;43m.\u001B[39;49m\u001B[43m_batch_setitems\u001B[49m\u001B[43m(\u001B[49m\u001B[43mobj\u001B[49m\u001B[38;5;241;43m.\u001B[39;49m\u001B[43mitems\u001B[49m\u001B[43m(\u001B[49m\u001B[43m)\u001B[49m\u001B[43m)\u001B[49m\n",
      "File \u001B[0;32m/Library/Developer/CommandLineTools/Library/Frameworks/Python3.framework/Versions/3.8/lib/python3.8/pickle.py:997\u001B[0m, in \u001B[0;36m_Pickler._batch_setitems\u001B[0;34m(self, items)\u001B[0m\n\u001B[1;32m    995\u001B[0m     \u001B[38;5;28;01mfor\u001B[39;00m k, v \u001B[38;5;129;01min\u001B[39;00m tmp:\n\u001B[1;32m    996\u001B[0m         save(k)\n\u001B[0;32m--> 997\u001B[0m         \u001B[43msave\u001B[49m\u001B[43m(\u001B[49m\u001B[43mv\u001B[49m\u001B[43m)\u001B[49m\n\u001B[1;32m    998\u001B[0m     write(SETITEMS)\n\u001B[1;32m    999\u001B[0m \u001B[38;5;28;01melif\u001B[39;00m n:\n",
      "File \u001B[0;32m/Library/Developer/CommandLineTools/Library/Frameworks/Python3.framework/Versions/3.8/lib/python3.8/pickle.py:603\u001B[0m, in \u001B[0;36m_Pickler.save\u001B[0;34m(self, obj, save_persistent_id)\u001B[0m\n\u001B[1;32m    599\u001B[0m     \u001B[38;5;28;01mraise\u001B[39;00m PicklingError(\u001B[38;5;124m\"\u001B[39m\u001B[38;5;124mTuple returned by \u001B[39m\u001B[38;5;132;01m%s\u001B[39;00m\u001B[38;5;124m must have \u001B[39m\u001B[38;5;124m\"\u001B[39m\n\u001B[1;32m    600\u001B[0m                         \u001B[38;5;124m\"\u001B[39m\u001B[38;5;124mtwo to six elements\u001B[39m\u001B[38;5;124m\"\u001B[39m \u001B[38;5;241m%\u001B[39m reduce)\n\u001B[1;32m    602\u001B[0m \u001B[38;5;66;03m# Save the reduce() output and finally memoize the object\u001B[39;00m\n\u001B[0;32m--> 603\u001B[0m \u001B[38;5;28;43mself\u001B[39;49m\u001B[38;5;241;43m.\u001B[39;49m\u001B[43msave_reduce\u001B[49m\u001B[43m(\u001B[49m\u001B[43mobj\u001B[49m\u001B[38;5;241;43m=\u001B[39;49m\u001B[43mobj\u001B[49m\u001B[43m,\u001B[49m\u001B[43m \u001B[49m\u001B[38;5;241;43m*\u001B[39;49m\u001B[43mrv\u001B[49m\u001B[43m)\u001B[49m\n",
      "File \u001B[0;32m/Library/Developer/CommandLineTools/Library/Frameworks/Python3.framework/Versions/3.8/lib/python3.8/pickle.py:717\u001B[0m, in \u001B[0;36m_Pickler.save_reduce\u001B[0;34m(self, func, args, state, listitems, dictitems, state_setter, obj)\u001B[0m\n\u001B[1;32m    715\u001B[0m \u001B[38;5;28;01mif\u001B[39;00m state \u001B[38;5;129;01mis\u001B[39;00m \u001B[38;5;129;01mnot\u001B[39;00m \u001B[38;5;28;01mNone\u001B[39;00m:\n\u001B[1;32m    716\u001B[0m     \u001B[38;5;28;01mif\u001B[39;00m state_setter \u001B[38;5;129;01mis\u001B[39;00m \u001B[38;5;28;01mNone\u001B[39;00m:\n\u001B[0;32m--> 717\u001B[0m         \u001B[43msave\u001B[49m\u001B[43m(\u001B[49m\u001B[43mstate\u001B[49m\u001B[43m)\u001B[49m\n\u001B[1;32m    718\u001B[0m         write(BUILD)\n\u001B[1;32m    719\u001B[0m     \u001B[38;5;28;01melse\u001B[39;00m:\n\u001B[1;32m    720\u001B[0m         \u001B[38;5;66;03m# If a state_setter is specified, call it instead of load_build\u001B[39;00m\n\u001B[1;32m    721\u001B[0m         \u001B[38;5;66;03m# to update obj's with its previous state.\u001B[39;00m\n\u001B[1;32m    722\u001B[0m         \u001B[38;5;66;03m# First, push state_setter and its tuple of expected arguments\u001B[39;00m\n\u001B[1;32m    723\u001B[0m         \u001B[38;5;66;03m# (obj, state) onto the stack.\u001B[39;00m\n",
      "File \u001B[0;32m/Library/Developer/CommandLineTools/Library/Frameworks/Python3.framework/Versions/3.8/lib/python3.8/pickle.py:560\u001B[0m, in \u001B[0;36m_Pickler.save\u001B[0;34m(self, obj, save_persistent_id)\u001B[0m\n\u001B[1;32m    558\u001B[0m f \u001B[38;5;241m=\u001B[39m \u001B[38;5;28mself\u001B[39m\u001B[38;5;241m.\u001B[39mdispatch\u001B[38;5;241m.\u001B[39mget(t)\n\u001B[1;32m    559\u001B[0m \u001B[38;5;28;01mif\u001B[39;00m f \u001B[38;5;129;01mis\u001B[39;00m \u001B[38;5;129;01mnot\u001B[39;00m \u001B[38;5;28;01mNone\u001B[39;00m:\n\u001B[0;32m--> 560\u001B[0m     \u001B[43mf\u001B[49m\u001B[43m(\u001B[49m\u001B[38;5;28;43mself\u001B[39;49m\u001B[43m,\u001B[49m\u001B[43m \u001B[49m\u001B[43mobj\u001B[49m\u001B[43m)\u001B[49m  \u001B[38;5;66;03m# Call unbound method with explicit self\u001B[39;00m\n\u001B[1;32m    561\u001B[0m     \u001B[38;5;28;01mreturn\u001B[39;00m\n\u001B[1;32m    563\u001B[0m \u001B[38;5;66;03m# Check private dispatch table if any, or else\u001B[39;00m\n\u001B[1;32m    564\u001B[0m \u001B[38;5;66;03m# copyreg.dispatch_table\u001B[39;00m\n",
      "File \u001B[0;32m~/elastic_notebook2/elastic-notebook/venv/lib/python3.8/site-packages/dill/_dill.py:990\u001B[0m, in \u001B[0;36msave_module_dict\u001B[0;34m(pickler, obj)\u001B[0m\n\u001B[1;32m    987\u001B[0m     \u001B[38;5;28;01mif\u001B[39;00m is_dill(pickler, child\u001B[38;5;241m=\u001B[39m\u001B[38;5;28;01mFalse\u001B[39;00m) \u001B[38;5;129;01mand\u001B[39;00m pickler\u001B[38;5;241m.\u001B[39m_session:\n\u001B[1;32m    988\u001B[0m         \u001B[38;5;66;03m# we only care about session the first pass thru\u001B[39;00m\n\u001B[1;32m    989\u001B[0m         pickler\u001B[38;5;241m.\u001B[39m_session \u001B[38;5;241m=\u001B[39m \u001B[38;5;28;01mFalse\u001B[39;00m\n\u001B[0;32m--> 990\u001B[0m     \u001B[43mStockPickler\u001B[49m\u001B[38;5;241;43m.\u001B[39;49m\u001B[43msave_dict\u001B[49m\u001B[43m(\u001B[49m\u001B[43mpickler\u001B[49m\u001B[43m,\u001B[49m\u001B[43m \u001B[49m\u001B[43mobj\u001B[49m\u001B[43m)\u001B[49m\n\u001B[1;32m    991\u001B[0m     log\u001B[38;5;241m.\u001B[39minfo(\u001B[38;5;124m\"\u001B[39m\u001B[38;5;124m# D2\u001B[39m\u001B[38;5;124m\"\u001B[39m)\n\u001B[1;32m    992\u001B[0m \u001B[38;5;28;01mreturn\u001B[39;00m\n",
      "File \u001B[0;32m/Library/Developer/CommandLineTools/Library/Frameworks/Python3.framework/Versions/3.8/lib/python3.8/pickle.py:971\u001B[0m, in \u001B[0;36m_Pickler.save_dict\u001B[0;34m(self, obj)\u001B[0m\n\u001B[1;32m    968\u001B[0m     \u001B[38;5;28mself\u001B[39m\u001B[38;5;241m.\u001B[39mwrite(MARK \u001B[38;5;241m+\u001B[39m DICT)\n\u001B[1;32m    970\u001B[0m \u001B[38;5;28mself\u001B[39m\u001B[38;5;241m.\u001B[39mmemoize(obj)\n\u001B[0;32m--> 971\u001B[0m \u001B[38;5;28;43mself\u001B[39;49m\u001B[38;5;241;43m.\u001B[39;49m\u001B[43m_batch_setitems\u001B[49m\u001B[43m(\u001B[49m\u001B[43mobj\u001B[49m\u001B[38;5;241;43m.\u001B[39;49m\u001B[43mitems\u001B[49m\u001B[43m(\u001B[49m\u001B[43m)\u001B[49m\u001B[43m)\u001B[49m\n",
      "File \u001B[0;32m/Library/Developer/CommandLineTools/Library/Frameworks/Python3.framework/Versions/3.8/lib/python3.8/pickle.py:997\u001B[0m, in \u001B[0;36m_Pickler._batch_setitems\u001B[0;34m(self, items)\u001B[0m\n\u001B[1;32m    995\u001B[0m     \u001B[38;5;28;01mfor\u001B[39;00m k, v \u001B[38;5;129;01min\u001B[39;00m tmp:\n\u001B[1;32m    996\u001B[0m         save(k)\n\u001B[0;32m--> 997\u001B[0m         \u001B[43msave\u001B[49m\u001B[43m(\u001B[49m\u001B[43mv\u001B[49m\u001B[43m)\u001B[49m\n\u001B[1;32m    998\u001B[0m     write(SETITEMS)\n\u001B[1;32m    999\u001B[0m \u001B[38;5;28;01melif\u001B[39;00m n:\n",
      "    \u001B[0;31m[... skipping similar frames: _Pickler.save at line 560 (2 times), _Pickler._batch_setitems at line 997 (1 times), _Pickler.save at line 603 (1 times), _Pickler.save_dict at line 971 (1 times), save_module_dict at line 990 (1 times), _Pickler.save_reduce at line 717 (1 times)]\u001B[0m\n",
      "File \u001B[0;32m/Library/Developer/CommandLineTools/Library/Frameworks/Python3.framework/Versions/3.8/lib/python3.8/pickle.py:931\u001B[0m, in \u001B[0;36m_Pickler.save_list\u001B[0;34m(self, obj)\u001B[0m\n\u001B[1;32m    928\u001B[0m     \u001B[38;5;28mself\u001B[39m\u001B[38;5;241m.\u001B[39mwrite(MARK \u001B[38;5;241m+\u001B[39m LIST)\n\u001B[1;32m    930\u001B[0m \u001B[38;5;28mself\u001B[39m\u001B[38;5;241m.\u001B[39mmemoize(obj)\n\u001B[0;32m--> 931\u001B[0m \u001B[38;5;28;43mself\u001B[39;49m\u001B[38;5;241;43m.\u001B[39;49m\u001B[43m_batch_appends\u001B[49m\u001B[43m(\u001B[49m\u001B[43mobj\u001B[49m\u001B[43m)\u001B[49m\n",
      "File \u001B[0;32m/Library/Developer/CommandLineTools/Library/Frameworks/Python3.framework/Versions/3.8/lib/python3.8/pickle.py:955\u001B[0m, in \u001B[0;36m_Pickler._batch_appends\u001B[0;34m(self, items)\u001B[0m\n\u001B[1;32m    953\u001B[0m     write(MARK)\n\u001B[1;32m    954\u001B[0m     \u001B[38;5;28;01mfor\u001B[39;00m x \u001B[38;5;129;01min\u001B[39;00m tmp:\n\u001B[0;32m--> 955\u001B[0m         \u001B[43msave\u001B[49m\u001B[43m(\u001B[49m\u001B[43mx\u001B[49m\u001B[43m)\u001B[49m\n\u001B[1;32m    956\u001B[0m     write(APPENDS)\n\u001B[1;32m    957\u001B[0m \u001B[38;5;28;01melif\u001B[39;00m n:\n",
      "File \u001B[0;32m/Library/Developer/CommandLineTools/Library/Frameworks/Python3.framework/Versions/3.8/lib/python3.8/pickle.py:603\u001B[0m, in \u001B[0;36m_Pickler.save\u001B[0;34m(self, obj, save_persistent_id)\u001B[0m\n\u001B[1;32m    599\u001B[0m     \u001B[38;5;28;01mraise\u001B[39;00m PicklingError(\u001B[38;5;124m\"\u001B[39m\u001B[38;5;124mTuple returned by \u001B[39m\u001B[38;5;132;01m%s\u001B[39;00m\u001B[38;5;124m must have \u001B[39m\u001B[38;5;124m\"\u001B[39m\n\u001B[1;32m    600\u001B[0m                         \u001B[38;5;124m\"\u001B[39m\u001B[38;5;124mtwo to six elements\u001B[39m\u001B[38;5;124m\"\u001B[39m \u001B[38;5;241m%\u001B[39m reduce)\n\u001B[1;32m    602\u001B[0m \u001B[38;5;66;03m# Save the reduce() output and finally memoize the object\u001B[39;00m\n\u001B[0;32m--> 603\u001B[0m \u001B[38;5;28;43mself\u001B[39;49m\u001B[38;5;241;43m.\u001B[39;49m\u001B[43msave_reduce\u001B[49m\u001B[43m(\u001B[49m\u001B[43mobj\u001B[49m\u001B[38;5;241;43m=\u001B[39;49m\u001B[43mobj\u001B[49m\u001B[43m,\u001B[49m\u001B[43m \u001B[49m\u001B[38;5;241;43m*\u001B[39;49m\u001B[43mrv\u001B[49m\u001B[43m)\u001B[49m\n",
      "File \u001B[0;32m/Library/Developer/CommandLineTools/Library/Frameworks/Python3.framework/Versions/3.8/lib/python3.8/pickle.py:717\u001B[0m, in \u001B[0;36m_Pickler.save_reduce\u001B[0;34m(self, func, args, state, listitems, dictitems, state_setter, obj)\u001B[0m\n\u001B[1;32m    715\u001B[0m \u001B[38;5;28;01mif\u001B[39;00m state \u001B[38;5;129;01mis\u001B[39;00m \u001B[38;5;129;01mnot\u001B[39;00m \u001B[38;5;28;01mNone\u001B[39;00m:\n\u001B[1;32m    716\u001B[0m     \u001B[38;5;28;01mif\u001B[39;00m state_setter \u001B[38;5;129;01mis\u001B[39;00m \u001B[38;5;28;01mNone\u001B[39;00m:\n\u001B[0;32m--> 717\u001B[0m         \u001B[43msave\u001B[49m\u001B[43m(\u001B[49m\u001B[43mstate\u001B[49m\u001B[43m)\u001B[49m\n\u001B[1;32m    718\u001B[0m         write(BUILD)\n\u001B[1;32m    719\u001B[0m     \u001B[38;5;28;01melse\u001B[39;00m:\n\u001B[1;32m    720\u001B[0m         \u001B[38;5;66;03m# If a state_setter is specified, call it instead of load_build\u001B[39;00m\n\u001B[1;32m    721\u001B[0m         \u001B[38;5;66;03m# to update obj's with its previous state.\u001B[39;00m\n\u001B[1;32m    722\u001B[0m         \u001B[38;5;66;03m# First, push state_setter and its tuple of expected arguments\u001B[39;00m\n\u001B[1;32m    723\u001B[0m         \u001B[38;5;66;03m# (obj, state) onto the stack.\u001B[39;00m\n",
      "    \u001B[0;31m[... skipping similar frames: _Pickler.save at line 560 (1 times)]\u001B[0m\n",
      "File \u001B[0;32m~/elastic_notebook2/elastic-notebook/venv/lib/python3.8/site-packages/dill/_dill.py:990\u001B[0m, in \u001B[0;36msave_module_dict\u001B[0;34m(pickler, obj)\u001B[0m\n\u001B[1;32m    987\u001B[0m     \u001B[38;5;28;01mif\u001B[39;00m is_dill(pickler, child\u001B[38;5;241m=\u001B[39m\u001B[38;5;28;01mFalse\u001B[39;00m) \u001B[38;5;129;01mand\u001B[39;00m pickler\u001B[38;5;241m.\u001B[39m_session:\n\u001B[1;32m    988\u001B[0m         \u001B[38;5;66;03m# we only care about session the first pass thru\u001B[39;00m\n\u001B[1;32m    989\u001B[0m         pickler\u001B[38;5;241m.\u001B[39m_session \u001B[38;5;241m=\u001B[39m \u001B[38;5;28;01mFalse\u001B[39;00m\n\u001B[0;32m--> 990\u001B[0m     \u001B[43mStockPickler\u001B[49m\u001B[38;5;241;43m.\u001B[39;49m\u001B[43msave_dict\u001B[49m\u001B[43m(\u001B[49m\u001B[43mpickler\u001B[49m\u001B[43m,\u001B[49m\u001B[43m \u001B[49m\u001B[43mobj\u001B[49m\u001B[43m)\u001B[49m\n\u001B[1;32m    991\u001B[0m     log\u001B[38;5;241m.\u001B[39minfo(\u001B[38;5;124m\"\u001B[39m\u001B[38;5;124m# D2\u001B[39m\u001B[38;5;124m\"\u001B[39m)\n\u001B[1;32m    992\u001B[0m \u001B[38;5;28;01mreturn\u001B[39;00m\n",
      "File \u001B[0;32m/Library/Developer/CommandLineTools/Library/Frameworks/Python3.framework/Versions/3.8/lib/python3.8/pickle.py:971\u001B[0m, in \u001B[0;36m_Pickler.save_dict\u001B[0;34m(self, obj)\u001B[0m\n\u001B[1;32m    968\u001B[0m     \u001B[38;5;28mself\u001B[39m\u001B[38;5;241m.\u001B[39mwrite(MARK \u001B[38;5;241m+\u001B[39m DICT)\n\u001B[1;32m    970\u001B[0m \u001B[38;5;28mself\u001B[39m\u001B[38;5;241m.\u001B[39mmemoize(obj)\n\u001B[0;32m--> 971\u001B[0m \u001B[38;5;28;43mself\u001B[39;49m\u001B[38;5;241;43m.\u001B[39;49m\u001B[43m_batch_setitems\u001B[49m\u001B[43m(\u001B[49m\u001B[43mobj\u001B[49m\u001B[38;5;241;43m.\u001B[39;49m\u001B[43mitems\u001B[49m\u001B[43m(\u001B[49m\u001B[43m)\u001B[49m\u001B[43m)\u001B[49m\n",
      "File \u001B[0;32m/Library/Developer/CommandLineTools/Library/Frameworks/Python3.framework/Versions/3.8/lib/python3.8/pickle.py:997\u001B[0m, in \u001B[0;36m_Pickler._batch_setitems\u001B[0;34m(self, items)\u001B[0m\n\u001B[1;32m    995\u001B[0m     \u001B[38;5;28;01mfor\u001B[39;00m k, v \u001B[38;5;129;01min\u001B[39;00m tmp:\n\u001B[1;32m    996\u001B[0m         save(k)\n\u001B[0;32m--> 997\u001B[0m         \u001B[43msave\u001B[49m\u001B[43m(\u001B[49m\u001B[43mv\u001B[49m\u001B[43m)\u001B[49m\n\u001B[1;32m    998\u001B[0m     write(SETITEMS)\n\u001B[1;32m    999\u001B[0m \u001B[38;5;28;01melif\u001B[39;00m n:\n",
      "File \u001B[0;32m/Library/Developer/CommandLineTools/Library/Frameworks/Python3.framework/Versions/3.8/lib/python3.8/pickle.py:560\u001B[0m, in \u001B[0;36m_Pickler.save\u001B[0;34m(self, obj, save_persistent_id)\u001B[0m\n\u001B[1;32m    558\u001B[0m f \u001B[38;5;241m=\u001B[39m \u001B[38;5;28mself\u001B[39m\u001B[38;5;241m.\u001B[39mdispatch\u001B[38;5;241m.\u001B[39mget(t)\n\u001B[1;32m    559\u001B[0m \u001B[38;5;28;01mif\u001B[39;00m f \u001B[38;5;129;01mis\u001B[39;00m \u001B[38;5;129;01mnot\u001B[39;00m \u001B[38;5;28;01mNone\u001B[39;00m:\n\u001B[0;32m--> 560\u001B[0m     \u001B[43mf\u001B[49m\u001B[43m(\u001B[49m\u001B[38;5;28;43mself\u001B[39;49m\u001B[43m,\u001B[49m\u001B[43m \u001B[49m\u001B[43mobj\u001B[49m\u001B[43m)\u001B[49m  \u001B[38;5;66;03m# Call unbound method with explicit self\u001B[39;00m\n\u001B[1;32m    561\u001B[0m     \u001B[38;5;28;01mreturn\u001B[39;00m\n\u001B[1;32m    563\u001B[0m \u001B[38;5;66;03m# Check private dispatch table if any, or else\u001B[39;00m\n\u001B[1;32m    564\u001B[0m \u001B[38;5;66;03m# copyreg.dispatch_table\u001B[39;00m\n",
      "File \u001B[0;32m/Library/Developer/CommandLineTools/Library/Frameworks/Python3.framework/Versions/3.8/lib/python3.8/pickle.py:931\u001B[0m, in \u001B[0;36m_Pickler.save_list\u001B[0;34m(self, obj)\u001B[0m\n\u001B[1;32m    928\u001B[0m     \u001B[38;5;28mself\u001B[39m\u001B[38;5;241m.\u001B[39mwrite(MARK \u001B[38;5;241m+\u001B[39m LIST)\n\u001B[1;32m    930\u001B[0m \u001B[38;5;28mself\u001B[39m\u001B[38;5;241m.\u001B[39mmemoize(obj)\n\u001B[0;32m--> 931\u001B[0m \u001B[38;5;28;43mself\u001B[39;49m\u001B[38;5;241;43m.\u001B[39;49m\u001B[43m_batch_appends\u001B[49m\u001B[43m(\u001B[49m\u001B[43mobj\u001B[49m\u001B[43m)\u001B[49m\n",
      "File \u001B[0;32m/Library/Developer/CommandLineTools/Library/Frameworks/Python3.framework/Versions/3.8/lib/python3.8/pickle.py:958\u001B[0m, in \u001B[0;36m_Pickler._batch_appends\u001B[0;34m(self, items)\u001B[0m\n\u001B[1;32m    956\u001B[0m     write(APPENDS)\n\u001B[1;32m    957\u001B[0m \u001B[38;5;28;01melif\u001B[39;00m n:\n\u001B[0;32m--> 958\u001B[0m     \u001B[43msave\u001B[49m\u001B[43m(\u001B[49m\u001B[43mtmp\u001B[49m\u001B[43m[\u001B[49m\u001B[38;5;241;43m0\u001B[39;49m\u001B[43m]\u001B[49m\u001B[43m)\u001B[49m\n\u001B[1;32m    959\u001B[0m     write(APPEND)\n\u001B[1;32m    960\u001B[0m \u001B[38;5;66;03m# else tmp is empty, and we're done\u001B[39;00m\n",
      "File \u001B[0;32m/Library/Developer/CommandLineTools/Library/Frameworks/Python3.framework/Versions/3.8/lib/python3.8/pickle.py:603\u001B[0m, in \u001B[0;36m_Pickler.save\u001B[0;34m(self, obj, save_persistent_id)\u001B[0m\n\u001B[1;32m    599\u001B[0m     \u001B[38;5;28;01mraise\u001B[39;00m PicklingError(\u001B[38;5;124m\"\u001B[39m\u001B[38;5;124mTuple returned by \u001B[39m\u001B[38;5;132;01m%s\u001B[39;00m\u001B[38;5;124m must have \u001B[39m\u001B[38;5;124m\"\u001B[39m\n\u001B[1;32m    600\u001B[0m                         \u001B[38;5;124m\"\u001B[39m\u001B[38;5;124mtwo to six elements\u001B[39m\u001B[38;5;124m\"\u001B[39m \u001B[38;5;241m%\u001B[39m reduce)\n\u001B[1;32m    602\u001B[0m \u001B[38;5;66;03m# Save the reduce() output and finally memoize the object\u001B[39;00m\n\u001B[0;32m--> 603\u001B[0m \u001B[38;5;28;43mself\u001B[39;49m\u001B[38;5;241;43m.\u001B[39;49m\u001B[43msave_reduce\u001B[49m\u001B[43m(\u001B[49m\u001B[43mobj\u001B[49m\u001B[38;5;241;43m=\u001B[39;49m\u001B[43mobj\u001B[49m\u001B[43m,\u001B[49m\u001B[43m \u001B[49m\u001B[38;5;241;43m*\u001B[39;49m\u001B[43mrv\u001B[49m\u001B[43m)\u001B[49m\n",
      "File \u001B[0;32m/Library/Developer/CommandLineTools/Library/Frameworks/Python3.framework/Versions/3.8/lib/python3.8/pickle.py:717\u001B[0m, in \u001B[0;36m_Pickler.save_reduce\u001B[0;34m(self, func, args, state, listitems, dictitems, state_setter, obj)\u001B[0m\n\u001B[1;32m    715\u001B[0m \u001B[38;5;28;01mif\u001B[39;00m state \u001B[38;5;129;01mis\u001B[39;00m \u001B[38;5;129;01mnot\u001B[39;00m \u001B[38;5;28;01mNone\u001B[39;00m:\n\u001B[1;32m    716\u001B[0m     \u001B[38;5;28;01mif\u001B[39;00m state_setter \u001B[38;5;129;01mis\u001B[39;00m \u001B[38;5;28;01mNone\u001B[39;00m:\n\u001B[0;32m--> 717\u001B[0m         \u001B[43msave\u001B[49m\u001B[43m(\u001B[49m\u001B[43mstate\u001B[49m\u001B[43m)\u001B[49m\n\u001B[1;32m    718\u001B[0m         write(BUILD)\n\u001B[1;32m    719\u001B[0m     \u001B[38;5;28;01melse\u001B[39;00m:\n\u001B[1;32m    720\u001B[0m         \u001B[38;5;66;03m# If a state_setter is specified, call it instead of load_build\u001B[39;00m\n\u001B[1;32m    721\u001B[0m         \u001B[38;5;66;03m# to update obj's with its previous state.\u001B[39;00m\n\u001B[1;32m    722\u001B[0m         \u001B[38;5;66;03m# First, push state_setter and its tuple of expected arguments\u001B[39;00m\n\u001B[1;32m    723\u001B[0m         \u001B[38;5;66;03m# (obj, state) onto the stack.\u001B[39;00m\n",
      "File \u001B[0;32m/Library/Developer/CommandLineTools/Library/Frameworks/Python3.framework/Versions/3.8/lib/python3.8/pickle.py:560\u001B[0m, in \u001B[0;36m_Pickler.save\u001B[0;34m(self, obj, save_persistent_id)\u001B[0m\n\u001B[1;32m    558\u001B[0m f \u001B[38;5;241m=\u001B[39m \u001B[38;5;28mself\u001B[39m\u001B[38;5;241m.\u001B[39mdispatch\u001B[38;5;241m.\u001B[39mget(t)\n\u001B[1;32m    559\u001B[0m \u001B[38;5;28;01mif\u001B[39;00m f \u001B[38;5;129;01mis\u001B[39;00m \u001B[38;5;129;01mnot\u001B[39;00m \u001B[38;5;28;01mNone\u001B[39;00m:\n\u001B[0;32m--> 560\u001B[0m     \u001B[43mf\u001B[49m\u001B[43m(\u001B[49m\u001B[38;5;28;43mself\u001B[39;49m\u001B[43m,\u001B[49m\u001B[43m \u001B[49m\u001B[43mobj\u001B[49m\u001B[43m)\u001B[49m  \u001B[38;5;66;03m# Call unbound method with explicit self\u001B[39;00m\n\u001B[1;32m    561\u001B[0m     \u001B[38;5;28;01mreturn\u001B[39;00m\n\u001B[1;32m    563\u001B[0m \u001B[38;5;66;03m# Check private dispatch table if any, or else\u001B[39;00m\n\u001B[1;32m    564\u001B[0m \u001B[38;5;66;03m# copyreg.dispatch_table\u001B[39;00m\n",
      "File \u001B[0;32m~/elastic_notebook2/elastic-notebook/venv/lib/python3.8/site-packages/dill/_dill.py:990\u001B[0m, in \u001B[0;36msave_module_dict\u001B[0;34m(pickler, obj)\u001B[0m\n\u001B[1;32m    987\u001B[0m     \u001B[38;5;28;01mif\u001B[39;00m is_dill(pickler, child\u001B[38;5;241m=\u001B[39m\u001B[38;5;28;01mFalse\u001B[39;00m) \u001B[38;5;129;01mand\u001B[39;00m pickler\u001B[38;5;241m.\u001B[39m_session:\n\u001B[1;32m    988\u001B[0m         \u001B[38;5;66;03m# we only care about session the first pass thru\u001B[39;00m\n\u001B[1;32m    989\u001B[0m         pickler\u001B[38;5;241m.\u001B[39m_session \u001B[38;5;241m=\u001B[39m \u001B[38;5;28;01mFalse\u001B[39;00m\n\u001B[0;32m--> 990\u001B[0m     \u001B[43mStockPickler\u001B[49m\u001B[38;5;241;43m.\u001B[39;49m\u001B[43msave_dict\u001B[49m\u001B[43m(\u001B[49m\u001B[43mpickler\u001B[49m\u001B[43m,\u001B[49m\u001B[43m \u001B[49m\u001B[43mobj\u001B[49m\u001B[43m)\u001B[49m\n\u001B[1;32m    991\u001B[0m     log\u001B[38;5;241m.\u001B[39minfo(\u001B[38;5;124m\"\u001B[39m\u001B[38;5;124m# D2\u001B[39m\u001B[38;5;124m\"\u001B[39m)\n\u001B[1;32m    992\u001B[0m \u001B[38;5;28;01mreturn\u001B[39;00m\n",
      "File \u001B[0;32m/Library/Developer/CommandLineTools/Library/Frameworks/Python3.framework/Versions/3.8/lib/python3.8/pickle.py:971\u001B[0m, in \u001B[0;36m_Pickler.save_dict\u001B[0;34m(self, obj)\u001B[0m\n\u001B[1;32m    968\u001B[0m     \u001B[38;5;28mself\u001B[39m\u001B[38;5;241m.\u001B[39mwrite(MARK \u001B[38;5;241m+\u001B[39m DICT)\n\u001B[1;32m    970\u001B[0m \u001B[38;5;28mself\u001B[39m\u001B[38;5;241m.\u001B[39mmemoize(obj)\n\u001B[0;32m--> 971\u001B[0m \u001B[38;5;28;43mself\u001B[39;49m\u001B[38;5;241;43m.\u001B[39;49m\u001B[43m_batch_setitems\u001B[49m\u001B[43m(\u001B[49m\u001B[43mobj\u001B[49m\u001B[38;5;241;43m.\u001B[39;49m\u001B[43mitems\u001B[49m\u001B[43m(\u001B[49m\u001B[43m)\u001B[49m\u001B[43m)\u001B[49m\n",
      "File \u001B[0;32m/Library/Developer/CommandLineTools/Library/Frameworks/Python3.framework/Versions/3.8/lib/python3.8/pickle.py:997\u001B[0m, in \u001B[0;36m_Pickler._batch_setitems\u001B[0;34m(self, items)\u001B[0m\n\u001B[1;32m    995\u001B[0m     \u001B[38;5;28;01mfor\u001B[39;00m k, v \u001B[38;5;129;01min\u001B[39;00m tmp:\n\u001B[1;32m    996\u001B[0m         save(k)\n\u001B[0;32m--> 997\u001B[0m         \u001B[43msave\u001B[49m\u001B[43m(\u001B[49m\u001B[43mv\u001B[49m\u001B[43m)\u001B[49m\n\u001B[1;32m    998\u001B[0m     write(SETITEMS)\n\u001B[1;32m    999\u001B[0m \u001B[38;5;28;01melif\u001B[39;00m n:\n",
      "File \u001B[0;32m/Library/Developer/CommandLineTools/Library/Frameworks/Python3.framework/Versions/3.8/lib/python3.8/pickle.py:603\u001B[0m, in \u001B[0;36m_Pickler.save\u001B[0;34m(self, obj, save_persistent_id)\u001B[0m\n\u001B[1;32m    599\u001B[0m     \u001B[38;5;28;01mraise\u001B[39;00m PicklingError(\u001B[38;5;124m\"\u001B[39m\u001B[38;5;124mTuple returned by \u001B[39m\u001B[38;5;132;01m%s\u001B[39;00m\u001B[38;5;124m must have \u001B[39m\u001B[38;5;124m\"\u001B[39m\n\u001B[1;32m    600\u001B[0m                         \u001B[38;5;124m\"\u001B[39m\u001B[38;5;124mtwo to six elements\u001B[39m\u001B[38;5;124m\"\u001B[39m \u001B[38;5;241m%\u001B[39m reduce)\n\u001B[1;32m    602\u001B[0m \u001B[38;5;66;03m# Save the reduce() output and finally memoize the object\u001B[39;00m\n\u001B[0;32m--> 603\u001B[0m \u001B[38;5;28;43mself\u001B[39;49m\u001B[38;5;241;43m.\u001B[39;49m\u001B[43msave_reduce\u001B[49m\u001B[43m(\u001B[49m\u001B[43mobj\u001B[49m\u001B[38;5;241;43m=\u001B[39;49m\u001B[43mobj\u001B[49m\u001B[43m,\u001B[49m\u001B[43m \u001B[49m\u001B[38;5;241;43m*\u001B[39;49m\u001B[43mrv\u001B[49m\u001B[43m)\u001B[49m\n",
      "File \u001B[0;32m/Library/Developer/CommandLineTools/Library/Frameworks/Python3.framework/Versions/3.8/lib/python3.8/pickle.py:717\u001B[0m, in \u001B[0;36m_Pickler.save_reduce\u001B[0;34m(self, func, args, state, listitems, dictitems, state_setter, obj)\u001B[0m\n\u001B[1;32m    715\u001B[0m \u001B[38;5;28;01mif\u001B[39;00m state \u001B[38;5;129;01mis\u001B[39;00m \u001B[38;5;129;01mnot\u001B[39;00m \u001B[38;5;28;01mNone\u001B[39;00m:\n\u001B[1;32m    716\u001B[0m     \u001B[38;5;28;01mif\u001B[39;00m state_setter \u001B[38;5;129;01mis\u001B[39;00m \u001B[38;5;28;01mNone\u001B[39;00m:\n\u001B[0;32m--> 717\u001B[0m         \u001B[43msave\u001B[49m\u001B[43m(\u001B[49m\u001B[43mstate\u001B[49m\u001B[43m)\u001B[49m\n\u001B[1;32m    718\u001B[0m         write(BUILD)\n\u001B[1;32m    719\u001B[0m     \u001B[38;5;28;01melse\u001B[39;00m:\n\u001B[1;32m    720\u001B[0m         \u001B[38;5;66;03m# If a state_setter is specified, call it instead of load_build\u001B[39;00m\n\u001B[1;32m    721\u001B[0m         \u001B[38;5;66;03m# to update obj's with its previous state.\u001B[39;00m\n\u001B[1;32m    722\u001B[0m         \u001B[38;5;66;03m# First, push state_setter and its tuple of expected arguments\u001B[39;00m\n\u001B[1;32m    723\u001B[0m         \u001B[38;5;66;03m# (obj, state) onto the stack.\u001B[39;00m\n",
      "File \u001B[0;32m/Library/Developer/CommandLineTools/Library/Frameworks/Python3.framework/Versions/3.8/lib/python3.8/pickle.py:560\u001B[0m, in \u001B[0;36m_Pickler.save\u001B[0;34m(self, obj, save_persistent_id)\u001B[0m\n\u001B[1;32m    558\u001B[0m f \u001B[38;5;241m=\u001B[39m \u001B[38;5;28mself\u001B[39m\u001B[38;5;241m.\u001B[39mdispatch\u001B[38;5;241m.\u001B[39mget(t)\n\u001B[1;32m    559\u001B[0m \u001B[38;5;28;01mif\u001B[39;00m f \u001B[38;5;129;01mis\u001B[39;00m \u001B[38;5;129;01mnot\u001B[39;00m \u001B[38;5;28;01mNone\u001B[39;00m:\n\u001B[0;32m--> 560\u001B[0m     \u001B[43mf\u001B[49m\u001B[43m(\u001B[49m\u001B[38;5;28;43mself\u001B[39;49m\u001B[43m,\u001B[49m\u001B[43m \u001B[49m\u001B[43mobj\u001B[49m\u001B[43m)\u001B[49m  \u001B[38;5;66;03m# Call unbound method with explicit self\u001B[39;00m\n\u001B[1;32m    561\u001B[0m     \u001B[38;5;28;01mreturn\u001B[39;00m\n\u001B[1;32m    563\u001B[0m \u001B[38;5;66;03m# Check private dispatch table if any, or else\u001B[39;00m\n\u001B[1;32m    564\u001B[0m \u001B[38;5;66;03m# copyreg.dispatch_table\u001B[39;00m\n",
      "File \u001B[0;32m~/elastic_notebook2/elastic-notebook/venv/lib/python3.8/site-packages/dill/_dill.py:990\u001B[0m, in \u001B[0;36msave_module_dict\u001B[0;34m(pickler, obj)\u001B[0m\n\u001B[1;32m    987\u001B[0m     \u001B[38;5;28;01mif\u001B[39;00m is_dill(pickler, child\u001B[38;5;241m=\u001B[39m\u001B[38;5;28;01mFalse\u001B[39;00m) \u001B[38;5;129;01mand\u001B[39;00m pickler\u001B[38;5;241m.\u001B[39m_session:\n\u001B[1;32m    988\u001B[0m         \u001B[38;5;66;03m# we only care about session the first pass thru\u001B[39;00m\n\u001B[1;32m    989\u001B[0m         pickler\u001B[38;5;241m.\u001B[39m_session \u001B[38;5;241m=\u001B[39m \u001B[38;5;28;01mFalse\u001B[39;00m\n\u001B[0;32m--> 990\u001B[0m     \u001B[43mStockPickler\u001B[49m\u001B[38;5;241;43m.\u001B[39;49m\u001B[43msave_dict\u001B[49m\u001B[43m(\u001B[49m\u001B[43mpickler\u001B[49m\u001B[43m,\u001B[49m\u001B[43m \u001B[49m\u001B[43mobj\u001B[49m\u001B[43m)\u001B[49m\n\u001B[1;32m    991\u001B[0m     log\u001B[38;5;241m.\u001B[39minfo(\u001B[38;5;124m\"\u001B[39m\u001B[38;5;124m# D2\u001B[39m\u001B[38;5;124m\"\u001B[39m)\n\u001B[1;32m    992\u001B[0m \u001B[38;5;28;01mreturn\u001B[39;00m\n",
      "File \u001B[0;32m/Library/Developer/CommandLineTools/Library/Frameworks/Python3.framework/Versions/3.8/lib/python3.8/pickle.py:971\u001B[0m, in \u001B[0;36m_Pickler.save_dict\u001B[0;34m(self, obj)\u001B[0m\n\u001B[1;32m    968\u001B[0m     \u001B[38;5;28mself\u001B[39m\u001B[38;5;241m.\u001B[39mwrite(MARK \u001B[38;5;241m+\u001B[39m DICT)\n\u001B[1;32m    970\u001B[0m \u001B[38;5;28mself\u001B[39m\u001B[38;5;241m.\u001B[39mmemoize(obj)\n\u001B[0;32m--> 971\u001B[0m \u001B[38;5;28;43mself\u001B[39;49m\u001B[38;5;241;43m.\u001B[39;49m\u001B[43m_batch_setitems\u001B[49m\u001B[43m(\u001B[49m\u001B[43mobj\u001B[49m\u001B[38;5;241;43m.\u001B[39;49m\u001B[43mitems\u001B[49m\u001B[43m(\u001B[49m\u001B[43m)\u001B[49m\u001B[43m)\u001B[49m\n",
      "File \u001B[0;32m/Library/Developer/CommandLineTools/Library/Frameworks/Python3.framework/Versions/3.8/lib/python3.8/pickle.py:997\u001B[0m, in \u001B[0;36m_Pickler._batch_setitems\u001B[0;34m(self, items)\u001B[0m\n\u001B[1;32m    995\u001B[0m     \u001B[38;5;28;01mfor\u001B[39;00m k, v \u001B[38;5;129;01min\u001B[39;00m tmp:\n\u001B[1;32m    996\u001B[0m         save(k)\n\u001B[0;32m--> 997\u001B[0m         \u001B[43msave\u001B[49m\u001B[43m(\u001B[49m\u001B[43mv\u001B[49m\u001B[43m)\u001B[49m\n\u001B[1;32m    998\u001B[0m     write(SETITEMS)\n\u001B[1;32m    999\u001B[0m \u001B[38;5;28;01melif\u001B[39;00m n:\n",
      "    \u001B[0;31m[... skipping similar frames: _Pickler.save at line 560 (2 times), _Pickler._batch_setitems at line 997 (1 times), _Pickler.save at line 603 (1 times), _Pickler.save_dict at line 971 (1 times), save_module_dict at line 990 (1 times), _Pickler.save_reduce at line 717 (1 times)]\u001B[0m\n",
      "File \u001B[0;32m/Library/Developer/CommandLineTools/Library/Frameworks/Python3.framework/Versions/3.8/lib/python3.8/pickle.py:931\u001B[0m, in \u001B[0;36m_Pickler.save_list\u001B[0;34m(self, obj)\u001B[0m\n\u001B[1;32m    928\u001B[0m     \u001B[38;5;28mself\u001B[39m\u001B[38;5;241m.\u001B[39mwrite(MARK \u001B[38;5;241m+\u001B[39m LIST)\n\u001B[1;32m    930\u001B[0m \u001B[38;5;28mself\u001B[39m\u001B[38;5;241m.\u001B[39mmemoize(obj)\n\u001B[0;32m--> 931\u001B[0m \u001B[38;5;28;43mself\u001B[39;49m\u001B[38;5;241;43m.\u001B[39;49m\u001B[43m_batch_appends\u001B[49m\u001B[43m(\u001B[49m\u001B[43mobj\u001B[49m\u001B[43m)\u001B[49m\n",
      "File \u001B[0;32m/Library/Developer/CommandLineTools/Library/Frameworks/Python3.framework/Versions/3.8/lib/python3.8/pickle.py:955\u001B[0m, in \u001B[0;36m_Pickler._batch_appends\u001B[0;34m(self, items)\u001B[0m\n\u001B[1;32m    953\u001B[0m     write(MARK)\n\u001B[1;32m    954\u001B[0m     \u001B[38;5;28;01mfor\u001B[39;00m x \u001B[38;5;129;01min\u001B[39;00m tmp:\n\u001B[0;32m--> 955\u001B[0m         \u001B[43msave\u001B[49m\u001B[43m(\u001B[49m\u001B[43mx\u001B[49m\u001B[43m)\u001B[49m\n\u001B[1;32m    956\u001B[0m     write(APPENDS)\n\u001B[1;32m    957\u001B[0m \u001B[38;5;28;01melif\u001B[39;00m n:\n",
      "File \u001B[0;32m/Library/Developer/CommandLineTools/Library/Frameworks/Python3.framework/Versions/3.8/lib/python3.8/pickle.py:603\u001B[0m, in \u001B[0;36m_Pickler.save\u001B[0;34m(self, obj, save_persistent_id)\u001B[0m\n\u001B[1;32m    599\u001B[0m     \u001B[38;5;28;01mraise\u001B[39;00m PicklingError(\u001B[38;5;124m\"\u001B[39m\u001B[38;5;124mTuple returned by \u001B[39m\u001B[38;5;132;01m%s\u001B[39;00m\u001B[38;5;124m must have \u001B[39m\u001B[38;5;124m\"\u001B[39m\n\u001B[1;32m    600\u001B[0m                         \u001B[38;5;124m\"\u001B[39m\u001B[38;5;124mtwo to six elements\u001B[39m\u001B[38;5;124m\"\u001B[39m \u001B[38;5;241m%\u001B[39m reduce)\n\u001B[1;32m    602\u001B[0m \u001B[38;5;66;03m# Save the reduce() output and finally memoize the object\u001B[39;00m\n\u001B[0;32m--> 603\u001B[0m \u001B[38;5;28;43mself\u001B[39;49m\u001B[38;5;241;43m.\u001B[39;49m\u001B[43msave_reduce\u001B[49m\u001B[43m(\u001B[49m\u001B[43mobj\u001B[49m\u001B[38;5;241;43m=\u001B[39;49m\u001B[43mobj\u001B[49m\u001B[43m,\u001B[49m\u001B[43m \u001B[49m\u001B[38;5;241;43m*\u001B[39;49m\u001B[43mrv\u001B[49m\u001B[43m)\u001B[49m\n",
      "File \u001B[0;32m/Library/Developer/CommandLineTools/Library/Frameworks/Python3.framework/Versions/3.8/lib/python3.8/pickle.py:717\u001B[0m, in \u001B[0;36m_Pickler.save_reduce\u001B[0;34m(self, func, args, state, listitems, dictitems, state_setter, obj)\u001B[0m\n\u001B[1;32m    715\u001B[0m \u001B[38;5;28;01mif\u001B[39;00m state \u001B[38;5;129;01mis\u001B[39;00m \u001B[38;5;129;01mnot\u001B[39;00m \u001B[38;5;28;01mNone\u001B[39;00m:\n\u001B[1;32m    716\u001B[0m     \u001B[38;5;28;01mif\u001B[39;00m state_setter \u001B[38;5;129;01mis\u001B[39;00m \u001B[38;5;28;01mNone\u001B[39;00m:\n\u001B[0;32m--> 717\u001B[0m         \u001B[43msave\u001B[49m\u001B[43m(\u001B[49m\u001B[43mstate\u001B[49m\u001B[43m)\u001B[49m\n\u001B[1;32m    718\u001B[0m         write(BUILD)\n\u001B[1;32m    719\u001B[0m     \u001B[38;5;28;01melse\u001B[39;00m:\n\u001B[1;32m    720\u001B[0m         \u001B[38;5;66;03m# If a state_setter is specified, call it instead of load_build\u001B[39;00m\n\u001B[1;32m    721\u001B[0m         \u001B[38;5;66;03m# to update obj's with its previous state.\u001B[39;00m\n\u001B[1;32m    722\u001B[0m         \u001B[38;5;66;03m# First, push state_setter and its tuple of expected arguments\u001B[39;00m\n\u001B[1;32m    723\u001B[0m         \u001B[38;5;66;03m# (obj, state) onto the stack.\u001B[39;00m\n",
      "File \u001B[0;32m/Library/Developer/CommandLineTools/Library/Frameworks/Python3.framework/Versions/3.8/lib/python3.8/pickle.py:560\u001B[0m, in \u001B[0;36m_Pickler.save\u001B[0;34m(self, obj, save_persistent_id)\u001B[0m\n\u001B[1;32m    558\u001B[0m f \u001B[38;5;241m=\u001B[39m \u001B[38;5;28mself\u001B[39m\u001B[38;5;241m.\u001B[39mdispatch\u001B[38;5;241m.\u001B[39mget(t)\n\u001B[1;32m    559\u001B[0m \u001B[38;5;28;01mif\u001B[39;00m f \u001B[38;5;129;01mis\u001B[39;00m \u001B[38;5;129;01mnot\u001B[39;00m \u001B[38;5;28;01mNone\u001B[39;00m:\n\u001B[0;32m--> 560\u001B[0m     \u001B[43mf\u001B[49m\u001B[43m(\u001B[49m\u001B[38;5;28;43mself\u001B[39;49m\u001B[43m,\u001B[49m\u001B[43m \u001B[49m\u001B[43mobj\u001B[49m\u001B[43m)\u001B[49m  \u001B[38;5;66;03m# Call unbound method with explicit self\u001B[39;00m\n\u001B[1;32m    561\u001B[0m     \u001B[38;5;28;01mreturn\u001B[39;00m\n\u001B[1;32m    563\u001B[0m \u001B[38;5;66;03m# Check private dispatch table if any, or else\u001B[39;00m\n\u001B[1;32m    564\u001B[0m \u001B[38;5;66;03m# copyreg.dispatch_table\u001B[39;00m\n",
      "File \u001B[0;32m~/elastic_notebook2/elastic-notebook/venv/lib/python3.8/site-packages/dill/_dill.py:990\u001B[0m, in \u001B[0;36msave_module_dict\u001B[0;34m(pickler, obj)\u001B[0m\n\u001B[1;32m    987\u001B[0m     \u001B[38;5;28;01mif\u001B[39;00m is_dill(pickler, child\u001B[38;5;241m=\u001B[39m\u001B[38;5;28;01mFalse\u001B[39;00m) \u001B[38;5;129;01mand\u001B[39;00m pickler\u001B[38;5;241m.\u001B[39m_session:\n\u001B[1;32m    988\u001B[0m         \u001B[38;5;66;03m# we only care about session the first pass thru\u001B[39;00m\n\u001B[1;32m    989\u001B[0m         pickler\u001B[38;5;241m.\u001B[39m_session \u001B[38;5;241m=\u001B[39m \u001B[38;5;28;01mFalse\u001B[39;00m\n\u001B[0;32m--> 990\u001B[0m     \u001B[43mStockPickler\u001B[49m\u001B[38;5;241;43m.\u001B[39;49m\u001B[43msave_dict\u001B[49m\u001B[43m(\u001B[49m\u001B[43mpickler\u001B[49m\u001B[43m,\u001B[49m\u001B[43m \u001B[49m\u001B[43mobj\u001B[49m\u001B[43m)\u001B[49m\n\u001B[1;32m    991\u001B[0m     log\u001B[38;5;241m.\u001B[39minfo(\u001B[38;5;124m\"\u001B[39m\u001B[38;5;124m# D2\u001B[39m\u001B[38;5;124m\"\u001B[39m)\n\u001B[1;32m    992\u001B[0m \u001B[38;5;28;01mreturn\u001B[39;00m\n",
      "File \u001B[0;32m/Library/Developer/CommandLineTools/Library/Frameworks/Python3.framework/Versions/3.8/lib/python3.8/pickle.py:971\u001B[0m, in \u001B[0;36m_Pickler.save_dict\u001B[0;34m(self, obj)\u001B[0m\n\u001B[1;32m    968\u001B[0m     \u001B[38;5;28mself\u001B[39m\u001B[38;5;241m.\u001B[39mwrite(MARK \u001B[38;5;241m+\u001B[39m DICT)\n\u001B[1;32m    970\u001B[0m \u001B[38;5;28mself\u001B[39m\u001B[38;5;241m.\u001B[39mmemoize(obj)\n\u001B[0;32m--> 971\u001B[0m \u001B[38;5;28;43mself\u001B[39;49m\u001B[38;5;241;43m.\u001B[39;49m\u001B[43m_batch_setitems\u001B[49m\u001B[43m(\u001B[49m\u001B[43mobj\u001B[49m\u001B[38;5;241;43m.\u001B[39;49m\u001B[43mitems\u001B[49m\u001B[43m(\u001B[49m\u001B[43m)\u001B[49m\u001B[43m)\u001B[49m\n",
      "File \u001B[0;32m/Library/Developer/CommandLineTools/Library/Frameworks/Python3.framework/Versions/3.8/lib/python3.8/pickle.py:997\u001B[0m, in \u001B[0;36m_Pickler._batch_setitems\u001B[0;34m(self, items)\u001B[0m\n\u001B[1;32m    995\u001B[0m     \u001B[38;5;28;01mfor\u001B[39;00m k, v \u001B[38;5;129;01min\u001B[39;00m tmp:\n\u001B[1;32m    996\u001B[0m         save(k)\n\u001B[0;32m--> 997\u001B[0m         \u001B[43msave\u001B[49m\u001B[43m(\u001B[49m\u001B[43mv\u001B[49m\u001B[43m)\u001B[49m\n\u001B[1;32m    998\u001B[0m     write(SETITEMS)\n\u001B[1;32m    999\u001B[0m \u001B[38;5;28;01melif\u001B[39;00m n:\n",
      "File \u001B[0;32m/Library/Developer/CommandLineTools/Library/Frameworks/Python3.framework/Versions/3.8/lib/python3.8/pickle.py:578\u001B[0m, in \u001B[0;36m_Pickler.save\u001B[0;34m(self, obj, save_persistent_id)\u001B[0m\n\u001B[1;32m    576\u001B[0m reduce \u001B[38;5;241m=\u001B[39m \u001B[38;5;28mgetattr\u001B[39m(obj, \u001B[38;5;124m\"\u001B[39m\u001B[38;5;124m__reduce_ex__\u001B[39m\u001B[38;5;124m\"\u001B[39m, \u001B[38;5;28;01mNone\u001B[39;00m)\n\u001B[1;32m    577\u001B[0m \u001B[38;5;28;01mif\u001B[39;00m reduce \u001B[38;5;129;01mis\u001B[39;00m \u001B[38;5;129;01mnot\u001B[39;00m \u001B[38;5;28;01mNone\u001B[39;00m:\n\u001B[0;32m--> 578\u001B[0m     rv \u001B[38;5;241m=\u001B[39m \u001B[43mreduce\u001B[49m\u001B[43m(\u001B[49m\u001B[38;5;28;43mself\u001B[39;49m\u001B[38;5;241;43m.\u001B[39;49m\u001B[43mproto\u001B[49m\u001B[43m)\u001B[49m\n\u001B[1;32m    579\u001B[0m \u001B[38;5;28;01melse\u001B[39;00m:\n\u001B[1;32m    580\u001B[0m     reduce \u001B[38;5;241m=\u001B[39m \u001B[38;5;28mgetattr\u001B[39m(obj, \u001B[38;5;124m\"\u001B[39m\u001B[38;5;124m__reduce__\u001B[39m\u001B[38;5;124m\"\u001B[39m, \u001B[38;5;28;01mNone\u001B[39;00m)\n",
      "File \u001B[0;32m~/elastic_notebook2/elastic-notebook/elastic/core/notebook/variable_snapshot.py:182\u001B[0m, in \u001B[0;36mVariableSnapshot.__reduce__\u001B[0;34m(self)\u001B[0m\n\u001B[1;32m    181\u001B[0m \u001B[38;5;28;01mdef\u001B[39;00m \u001B[38;5;21m__reduce__\u001B[39m(\u001B[38;5;28mself\u001B[39m):\n\u001B[0;32m--> 182\u001B[0m     \u001B[38;5;28;01mreturn\u001B[39;00m \u001B[38;5;28;43mself\u001B[39;49m\u001B[38;5;241;43m.\u001B[39;49m\u001B[43m_illinoisBaseObj\u001B[49m\u001B[38;5;241;43m.\u001B[39;49m\u001B[43m__reduce__\u001B[49m\u001B[43m(\u001B[49m\u001B[43m)\u001B[49m\n",
      "File \u001B[0;32m/Library/Developer/CommandLineTools/Library/Frameworks/Python3.framework/Versions/3.8/lib/python3.8/copyreg.py:66\u001B[0m, in \u001B[0;36m_reduce_ex\u001B[0;34m(self, proto)\u001B[0m\n\u001B[1;32m     64\u001B[0m \u001B[38;5;28;01melse\u001B[39;00m:\n\u001B[1;32m     65\u001B[0m     \u001B[38;5;28;01mif\u001B[39;00m base \u001B[38;5;129;01mis\u001B[39;00m \u001B[38;5;28mcls\u001B[39m:\n\u001B[0;32m---> 66\u001B[0m         \u001B[38;5;28;01mraise\u001B[39;00m \u001B[38;5;167;01mTypeError\u001B[39;00m(\u001B[38;5;124mf\u001B[39m\u001B[38;5;124m\"\u001B[39m\u001B[38;5;124mcannot pickle \u001B[39m\u001B[38;5;132;01m{\u001B[39;00m\u001B[38;5;28mcls\u001B[39m\u001B[38;5;241m.\u001B[39m\u001B[38;5;18m__name__\u001B[39m\u001B[38;5;132;01m!r}\u001B[39;00m\u001B[38;5;124m object\u001B[39m\u001B[38;5;124m\"\u001B[39m)\n\u001B[1;32m     67\u001B[0m     state \u001B[38;5;241m=\u001B[39m base(\u001B[38;5;28mself\u001B[39m)\n\u001B[1;32m     68\u001B[0m args \u001B[38;5;241m=\u001B[39m (\u001B[38;5;28mcls\u001B[39m, base, state)\n",
      "\u001B[0;31mTypeError\u001B[0m: cannot pickle 'int' object"
     ]
    }
   ],
   "source": [
    "# Migrate the dependency graph.\n",
    "from elastic.core.io.filesystem_adapter import FilesystemAdapter\n",
    "from elastic.core.io.migrate import migrate\n",
    "\n",
    "migrate(graph, FilesystemAdapter())"
   ]
  },
  {
   "cell_type": "code",
   "execution_count": null,
   "outputs": [],
   "source": [],
   "metadata": {
    "collapsed": false,
    "pycharm": {
     "name": "#%%\n"
    }
   }
  }
 ],
 "metadata": {
  "interpreter": {
   "hash": "73e29f827a180d655af59b8e84c2509fd207c6d30a6436933ca2d326b6144ecd"
  },
  "kernelspec": {
   "display_name": "Python 3.9.12 ('.env': venv)",
   "language": "python",
   "name": "python3"
  },
  "language_info": {
   "codemirror_mode": {
    "name": "ipython",
    "version": 3
   },
   "file_extension": ".py",
   "mimetype": "text/x-python",
   "name": "python",
   "nbconvert_exporter": "python",
   "pygments_lexer": "ipython3",
   "version": "3.9.12"
  },
  "orig_nbformat": 4
 },
 "nbformat": 4,
 "nbformat_minor": 2
}