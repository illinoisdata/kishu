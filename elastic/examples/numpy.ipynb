{
 "cells": [
  {
   "cell_type": "code",
   "execution_count": 1,
   "metadata": {
    "pycharm": {
     "name": "#%%\n"
    }
   },
   "outputs": [],
   "source": [
    "import sys, os\n",
    "sys.path.insert(0, os.path.abspath(\"../..\"))\n",
<<<<<<< HEAD
    "%load_ext elastic_notebook"
=======
    "%load_ext elastic.core.notebook.elastic_notebook"
>>>>>>> 14b33e46311bafc64e38fd9a6304a8737795df39
   ]
  },
  {
   "cell_type": "code",
   "execution_count": 2,
<<<<<<< HEAD
   "outputs": [
    {
     "name": "stdout",
     "output_type": "stream",
     "text": [
      "<class 'IPython.core.interactiveshell.ExecutionResult'>\n"
     ]
    }
   ],
   "source": [
    "%%RecordEvent\n",
    "import numpy as np\n",
    "from sklearn import datasets\n",
    "from sklearn.neighbors import KNeighborsClassifier"
   ],
   "metadata": {
    "collapsed": false,
    "pycharm": {
     "name": "#%%\n"
    }
   }
  },
  {
   "cell_type": "code",
   "execution_count": 3,
=======
   "outputs": [],
   "source": [
    "%%RecordEvent\n",
    "import numpy as np\n",
    "from sklearn import datasets\n",
    "from sklearn.neighbors import KNeighborsClassifier"
   ],
>>>>>>> 14b33e46311bafc64e38fd9a6304a8737795df39
   "metadata": {
    "collapsed": false,
    "pycharm": {
     "name": "#%%\n"
    }
<<<<<<< HEAD
   },
   "outputs": [
    {
     "name": "stdout",
     "output_type": "stream",
     "text": [
      "<class 'IPython.core.interactiveshell.ExecutionResult'>\n"
     ]
    }
   ],
=======
   }
  },
  {
   "cell_type": "code",
   "execution_count": 3,
   "metadata": {
    "pycharm": {
     "name": "#%%\n"
    }
   },
   "outputs": [],
>>>>>>> 14b33e46311bafc64e38fd9a6304a8737795df39
   "source": [
    "%%RecordEvent\n",
    "iris_X, iris_y = datasets.load_iris(return_X_y=True)"
   ]
  },
  {
   "cell_type": "code",
   "execution_count": 4,
   "metadata": {
    "pycharm": {
     "name": "#%%\n"
    }
   },
<<<<<<< HEAD
   "outputs": [
    {
     "name": "stdout",
     "output_type": "stream",
     "text": [
      "<class 'IPython.core.interactiveshell.ExecutionResult'>\n"
     ]
    }
   ],
=======
   "outputs": [],
>>>>>>> 14b33e46311bafc64e38fd9a6304a8737795df39
   "source": [
    "%%RecordEvent\n",
    "np.random.seed(0)"
   ]
  },
  {
   "cell_type": "code",
   "execution_count": 5,
   "metadata": {
    "pycharm": {
     "name": "#%%\n"
    }
   },
<<<<<<< HEAD
   "outputs": [
    {
     "name": "stdout",
     "output_type": "stream",
     "text": [
      "<class 'IPython.core.interactiveshell.ExecutionResult'>\n"
     ]
    }
   ],
=======
   "outputs": [],
>>>>>>> 14b33e46311bafc64e38fd9a6304a8737795df39
   "source": [
    "%%RecordEvent\n",
    "indices = np.random.permutation(len(iris_X))\n",
    "iris_X_train = iris_X[indices[:-10]]\n",
    "iris_y_train = iris_y[indices[:-10]]\n",
    "iris_X_test = iris_X[indices[-10:]]\n",
    "iris_y_test = iris_y[indices[-10:]]"
   ]
  },
  {
   "cell_type": "code",
   "execution_count": 6,
   "metadata": {
    "pycharm": {
     "name": "#%%\n"
    }
   },
   "outputs": [
    {
     "data": {
      "text/plain": "array([1, 2, 1, 0, 0, 0, 2, 1, 2, 0])"
     },
     "execution_count": 6,
     "metadata": {},
     "output_type": "execute_result"
    },
    {
     "name": "stdout",
     "output_type": "stream",
     "text": [
      "<class 'IPython.core.interactiveshell.ExecutionResult'>\n"
     ]
    }
   ],
   "source": [
    "%%RecordEvent\n",
    "indices = 123\n",
    "knn = KNeighborsClassifier()\n",
    "knn.fit(iris_X_train, iris_y_train)\n",
    "\n",
    "knn.predict(iris_X_test)"
   ]
  },
  {
   "cell_type": "code",
   "execution_count": 7,
   "outputs": [
    {
     "name": "stdout",
     "output_type": "stream",
     "text": [
<<<<<<< HEAD
      "124\n",
      "<class 'IPython.core.interactiveshell.ExecutionResult'>\n"
=======
      "124\n"
>>>>>>> 14b33e46311bafc64e38fd9a6304a8737795df39
     ]
    }
   ],
   "source": [
    "%%RecordEvent\n",
    "def im_a_function(x):\n",
    "    print(x + 1)\n",
    "im_a_function(indices)"
   ],
   "metadata": {
    "collapsed": false,
    "pycharm": {
     "name": "#%%\n"
    }
   }
  },
  {
   "cell_type": "code",
   "execution_count": 8,
   "metadata": {
    "pycharm": {
     "name": "#%%\n"
    }
   },
   "outputs": [
    {
     "name": "stdout",
     "output_type": "stream",
     "text": [
      "---------------------------\n",
      "VSs:\n",
      "np 0\n",
      "datasets 0\n",
      "KNeighborsClassifier 0\n",
      "iris_X 0\n",
      "iris_y 0\n",
      "indices 0\n",
      "indices 1\n",
      "iris_X_train 0\n",
      "iris_y_train 0\n",
      "iris_X_test 0\n",
      "iris_y_test 0\n",
      "knn 0\n",
      "im_a_function 0\n",
      "---------------------------\n",
      "OEs:\n",
<<<<<<< HEAD
      "---------------------------\n",
      "OE num: 0  runtime: 0.3076648712158203\n",
      "sources\n",
      "destinations\n",
      "    np 0\n",
      "    datasets 0\n",
      "    KNeighborsClassifier 0\n",
      "---------------------------\n",
      "OE num: 1  runtime: 0.0023038387298583984\n",
=======
      "---------------------------\n",
      "OE num: 0  runtime: 0.2553229331970215\n",
>>>>>>> 14b33e46311bafc64e38fd9a6304a8737795df39
      "sources\n",
      "    datasets 0\n",
      "destinations\n",
<<<<<<< HEAD
      "    iris_X 0\n",
      "    iris_y 0\n",
      "---------------------------\n",
      "OE num: 2  runtime: 0.00014901161193847656\n",
      "sources\n",
      "    np 0\n",
=======
      "    np 0\n",
      "    datasets 0\n",
      "    KNeighborsClassifier 0\n",
      "---------------------------\n",
      "OE num: 1  runtime: 0.0021126270294189453\n",
      "sources\n",
      "    datasets 0\n",
>>>>>>> 14b33e46311bafc64e38fd9a6304a8737795df39
      "destinations\n",
      "    iris_X 0\n",
      "    iris_y 0\n",
      "---------------------------\n",
<<<<<<< HEAD
      "OE num: 3  runtime: 0.0006048679351806641\n",
      "sources\n",
      "    iris_y 0\n",
      "    iris_X 0\n",
      "    np 0\n",
      "destinations\n",
      "    indices 0\n",
      "    iris_X_train 0\n",
      "    iris_y_train 0\n",
      "    iris_X_test 0\n",
      "    iris_y_test 0\n",
      "---------------------------\n",
      "OE num: 4  runtime: 0.004956960678100586\n",
      "sources\n",
      "    iris_X_test 0\n",
      "    iris_y_train 0\n",
      "    KNeighborsClassifier 0\n",
      "    iris_X_train 0\n",
      "destinations\n",
      "    indices 1\n",
      "    knn 0\n",
      "---------------------------\n",
      "OE num: 5  runtime: 0.0003330707550048828\n",
      "sources\n",
      "    indices 1\n",
      "destinations\n",
=======
      "OE num: 2  runtime: 0.0001583099365234375\n",
      "sources\n",
      "    np 0\n",
      "destinations\n",
      "---------------------------\n",
      "OE num: 3  runtime: 0.0006151199340820312\n",
      "sources\n",
      "    np 0\n",
      "    iris_X 0\n",
      "    iris_y 0\n",
      "destinations\n",
      "    indices 0\n",
      "    iris_X_train 0\n",
      "    iris_y_train 0\n",
      "    iris_X_test 0\n",
      "    iris_y_test 0\n",
      "---------------------------\n",
      "OE num: 4  runtime: 0.004683017730712891\n",
      "sources\n",
      "    KNeighborsClassifier 0\n",
      "    iris_X_train 0\n",
      "    iris_y_train 0\n",
      "    iris_X_test 0\n",
      "destinations\n",
      "    indices 1\n",
      "    knn 0\n",
      "---------------------------\n",
      "OE num: 5  runtime: 0.00023603439331054688\n",
      "sources\n",
      "    indices 1\n",
      "destinations\n",
>>>>>>> 14b33e46311bafc64e38fd9a6304a8737795df39
      "    im_a_function 0\n"
     ]
    }
   ],
   "source": [
    "%Inspect"
   ]
  },
  {
   "cell_type": "code",
   "execution_count": 9,
   "metadata": {
    "pycharm": {
     "name": "#%%\n"
    }
   },
   "outputs": [
    {
     "name": "stdout",
     "output_type": "stream",
     "text": [
<<<<<<< HEAD
      "minimum migration cost: 0.020161777420043946\n",
      "---------------------------\n",
      "variables to migrate:\n",
      "KNeighborsClassifier 1472\n",
      "knn 48\n",
      "np 72\n",
      "datasets 72\n",
      "indices 28\n",
      "---------------------------\n",
      "variables to recompute:\n",
      "iris_X_test 448\n",
      "iris_X_train 4608\n",
      "iris_y 1312\n",
      "iris_y_test 192\n",
      "im_a_function 136\n",
      "iris_y_train 1232\n",
      "iris_X 4928\n",
      "---------------------------\n",
      "OEs to recompute:\n",
      "5 0.0003330707550048828\n",
      "1 0.0023038387298583984\n",
      "3 0.0006048679351806641\n",
=======
      "np 0 False\n",
      "datasets 0 False\n",
      "KNeighborsClassifier 0 False\n",
      "iris_X 0 False\n",
      "iris_y 0 False\n",
      "indices 0 False\n",
      "indices 1 False\n",
      "iris_X_train 0 False\n",
      "iris_y_train 0 False\n",
      "iris_X_test 0 False\n",
      "iris_y_test 0 False\n",
      "knn 0 False\n",
      "im_a_function 0 False\n",
      "minimum migration cost: 0.019883781356811524\n",
      "---------------------------\n",
      "variables to migrate:\n",
      "datasets 72\n",
      "np 72\n",
      "indices 28\n",
      "knn 48\n",
      "KNeighborsClassifier 1472\n",
      "---------------------------\n",
      "variables to recompute:\n",
      "iris_X_test 448\n",
      "iris_X_train 4608\n",
      "iris_y 1312\n",
      "iris_X 4928\n",
      "iris_y_test 192\n",
      "im_a_function 136\n",
      "iris_y_train 1232\n",
      "---------------------------\n",
      "OEs to recompute:\n",
      "3 0.0006151199340820312\n",
      "1 0.0021126270294189453\n",
      "5 0.00023603439331054688\n",
>>>>>>> 14b33e46311bafc64e38fd9a6304a8737795df39
      "Checkpoint saved to: checkpoints/numpy.pickle\n"
     ]
    }
   ],
   "source": [
<<<<<<< HEAD
    "%Checkpoint checkpoints/numpy.pickle"
=======
    "%Checkpoint checkpoints/numpy.pickle\n"
>>>>>>> 14b33e46311bafc64e38fd9a6304a8737795df39
   ]
  },
  {
   "cell_type": "code",
   "execution_count": 9,
   "outputs": [],
   "source": [],
   "metadata": {
    "collapsed": false,
    "pycharm": {
     "name": "#%%\n"
    }
   }
  }
 ],
 "metadata": {
  "interpreter": {
   "hash": "73e29f827a180d655af59b8e84c2509fd207c6d30a6436933ca2d326b6144ecd"
  },
  "kernelspec": {
   "display_name": "Python 3.9.12 ('.env': venv)",
   "language": "python",
   "name": "python3"
  },
  "language_info": {
   "codemirror_mode": {
    "name": "ipython",
    "version": 3
   },
   "file_extension": ".py",
   "mimetype": "text/x-python",
   "name": "python",
   "nbconvert_exporter": "python",
   "pygments_lexer": "ipython3",
   "version": "3.9.12"
  },
  "orig_nbformat": 4
 },
 "nbformat": 4,
 "nbformat_minor": 2
}