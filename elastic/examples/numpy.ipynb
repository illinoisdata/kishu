{
 "cells": [
  {
   "cell_type": "code",
   "execution_count": 1,
   "metadata": {
    "pycharm": {
     "name": "#%%\n"
    }
   },
   "outputs": [],
   "source": [
    "import sys, os\n",
    "sys.path.insert(0, os.path.abspath(\"../..\"))\n",
    "%load_ext elastic.core.notebook.elastic_notebook"
   ]
  },
  {
   "cell_type": "code",
   "execution_count": 2,
   "outputs": [
    {
     "name": "stdout",
     "output_type": "stream",
     "text": [
      "Instruction(opname='LOAD_CONST', opcode=100, arg=0, argval=0, argrepr='0', offset=0, starts_line=1, is_jump_target=False)\n",
      "Instruction(opname='LOAD_CONST', opcode=100, arg=1, argval=None, argrepr='None', offset=2, starts_line=None, is_jump_target=False)\n",
      "Instruction(opname='IMPORT_NAME', opcode=108, arg=0, argval='numpy', argrepr='numpy', offset=4, starts_line=None, is_jump_target=False)\n",
      "Instruction(opname='STORE_NAME', opcode=90, arg=1, argval='np', argrepr='np', offset=6, starts_line=None, is_jump_target=False)\n",
      "Instruction(opname='LOAD_CONST', opcode=100, arg=0, argval=0, argrepr='0', offset=8, starts_line=2, is_jump_target=False)\n",
      "Instruction(opname='LOAD_CONST', opcode=100, arg=2, argval=('datasets',), argrepr=\"('datasets',)\", offset=10, starts_line=None, is_jump_target=False)\n",
      "Instruction(opname='IMPORT_NAME', opcode=108, arg=2, argval='sklearn', argrepr='sklearn', offset=12, starts_line=None, is_jump_target=False)\n",
      "Instruction(opname='IMPORT_FROM', opcode=109, arg=3, argval='datasets', argrepr='datasets', offset=14, starts_line=None, is_jump_target=False)\n",
      "Instruction(opname='STORE_NAME', opcode=90, arg=3, argval='datasets', argrepr='datasets', offset=16, starts_line=None, is_jump_target=False)\n",
      "Instruction(opname='POP_TOP', opcode=1, arg=None, argval=None, argrepr='', offset=18, starts_line=None, is_jump_target=False)\n",
      "Instruction(opname='LOAD_CONST', opcode=100, arg=0, argval=0, argrepr='0', offset=20, starts_line=3, is_jump_target=False)\n",
      "Instruction(opname='LOAD_CONST', opcode=100, arg=3, argval=('KNeighborsClassifier',), argrepr=\"('KNeighborsClassifier',)\", offset=22, starts_line=None, is_jump_target=False)\n",
      "Instruction(opname='IMPORT_NAME', opcode=108, arg=4, argval='sklearn.neighbors', argrepr='sklearn.neighbors', offset=24, starts_line=None, is_jump_target=False)\n",
      "Instruction(opname='IMPORT_FROM', opcode=109, arg=5, argval='KNeighborsClassifier', argrepr='KNeighborsClassifier', offset=26, starts_line=None, is_jump_target=False)\n",
      "Instruction(opname='STORE_NAME', opcode=90, arg=5, argval='KNeighborsClassifier', argrepr='KNeighborsClassifier', offset=28, starts_line=None, is_jump_target=False)\n",
      "Instruction(opname='POP_TOP', opcode=1, arg=None, argval=None, argrepr='', offset=30, starts_line=None, is_jump_target=False)\n",
      "Instruction(opname='LOAD_CONST', opcode=100, arg=1, argval=None, argrepr='None', offset=32, starts_line=None, is_jump_target=False)\n",
      "Instruction(opname='RETURN_VALUE', opcode=83, arg=None, argval=None, argrepr='', offset=34, starts_line=None, is_jump_target=False)\n"
     ]
    }
   ],
   "source": [
    "%%RecordEvent\n",
    "import numpy as np\n",
    "from sklearn import datasets\n",
    "from sklearn.neighbors import KNeighborsClassifier"
   ],
   "metadata": {
    "collapsed": false,
    "pycharm": {
     "name": "#%%\n"
    }
   }
  },
  {
   "cell_type": "code",
   "execution_count": 3,
   "metadata": {
    "pycharm": {
     "name": "#%%\n"
    }
   },
   "outputs": [
    {
     "name": "stdout",
     "output_type": "stream",
     "text": [
      "Instruction(opname='LOAD_NAME', opcode=101, arg=0, argval='datasets', argrepr='datasets', offset=0, starts_line=1, is_jump_target=False)\n",
      "Instruction(opname='LOAD_ATTR', opcode=106, arg=1, argval='load_iris', argrepr='load_iris', offset=2, starts_line=None, is_jump_target=False)\n",
      "Instruction(opname='LOAD_CONST', opcode=100, arg=0, argval=True, argrepr='True', offset=4, starts_line=None, is_jump_target=False)\n",
      "Instruction(opname='LOAD_CONST', opcode=100, arg=1, argval=('return_X_y',), argrepr=\"('return_X_y',)\", offset=6, starts_line=None, is_jump_target=False)\n",
      "Instruction(opname='CALL_FUNCTION_KW', opcode=141, arg=1, argval=1, argrepr='', offset=8, starts_line=None, is_jump_target=False)\n",
      "Instruction(opname='UNPACK_SEQUENCE', opcode=92, arg=2, argval=2, argrepr='', offset=10, starts_line=None, is_jump_target=False)\n",
      "Instruction(opname='STORE_NAME', opcode=90, arg=2, argval='iris_X', argrepr='iris_X', offset=12, starts_line=None, is_jump_target=False)\n",
      "Instruction(opname='STORE_NAME', opcode=90, arg=3, argval='iris_y', argrepr='iris_y', offset=14, starts_line=None, is_jump_target=False)\n",
      "Instruction(opname='LOAD_CONST', opcode=100, arg=2, argval=None, argrepr='None', offset=16, starts_line=None, is_jump_target=False)\n",
      "Instruction(opname='RETURN_VALUE', opcode=83, arg=None, argval=None, argrepr='', offset=18, starts_line=None, is_jump_target=False)\n"
     ]
    }
   ],
   "source": [
    "%%RecordEvent\n",
    "iris_X, iris_y = datasets.load_iris(return_X_y=True)"
   ]
  },
  {
   "cell_type": "code",
   "execution_count": 4,
   "metadata": {
    "pycharm": {
     "name": "#%%\n"
    }
   },
   "outputs": [
    {
     "name": "stdout",
     "output_type": "stream",
     "text": [
      "Instruction(opname='LOAD_NAME', opcode=101, arg=0, argval='np', argrepr='np', offset=0, starts_line=1, is_jump_target=False)\n",
      "Instruction(opname='LOAD_ATTR', opcode=106, arg=1, argval='random', argrepr='random', offset=2, starts_line=None, is_jump_target=False)\n",
      "Instruction(opname='LOAD_METHOD', opcode=160, arg=2, argval='seed', argrepr='seed', offset=4, starts_line=None, is_jump_target=False)\n",
      "Instruction(opname='LOAD_CONST', opcode=100, arg=0, argval=0, argrepr='0', offset=6, starts_line=None, is_jump_target=False)\n",
      "Instruction(opname='CALL_METHOD', opcode=161, arg=1, argval=1, argrepr='', offset=8, starts_line=None, is_jump_target=False)\n",
      "Instruction(opname='RETURN_VALUE', opcode=83, arg=None, argval=None, argrepr='', offset=10, starts_line=None, is_jump_target=False)\n"
     ]
    }
   ],
   "source": [
    "%%RecordEvent\n",
    "np.random.seed(0)"
   ]
  },
  {
   "cell_type": "code",
   "execution_count": 5,
   "metadata": {
    "pycharm": {
     "name": "#%%\n"
    }
   },
   "outputs": [
    {
     "name": "stdout",
     "output_type": "stream",
     "text": [
      "Instruction(opname='LOAD_NAME', opcode=101, arg=0, argval='np', argrepr='np', offset=0, starts_line=1, is_jump_target=False)\n",
      "Instruction(opname='LOAD_ATTR', opcode=106, arg=1, argval='random', argrepr='random', offset=2, starts_line=None, is_jump_target=False)\n",
      "Instruction(opname='LOAD_METHOD', opcode=160, arg=2, argval='permutation', argrepr='permutation', offset=4, starts_line=None, is_jump_target=False)\n",
      "Instruction(opname='LOAD_NAME', opcode=101, arg=3, argval='len', argrepr='len', offset=6, starts_line=None, is_jump_target=False)\n",
      "Instruction(opname='LOAD_NAME', opcode=101, arg=4, argval='iris_X', argrepr='iris_X', offset=8, starts_line=None, is_jump_target=False)\n",
      "Instruction(opname='CALL_FUNCTION', opcode=131, arg=1, argval=1, argrepr='', offset=10, starts_line=None, is_jump_target=False)\n",
      "Instruction(opname='CALL_METHOD', opcode=161, arg=1, argval=1, argrepr='', offset=12, starts_line=None, is_jump_target=False)\n",
      "Instruction(opname='STORE_NAME', opcode=90, arg=5, argval='indices', argrepr='indices', offset=14, starts_line=None, is_jump_target=False)\n",
      "Instruction(opname='LOAD_NAME', opcode=101, arg=4, argval='iris_X', argrepr='iris_X', offset=16, starts_line=2, is_jump_target=False)\n",
      "Instruction(opname='LOAD_NAME', opcode=101, arg=5, argval='indices', argrepr='indices', offset=18, starts_line=None, is_jump_target=False)\n",
      "Instruction(opname='LOAD_CONST', opcode=100, arg=0, argval=None, argrepr='None', offset=20, starts_line=None, is_jump_target=False)\n",
      "Instruction(opname='LOAD_CONST', opcode=100, arg=1, argval=-10, argrepr='-10', offset=22, starts_line=None, is_jump_target=False)\n",
      "Instruction(opname='BUILD_SLICE', opcode=133, arg=2, argval=2, argrepr='', offset=24, starts_line=None, is_jump_target=False)\n",
      "Instruction(opname='BINARY_SUBSCR', opcode=25, arg=None, argval=None, argrepr='', offset=26, starts_line=None, is_jump_target=False)\n",
      "Instruction(opname='BINARY_SUBSCR', opcode=25, arg=None, argval=None, argrepr='', offset=28, starts_line=None, is_jump_target=False)\n",
      "Instruction(opname='STORE_NAME', opcode=90, arg=6, argval='iris_X_train', argrepr='iris_X_train', offset=30, starts_line=None, is_jump_target=False)\n",
      "Instruction(opname='LOAD_NAME', opcode=101, arg=7, argval='iris_y', argrepr='iris_y', offset=32, starts_line=3, is_jump_target=False)\n",
      "Instruction(opname='LOAD_NAME', opcode=101, arg=5, argval='indices', argrepr='indices', offset=34, starts_line=None, is_jump_target=False)\n",
      "Instruction(opname='LOAD_CONST', opcode=100, arg=0, argval=None, argrepr='None', offset=36, starts_line=None, is_jump_target=False)\n",
      "Instruction(opname='LOAD_CONST', opcode=100, arg=1, argval=-10, argrepr='-10', offset=38, starts_line=None, is_jump_target=False)\n",
      "Instruction(opname='BUILD_SLICE', opcode=133, arg=2, argval=2, argrepr='', offset=40, starts_line=None, is_jump_target=False)\n",
      "Instruction(opname='BINARY_SUBSCR', opcode=25, arg=None, argval=None, argrepr='', offset=42, starts_line=None, is_jump_target=False)\n",
      "Instruction(opname='BINARY_SUBSCR', opcode=25, arg=None, argval=None, argrepr='', offset=44, starts_line=None, is_jump_target=False)\n",
      "Instruction(opname='STORE_NAME', opcode=90, arg=8, argval='iris_y_train', argrepr='iris_y_train', offset=46, starts_line=None, is_jump_target=False)\n",
      "Instruction(opname='LOAD_NAME', opcode=101, arg=4, argval='iris_X', argrepr='iris_X', offset=48, starts_line=4, is_jump_target=False)\n",
      "Instruction(opname='LOAD_NAME', opcode=101, arg=5, argval='indices', argrepr='indices', offset=50, starts_line=None, is_jump_target=False)\n",
      "Instruction(opname='LOAD_CONST', opcode=100, arg=1, argval=-10, argrepr='-10', offset=52, starts_line=None, is_jump_target=False)\n",
      "Instruction(opname='LOAD_CONST', opcode=100, arg=0, argval=None, argrepr='None', offset=54, starts_line=None, is_jump_target=False)\n",
      "Instruction(opname='BUILD_SLICE', opcode=133, arg=2, argval=2, argrepr='', offset=56, starts_line=None, is_jump_target=False)\n",
      "Instruction(opname='BINARY_SUBSCR', opcode=25, arg=None, argval=None, argrepr='', offset=58, starts_line=None, is_jump_target=False)\n",
      "Instruction(opname='BINARY_SUBSCR', opcode=25, arg=None, argval=None, argrepr='', offset=60, starts_line=None, is_jump_target=False)\n",
      "Instruction(opname='STORE_NAME', opcode=90, arg=9, argval='iris_X_test', argrepr='iris_X_test', offset=62, starts_line=None, is_jump_target=False)\n",
      "Instruction(opname='LOAD_NAME', opcode=101, arg=7, argval='iris_y', argrepr='iris_y', offset=64, starts_line=5, is_jump_target=False)\n",
      "Instruction(opname='LOAD_NAME', opcode=101, arg=5, argval='indices', argrepr='indices', offset=66, starts_line=None, is_jump_target=False)\n",
      "Instruction(opname='LOAD_CONST', opcode=100, arg=1, argval=-10, argrepr='-10', offset=68, starts_line=None, is_jump_target=False)\n",
      "Instruction(opname='LOAD_CONST', opcode=100, arg=0, argval=None, argrepr='None', offset=70, starts_line=None, is_jump_target=False)\n",
      "Instruction(opname='BUILD_SLICE', opcode=133, arg=2, argval=2, argrepr='', offset=72, starts_line=None, is_jump_target=False)\n",
      "Instruction(opname='BINARY_SUBSCR', opcode=25, arg=None, argval=None, argrepr='', offset=74, starts_line=None, is_jump_target=False)\n",
      "Instruction(opname='BINARY_SUBSCR', opcode=25, arg=None, argval=None, argrepr='', offset=76, starts_line=None, is_jump_target=False)\n",
      "Instruction(opname='STORE_NAME', opcode=90, arg=10, argval='iris_y_test', argrepr='iris_y_test', offset=78, starts_line=None, is_jump_target=False)\n",
      "Instruction(opname='LOAD_CONST', opcode=100, arg=0, argval=None, argrepr='None', offset=80, starts_line=None, is_jump_target=False)\n",
      "Instruction(opname='RETURN_VALUE', opcode=83, arg=None, argval=None, argrepr='', offset=82, starts_line=None, is_jump_target=False)\n"
     ]
    }
   ],
   "source": [
    "%%RecordEvent\n",
    "indices = np.random.permutation(len(iris_X))\n",
    "iris_X_train = iris_X[indices[:-10]]\n",
    "iris_y_train = iris_y[indices[:-10]]\n",
    "iris_X_test = iris_X[indices[-10:]]\n",
    "iris_y_test = iris_y[indices[-10:]]"
   ]
  },
  {
   "cell_type": "code",
   "execution_count": 6,
   "metadata": {
    "pycharm": {
     "name": "#%%\n"
    }
   },
   "outputs": [
    {
     "data": {
      "text/plain": "array([1, 2, 1, 0, 0, 0, 2, 1, 2, 0])"
     },
     "execution_count": 6,
     "metadata": {},
     "output_type": "execute_result"
    },
    {
     "name": "stdout",
     "output_type": "stream",
     "text": [
      "Instruction(opname='LOAD_CONST', opcode=100, arg=0, argval=123, argrepr='123', offset=0, starts_line=1, is_jump_target=False)\n",
      "Instruction(opname='STORE_NAME', opcode=90, arg=0, argval='indices', argrepr='indices', offset=2, starts_line=None, is_jump_target=False)\n",
      "Instruction(opname='LOAD_NAME', opcode=101, arg=1, argval='KNeighborsClassifier', argrepr='KNeighborsClassifier', offset=4, starts_line=2, is_jump_target=False)\n",
      "Instruction(opname='CALL_FUNCTION', opcode=131, arg=0, argval=0, argrepr='', offset=6, starts_line=None, is_jump_target=False)\n",
      "Instruction(opname='STORE_NAME', opcode=90, arg=2, argval='knn', argrepr='knn', offset=8, starts_line=None, is_jump_target=False)\n",
      "Instruction(opname='LOAD_NAME', opcode=101, arg=2, argval='knn', argrepr='knn', offset=10, starts_line=3, is_jump_target=False)\n",
      "Instruction(opname='LOAD_METHOD', opcode=160, arg=3, argval='fit', argrepr='fit', offset=12, starts_line=None, is_jump_target=False)\n",
      "Instruction(opname='LOAD_NAME', opcode=101, arg=4, argval='iris_X_train', argrepr='iris_X_train', offset=14, starts_line=None, is_jump_target=False)\n",
      "Instruction(opname='LOAD_NAME', opcode=101, arg=5, argval='iris_y_train', argrepr='iris_y_train', offset=16, starts_line=None, is_jump_target=False)\n",
      "Instruction(opname='CALL_METHOD', opcode=161, arg=2, argval=2, argrepr='', offset=18, starts_line=None, is_jump_target=False)\n",
      "Instruction(opname='POP_TOP', opcode=1, arg=None, argval=None, argrepr='', offset=20, starts_line=None, is_jump_target=False)\n",
      "Instruction(opname='LOAD_NAME', opcode=101, arg=2, argval='knn', argrepr='knn', offset=22, starts_line=5, is_jump_target=False)\n",
      "Instruction(opname='LOAD_METHOD', opcode=160, arg=6, argval='predict', argrepr='predict', offset=24, starts_line=None, is_jump_target=False)\n",
      "Instruction(opname='LOAD_NAME', opcode=101, arg=7, argval='iris_X_test', argrepr='iris_X_test', offset=26, starts_line=None, is_jump_target=False)\n",
      "Instruction(opname='CALL_METHOD', opcode=161, arg=1, argval=1, argrepr='', offset=28, starts_line=None, is_jump_target=False)\n",
      "Instruction(opname='POP_TOP', opcode=1, arg=None, argval=None, argrepr='', offset=30, starts_line=None, is_jump_target=False)\n",
      "Instruction(opname='LOAD_CONST', opcode=100, arg=1, argval=None, argrepr='None', offset=32, starts_line=None, is_jump_target=False)\n",
      "Instruction(opname='RETURN_VALUE', opcode=83, arg=None, argval=None, argrepr='', offset=34, starts_line=None, is_jump_target=False)\n"
     ]
    }
   ],
   "source": [
    "%%RecordEvent\n",
    "indices = 123\n",
    "knn = KNeighborsClassifier()\n",
    "knn.fit(iris_X_train, iris_y_train)\n",
    "\n",
    "knn.predict(iris_X_test)"
   ]
  },
  {
   "cell_type": "code",
   "execution_count": 7,
   "metadata": {
    "pycharm": {
     "name": "#%%\n"
    }
   },
   "outputs": [
    {
     "name": "stdout",
     "output_type": "stream",
     "text": [
      "---------------------------\n",
      "VSs:\n",
      "np 0\n",
      "datasets 0\n",
      "KNeighborsClassifier 0\n",
      "iris_X 0\n",
      "iris_y 0\n",
      "indices 0\n",
      "indices 1\n",
      "iris_X_train 0\n",
      "iris_y_train 0\n",
      "iris_X_test 0\n",
      "iris_y_test 0\n",
      "knn 0\n",
      "---------------------------\n",
      "OEs:\n",
      "---------------------------\n",
      "OE num: 0  runtime: 0.2941319942474365\n",
      "sources\n",
      "destinations\n",
      "    np 0\n",
      "    datasets 0\n",
      "    KNeighborsClassifier 0\n",
      "---------------------------\n",
      "OE num: 1  runtime: 0.001744985580444336\n",
      "sources\n",
      "    datasets 0\n",
      "destinations\n",
      "    iris_X 0\n",
      "    iris_y 0\n",
      "---------------------------\n",
      "OE num: 2  runtime: 0.00014901161193847656\n",
      "sources\n",
      "    np 0\n",
      "destinations\n",
      "---------------------------\n",
      "OE num: 3  runtime: 0.0004630088806152344\n",
      "sources\n",
      "    np 0\n",
      "    iris_X 0\n",
      "    iris_y 0\n",
      "destinations\n",
      "    indices 0\n",
      "    iris_X_train 0\n",
      "    iris_y_train 0\n",
      "    iris_X_test 0\n",
      "    iris_y_test 0\n",
      "---------------------------\n",
      "OE num: 4  runtime: 0.00459599494934082\n",
      "sources\n",
      "    KNeighborsClassifier 0\n",
      "    iris_X_train 0\n",
      "    iris_y_train 0\n",
      "    iris_X_test 0\n",
      "destinations\n",
      "    indices 1\n",
      "    knn 0\n"
     ]
    }
   ],
   "source": [
    "%Inspect"
   ]
  },
  {
   "cell_type": "code",
   "execution_count": 8,
   "metadata": {
    "pycharm": {
     "name": "#%%\n"
    }
   },
   "outputs": [
    {
     "name": "stdout",
     "output_type": "stream",
     "text": [
      "minimum migration cost: 0.01912799446105957\n",
      "---------------------------\n",
      "variables to migrate:\n",
      "indices 28\n",
      "KNeighborsClassifier 1472\n",
      "np 72\n",
      "datasets 72\n",
      "knn 48\n",
      "---------------------------\n",
      "variables to recompute:\n",
      "iris_y_train 1232\n",
      "iris_y_test 192\n",
      "iris_X_test 448\n",
      "iris_y 1312\n",
      "iris_X_train 4608\n",
      "iris_X 4928\n",
      "---------------------------\n",
      "OEs to recompute:\n",
      "3 0.0004630088806152344\n",
      "1 0.001744985580444336\n",
      "Checkpoint saved to: checkpoints/numpy.pickle\n"
     ]
    }
   ],
   "source": [
    "%Checkpoint checkpoints/numpy.pickle\n"
   ]
  }
 ],
 "metadata": {
  "interpreter": {
   "hash": "73e29f827a180d655af59b8e84c2509fd207c6d30a6436933ca2d326b6144ecd"
  },
  "kernelspec": {
   "display_name": "Python 3.9.12 ('.env': venv)",
   "language": "python",
   "name": "python3"
  },
  "language_info": {
   "codemirror_mode": {
    "name": "ipython",
    "version": 3
   },
   "file_extension": ".py",
   "mimetype": "text/x-python",
   "name": "python",
   "nbconvert_exporter": "python",
   "pygments_lexer": "ipython3",
   "version": "3.9.12"
  },
  "orig_nbformat": 4
 },
 "nbformat": 4,
 "nbformat_minor": 2
}