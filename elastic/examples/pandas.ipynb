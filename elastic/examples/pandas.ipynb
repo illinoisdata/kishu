{
 "cells": [
  {
   "cell_type": "code",
   "execution_count": null,
   "metadata": {},
   "outputs": [],
   "source": [
    "import pandas as pd\n",
    "\n",
    "import elastic.container\n",
    "from elastic.record_event import RecordEvent\n",
    "\n",
    "@RecordEvent\n",
    "def cell_2():\n",
    "    gl = pd.read_csv('game_logs.csv')\n",
    "    \n",
    "    return gl"
   ]
  },
  {
   "cell_type": "code",
   "execution_count": null,
   "metadata": {},
   "outputs": [],
   "source": [
    "gl = cell_2()\n",
    "\n",
    "gl.head()"
   ]
  },
  {
   "cell_type": "code",
   "execution_count": null,
   "metadata": {},
   "outputs": [],
   "source": [
    "@RecordEvent\n",
    "def cell_3():\n",
    "    gl.info(memory_usage='deep')"
   ]
  },
  {
   "cell_type": "code",
   "execution_count": null,
   "metadata": {},
   "outputs": [],
   "source": [
    "cell_3()"
   ]
  },
  {
   "cell_type": "code",
   "execution_count": null,
   "metadata": {},
   "outputs": [],
   "source": [
    "@RecordEvent\n",
    "def cell_4():\n",
    "    for dtype in ['float','int','object']:\n",
    "        selected_dtype = gl.select_dtypes(include=[dtype])\n",
    "        mean_usage_b = selected_dtype.memory_usage(deep=True).mean()\n",
    "        mean_usage_mb = mean_usage_b / 1024 ** 2\n",
    "        print(\"Average memory usage for {} columns: {:03.2f} MB\".format(dtype,mean_usage_mb))\n",
    "    return selected_dtype, mean_usage_b, mean_usage_mb"
   ]
  },
  {
   "cell_type": "code",
   "execution_count": null,
   "metadata": {},
   "outputs": [],
   "source": [
    "selected_dtype, mean_usage_b, mean_usage_mb = cell_4()"
   ]
  },
  {
   "cell_type": "code",
   "execution_count": null,
   "metadata": {},
   "outputs": [],
   "source": [
    "def mem_usage(pandas_obj):\n",
    "    if isinstance(pandas_obj,pd.DataFrame):\n",
    "        usage_b = pandas_obj.memory_usage(deep=True).sum()\n",
    "    else: # we assume if not a df it's a series\n",
    "        usage_b = pandas_obj.memory_usage(deep=True)\n",
    "    usage_mb = usage_b / 1024 ** 2 # convert bytes to megabytes\n",
    "    return \"{:03.2f} MB\".format(usage_mb)"
   ]
  },
  {
   "cell_type": "code",
   "execution_count": null,
   "metadata": {},
   "outputs": [],
   "source": [
    "@RecordEvent\n",
    "def cell_5():\n",
    "    gl_int = gl.select_dtypes(include=['int'])\n",
    "    converted_int = gl_int.apply(pd.to_numeric,downcast='unsigned')\n",
    "    print(mem_usage(gl_int))\n",
    "    print(mem_usage(converted_int))\n",
    "    compare_ints = pd.concat([gl_int.dtypes,converted_int.dtypes],axis=1)\n",
    "    compare_ints.columns = ['before','after']\n",
    "    compare_ints.apply(pd.Series.value_counts)\n",
    "    \n",
    "    return gl_int, converted_int, compare_ints"
   ]
  },
  {
   "cell_type": "code",
   "execution_count": null,
   "metadata": {},
   "outputs": [],
   "source": [
    "gl_int, converted_int, compare_ints = cell_5()"
   ]
  },
  {
   "cell_type": "code",
   "execution_count": null,
   "metadata": {},
   "outputs": [],
   "source": [
    "@RecordEvent\n",
    "def cell_6():\n",
    "    gl_float = gl.select_dtypes(include=['float'])\n",
    "    converted_float = gl_float.apply(pd.to_numeric,downcast='float')\n",
    "    print(mem_usage(gl_float))\n",
    "    print(mem_usage(converted_float))\n",
    "    compare_floats = pd.concat([gl_float.dtypes,converted_float.dtypes],axis=1)\n",
    "    compare_floats.columns = ['before','after']\n",
    "    compare_floats.apply(pd.Series.value_counts)\n",
    "    \n",
    "    return gl_int, converted_float, compare_floats"
   ]
  },
  {
   "cell_type": "code",
   "execution_count": null,
   "metadata": {},
   "outputs": [],
   "source": [
    "gl_int, converted_float, compare_floats = cell_6()"
   ]
  },
  {
   "cell_type": "code",
   "execution_count": null,
   "metadata": {},
   "outputs": [],
   "source": [
    "@RecordEvent\n",
    "def cell_7():\n",
    "    optimized_gl = gl.copy()\n",
    "    optimized_gl[converted_int.columns] = converted_int\n",
    "    optimized_gl[converted_float.columns] = converted_float\n",
    "    \n",
    "    print(mem_usage(gl))\n",
    "    print(mem_usage(optimized_gl))\n",
    "    \n",
    "    return optimized_gl"
   ]
  },
  {
   "cell_type": "code",
   "execution_count": null,
   "metadata": {},
   "outputs": [],
   "source": [
    "optimized_gl = cell_7()"
   ]
  },
  {
   "cell_type": "code",
   "execution_count": null,
   "metadata": {},
   "outputs": [],
   "source": [
    "@RecordEvent\n",
    "def cell_8():\n",
    "    gl_obj = gl.select_dtypes(include=['object']).copy()\n",
    "    \n",
    "    return gl_obj"
   ]
  },
  {
   "cell_type": "code",
   "execution_count": null,
   "metadata": {},
   "outputs": [],
   "source": [
    "gl_obj = cell_8()\n",
    "gl_obj.describe()"
   ]
  },
  {
   "cell_type": "code",
   "execution_count": null,
   "metadata": {},
   "outputs": [],
   "source": [
    "@RecordEvent\n",
    "def cell_9():\n",
    "    dow = gl_obj.day_of_week\n",
    "    print(dow.head())\n",
    "    dow_cat = dow.astype('category')\n",
    "    print(dow_cat.head())\n",
    "    \n",
    "    return dow, dow_cat"
   ]
  },
  {
   "cell_type": "code",
   "execution_count": null,
   "metadata": {},
   "outputs": [],
   "source": [
    "dow, dow_cat = cell_9()"
   ]
  },
  {
   "cell_type": "code",
   "execution_count": null,
   "metadata": {},
   "outputs": [],
   "source": [
    "@RecordEvent\n",
    "def cell_10():\n",
    "    converted_obj = pd.DataFrame()\n",
    "    for col in gl_obj.columns:\n",
    "        num_unique_values = len(gl_obj[col].unique())\n",
    "        num_total_values = len(gl_obj[col])\n",
    "        if num_unique_values / num_total_values < 0.5:\n",
    "            converted_obj.loc[:,col] = gl_obj[col].astype('category')\n",
    "        else:\n",
    "            converted_obj.loc[:,col] = gl_obj[col]\n",
    "    \n",
    "    return converted_obj, num_unique_values, num_total_values"
   ]
  },
  {
   "cell_type": "code",
   "execution_count": null,
   "metadata": {},
   "outputs": [],
   "source": [
    "converted_obj, num_unique_values, num_total_values = cell_10()"
   ]
  },
  {
   "cell_type": "code",
   "execution_count": null,
   "metadata": {},
   "outputs": [],
   "source": [
    "for x in elastic.container.operation_events:\n",
    "    print(x, \"\\n\")"
   ]
  },
  {
   "cell_type": "code",
   "execution_count": null,
   "metadata": {},
   "outputs": [],
   "source": [
    "for x in elastic.container.data_events:\n",
    "    print(x, \"\\n\")"
   ]
  },
  {
   "cell_type": "code",
   "execution_count": null,
   "metadata": {},
   "outputs": [],
   "source": [
    "parent_lookup = {oe: set() for oe in elastic.container.operation_events}\n",
    "children_lookup = {oe: set() for oe in elastic.container.operation_events}"
   ]
  },
  {
   "cell_type": "code",
   "execution_count": null,
   "metadata": {},
   "outputs": [],
   "source": [
    "for oe in elastic.container.operation_events:\n",
    "    for related_data_event in elastic.container.operation_event_lookup[oe.exec_uuid].related_data_events:\n",
    "        parent_oe = related_data_event.prev_operation_event\n",
    "        \n",
    "        parent_lookup[oe].add(parent_oe)\n",
    "        children_lookup[parent_oe].add(oe)"
   ]
  }
 ],
 "metadata": {
  "language_info": {
   "name": "python"
  },
  "orig_nbformat": 4
 },
 "nbformat": 4,
 "nbformat_minor": 2
}
