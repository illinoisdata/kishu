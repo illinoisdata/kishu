{
 "cells": [
  {
   "cell_type": "code",
   "execution_count": 1,
   "metadata": {},
   "outputs": [],
   "source": [
    "import os, sys\n",
    "sys.path.insert(0, os.path.abspath(\"..\"))\n",
    "\n",
    "import numpy as np\n",
    "\n",
    "import core.container\n",
    "from core.record_event import RecordEvent\n",
    "from core.record_event import ClearEvent\n",
    "\n",
    "ClearEvent()"
   ]
  },
  {
   "cell_type": "code",
   "execution_count": 2,
   "metadata": {},
   "outputs": [],
   "source": [
    "@RecordEvent\n",
    "def cell_2():\n",
    "    a = 2+3\n",
    "    b = 2\n",
    "    return a,b"
   ]
  },
  {
   "cell_type": "code",
   "execution_count": 3,
   "metadata": {},
   "outputs": [
    {
     "name": "stdout",
     "output_type": "stream",
     "text": [
      "container created for variable  2001630462320\n",
      "container created for variable  2001630462224\n"
     ]
    }
   ],
   "source": [
    "a,b = cell_2()"
   ]
  },
  {
   "cell_type": "code",
   "execution_count": 4,
   "metadata": {},
   "outputs": [],
   "source": [
    "@RecordEvent\n",
    "def cell_3():\n",
    "    c = a*b\n",
    "    return c"
   ]
  },
  {
   "cell_type": "code",
   "execution_count": 5,
   "metadata": {},
   "outputs": [
    {
     "name": "stdout",
     "output_type": "stream",
     "text": [
      "container created for variable  2001630462480\n"
     ]
    }
   ],
   "source": [
    "c = cell_3()"
   ]
  },
  {
   "cell_type": "code",
   "execution_count": 6,
   "metadata": {},
   "outputs": [
    {
     "name": "stdout",
     "output_type": "stream",
     "text": [
      "Creating an edge for each Operation Event in the Dependency Graph\n",
      "[Edge details:- \n",
      "Operation Event - Operation with name cell_2 and id 0 started at 2022-09-18 17:39:06.301480 and ended at 2022-09-18 17:39:06.301480, 0:00:00 s elapsed, 0 related data events\n",
      "Duration - 0:00:00\n",
      "Source - <core.graph.node_set.NodeSet object at 0x000001D20FDD7430>\n",
      "Destination - <core.graph.node_set.NodeSet object at 0x000001D20FE5C250>\n",
      ", Edge details:- \n",
      "Operation Event - Operation with name cell_3 and id 1 started at 2022-09-18 17:39:06.423195 and ended at 2022-09-18 17:39:06.423195, 0:00:00 s elapsed, 2 related data events\n",
      "Duration - 0:00:00\n",
      "Source - <core.graph.node_set.NodeSet object at 0x000001D20FE5C310>\n",
      "Destination - <core.graph.node_set.NodeSet object at 0x000001D20FE5C370>\n",
      "]\n"
     ]
    }
   ],
   "source": [
    "from algorithm.graph_construction import GraphConstruction\n",
    "\n",
    "g = GraphConstruction()\n",
    "g.create_edges()\n",
    "print(g.graph.edges)"
   ]
  },
  {
   "cell_type": "code",
   "execution_count": 7,
   "metadata": {},
   "outputs": [],
   "source": [
    "# for x in core.event.operation_events:\n",
    "#     print(x, \"\\n\")\n",
    "#     print(\"related data events: \\n\")\n",
    "#     for y in x.related_data_events:\n",
    "#         print(y, \"\\n\")\n",
    "#     print(\"------------\")"
   ]
  },
  {
   "cell_type": "code",
   "execution_count": 8,
   "metadata": {},
   "outputs": [],
   "source": [
    "# for x in core.event.data_events:\n",
    "#    print(x, \"\\n\")"
   ]
  },
  {
   "cell_type": "code",
   "execution_count": 9,
   "metadata": {},
   "outputs": [],
   "source": [
    "# for x in core.event.data_containers:\n",
    "#     print(x,\"\\n\")\n",
    "#     print(x.get_related_oe(), \"\\n\")"
   ]
  },
  {
   "cell_type": "code",
   "execution_count": 10,
   "metadata": {},
   "outputs": [],
   "source": [
    "# parent_lookup = {oe: set() for oe in core.event.operation_events}\n",
    "# children_lookup = {oe: set() for oe in core.event.operation_events}"
   ]
  },
  {
   "cell_type": "code",
   "execution_count": 11,
   "metadata": {},
   "outputs": [],
   "source": [
    "# print(core.event.operation_event_lookup)"
   ]
  },
  {
   "cell_type": "code",
   "execution_count": 12,
   "metadata": {},
   "outputs": [],
   "source": [
    "# for oe in core.event.operation_events:\n",
    "#     for related_data_event in core.event.operation_event_lookup[oe.exec_uuid].related_data_events:\n",
    "#         parent_oe = related_data_event.prev_operation_event\n",
    "        \n",
    "#         parent_lookup[oe].add(parent_oe)\n",
    "#         children_lookup[parent_oe].add(oe)"
   ]
  },
  {
   "cell_type": "code",
   "execution_count": 13,
   "metadata": {},
   "outputs": [],
   "source": [
    "# print(parent_lookup)\n",
    "# print(children_lookup)"
   ]
  }
 ],
 "metadata": {
  "kernelspec": {
   "display_name": "Python 3.10.7 ('.env': venv)",
   "language": "python",
   "name": "python3"
  },
  "language_info": {
   "codemirror_mode": {
    "name": "ipython",
    "version": 3
   },
   "file_extension": ".py",
   "mimetype": "text/x-python",
   "name": "python",
   "nbconvert_exporter": "python",
   "pygments_lexer": "ipython3",
   "version": "3.10.7"
  },
  "orig_nbformat": 4,
  "vscode": {
   "interpreter": {
    "hash": "792d3d27244c537b01e6310b5e754b6537a8b6f1785441c54bca3a8a80e24f2e"
   }
  }
 },
 "nbformat": 4,
 "nbformat_minor": 2
}
