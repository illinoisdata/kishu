{
 "cells": [
  {
   "cell_type": "code",
   "execution_count": 1,
   "metadata": {
    "collapsed": true,
    "pycharm": {
     "name": "#%%\n"
    }
   },
   "outputs": [
    {
     "name": "stdout",
     "output_type": "stream",
     "text": [
      "['/Users/libilly/elastic_notebook2/elastic-notebook', '/Users/libilly/elastic_notebook2/elastic-notebook/elastic/examples', '/Users/libilly/elastic_notebook2/elastic-notebook', '/Library/Developer/CommandLineTools/Library/Frameworks/Python3.framework/Versions/3.8/lib/python38.zip', '/Library/Developer/CommandLineTools/Library/Frameworks/Python3.framework/Versions/3.8/lib/python3.8', '/Library/Developer/CommandLineTools/Library/Frameworks/Python3.framework/Versions/3.8/lib/python3.8/lib-dynload', '', '/Users/libilly/elastic_notebook2/elastic-notebook/venv/lib/python3.8/site-packages']\n"
     ]
    }
   ],
   "source": [
    "import sys, os\n",
    "sys.path.insert(0, os.path.abspath(\"../..\"))\n",
    "print(sys.path)\n",
    "%load_ext elastic.core.notebook.elastic_notebook"
   ]
  },
  {
   "cell_type": "code",
   "execution_count": 2,
   "outputs": [
    {
     "name": "stdout",
     "output_type": "stream",
     "text": [
      "Declaring variable np\n",
      "Declaring variable datasets\n",
      "Declaring variable KNeighborsClassifier\n",
      "Rerunning cell 1\n",
      "Rerunning cell 3\n",
      "Declaring variable indices\n",
      "Declaring variable knn\n",
      "Rerunning cell 5\n",
      "124\n",
      "Declaring variable z\n"
     ]
    }
   ],
   "source": [
    "%LoadCheckpoint checkpoints/numpy.pickle\n"
   ],
   "metadata": {
    "collapsed": false,
    "pycharm": {
     "name": "#%%\n"
    }
   }
  },
  {
   "cell_type": "code",
   "execution_count": 3,
   "outputs": [
    {
     "name": "stdout",
     "output_type": "stream",
     "text": [
      "[[5.4 3.9 1.7 0.4]\n",
      " [4.8 3.  1.4 0.3]\n",
      " [4.8 3.4 1.9 0.2]\n",
      " [6.3 2.5 5.  1.9]\n",
      " [5.1 3.4 1.5 0.2]\n",
      " [5.4 3.  4.5 1.5]\n",
      " [5.4 3.4 1.5 0.4]\n",
      " [4.9 2.5 4.5 1.7]\n",
      " [5.5 3.5 1.3 0.2]\n",
      " [5.  3.4 1.5 0.2]]\n",
      "2\n"
     ]
    }
   ],
   "source": [
    "print(iris_X_test)\n",
    "print(z)"
   ],
   "metadata": {
    "collapsed": false,
    "pycharm": {
     "name": "#%%\n"
    }
   }
  },
  {
   "cell_type": "code",
   "execution_count": 3,
   "outputs": [],
   "source": [],
   "metadata": {
    "collapsed": false,
    "pycharm": {
     "name": "#%%\n"
    }
   }
  }
 ],
 "metadata": {
  "interpreter": {
   "hash": "73e29f827a180d655af59b8e84c2509fd207c6d30a6436933ca2d326b6144ecd"
  },
  "kernelspec": {
   "display_name": "Python 3.9.12 ('.env': venv)",
   "language": "python",
   "name": "python3"
  },
  "language_info": {
   "codemirror_mode": {
    "name": "ipython",
    "version": 3
   },
   "file_extension": ".py",
   "mimetype": "text/x-python",
   "name": "python",
   "nbconvert_exporter": "python",
   "pygments_lexer": "ipython3",
   "version": "3.9.12"
  }
 },
 "nbformat": 4,
 "nbformat_minor": 0
}