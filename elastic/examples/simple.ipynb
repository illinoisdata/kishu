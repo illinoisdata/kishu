{
 "cells": [
  {
   "cell_type": "code",
   "execution_count": 1,
   "metadata": {
    "execution": {
     "iopub.execute_input": "2022-10-24T13:32:01.939271Z",
     "iopub.status.busy": "2022-10-24T13:32:01.938883Z",
     "iopub.status.idle": "2022-10-24T13:32:02.252619Z",
     "shell.execute_reply": "2022-10-24T13:32:02.251823Z",
     "shell.execute_reply.started": "2022-10-24T13:32:01.939247Z"
    },
    "pycharm": {
     "name": "#%%\n"
    },
    "tags": []
   },
   "outputs": [],
   "source": [
    "import sys, os\n",
    "sys.path.insert(0, os.path.abspath(\"../..\"))\n",
    "%load_ext ElasticNotebook"
   ]
  },
  {
   "cell_type": "code",
   "execution_count": 2,
   "metadata": {
    "collapsed": false,
    "execution": {
     "iopub.execute_input": "2022-10-24T13:32:03.875549Z",
     "iopub.status.busy": "2022-10-24T13:32:03.875001Z",
     "iopub.status.idle": "2022-10-24T13:32:03.893254Z",
     "shell.execute_reply": "2022-10-24T13:32:03.892612Z",
     "shell.execute_reply.started": "2022-10-24T13:32:03.875523Z"
    },
    "jupyter": {
     "outputs_hidden": false
    },
    "pycharm": {
     "name": "#%%\n"
    },
    "tags": []
   },
   "outputs": [
    {
     "name": "stdout",
     "output_type": "stream",
     "text": [
      "Instruction(opname='LOAD_CONST', opcode=100, arg=0, argval=1, argrepr='1', offset=0, starts_line=1, is_jump_target=False)\n",
      "Instruction(opname='STORE_NAME', opcode=90, arg=0, argval='x', argrepr='x', offset=2, starts_line=None, is_jump_target=False)\n",
      "Instruction(opname='LOAD_CONST', opcode=100, arg=1, argval=None, argrepr='None', offset=4, starts_line=None, is_jump_target=False)\n",
      "Instruction(opname='RETURN_VALUE', opcode=83, arg=None, argval=None, argrepr='', offset=6, starts_line=None, is_jump_target=False)\n"
     ]
    }
   ],
   "source": [
    "%%RecordEvent\n",
    "x = 1"
   ]
  },
  {
   "cell_type": "code",
   "execution_count": 3,
   "metadata": {
    "collapsed": false,
    "execution": {
     "iopub.execute_input": "2022-10-24T13:32:04.434785Z",
     "iopub.status.busy": "2022-10-24T13:32:04.433609Z",
     "iopub.status.idle": "2022-10-24T13:32:04.448579Z",
     "shell.execute_reply": "2022-10-24T13:32:04.447364Z",
     "shell.execute_reply.started": "2022-10-24T13:32:04.434749Z"
    },
    "jupyter": {
     "outputs_hidden": false
    },
    "pycharm": {
     "name": "#%%\n"
    },
    "tags": []
   },
   "outputs": [
    {
     "name": "stdout",
     "output_type": "stream",
     "text": [
      "Instruction(opname='LOAD_NAME', opcode=101, arg=0, argval='x', argrepr='x', offset=0, starts_line=1, is_jump_target=False)\n",
      "Instruction(opname='STORE_NAME', opcode=90, arg=1, argval='y', argrepr='y', offset=2, starts_line=None, is_jump_target=False)\n",
      "Instruction(opname='LOAD_NAME', opcode=101, arg=0, argval='x', argrepr='x', offset=4, starts_line=2, is_jump_target=False)\n",
      "Instruction(opname='LOAD_CONST', opcode=100, arg=0, argval=1, argrepr='1', offset=6, starts_line=None, is_jump_target=False)\n",
      "Instruction(opname='BINARY_ADD', opcode=23, arg=None, argval=None, argrepr='', offset=8, starts_line=None, is_jump_target=False)\n",
      "Instruction(opname='STORE_NAME', opcode=90, arg=0, argval='x', argrepr='x', offset=10, starts_line=None, is_jump_target=False)\n",
      "Instruction(opname='LOAD_CONST', opcode=100, arg=0, argval=1, argrepr='1', offset=12, starts_line=3, is_jump_target=False)\n",
      "Instruction(opname='STORE_NAME', opcode=90, arg=2, argval='z', argrepr='z', offset=14, starts_line=None, is_jump_target=False)\n",
      "Instruction(opname='LOAD_CONST', opcode=100, arg=0, argval=1, argrepr='1', offset=16, starts_line=4, is_jump_target=False)\n",
      "Instruction(opname='STORE_NAME', opcode=90, arg=3, argval='a', argrepr='a', offset=18, starts_line=None, is_jump_target=False)\n",
      "Instruction(opname='DELETE_NAME', opcode=91, arg=3, argval='a', argrepr='a', offset=20, starts_line=5, is_jump_target=False)\n",
      "Instruction(opname='LOAD_CONST', opcode=100, arg=1, argval=2, argrepr='2', offset=22, starts_line=6, is_jump_target=False)\n",
      "Instruction(opname='STORE_NAME', opcode=90, arg=3, argval='a', argrepr='a', offset=24, starts_line=None, is_jump_target=False)\n",
      "Instruction(opname='LOAD_CONST', opcode=100, arg=2, argval=None, argrepr='None', offset=26, starts_line=None, is_jump_target=False)\n",
      "Instruction(opname='RETURN_VALUE', opcode=83, arg=None, argval=None, argrepr='', offset=28, starts_line=None, is_jump_target=False)\n"
     ]
    }
   ],
   "source": [
    "%%RecordEvent\n",
    "y = x\n",
    "x = x + 1\n",
    "z = 1\n",
    "a = 1\n",
    "del a\n",
    "a = 2"
   ]
  },
  {
   "cell_type": "code",
   "execution_count": 4,
   "metadata": {
    "collapsed": false,
    "execution": {
     "iopub.execute_input": "2022-10-24T13:32:04.777204Z",
     "iopub.status.busy": "2022-10-24T13:32:04.776389Z",
     "iopub.status.idle": "2022-10-24T13:32:04.789207Z",
     "shell.execute_reply": "2022-10-24T13:32:04.788173Z",
     "shell.execute_reply.started": "2022-10-24T13:32:04.777146Z"
    },
    "jupyter": {
     "outputs_hidden": false
    },
    "pycharm": {
     "name": "#%%\n"
    },
    "tags": []
   },
   "outputs": [
    {
     "name": "stdout",
     "output_type": "stream",
     "text": [
      "Instruction(opname='LOAD_CONST', opcode=100, arg=0, argval=0, argrepr='0', offset=0, starts_line=2, is_jump_target=False)\n",
      "Instruction(opname='LOAD_CONST', opcode=100, arg=1, argval=None, argrepr='None', offset=2, starts_line=None, is_jump_target=False)\n",
      "Instruction(opname='IMPORT_NAME', opcode=108, arg=0, argval='numpy', argrepr='numpy', offset=4, starts_line=None, is_jump_target=False)\n",
      "Instruction(opname='STORE_NAME', opcode=90, arg=1, argval='np', argrepr='np', offset=6, starts_line=None, is_jump_target=False)\n",
      "Instruction(opname='LOAD_CONST', opcode=100, arg=0, argval=0, argrepr='0', offset=8, starts_line=3, is_jump_target=False)\n",
      "Instruction(opname='LOAD_CONST', opcode=100, arg=2, argval=('random',), argrepr=\"('random',)\", offset=10, starts_line=None, is_jump_target=False)\n",
      "Instruction(opname='IMPORT_NAME', opcode=108, arg=0, argval='numpy', argrepr='numpy', offset=12, starts_line=None, is_jump_target=False)\n",
      "Instruction(opname='IMPORT_FROM', opcode=109, arg=2, argval='random', argrepr='random', offset=14, starts_line=None, is_jump_target=False)\n",
      "Instruction(opname='STORE_NAME', opcode=90, arg=2, argval='random', argrepr='random', offset=16, starts_line=None, is_jump_target=False)\n",
      "Instruction(opname='POP_TOP', opcode=1, arg=None, argval=None, argrepr='', offset=18, starts_line=None, is_jump_target=False)\n",
      "Instruction(opname='LOAD_CONST', opcode=100, arg=1, argval=None, argrepr='None', offset=20, starts_line=None, is_jump_target=False)\n",
      "Instruction(opname='RETURN_VALUE', opcode=83, arg=None, argval=None, argrepr='', offset=22, starts_line=None, is_jump_target=False)\n"
     ]
    }
   ],
   "source": [
    "%%RecordEvent\n",
    "# Record imported libraries\n",
    "import numpy as np\n",
    "from numpy import random"
   ]
  },
  {
   "cell_type": "code",
   "execution_count": 5,
   "outputs": [
    {
     "name": "stdout",
     "output_type": "stream",
     "text": [
      "Instruction(opname='LOAD_CONST', opcode=100, arg=0, argval=1, argrepr='1', offset=0, starts_line=1, is_jump_target=False)\n",
      "Instruction(opname='STORE_NAME', opcode=90, arg=0, argval='b', argrepr='b', offset=2, starts_line=None, is_jump_target=False)\n",
      "Instruction(opname='LOAD_CONST', opcode=100, arg=1, argval=None, argrepr='None', offset=4, starts_line=None, is_jump_target=False)\n",
      "Instruction(opname='RETURN_VALUE', opcode=83, arg=None, argval=None, argrepr='', offset=6, starts_line=None, is_jump_target=False)\n"
     ]
    }
   ],
   "source": [
    "%%RecordEvent\n",
    "b = 1"
   ],
   "metadata": {
    "collapsed": false,
    "pycharm": {
     "name": "#%%\n"
    }
   }
  },
  {
   "cell_type": "code",
   "execution_count": 6,
   "outputs": [
    {
     "name": "stdout",
     "output_type": "stream",
     "text": [
      "Instruction(opname='LOAD_CONST', opcode=100, arg=0, argval=<code object func at 0x121b36190, file \"<disassembly>\", line 1>, argrepr='<code object func at 0x121b36190, file \"<disassembly>\", line 1>', offset=0, starts_line=1, is_jump_target=False)\n",
      "Instruction(opname='LOAD_CONST', opcode=100, arg=1, argval='func', argrepr=\"'func'\", offset=2, starts_line=None, is_jump_target=False)\n",
      "Instruction(opname='MAKE_FUNCTION', opcode=132, arg=0, argval=0, argrepr='', offset=4, starts_line=None, is_jump_target=False)\n",
      "Instruction(opname='STORE_NAME', opcode=90, arg=0, argval='func', argrepr='func', offset=6, starts_line=None, is_jump_target=False)\n",
      "Instruction(opname='LOAD_NAME', opcode=101, arg=0, argval='func', argrepr='func', offset=8, starts_line=4, is_jump_target=False)\n",
      "Instruction(opname='CALL_FUNCTION', opcode=131, arg=0, argval=0, argrepr='', offset=10, starts_line=None, is_jump_target=False)\n",
      "Instruction(opname='POP_TOP', opcode=1, arg=None, argval=None, argrepr='', offset=12, starts_line=None, is_jump_target=False)\n",
      "Instruction(opname='LOAD_CONST', opcode=100, arg=2, argval=None, argrepr='None', offset=14, starts_line=None, is_jump_target=False)\n",
      "Instruction(opname='RETURN_VALUE', opcode=83, arg=None, argval=None, argrepr='', offset=16, starts_line=None, is_jump_target=False)\n"
     ]
    }
   ],
   "source": [
    "%%RecordEvent\n",
    "def func():\n",
    "    global b\n",
    "    b += 1\n",
    "func()"
   ],
   "metadata": {
    "collapsed": false,
    "pycharm": {
     "name": "#%%\n"
    }
   }
  },
  {
   "cell_type": "code",
   "execution_count": null,
   "metadata": {
    "collapsed": false,
    "execution": {
     "iopub.execute_input": "2022-10-24T13:32:05.097127Z",
     "iopub.status.busy": "2022-10-24T13:32:05.096109Z",
     "iopub.status.idle": "2022-10-24T13:32:05.109461Z",
     "shell.execute_reply": "2022-10-24T13:32:05.107585Z",
     "shell.execute_reply.started": "2022-10-24T13:32:05.097069Z"
    },
    "jupyter": {
     "outputs_hidden": false
    },
    "pycharm": {
     "name": "#%%\n"
    },
    "tags": []
   },
   "outputs": [],
   "source": [
    "%Inspect"
   ]
  },
  {
   "cell_type": "code",
   "execution_count": null,
   "metadata": {
    "collapsed": false,
    "execution": {
     "iopub.execute_input": "2022-10-24T13:32:06.036508Z",
     "iopub.status.busy": "2022-10-24T13:32:06.035765Z",
     "iopub.status.idle": "2022-10-24T13:32:06.046514Z",
     "shell.execute_reply": "2022-10-24T13:32:06.043740Z",
     "shell.execute_reply.started": "2022-10-24T13:32:06.036459Z"
    },
    "jupyter": {
     "outputs_hidden": false
    },
    "pycharm": {
     "name": "#%%\n"
    },
    "tags": []
   },
   "outputs": [],
   "source": [
    "%Checkpoint checkpoints/simple.pickle\n"
   ]
  }
 ],
 "metadata": {
  "kernelspec": {
   "display_name": "Python 3 (ipykernel)",
   "language": "python",
   "name": "python3"
  },
  "language_info": {
   "codemirror_mode": {
    "name": "ipython",
    "version": 3
   },
   "file_extension": ".py",
   "mimetype": "text/x-python",
   "name": "python",
   "nbconvert_exporter": "python",
   "pygments_lexer": "ipython3",
   "version": "3.8.9"
  }
 },
 "nbformat": 4,
 "nbformat_minor": 4
}