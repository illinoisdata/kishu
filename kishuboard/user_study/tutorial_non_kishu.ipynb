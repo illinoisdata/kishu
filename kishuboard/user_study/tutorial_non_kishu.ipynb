{
 "cells": [
  {
   "cell_type": "markdown",
   "metadata": {
    "_cell_guid": "c986a9fb-e199-40eb-947d-c398d54f6b1e",
    "_uuid": "0ce8368deb46a77d2115dbc3d37859e8aa20c953"
   },
   "source": [
    "# Tutorial (Non Kishu Group)"
   ]
  },
  {
   "cell_type": "markdown",
   "metadata": {
    "_cell_guid": "31972ab9-edef-49e3-bcd5-120262cf00d8",
    "_uuid": "fcedf70d9bdab89fb7eb8ff3769b14f0b5036a33"
   },
   "source": [
    "The notebook tries to predict whether a person will survive or not in Titanic.\n",
    "\n",
    "**Goal**: This notebook helps you get familiar with the form of tasks. You only need to **read the markdown instructions, no need to read the code**.\n",
    "\n",
    "Please make sure you <span style=\"color: red\">run every cell</span> in the task. \n",
    "\n",
    "You should <span style=\"color: red\">**never**</span> unfold the next part before the previous part is done.\n",
    "\n",
    "Once you see \"CHOOSE ONE\", copy, paste, and execute <span style=\"color: red\"> any one of the choices </span> in the cell below.\n",
    "\n",
    "You are free to run other cells."
   ]
  },
  {
   "cell_type": "markdown",
   "metadata": {},
   "source": [
    "# Task 1:  Data Analysis"
   ]
  },
  {
   "cell_type": "markdown",
   "metadata": {
    "_cell_guid": "57ec5300-f0e3-46ce-a920-6c1846901b6d",
    "_uuid": "d2bbefba6442fcd47e04c90daa43f58fc001e47b"
   },
   "source": [
    "## Part 0: Load Libraries and Reading data"
   ]
  },
  {
   "cell_type": "code",
   "execution_count": null,
   "metadata": {},
   "outputs": [],
   "source": [
    "import matplotlib.pyplot as plt\n",
    "import numpy as np\n",
    "import pandas as pd\n",
    "import seaborn as sns\n",
    "from joblib import dump, load\n",
    "\n",
    "plt.style.use(\"fivethirtyeight\")\n",
    "import warnings\n",
    "\n",
    "warnings.filterwarnings(\"ignore\")\n",
    "from sklearn import metrics  # Accuracy measure\n",
    "from sklearn import svm  # Support vector Machine\n",
    "from sklearn.ensemble import RandomForestClassifier  # Random Forest\n",
    "from sklearn.ensemble import BaggingClassifier  # Classifier\n",
    "\n",
    "# importing all the required ML packages\n",
    "from sklearn.linear_model import LogisticRegression  # Logistic regression\n",
    "from sklearn.metrics import confusion_matrix  # For confusion matrix\n",
    "from sklearn.model_selection import train_test_split  # Training and testing data split\n",
    "from sklearn.naive_bayes import GaussianNB  # Naive bayes\n",
    "from sklearn.neighbors import KNeighborsClassifier  # KNN\n",
    "from sklearn.tree import DecisionTreeClassifier  # Decision Tree\n",
    "\n",
    "%matplotlib inline"
   ]
  },
  {
   "cell_type": "code",
   "execution_count": null,
   "metadata": {},
   "outputs": [],
   "source": [
    "data = pd.read_csv(\"./titanic.csv\")\n",
    "print(data.head())"
   ]
  },
  {
   "cell_type": "markdown",
   "metadata": {},
   "source": [
    "The `survived` is the thing you need to predict using other features."
   ]
  },
  {
   "cell_type": "markdown",
   "metadata": {
    "_cell_guid": "57ec5300-f0e3-46ce-a920-6c1846901b6d",
    "_uuid": "d2bbefba6442fcd47e04c90daa43f58fc001e47b"
   },
   "source": [
    "## Part 1: Data Preprocessing"
   ]
  },
  {
   "cell_type": "markdown",
   "metadata": {},
   "source": [
    "### Impute the missing values"
   ]
  },
  {
   "cell_type": "code",
   "execution_count": null,
   "metadata": {
    "_cell_guid": "f006b4b0-a8aa-432c-9bdb-040a435e77f8",
    "_uuid": "8bd3c34f7f539bc3d4720531da6405e2d0e96b46"
   },
   "outputs": [],
   "source": [
    "# Impute missing age feature.\n",
    "data[\"Initial\"] = 0\n",
    "for i in data:\n",
    "    data['Initial'] = data.Name.str.extract('([A-Za-z]+)\\.') # Let's extract the Salutations\n",
    "data['Initial'].replace(['Mlle','Mme','Ms','Dr','Major','Lady','Countess','Jonkheer','Col','Rev','Capt','Sir','Don'],['Miss','Miss','Miss','Mr','Mr','Mrs','Mrs','Other','Other','Other','Mr','Mr','Mr'],inplace=True)\n",
    "## Assigning the NaN Values with the Ceil values of the mean ages\n",
    "data.loc[(data.Age.isnull()) & (data.Initial == \"Mr\"), \"Age\"] = 33\n",
    "data.loc[(data.Age.isnull()) & (data.Initial == \"Mrs\"), \"Age\"] = 36\n",
    "data.loc[(data.Age.isnull()) & (data.Initial == \"Master\"), \"Age\"] = 5\n",
    "data.loc[(data.Age.isnull()) & (data.Initial == \"Miss\"), \"Age\"] = 22\n",
    "data.loc[(data.Age.isnull()) & (data.Initial == \"Other\"), \"Age\"] = 46"
   ]
  },
  {
   "cell_type": "code",
   "execution_count": null,
   "metadata": {},
   "outputs": [],
   "source": [
    "# Impute embark feature.\n",
    "data[\"Embarked\"].fillna(\"S\", inplace=True)\n",
    "\n",
    "# Age and fare feature band (convert continous values into categorical values)\n",
    "data[\"Age_band\"] = 0\n",
    "data.loc[data[\"Age\"] <= 16, \"Age_band\"] = 0\n",
    "data.loc[(data[\"Age\"] > 16) & (data[\"Age\"] <= 32), \"Age_band\"] = 1\n",
    "data.loc[(data[\"Age\"] > 32) & (data[\"Age\"] <= 48), \"Age_band\"] = 2\n",
    "data.loc[(data[\"Age\"] > 48) & (data[\"Age\"] <= 64), \"Age_band\"] = 3\n",
    "data.loc[data[\"Age\"] > 64, \"Age_band\"] = 4\n",
    "data.head(2)\n",
    "\n",
    "data[\"Fare_cat\"] = 0\n",
    "data.loc[data[\"Fare\"] <= 7.91, \"Fare_cat\"] = 0\n",
    "data.loc[(data[\"Fare\"] > 7.91) & (data[\"Fare\"] <= 14.454), \"Fare_cat\"] = 1\n",
    "data.loc[(data[\"Fare\"] > 14.454) & (data[\"Fare\"] <= 31), \"Fare_cat\"] = 2\n",
    "data.loc[(data[\"Fare\"] > 31) & (data[\"Fare\"] <= 513), \"Fare_cat\"] = 3\n",
    "\n",
    "# Converting String Values into Numeric\n",
    "data[\"Sex\"].replace([\"male\", \"female\"], [0, 1], inplace=True)\n",
    "data[\"Embarked\"].replace([\"S\", \"C\", \"Q\"], [0, 1, 2], inplace=True)\n",
    "data[\"Initial\"].replace(\n",
    "    [\"Mr\", \"Mrs\", \"Miss\", \"Master\", \"Other\"], [0, 1, 2, 3, 4], inplace=True\n",
    ")"
   ]
  },
  {
   "cell_type": "code",
   "execution_count": null,
   "metadata": {},
   "outputs": [],
   "source": [
    "# Making sure there is no missing value\n",
    "data.isnull().sum()"
   ]
  },
  {
   "cell_type": "markdown",
   "metadata": {},
   "source": [
    "## Part 2: Let's try one feature selection strategy"
   ]
  },
  {
   "cell_type": "code",
   "execution_count": null,
   "metadata": {},
   "outputs": [],
   "source": [
    "# Drop unneeded features.\n",
    "data.drop(['Name', 'Ticket', 'Fare', 'PassengerId', 'Initial','Age'], axis=1, inplace=True)"
   ]
  },
  {
   "cell_type": "markdown",
   "metadata": {
    "_cell_guid": "7110f2af-1002-4d78-942b-19318b0d90c3",
    "_uuid": "fb6f48f1da808adbb03cd22b9a823ed2bd3374ae"
   },
   "source": [
    "## Part 3: Now let's train the model!"
   ]
  },
  {
   "cell_type": "markdown",
   "metadata": {},
   "source": [
    "### Train test set split"
   ]
  },
  {
   "cell_type": "code",
   "execution_count": null,
   "metadata": {},
   "outputs": [],
   "source": [
    "# Split the data into train and test.\n",
    "train, test = train_test_split(\n",
    "    data, test_size=0.3, random_state=0, stratify=data[\"Survived\"]\n",
    ")"
   ]
  },
  {
   "cell_type": "code",
   "execution_count": null,
   "metadata": {},
   "outputs": [],
   "source": [
    "# Making sure splitting is successful\n",
    "print(train.shape, test.shape)"
   ]
  },
  {
   "cell_type": "markdown",
   "metadata": {},
   "source": [
    "### Divide the data into feature (X) and target (Y)"
   ]
  },
  {
   "cell_type": "code",
   "execution_count": null,
   "metadata": {},
   "outputs": [],
   "source": [
    "train_X = train[train.columns[1:]]\n",
    "train_Y = train[train.columns[:1]]\n",
    "test_X = test[test.columns[1:]]\n",
    "test_Y = test[test.columns[:1]]"
   ]
  },
  {
   "cell_type": "code",
   "execution_count": null,
   "metadata": {},
   "outputs": [],
   "source": [
    "# Checking that the dataset is complete\n",
    "print(train_X.head())\n",
    "print(train_Y.head())"
   ]
  },
  {
   "cell_type": "markdown",
   "metadata": {},
   "source": [
    "### Select the model to use (CHOOSE ONE)\n",
    "\n",
    "Let's try either of the two models.\n",
    "\n",
    "1. **Choice 1**: Bagging KNN\n",
    "```python\n",
    "model = BaggingClassifier(base_estimator=KNeighborsClassifier(n_neighbors=3), random_state=0, n_estimators=700)\n",
    "model.fit(train_X, train_Y)\n",
    "```\n",
    "2. **Choice 2**: rbf-SVM\n",
    "```python\n",
    "model = svm.SVC(kernel='rbf', C=1, gamma=0.1)\n",
    "model.fit(train_X,train_Y)\n",
    "```"
   ]
  },
  {
   "cell_type": "code",
   "execution_count": null,
   "metadata": {},
   "outputs": [],
   "source": []
  },
  {
   "cell_type": "markdown",
   "metadata": {},
   "source": [
    "## Part 4: Model Evaluation"
   ]
  },
  {
   "cell_type": "code",
   "execution_count": null,
   "metadata": {},
   "outputs": [],
   "source": [
    "prediction = model.predict(test_X)\n",
    "accu = metrics.accuracy_score(prediction, test_Y)\n",
    "accu"
   ]
  },
  {
   "cell_type": "markdown",
   "metadata": {
    "jp-MarkdownHeadingCollapsed": true
   },
   "source": [
    "## Part 5: Alternative Feature Engineering"
   ]
  },
  {
   "cell_type": "markdown",
   "metadata": {},
   "source": [
    "Suppose you would like to explore a new approach. \n",
    "\n",
    "**Previously:** We tried these features in Part 2.\n",
    "\n",
    "```python\n",
    "data.drop(['Name', 'Ticket', 'Fare', 'PassengerId', 'Initial', 'Age'], axis=1, inplace=True)\n",
    "```\n",
    "\n",
    "**Now:** Let's try a different set of features (keep `Age`).\n",
    "\n",
    "```python\n",
    "data.drop(['Name', 'Ticket', 'Fare', 'PassengerId', 'Initial'], axis=1, inplace=True)\n",
    "```"
   ]
  },
  {
   "cell_type": "markdown",
   "metadata": {},
   "source": [
    "**Task**: Try the new feature engineering method instead of the previous one, retrain and re-evaluate the model of your previous choice based on the new method.\n",
    "\n",
    "<span style=\"color: red\">**Note**</span>: The `Age` feature is already dropped by the previous method, so you cannot run the new feature selection methods directly without recovering the data in kernel. "
   ]
  },
  {
   "cell_type": "markdown",
   "metadata": {},
   "source": [
    "___________________________"
   ]
  },
  {
   "cell_type": "markdown",
   "metadata": {
    "jp-MarkdownHeadingCollapsed": true
   },
   "source": [
    "## Part 6"
   ]
  },
  {
   "cell_type": "markdown",
   "metadata": {},
   "source": [
    "### Report result"
   ]
  },
  {
   "cell_type": "markdown",
   "metadata": {},
   "source": [
    "**Task:** Please report which one has higher `accu` scores? Answer `old model` or `new model`\n",
    "\n",
    "Answer in the <span style=\"color:red\">text file</span> opened for you."
   ]
  },
  {
   "cell_type": "markdown",
   "metadata": {
    "jp-MarkdownHeadingCollapsed": true
   },
   "source": [
    "## Part 7"
   ]
  },
  {
   "cell_type": "markdown",
   "metadata": {},
   "source": [
    "### Dump model"
   ]
  },
  {
   "cell_type": "markdown",
   "metadata": {},
   "source": [
    "Let's export both models anyway for later investigation.\n",
    "\n",
    "**Task**: Please export the models you trained based on the first and second feature engineering methods:\n",
    "\n",
    "The exported files' name should be `\"tutorial_old_way.joblib\"` and `\"tutorial_new_way.joblib\"` respectively. \n",
    "\n",
    "To dump a file, you can use the following code:\n",
    "   ```python\n",
    "   dump(model, \"tutorial_old_way.joblib\") \n",
    "   ```\n",
    "and\n",
    "   ```python\n",
    "   dump(model, \"tutorial_new_way.joblib\") \n",
    "   ```"
   ]
  },
  {
   "cell_type": "code",
   "execution_count": null,
   "metadata": {},
   "outputs": [],
   "source": []
  },
  {
   "cell_type": "markdown",
   "metadata": {},
   "source": [
    "You should be able to see `tutorial_old_way.joblib` and `tutorial_new_way.joblib` files at the left panel, which means the model is exported successfully."
   ]
  },
  {
   "cell_type": "markdown",
   "metadata": {
    "jp-MarkdownHeadingCollapsed": true
   },
   "source": [
    "# Task 2: Identifying and Recovering"
   ]
  },
  {
   "cell_type": "markdown",
   "metadata": {},
   "source": [
    "## Part 1: Identifying"
   ]
  },
  {
   "cell_type": "markdown",
   "metadata": {},
   "source": [
    "**Task**: Identify which **cell** drops the number of columns in `data` from 14 to 8."
   ]
  },
  {
   "cell_type": "markdown",
   "metadata": {},
   "source": [
    "**hint**: you may use `data.shape` to inspect the shape of data or any other ways to finish the task."
   ]
  },
  {
   "cell_type": "markdown",
   "metadata": {},
   "source": [
    "______________"
   ]
  },
  {
   "cell_type": "markdown",
   "metadata": {},
   "source": [
    "## Part 2:\n",
    "### Recover from System Failure\n",
    "\n",
    "**Let's simulate system failure by restarting the kernel (\"Kernel\" > \"Restart Kernel...\").**\n",
    "\n",
    "**Task**: After the restart, restore the variables before the restart and **execute the next cell to make sure the restoration is successful**."
   ]
  },
  {
   "cell_type": "code",
   "execution_count": null,
   "metadata": {},
   "outputs": [],
   "source": [
    "# Inspect accu to see if the recovery is successful\n",
    "print(accu)"
   ]
  }
 ],
 "metadata": {
  "anaconda-cloud": {},
  "kernelspec": {
   "display_name": "Python 3 (ipykernel)",
   "language": "python",
   "name": "python3"
  },
  "language_info": {
   "codemirror_mode": {
    "name": "ipython",
    "version": 3
   },
   "file_extension": ".py",
   "mimetype": "text/x-python",
   "name": "python",
   "nbconvert_exporter": "python",
   "pygments_lexer": "ipython3",
   "version": "3.9.6"
  }
 },
 "nbformat": 4,
 "nbformat_minor": 4
}
