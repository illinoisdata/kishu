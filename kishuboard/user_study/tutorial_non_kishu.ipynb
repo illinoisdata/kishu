{
 "cells": [
  {
   "cell_type": "markdown",
   "metadata": {
    "_cell_guid": "c986a9fb-e199-40eb-947d-c398d54f6b1e",
    "_uuid": "0ce8368deb46a77d2115dbc3d37859e8aa20c953"
   },
   "source": [
    "# Tutorial (Control Group)"
   ]
  },
  {
   "cell_type": "markdown",
   "metadata": {
    "_cell_guid": "31972ab9-edef-49e3-bcd5-120262cf00d8",
    "_uuid": "fcedf70d9bdab89fb7eb8ff3769b14f0b5036a33"
   },
   "source": [
    "The notebook tries to predict survival in the Titanic.\n",
    "\n",
    "**Goal**: This notebook helps you get familiar with the form of tasks. \n",
    "\n",
    "Please make sure you <span style=\"color: red\">run every cell</span> in the task. \n",
    "\n",
    "Once you see \"CHOOSE ONE\", copy, paste, and execute <span style=\"color: red\"> any one of the choices </span> in the cell below.\n",
    "\n",
    "You are free to run other cells."
   ]
  },
  {
   "cell_type": "markdown",
   "metadata": {},
   "source": [
    "# Task 1:  Data Analysis"
   ]
  },
  {
   "cell_type": "markdown",
   "metadata": {
    "_cell_guid": "57ec5300-f0e3-46ce-a920-6c1846901b6d",
    "_uuid": "d2bbefba6442fcd47e04c90daa43f58fc001e47b"
   },
   "source": [
    "## Part 0: Load Libraries and Reading data"
   ]
  },
  {
   "cell_type": "code",
   "execution_count": null,
   "metadata": {},
   "outputs": [],
   "source": [
    "import matplotlib.pyplot as plt\n",
    "import numpy as np\n",
    "import pandas as pd\n",
    "import seaborn as sns\n",
    "from joblib import dump, load\n",
    "\n",
    "plt.style.use(\"fivethirtyeight\")\n",
    "import warnings\n",
    "\n",
    "warnings.filterwarnings(\"ignore\")\n",
    "from sklearn import metrics  # accuracy measure\n",
    "from sklearn import svm  # support vector Machine\n",
    "from sklearn.ensemble import RandomForestClassifier  # Random Forest\n",
    "\n",
    "# importing all the required ML packages\n",
    "from sklearn.linear_model import LogisticRegression  # logistic regression\n",
    "from sklearn.metrics import confusion_matrix  # for confusion matrix\n",
    "from sklearn.model_selection import train_test_split  # training and testing data split\n",
    "from sklearn.naive_bayes import GaussianNB  # Naive bayes\n",
    "from sklearn.neighbors import KNeighborsClassifier  # KNN\n",
    "from sklearn.tree import DecisionTreeClassifier  # Decision Tree\n",
    "\n",
    "%matplotlib inline"
   ]
  },
  {
   "cell_type": "code",
   "execution_count": null,
   "metadata": {},
   "outputs": [],
   "source": [
    "data = pd.read_csv(\"./titanic.csv\")"
   ]
  },
  {
   "cell_type": "markdown",
   "metadata": {
    "_cell_guid": "57ec5300-f0e3-46ce-a920-6c1846901b6d",
    "_uuid": "d2bbefba6442fcd47e04c90daa43f58fc001e47b"
   },
   "source": [
    "## Part 1: Data Preprocessing"
   ]
  },
  {
   "cell_type": "code",
   "execution_count": null,
   "metadata": {
    "_cell_guid": "f006b4b0-a8aa-432c-9bdb-040a435e77f8",
    "_uuid": "8bd3c34f7f539bc3d4720531da6405e2d0e96b46"
   },
   "outputs": [],
   "source": [
    "# impute missing age feature\n",
    "data[\"Initial\"] = 0\n",
    "for i in data:\n",
    "    data['Initial'] = data.Name.str.extract('([A-Za-z]+)\\.') #lets extract the Salutations\n",
    "data['Initial'].replace(['Mlle','Mme','Ms','Dr','Major','Lady','Countess','Jonkheer','Col','Rev','Capt','Sir','Don'],['Miss','Miss','Miss','Mr','Mr','Mrs','Mrs','Other','Other','Other','Mr','Mr','Mr'],inplace=True)\n",
    "## Assigning the NaN Values with the Ceil values of the mean ages\n",
    "data.loc[(data.Age.isnull()) & (data.Initial == \"Mr\"), \"Age\"] = 33\n",
    "data.loc[(data.Age.isnull()) & (data.Initial == \"Mrs\"), \"Age\"] = 36\n",
    "data.loc[(data.Age.isnull()) & (data.Initial == \"Master\"), \"Age\"] = 5\n",
    "data.loc[(data.Age.isnull()) & (data.Initial == \"Miss\"), \"Age\"] = 22\n",
    "data.loc[(data.Age.isnull()) & (data.Initial == \"Other\"), \"Age\"] = 46"
   ]
  },
  {
   "cell_type": "code",
   "execution_count": null,
   "metadata": {},
   "outputs": [],
   "source": [
    "# impute embark feature\n",
    "data[\"Embarked\"].fillna(\"S\", inplace=True)\n",
    "\n",
    "# Age and fare feature band (convert continous values into categorical values)\n",
    "data[\"Age_band\"] = 0\n",
    "data.loc[data[\"Age\"] <= 16, \"Age_band\"] = 0\n",
    "data.loc[(data[\"Age\"] > 16) & (data[\"Age\"] <= 32), \"Age_band\"] = 1\n",
    "data.loc[(data[\"Age\"] > 32) & (data[\"Age\"] <= 48), \"Age_band\"] = 2\n",
    "data.loc[(data[\"Age\"] > 48) & (data[\"Age\"] <= 64), \"Age_band\"] = 3\n",
    "data.loc[data[\"Age\"] > 64, \"Age_band\"] = 4\n",
    "data.head(2)\n",
    "\n",
    "data[\"Fare_cat\"] = 0\n",
    "data.loc[data[\"Fare\"] <= 7.91, \"Fare_cat\"] = 0\n",
    "data.loc[(data[\"Fare\"] > 7.91) & (data[\"Fare\"] <= 14.454), \"Fare_cat\"] = 1\n",
    "data.loc[(data[\"Fare\"] > 14.454) & (data[\"Fare\"] <= 31), \"Fare_cat\"] = 2\n",
    "data.loc[(data[\"Fare\"] > 31) & (data[\"Fare\"] <= 513), \"Fare_cat\"] = 3\n",
    "\n",
    "# Converting String Values into Numeric\n",
    "data[\"Sex\"].replace([\"male\", \"female\"], [0, 1], inplace=True)\n",
    "data[\"Embarked\"].replace([\"S\", \"C\", \"Q\"], [0, 1, 2], inplace=True)\n",
    "data[\"Initial\"].replace(\n",
    "    [\"Mr\", \"Mrs\", \"Miss\", \"Master\", \"Other\"], [0, 1, 2, 3, 4], inplace=True\n",
    ")"
   ]
  },
  {
   "cell_type": "markdown",
   "metadata": {},
   "source": [
    "## Part 2: Let's try one feature selection strategy"
   ]
  },
  {
   "cell_type": "code",
   "execution_count": null,
   "metadata": {},
   "outputs": [],
   "source": [
    "#drop unneeded features\n",
    "data.drop(['Name','Ticket','Fare','Cabin','PassengerId','Initial','Age'],axis=1,inplace=True)"
   ]
  },
  {
   "cell_type": "markdown",
   "metadata": {
    "_cell_guid": "7110f2af-1002-4d78-942b-19318b0d90c3",
    "_uuid": "fb6f48f1da808adbb03cd22b9a823ed2bd3374ae"
   },
   "source": [
    "## Part 3: Now let's train the model!"
   ]
  },
  {
   "cell_type": "code",
   "execution_count": null,
   "metadata": {},
   "outputs": [],
   "source": [
    "# devide the data into train and test\n",
    "train, test = train_test_split(\n",
    "    data, test_size=0.3, random_state=0, stratify=data[\"Survived\"]\n",
    ")\n",
    "train_X = train[train.columns[1:]]\n",
    "train_Y = train[train.columns[:1]]\n",
    "test_X = test[test.columns[1:]]\n",
    "test_Y = test[test.columns[:1]]\n",
    "X = data[data.columns[1:]]\n",
    "Y = data[\"Survived\"]"
   ]
  },
  {
   "cell_type": "markdown",
   "metadata": {},
   "source": [
    "### Select the model to use (CHOOSE ONE)\n",
    "\n",
    "Let's try either of the two models.\n",
    "\n",
    "1. **Choice 1**: Bagging KNN\n",
    "```python\n",
    "model=BaggingClassifier(base_estimator=KNeighborsClassifier(n_neighbors=3),random_state=0,n_estimators=700)\n",
    "model.fit(train_X, train_Y)\n",
    "```\n",
    "2. **Choice 2**: rbf-SVM\n",
    "```python\n",
    "model=svm.SVC(kernel='rbf',C=1,gamma=0.1)\n",
    "model.fit(train_X,train_Y)\n",
    "```"
   ]
  },
  {
   "cell_type": "code",
   "execution_count": null,
   "metadata": {},
   "outputs": [],
   "source": []
  },
  {
   "cell_type": "code",
   "execution_count": null,
   "metadata": {},
   "outputs": [],
   "source": [
    "prediction = model.predict(test_X)\n",
    "accu = metrics.accuracy_score(prediction, test_Y)\n",
    "print(\"Accuracy for the model is \", accu)"
   ]
  },
  {
   "cell_type": "markdown",
   "metadata": {},
   "source": [
    "## Part 4: Alternative Feature Engineering"
   ]
  },
  {
   "cell_type": "markdown",
   "metadata": {},
   "source": [
    "Suppose you would like to explore a new approach. \n",
    "\n",
    "**Previously:** We tried these features in Part 2\n",
    "\n",
    "```python\n",
    "data.drop(['Name','Ticket','Fare','Cabin','PassengerId','Initial','Age'],axis=1,inplace=True)\n",
    "```\n",
    "\n",
    "**Now:** Let's try a different set of features (keep `Age`)\n",
    "\n",
    "```python\n",
    "data.drop(['Name','Ticket','Fare','Cabin','PassengerId','Initial'],axis=1,inplace=True)\n",
    "```"
   ]
  },
  {
   "cell_type": "markdown",
   "metadata": {},
   "source": [
    "**Task**: Please try the new method and retrain the model of your previous choice.\n",
    "\n",
    "**Hint**: The `Age` feature is already dropped from the data in the previous method, so you cannot run the new feature selection methods directly now."
   ]
  },
  {
   "cell_type": "markdown",
   "metadata": {},
   "source": [
    "___________________________"
   ]
  },
  {
   "cell_type": "markdown",
   "metadata": {},
   "source": [
    "Unfortunately, not dropping `Age` leads to no significant improvement. \n",
    "\n",
    "**Task**: Try to retrieve the previous model, and then export it using the following code:\n",
    "```python\n",
    "dump(model, 'tutorial.joblib')\n",
    "```"
   ]
  },
  {
   "cell_type": "code",
   "execution_count": null,
   "metadata": {},
   "outputs": [],
   "source": []
  },
  {
   "cell_type": "markdown",
   "metadata": {},
   "source": [
    "# Task2: Identifying"
   ]
  },
  {
   "cell_type": "markdown",
   "metadata": {},
   "source": [
    "Suppose you notice that the variable `data` is supposed to have 15 columns, but now it only has 8 columns.\n",
    "\n",
    "**Task**: Find which cell has changed the number of columns in `data` from 15 to 8. Tell the staff your answer."
   ]
  },
  {
   "cell_type": "markdown",
   "metadata": {},
   "source": [
    "**Task**: Find which columns are dropped when the number of columns in `data` changed from 15 to 8. Tell the staff your answer."
   ]
  },
  {
   "cell_type": "markdown",
   "metadata": {},
   "source": [
    "### Try Kishu: Recover\n",
    "\n",
    "Say, the kernel is restarted (please manually restart the kernel, \"Kernel\" > \"Restart Kernel...\"). \n",
    "\n",
    "**Task**: Restart the kernel, and then try to recover your work and execute the cell below to prove the recover is successful"
   ]
  },
  {
   "cell_type": "code",
   "execution_count": null,
   "metadata": {},
   "outputs": [],
   "source": [
    "# Run accu to see if the recover is successful\n",
    "print(accu)"
   ]
  }
 ],
 "metadata": {
  "anaconda-cloud": {},
  "kernelspec": {
   "display_name": "Python 3 (ipykernel)",
   "language": "python",
   "name": "python3"
  },
  "language_info": {
   "codemirror_mode": {
    "name": "ipython",
    "version": 3
   },
   "file_extension": ".py",
   "mimetype": "text/x-python",
   "name": "python",
   "nbconvert_exporter": "python",
   "pygments_lexer": "ipython3",
   "version": "3.9.6"
  }
 },
 "nbformat": 4,
 "nbformat_minor": 4
}
