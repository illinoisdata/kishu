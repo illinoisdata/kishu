{
 "cells": [
  {
   "cell_type": "markdown",
   "id": "b93c655d-2456-472e-990d-838c273de576",
   "metadata": {},
   "source": [
    "This notebook is for you to try kishu. **For code cells**, please **run them**; for **markdown cells**, please **follow the instructions to do the corresponding operations**."
   ]
  },
  {
   "cell_type": "code",
   "execution_count": 1,
   "id": "6468bb27-d840-4b56-ba72-fd09d170e3ae",
   "metadata": {
    "collapsed": false,
    "jupyter": {
     "outputs_hidden": false
    },
    "pycharm": {
     "name": "#%%\n"
    },
    "tags": []
   },
   "outputs": [],
   "source": [
    "x = 1"
   ]
  },
  {
   "cell_type": "code",
   "execution_count": 2,
   "id": "2fd34f9d-0590-4f17-9773-1294e2345e9b",
   "metadata": {
    "collapsed": false,
    "jupyter": {
     "outputs_hidden": false
    },
    "pycharm": {
     "name": "#%%\n"
    },
    "tags": []
   },
   "outputs": [],
   "source": [
    "y = x\n",
    "x = x + 1\n",
    "z = 1\n",
    "a = 1\n",
    "del a\n",
    "a = 2"
   ]
  },
  {
   "cell_type": "code",
   "execution_count": 3,
   "id": "b2a2d16f-f5f2-4d4e-9034-92675f49a931",
   "metadata": {
    "collapsed": false,
    "jupyter": {
     "outputs_hidden": false
    },
    "pycharm": {
     "name": "#%%\n"
    }
   },
   "outputs": [],
   "source": [
    "b = 1"
   ]
  },
  {
   "cell_type": "code",
   "execution_count": 4,
   "id": "58abad63-b54b-4861-9ca3-a61376b6a6b1",
   "metadata": {
    "collapsed": false,
    "jupyter": {
     "outputs_hidden": false
    },
    "pycharm": {
     "name": "#%%\n"
    }
   },
   "outputs": [],
   "source": [
    "def func():\n",
    "    \n",
    "    global b\n",
    "    b += 1\n",
    "func()"
   ]
  },
  {
   "attachments": {},
   "cell_type": "markdown",
   "id": "1c373f85-9686-491f-a99b-c70544ef5805",
   "metadata": {},
   "source": [
    "# Try Kishu: Manual commit\n",
    "\n",
    "After executing the previous cell, please manually commit the execution, and set the commit message to \"def func\". \n",
    "(Note: Manual commits can be easily found in the commit-graph because it will never be folded by default. So do manual commit for important executions in your following tasks may help you do them more efficiently)\n",
    "\n",
    "<img src=\"screenshot/manual_commit.png\" width=\"30%\"/> <img src=\"screenshot/name manual commit.png\" width=\"30%\"/>"
   ]
  },
  {
   "cell_type": "code",
   "execution_count": 5,
   "id": "f2312df7-6fa1-4ef7-9b23-e2655b3e1bde",
   "metadata": {},
   "outputs": [],
   "source": [
    "del a"
   ]
  },
  {
   "cell_type": "markdown",
   "id": "22bb9bb9-4e74-45ad-b1c4-1ecea7a94bb0",
   "metadata": {},
   "source": [
    "# Try Kishu: Search"
   ]
  },
  {
   "cell_type": "markdown",
   "id": "fc5d7c05-6e4d-49ff-8ad3-2fede83cc6e0",
   "metadata": {},
   "source": [
    "Please search all the commits where the variable \"a\" is changed.\n",
    "\n",
    "<img src=\"screenshot/search_var1.png\" width=\"30%\"/> <img src=\"screenshot/search_var2.png\" width=\"50%\"/>\n",
    "\n",
    "Please try unfold and refold to see the detailed commits.\n",
    "\n",
    "<img src=\"screenshot/unfold.png\" width=\"20%\"/>  <img src=\"screenshot/refold.png\" width=\"20%\"/>"
   ]
  },
  {
   "cell_type": "markdown",
   "id": "ea32765e-3b84-45d2-a0e9-ab212595ebc7",
   "metadata": {},
   "source": [
    "Please search the commits whose cell's first few words are \"y = x\"\n",
    "\n",
    "<img src=\"screenshot/search_mes1.png\" width=\"40%\"/> <img src=\"screenshot/search_mes2.png\" width=\"50%\"/>"
   ]
  },
  {
   "cell_type": "markdown",
   "id": "10dbbb22-ba8f-4394-8dd4-5fabf01a4dc1",
   "metadata": {},
   "source": [
    "# Try Kishu: Checkout and Branch"
   ]
  },
  {
   "cell_type": "markdown",
   "id": "c84585d4-3ccd-42ac-9a02-b27d30634811",
   "metadata": {},
   "source": [
    "Check out kernel variables to the commit corresponding to the second code cell.\n",
    "\n",
    "<img src=\"screenshot/checkout.png\" width=\"30%\"/>"
   ]
  },
  {
   "cell_type": "code",
   "execution_count": 6,
   "id": "bcaed603-5ca5-4f75-9cbd-ae4367000025",
   "metadata": {},
   "outputs": [
    {
     "data": {
      "text/plain": [
       "3"
      ]
     },
     "execution_count": 6,
     "metadata": {},
     "output_type": "execute_result"
    }
   ],
   "source": [
    "a = a + 1\n",
    "a\n",
    "# you will find a = 3, which means checkout is successful."
   ]
  },
  {
   "cell_type": "markdown",
   "id": "261076d7-091c-4c95-9e15-7a6e84cdeb3c",
   "metadata": {},
   "source": [
    "# NOTE: Try Kishu: Diff"
   ]
  },
  {
   "cell_type": "markdown",
   "id": "7104a01f-a80a-42f6-bf07-9b64346e9154",
   "metadata": {},
   "source": [
    "Try to diff the current notebook state and the latest commit of the other branch.\n",
    "\n",
    "<img src=\"screenshot/diff.png\" width=\"60%\"/>"
   ]
  }
 ],
 "metadata": {
  "kernelspec": {
   "display_name": "Python 3 (ipykernel)",
   "language": "python",
   "name": "python3"
  },
  "language_info": {
   "codemirror_mode": {
    "name": "ipython",
    "version": 3
   },
   "file_extension": ".py",
   "mimetype": "text/x-python",
   "name": "python",
   "nbconvert_exporter": "python",
   "pygments_lexer": "ipython3",
   "version": "3.9.6"
  }
 },
 "nbformat": 4,
 "nbformat_minor": 5
}
